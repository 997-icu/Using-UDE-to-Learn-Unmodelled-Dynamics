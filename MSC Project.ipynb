{
 "cells": [
  {
   "cell_type": "markdown",
   "id": "e55a228d",
   "metadata": {},
   "source": [
    "## Docs\n",
    "[Julia Bifurcation Analysis BifurcationKit](https://docs.juliahub.com/BifurcationKit/I1INQ/0.1.0/tutorials1/#Temperature-model-1)"
   ]
  },
  {
   "cell_type": "code",
   "execution_count": null,
   "id": "bb40cfd2",
   "metadata": {},
   "outputs": [],
   "source": [
    "using Pkg\n",
    "#Pkg.add(\"DifferentialEquations\")\n",
    "using Conda\n",
    "using WebIO\n",
    "using Interact\n",
    "using DifferentialEquations\n",
    "using DiffEqFlux\n",
    "using DiffEqSensitivity, OrdinaryDiffEq, Zygote\n",
    "using Plots\n",
    "using Flux, Optim, Test\n",
    "\n"
   ]
  },
  {
   "cell_type": "code",
   "execution_count": null,
   "id": "feaf45b8",
   "metadata": {},
   "outputs": [],
   "source": [
    "#Pkg.add(\"Optimization\")\n",
    "#Pkg.add(\"OptimizationPolyalgorithms\")\n",
    "using Optimization, OptimizationPolyalgorithms"
   ]
  },
  {
   "cell_type": "markdown",
   "id": "0c89087f",
   "metadata": {},
   "source": [
    "## 1. General Approximation using Neural Network"
   ]
  },
  {
   "cell_type": "markdown",
   "id": "c65a077b",
   "metadata": {},
   "source": [
    "## True Assumption:\n",
    "$$\n",
    "\\ddot{x}+b\\dot{x}+w_{n}^{2}x+\\mu x^3+vx^5+\\rho x^7=\\delta _{st}w_{n}^{2}\\cos \\left( wt \\right) \n",
    "$$\n",
    "\n",
    "$$\n",
    "\\left\\{ \\begin{array}{l}\n",
    "\t\\dot{x}=y\\\\\n",
    "\t\\dot{y}=-by-w_{n}^{2}x-\\mu x^3-vx^5-\\rho x^7+\\delta _{st}w_{n}^{2}\\cos \\left( wt \\right)\\\\\n",
    "\\end{array} \\right. \n",
    "$$\n",
    "\n",
    "\n",
    "## Approximate\n",
    "$$\n",
    "\\ddot{x}+b\\dot{x}+w_{n}^{2}x+\\mu x^3=\\delta _{st}w_{n}^{2}\\cos \\left( wt \\right)+NN\\left( x,t \\right)\n",
    "$$\n",
    "\n",
    "\n",
    "$$\n",
    "\\left\\{ \\begin{array}{l}\n",
    "\t\\dot{x}=y\\\\\n",
    "\t\\dot{y}=-by-w_{n}^{2}x-\\mu x^3+\\delta _{st}w_{n}^{2}\\cos \\left( wt \\right)+NN\\left( x,t \\right)\\\\\n",
    "\\end{array} \\right. \n",
    "$$"
   ]
  },
  {
   "cell_type": "markdown",
   "id": "8962ba06",
   "metadata": {},
   "source": [
    "### 1.1 Genrate Simulated data according to True Assumption"
   ]
  },
  {
   "cell_type": "code",
   "execution_count": null,
   "id": "ea7a1091",
   "metadata": {},
   "outputs": [],
   "source": [
    "dx_init = 0.0\n",
    "x_init = 1.0\n",
    "\n",
    "datasize = 30\n",
    "tspan = (0.0,10)\n",
    "#parameter value from the Robust paper\n",
    "param = [0.3159,1,1.499,-0.3921,0.0422,1,round(2*pi*19.95,digits = 3)]\n",
    "\n",
    "function Duffing(u,p,t)\n",
    "    b,wn_2,mu,v,rho,delta_st,w = param\n",
    "    x,y = u\n",
    "    du1 = y\n",
    "    du2 = -b*y - wn_2*x - mu*x^3 - v*x^5 - rho*x^7 + delta_st * wn_2 * cos(w*t)\n",
    "    du = [du1,du2]\n",
    "end\n",
    "\n",
    "\n",
    "\n",
    "t = range(tspan[1],tspan[2],length=datasize)\n",
    "\n",
    "prob = ODEProblem(Duffing,[x_init,dx_init],tspan)\n",
    "sol = Array(solve(prob,Tsit5(),saveat=t))\n",
    "\n",
    "\n",
    "plot(t,sol[1,:],label = \"x\")\n",
    "scatter!(t,sol[1,:],label = \"x_data\")\n",
    "plot!(t,sol[2,:],label = \"dx\")\n",
    "scatter!(t,sol[2,:],label = \"dx_data\",title = \"7th Order True Data\")\n",
    "\n",
    "\n",
    "\n",
    "\n"
   ]
  },
  {
   "cell_type": "code",
   "execution_count": null,
   "id": "86a89382",
   "metadata": {},
   "outputs": [],
   "source": [
    "sol"
   ]
  },
  {
   "cell_type": "code",
   "execution_count": null,
   "id": "82409b9a",
   "metadata": {},
   "outputs": [],
   "source": [
    "#from the Robust paper\n",
    "\n",
    "function Duffing_Approx(u,p,t)\n",
    "    b,wn_2,mu,v,rho,delta_st,w = param\n",
    "    x,y = u\n",
    "    du1 = y\n",
    "    #there is no v and rho\n",
    "    du2 = -b*y - wn_2*x - mu*x^3 + delta_st * wn_2 * cos(w*t)\n",
    "    du = [du1,du2]\n",
    "end\n",
    "\n",
    "\n",
    "\n",
    "prob_approx = ODEProblem(Duffing_Approx,[x_init,dx_init],tspan)\n",
    "sol_approx = Array(solve(prob_approx,Tsit5(),saveat=t))\n",
    "\n",
    "\n",
    "plot(t,sol_approx[1,:],label = \"x\")\n",
    "scatter!(t,sol_approx[1,:],label = \"x_data\")\n",
    "plot!(t,sol_approx[2,:],label = \"dx\")\n",
    "scatter!(t,sol_approx[2,:],label = \"dx_data\",title = \"3th Order Data using for Approx\")\n"
   ]
  },
  {
   "cell_type": "code",
   "execution_count": null,
   "id": "9651ff6b",
   "metadata": {},
   "outputs": [],
   "source": [
    "plot(t,sol_approx[1,:],label = \"3th x\")\n",
    "scatter!(t,sol_approx[1,:],label = \"3th x_data\")\n",
    "plot!(t,sol[1,:],label = \"7th x\")\n",
    "scatter!(t,sol[1,:],label = \"7th x_data\",title = \"3th and 7th Order Data\")"
   ]
  },
  {
   "cell_type": "markdown",
   "id": "d0681b95",
   "metadata": {},
   "source": [
    "### 1.2 Fit a simple Neural ODE to the 7th Order data above"
   ]
  },
  {
   "cell_type": "code",
   "execution_count": null,
   "id": "b143baf9",
   "metadata": {},
   "outputs": [],
   "source": [
    "dudt = Flux.Chain(\n",
    "             Dense(2,50,tanh),\n",
    "             Dense(50,2))\n",
    "n_ode = NeuralODE(dudt,tspan,Tsit5(),saveat=t,reltol=1e-7,abstol=1e-9)\n",
    "ps = Flux.params(n_ode)"
   ]
  },
  {
   "cell_type": "code",
   "execution_count": null,
   "id": "c9b3b513",
   "metadata": {},
   "outputs": [],
   "source": [
    "u0 = [x_init,dx_init]\n",
    "pred = n_ode(u0) # Get the prediction using the correct initial condition\n",
    "scatter(t,sol[1,:],label=\"x_data\",color = \"red\")\n",
    "scatter!(t,pred[1,:],label=\"x_prediction\",color = \"blue\")"
   ]
  },
  {
   "cell_type": "code",
   "execution_count": null,
   "id": "9cf520ce",
   "metadata": {},
   "outputs": [],
   "source": [
    "function predict_n_ode()\n",
    "  n_ode(u0)\n",
    "end\n",
    "loss_n_ode() = sum(abs2,reshape(sol .- predict_n_ode(),:))"
   ]
  },
  {
   "cell_type": "code",
   "execution_count": null,
   "id": "ded3e6ca",
   "metadata": {},
   "outputs": [],
   "source": [
    "data = Iterators.repeated((), 100)\n",
    "opt = ADAM(0.1)\n",
    "cb = function () #callback function to observe training\n",
    "  display(loss_n_ode())\n",
    "  # plot current prediction against data\n",
    "  cur_pred = predict_n_ode()\n",
    "  pl = scatter(t,sol[1,:],label=\"x_data\",color = \"red\")\n",
    "  scatter!(pl,t,cur_pred[1,:],label=\"x_prediction\",color = \"blue\")\n",
    "  display(plot(pl))\n",
    "end\n",
    "\n",
    "# Display the ODE with the initial parameter values.\n",
    "cb()\n",
    "\n",
    "Flux.train!(loss_n_ode, ps, data, opt, cb = cb)\n",
    "\n"
   ]
  },
  {
   "cell_type": "markdown",
   "id": "f9b169ff",
   "metadata": {},
   "source": [
    "### The prediction above seems to be stuck in the local optimal, so we should connect with existing knowledge!\n",
    "### 1.3 Using the known term of Approximation\n",
    "### 1.3.1 Using NN to Approximate the residual of these two data"
   ]
  },
  {
   "cell_type": "code",
   "execution_count": null,
   "id": "3c63f11b",
   "metadata": {},
   "outputs": [],
   "source": [
    "dudt2 = Flux.Chain(\n",
    "             Dense(2,50,tanh),\n",
    "             Dense(50,2))\n",
    "n_ode2 = NeuralODE(dudt2,tspan,Tsit5(),saveat=t)\n",
    "ps2 = Flux.params(n_ode2)"
   ]
  },
  {
   "cell_type": "code",
   "execution_count": null,
   "id": "5df5aaf8",
   "metadata": {},
   "outputs": [],
   "source": [
    "pred2 = n_ode2([0.01,0.01]) # Get the prediction using the correct initial condition\n",
    "scatter(t,sol_approx[1,:]-sol[1,:],label=\"Residual\",color = \"red\")\n",
    "scatter!(t,pred2[1,:],label=\"prediction\",color = \"blue\")"
   ]
  },
  {
   "cell_type": "code",
   "execution_count": null,
   "id": "b578ec30",
   "metadata": {},
   "outputs": [],
   "source": [
    "function predict_n_ode2()\n",
    "  Array(n_ode2([0.01,0.01]))\n",
    "end\n",
    "loss_n_ode2() = sum(abs2,reshape((sol_approx-sol) .- predict_n_ode2(),:))"
   ]
  },
  {
   "cell_type": "code",
   "execution_count": null,
   "id": "3b65bcc5",
   "metadata": {},
   "outputs": [],
   "source": [
    "data2 = Iterators.repeated((), 200)\n",
    "opt = ADAM(0.05)\n",
    "cb2 = function () #callback function to observe training\n",
    "  display(loss_n_ode2())\n",
    "  # plot current prediction against data\n",
    "  cur_pred2 = predict_n_ode2()\n",
    "  pl = scatter(t,sol_approx[1,:]-sol[1,:],label=\"Residual\",color = \"red\")\n",
    "  scatter!(pl,t,cur_pred2[1,:],label=\"prediction\",color = \"blue\")\n",
    "  display(plot(pl))\n",
    "end\n",
    "\n",
    "# Display the ODE with the initial parameter values.\n",
    "cb2()\n",
    "\n",
    "Flux.train!(loss_n_ode2, ps2, data2, opt, cb = cb2)"
   ]
  },
  {
   "cell_type": "markdown",
   "id": "c81d64e6",
   "metadata": {},
   "source": [
    "### Still local minima, so we may try some other methods\n",
    "### 1.3.2 using segment to fit in order to go out of local minimal (7th-order)"
   ]
  },
  {
   "cell_type": "code",
   "execution_count": null,
   "id": "1bee8308",
   "metadata": {},
   "outputs": [],
   "source": [
    "using Lux\n",
    "using Random\n",
    "rng = Random.default_rng()\n",
    "using DiffEqFlux: group_ranges"
   ]
  },
  {
   "cell_type": "code",
   "execution_count": null,
   "id": "fb4df9ab",
   "metadata": {},
   "outputs": [],
   "source": [
    "nn = Lux.Chain(\n",
    "                  Lux.Dense(2, 30, tanh),\n",
    "                  Lux.Dense(30, 2))\n",
    "p_init, st = Lux.setup(rng, nn)\n",
    "tsteps = t\n",
    "neuralode = NeuralODE(nn, tspan, Tsit5(), saveat = tsteps)\n",
    "prob_node = ODEProblem((u,p,t)->nn(u,p,st)[1], u0, tspan, Lux.ComponentArray(p_init))\n",
    "\n",
    "function plot_multiple_shoot(plt, preds, group_size)\n",
    "    step = group_size-1\n",
    "    ranges = group_ranges(datasize, group_size)\n",
    "\n",
    "    for (i, rg) in enumerate(ranges)\n",
    "        plot!(plt, tsteps[rg], preds[i][1,:], markershape=:circle, label=\"Group $(i)\")\n",
    "    end\n",
    "end"
   ]
  },
  {
   "cell_type": "code",
   "execution_count": null,
   "id": "d7338920",
   "metadata": {},
   "outputs": [],
   "source": []
  },
  {
   "cell_type": "code",
   "execution_count": null,
   "id": "ce138b6c",
   "metadata": {},
   "outputs": [],
   "source": [
    "anim = Plots.Animation()\n",
    "iter = 0\n",
    "callback = function (p, l, preds; doplot = true)\n",
    "  display(l)\n",
    "  global iter\n",
    "  iter += 1\n",
    "  if doplot && iter%1 == 0\n",
    "    # plot the original data\n",
    "    plt = scatter(tsteps, sol[1,:], label = \"Data\")\n",
    "\n",
    "    # plot the different predictions for individual shoot\n",
    "    plot_multiple_shoot(plt, preds, group_size)\n",
    "\n",
    "    frame(anim)\n",
    "    display(plot(plt))\n",
    "  end\n",
    "  return false\n",
    "end"
   ]
  },
  {
   "cell_type": "code",
   "execution_count": null,
   "id": "563d406d",
   "metadata": {},
   "outputs": [],
   "source": [
    "group_size = 3\n",
    "continuity_term = 200\n",
    "\n",
    "function loss_function(data, pred)\n",
    "    return sum(abs2, data - pred)\n",
    "end\n",
    "\n",
    "function loss_multiple_shooting(p)\n",
    "    return multiple_shoot(p, sol, tsteps, prob_node, loss_function, Tsit5(),\n",
    "                          group_size; continuity_term)\n",
    "end\n",
    "\n",
    "adtype = Optimization.AutoZygote()\n",
    "optf = Optimization.OptimizationFunction((x,p) -> loss_multiple_shooting(x), adtype)\n",
    "optprob = Optimization.OptimizationProblem(optf, Lux.ComponentArray(p_init))\n",
    "res_ms = Optimization.solve(optprob, PolyOpt(),\n",
    "                                callback = callback,maxiters = 100)"
   ]
  },
  {
   "cell_type": "markdown",
   "id": "e9f4274d",
   "metadata": {},
   "source": [
    "### 1.3.3 using segment to fit the residual (7th-3th) in order to go out of local minimal "
   ]
  },
  {
   "cell_type": "code",
   "execution_count": null,
   "id": "d32c2176",
   "metadata": {},
   "outputs": [],
   "source": [
    "nn = Lux.Chain(\n",
    "                  Lux.Dense(2, 50, tanh),\n",
    "                  Lux.Dense(50, 2))\n",
    "p_init, st = Lux.setup(rng, nn)\n",
    "tsteps = t\n",
    "neuralode = NeuralODE(nn, tspan, Tsit5(), saveat = tsteps)\n",
    "prob_node = ODEProblem((u,p,t)->nn(u,p,st)[1], u0, tspan, Lux.ComponentArray(p_init))\n",
    "\n",
    "function plot_multiple_shoot(plt, preds, group_size)\n",
    "    step = group_size-1\n",
    "    ranges = group_ranges(datasize, group_size)\n",
    "\n",
    "    for (i, rg) in enumerate(ranges)\n",
    "        plot!(plt, tsteps[rg], preds[i][1,:], markershape=:circle, label=\"Group $(i)\")\n",
    "    end\n",
    "end"
   ]
  },
  {
   "cell_type": "code",
   "execution_count": null,
   "id": "3414d4d0",
   "metadata": {},
   "outputs": [],
   "source": [
    "anim = Plots.Animation()\n",
    "iter = 0\n",
    "callback = function (p, l, preds; doplot = true)\n",
    "  display(l)\n",
    "  global iter\n",
    "  iter += 1\n",
    "  if doplot && iter%1 == 0\n",
    "    # plot the original data\n",
    "    plt = scatter(tsteps, sol_approx[1,:]-sol[1,:], label = \"Data\")\n",
    "\n",
    "    # plot the different predictions for individual shoot\n",
    "    plot_multiple_shoot(plt, preds, group_size)\n",
    "\n",
    "    frame(anim)\n",
    "    display(plot(plt))\n",
    "  end\n",
    "  return false\n",
    "end"
   ]
  },
  {
   "cell_type": "code",
   "execution_count": null,
   "id": "87bc2613",
   "metadata": {},
   "outputs": [],
   "source": [
    "group_size = 3\n",
    "continuity_term = 200\n",
    "\n",
    "function loss_function(data, pred)\n",
    "    return sum(abs2, data - pred)\n",
    "end\n",
    "\n",
    "function loss_multiple_shooting(p)\n",
    "    return multiple_shoot(p, sol_approx-sol, tsteps, prob_node, loss_function, Tsit5(),\n",
    "                          group_size; continuity_term)\n",
    "end\n",
    "\n",
    "adtype = Optimization.AutoZygote()\n",
    "optf = Optimization.OptimizationFunction((x,p) -> loss_multiple_shooting(x), adtype)\n",
    "optprob = Optimization.OptimizationProblem(optf, Lux.ComponentArray(p_init))\n",
    "res_ms = Optimization.solve(optprob, PolyOpt(),\n",
    "                                callback = callback,maxiters = 100)"
   ]
  },
  {
   "cell_type": "markdown",
   "id": "ae1421f0",
   "metadata": {},
   "source": [
    "## 2. Introduce Electromagnetics"
   ]
  },
  {
   "cell_type": "markdown",
   "id": "1390a272",
   "metadata": {},
   "source": [
    "## True Assumption:\n",
    "$$\n",
    "\\left\\{ \\begin{array}{l}\n",
    "\t\\ddot{x}+b\\dot{x}+w_{n}^{2}x+\\mu x^3+vx^5+\\rho x^7+\\theta z=\\delta _{st}w_{n}^{2}\\cos \\left( wt \\right)\\\\\n",
    "\t\\dot{z}=\\theta \\dot{x}-Rz\\\\\n",
    "\\end{array} \\right. \n",
    "$$\n",
    "\n",
    "$$\n",
    "\\left\\{ \\begin{array}{l}\n",
    "\t\\dot{x}=y\\\\\n",
    "\t\\dot{y}=-by-w_{n}^{2}x-\\mu x^3-vx^5-\\rho x^7-\\theta z+\\delta _{st}w_{n}^{2}\\cos \\left( wt \\right)\\\\\n",
    "\t\\dot{z}=\\theta y-Rz\\\\\n",
    "\\end{array} \\right. \n",
    "$$\n",
    "\n",
    "\n",
    "\n",
    "## Approximate\n",
    "$$\n",
    "\\left\\{ \\begin{array}{l}\n",
    "\t\\ddot{x}+b\\dot{x}+w_{n}^{2}x+\\mu x^3+\\theta z=\\delta _{st}w_{n}^{2}\\cos \\left( wt \\right) +NN\\left( x,t \\right)\\\\\n",
    "\t\\dot{z}=\\theta \\dot{x}-Rz\\\\\n",
    "\\end{array} \\right. \n",
    "$$\n",
    "$$\n",
    "\\left\\{ \\begin{array}{l}\n",
    "\t\\dot{x}=y\\\\\n",
    "\t\\dot{y}=-by-w_{n}^{2}x-\\mu x^3-\\theta z+\\delta _{st}w_{n}^{2}\\cos \\left( wt \\right) +NN\\left( x,t \\right)\\\\\n",
    "\t\\dot{z}=\\theta y-Rz\\\\\n",
    "\\end{array} \\right. \n",
    "$$\n"
   ]
  },
  {
   "cell_type": "code",
   "execution_count": null,
   "id": "13592002",
   "metadata": {},
   "outputs": [],
   "source": [
    "dx_init = 0.0\n",
    "x_init = 1.0\n",
    "z_init = 0.0\n",
    "\n",
    "datasize = 30\n",
    "tspan = (0.0,10)\n",
    "#parameter value from the Robust paper\n",
    "param = [0.3159,1,1.499,-0.3921,0.0422,1,round(2*pi*19.95,digits = 3),4.5,12.5]\n",
    "\n",
    "function Duffing(u,p,t)\n",
    "    b,wn_2,mu,v,rho,delta_st,w,theta,R = param\n",
    "    x,y,z = u\n",
    "    du1 = y\n",
    "    du2 = -b*y - wn_2*x - mu*x^3 - v*x^5 - rho*x^7 -theta*z + delta_st * wn_2 * cos(w*t)\n",
    "    du3 = theta*10e4*y-R*10e4*z\n",
    "    du = [du1,du2,du3]\n",
    "end\n",
    "\n",
    "\n",
    "\n",
    "t = range(tspan[1],tspan[2],length=datasize)\n",
    "\n",
    "prob = ODEProblem(Duffing,[x_init,dx_init,z_init],tspan)\n",
    "sol = Array(solve(prob,TRBDF2(),saveat=t))\n",
    "\n",
    "\n",
    "plot(t,sol[1,:],label = \"x\")\n",
    "scatter!(t,sol[1,:],label = \"x_data\")\n",
    "plot!(t,sol[2,:],label = \"y\")\n",
    "scatter!(t,sol[2,:],label = \"y_data\")\n",
    "plot!(t,sol[3,:],label = \"z\")\n",
    "scatter!(t,sol[3,:],label = \"z_data\",title = \"7th Order True Data\")"
   ]
  },
  {
   "cell_type": "code",
   "execution_count": null,
   "id": "5c5822d6",
   "metadata": {},
   "outputs": [],
   "source": [
    "function Duffing_Approx(u,p,t)\n",
    "    b,wn_2,mu,v,rho,delta_st,w,theta,R = param\n",
    "    x,y,z = u\n",
    "    du1 = y\n",
    "    du2 = -b*y - wn_2*x - mu*x^3  -theta*z/R^2 + delta_st * wn_2 * cos(w*t)\n",
    "    du3 = theta*10e2*y-R*10e2*z\n",
    "    du = [du1,du2,du3]\n",
    "end\n",
    "\n",
    "\n",
    "\n",
    "prob_approx = ODEProblem(Duffing_Approx,[x_init,dx_init,z_init],tspan)\n",
    "sol_approx = Array(solve(prob_approx,TRBDF2(),saveat=t))\n",
    "\n",
    "\n",
    "plot(t,sol_approx[1,:],label = \"x\")\n",
    "scatter!(t,sol_approx[1,:],label = \"x_data\")\n",
    "plot!(t,sol_approx[2,:],label = \"y\")\n",
    "scatter!(t,sol_approx[2,:],label = \"y_data\")\n",
    "plot!(t,sol_approx[3,:],label = \"z\")\n",
    "scatter!(t,sol_approx[3,:],label = \"z_data\",title = \"3th Order Data using for Approx\")"
   ]
  },
  {
   "cell_type": "code",
   "execution_count": null,
   "id": "b41b2e5e",
   "metadata": {},
   "outputs": [],
   "source": [
    "plot(t,sol_approx[1,:]-sol[1,:],label = \"x\")\n",
    "scatter!(t,sol_approx[1,:]-sol[1,:],label = \"x_data\")\n",
    "plot!(t,sol_approx[2,:]-sol[2,:],label = \"y\")\n",
    "scatter!(t,sol_approx[2,:]-sol[2,:],label = \"y_data\")\n",
    "plot!(t,sol_approx[3,:]-sol[3,:],label = \"z\")\n",
    "scatter!(t,sol_approx[3,:]-sol[3,:],label = \"z_data\",title = \"Residual\")"
   ]
  },
  {
   "cell_type": "markdown",
   "id": "ab23d1e9",
   "metadata": {},
   "source": [
    "### 2.1 using segment to fit the residual (7th-3th)"
   ]
  },
  {
   "cell_type": "code",
   "execution_count": null,
   "id": "8acdfda6",
   "metadata": {},
   "outputs": [],
   "source": [
    "nn = Lux.Chain(\n",
    "                  Lux.Dense(3, 50, relu),\n",
    "                  Lux.Dense(50, 3))\n",
    "p_init, st = Lux.setup(rng, nn)\n",
    "tsteps = t\n",
    "neuralode = NeuralODE(nn, tspan, TRBDF2(), saveat = tsteps)\n",
    "prob_node = ODEProblem((u,p,t)->nn(u,p,st)[1], [1.0,0.0,0.0], tspan, Lux.ComponentArray(p_init))\n",
    "\n",
    "function plot_multiple_shoot(plt, preds, group_size)\n",
    "    step = group_size-1\n",
    "    ranges = group_ranges(datasize, group_size)\n",
    "\n",
    "    for (i, rg) in enumerate(ranges)\n",
    "        plot!(plt, tsteps[rg], preds[i][1,:], markershape=:circle, label=\"Group $(i)\")\n",
    "    end\n",
    "end"
   ]
  },
  {
   "cell_type": "code",
   "execution_count": null,
   "id": "2ee32c3d",
   "metadata": {},
   "outputs": [],
   "source": [
    "anim = Plots.Animation()\n",
    "iter = 0\n",
    "callback = function (p, l, preds; doplot = true)\n",
    "  display(l)\n",
    "  global iter\n",
    "  iter += 1\n",
    "  if doplot && iter%1 == 0\n",
    "    # plot the original data\n",
    "    plt = scatter(tsteps, sol_approx[1,:]-sol[1,:], label = \"Data\")\n",
    "\n",
    "    # plot the different predictions for individual shoot\n",
    "    plot_multiple_shoot(plt, preds, group_size)\n",
    "\n",
    "    frame(anim)\n",
    "    display(plot(plt))\n",
    "  end\n",
    "  return false\n",
    "end"
   ]
  },
  {
   "cell_type": "code",
   "execution_count": null,
   "id": "4e6ac26f",
   "metadata": {},
   "outputs": [],
   "source": [
    "group_size = 3\n",
    "continuity_term = 200\n",
    "\n",
    "function loss_function(data, pred)\n",
    "    return sum(abs2, data - pred)\n",
    "end\n",
    "\n",
    "function loss_multiple_shooting(p)\n",
    "    return multiple_shoot(p, sol_approx-sol, tsteps, prob_node, loss_function, Tsit5(),\n",
    "                          group_size; continuity_term)\n",
    "end\n",
    "\n",
    "adtype = Optimization.AutoZygote()\n",
    "optf = Optimization.OptimizationFunction((x,p) -> loss_multiple_shooting(x), adtype)\n",
    "optprob = Optimization.OptimizationProblem(optf, Lux.ComponentArray(p_init))\n",
    "res_ms = Optimization.solve(optprob, PolyOpt(),\n",
    "                                callback = callback,maxiters = 100)"
   ]
  },
  {
   "cell_type": "code",
   "execution_count": null,
   "id": "7dd0e2fa",
   "metadata": {},
   "outputs": [],
   "source": []
  }
 ],
 "metadata": {
  "@webio": {
   "lastCommId": "2362b0b5b2334b588c9a2bb15aae4d0c",
   "lastKernelId": "81918b9b-39eb-4d3a-9d26-5fd255040c16"
  },
  "kernelspec": {
   "display_name": "Julia 1.7.3",
   "language": "julia",
   "name": "julia-1.7"
  },
  "language_info": {
   "file_extension": ".jl",
   "mimetype": "application/julia",
   "name": "julia",
   "version": "1.7.3"
  }
 },
 "nbformat": 4,
 "nbformat_minor": 5
}
