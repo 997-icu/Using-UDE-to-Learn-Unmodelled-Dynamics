{
 "cells": [
  {
   "cell_type": "code",
   "execution_count": 1,
   "id": "fde1ed7d",
   "metadata": {},
   "outputs": [
    {
     "name": "stderr",
     "output_type": "stream",
     "text": [
      "\u001b[32m\u001b[1m    Updating\u001b[22m\u001b[39m registry at `C:\\Users\\周天恒\\.julia\\registries\\General.toml`\n",
      "\u001b[32m\u001b[1m   Resolving\u001b[22m\u001b[39m package versions...\n",
      "\u001b[32m\u001b[1m  No Changes\u001b[22m\u001b[39m to `C:\\Users\\周天恒\\Desktop\\课程\\英国布里斯托\\Bristol课程\\DSP\\Julia\\Project.toml`\n",
      "\u001b[32m\u001b[1m  No Changes\u001b[22m\u001b[39m to `C:\\Users\\周天恒\\Desktop\\课程\\英国布里斯托\\Bristol课程\\DSP\\Julia\\Manifest.toml`\n",
      "\u001b[32m\u001b[1mPrecompiling\u001b[22m\u001b[39m project...\n",
      "\u001b[91m  ✗ \u001b[39mGLMakie\n",
      "  0 dependencies successfully precompiled in 202 seconds (572 already precompiled)\n",
      "  \u001b[91m1\u001b[39m dependency errored. To see a full report either run `import Pkg; Pkg.precompile()` or load the package\n",
      "\u001b[32m\u001b[1m   Resolving\u001b[22m\u001b[39m package versions...\n",
      "\u001b[32m\u001b[1m  No Changes\u001b[22m\u001b[39m to `C:\\Users\\周天恒\\Desktop\\课程\\英国布里斯托\\Bristol课程\\DSP\\Julia\\Project.toml`\n",
      "\u001b[32m\u001b[1m  No Changes\u001b[22m\u001b[39m to `C:\\Users\\周天恒\\Desktop\\课程\\英国布里斯托\\Bristol课程\\DSP\\Julia\\Manifest.toml`\n",
      "\u001b[32m\u001b[1m   Resolving\u001b[22m\u001b[39m package versions...\n",
      "\u001b[32m\u001b[1m  No Changes\u001b[22m\u001b[39m to `C:\\Users\\周天恒\\Desktop\\课程\\英国布里斯托\\Bristol课程\\DSP\\Julia\\Project.toml`\n",
      "\u001b[32m\u001b[1m  No Changes\u001b[22m\u001b[39m to `C:\\Users\\周天恒\\Desktop\\课程\\英国布里斯托\\Bristol课程\\DSP\\Julia\\Manifest.toml`\n",
      "\u001b[32m\u001b[1m   Resolving\u001b[22m\u001b[39m package versions...\n",
      "\u001b[32m\u001b[1m  No Changes\u001b[22m\u001b[39m to `C:\\Users\\周天恒\\Desktop\\课程\\英国布里斯托\\Bristol课程\\DSP\\Julia\\Project.toml`\n",
      "\u001b[32m\u001b[1m  No Changes\u001b[22m\u001b[39m to `C:\\Users\\周天恒\\Desktop\\课程\\英国布里斯托\\Bristol课程\\DSP\\Julia\\Manifest.toml`\n",
      "\u001b[32m\u001b[1m   Resolving\u001b[22m\u001b[39m package versions...\n",
      "\u001b[32m\u001b[1m  No Changes\u001b[22m\u001b[39m to `C:\\Users\\周天恒\\Desktop\\课程\\英国布里斯托\\Bristol课程\\DSP\\Julia\\Project.toml`\n",
      "\u001b[32m\u001b[1m  No Changes\u001b[22m\u001b[39m to `C:\\Users\\周天恒\\Desktop\\课程\\英国布里斯托\\Bristol课程\\DSP\\Julia\\Manifest.toml`\n",
      "\u001b[32m\u001b[1m   Resolving\u001b[22m\u001b[39m package versions...\n",
      "\u001b[32m\u001b[1m  No Changes\u001b[22m\u001b[39m to `C:\\Users\\周天恒\\Desktop\\课程\\英国布里斯托\\Bristol课程\\DSP\\Julia\\Project.toml`\n",
      "\u001b[32m\u001b[1m  No Changes\u001b[22m\u001b[39m to `C:\\Users\\周天恒\\Desktop\\课程\\英国布里斯托\\Bristol课程\\DSP\\Julia\\Manifest.toml`\n"
     ]
    }
   ],
   "source": [
    "using Pkg\n",
    "Pkg.add(\"Interact\")\n",
    "Pkg.add(\"Optim\")\n",
    "Pkg.add(\"Conda\")\n",
    "Pkg.add(\"IJulia\")\n",
    "Pkg.add(\"Mux\")\n",
    "Pkg.add(\"WebIO\")"
   ]
  },
  {
   "cell_type": "code",
   "execution_count": 2,
   "id": "8b31cef5",
   "metadata": {},
   "outputs": [
    {
     "name": "stderr",
     "output_type": "stream",
     "text": [
      "\u001b[32m\u001b[1m   Resolving\u001b[22m\u001b[39m package versions...\n",
      "\u001b[32m\u001b[1m  No Changes\u001b[22m\u001b[39m to `C:\\Users\\周天恒\\Desktop\\课程\\英国布里斯托\\Bristol课程\\DSP\\Julia\\Project.toml`\n",
      "\u001b[32m\u001b[1m  No Changes\u001b[22m\u001b[39m to `C:\\Users\\周天恒\\Desktop\\课程\\英国布里斯托\\Bristol课程\\DSP\\Julia\\Manifest.toml`\n"
     ]
    }
   ],
   "source": [
    "using Pkg\n",
    "Pkg.add(\"DynamicalSystems\")"
   ]
  },
  {
   "cell_type": "code",
   "execution_count": 3,
   "id": "ec6399c7",
   "metadata": {},
   "outputs": [
    {
     "name": "stderr",
     "output_type": "stream",
     "text": [
      "\u001b[32m\u001b[1m   Resolving\u001b[22m\u001b[39m package versions...\n",
      "\u001b[32m\u001b[1m  No Changes\u001b[22m\u001b[39m to `C:\\Users\\周天恒\\Desktop\\课程\\英国布里斯托\\Bristol课程\\DSP\\Julia\\Project.toml`\n",
      "\u001b[32m\u001b[1m  No Changes\u001b[22m\u001b[39m to `C:\\Users\\周天恒\\Desktop\\课程\\英国布里斯托\\Bristol课程\\DSP\\Julia\\Manifest.toml`\n"
     ]
    }
   ],
   "source": [
    "Pkg.add(\"Pluto\")"
   ]
  },
  {
   "cell_type": "code",
   "execution_count": 4,
   "id": "3210c920",
   "metadata": {},
   "outputs": [
    {
     "name": "stderr",
     "output_type": "stream",
     "text": [
      "┌ Info: Running `conda config --set pip_interop_enabled true --file 'C:\\Users\\周天恒\\.julia\\conda\\3\\condarc-julia.yml'` in root environment\n",
      "└ @ Conda C:\\Users\\周天恒\\.julia\\packages\\Conda\\x2UxR\\src\\Conda.jl:127\n",
      "┌ Info: Running `pip install webio_jupyter_extension` in root environment\n",
      "└ @ Conda C:\\Users\\周天恒\\.julia\\packages\\Conda\\x2UxR\\src\\Conda.jl:453\n"
     ]
    },
    {
     "name": "stdout",
     "output_type": "stream",
     "text": [
      "Requirement already satisfied: webio_jupyter_extension in c:\\users\\周天恒\\.julia\\conda\\3\\lib\\site-packages (0.1.0)\r\n"
     ]
    },
    {
     "data": {
      "application/vnd.webio.node+json": {
       "children": [],
       "instanceArgs": {
        "namespace": "html",
        "tag": "div"
       },
       "nodeType": "DOM",
       "props": {},
       "type": "node"
      },
      "text/html": [
       "<div style=\"padding: 1em; background-color: #f8d6da; border: 1px solid #f5c6cb; font-weight: bold;\">\n",
       "<p>The WebIO Jupyter extension was not detected. See the\n",
       "<a href=\"https://juliagizmos.github.io/WebIO.jl/latest/providers/ijulia/\" target=\"_blank\">\n",
       "    WebIO Jupyter integration documentation\n",
       "</a>\n",
       "for more information.\n",
       "</div>\n"
      ],
      "text/plain": [
       "WebIO._IJuliaInit()"
      ]
     },
     "metadata": {
      "application/vnd.webio.node+json": {
       "kernelId": "7c00032c-9004-4555-885c-1c18a45ecb5f"
      }
     },
     "output_type": "display_data"
    }
   ],
   "source": [
    "using Conda\n",
    "Conda.pip_interop(true)\n",
    "Conda.pip(\"install\", \"webio_jupyter_extension\")\n",
    "\n",
    "using WebIO\n",
    "#WebIO.install_jupyter_nbextension()\n",
    "using Interact"
   ]
  },
  {
   "cell_type": "code",
   "execution_count": 5,
   "id": "1a11f50d",
   "metadata": {},
   "outputs": [
    {
     "ename": "LoadError",
     "evalue": "ArgumentError: Package PlotlyJS not found in current path:\n- Run `import Pkg; Pkg.add(\"PlotlyJS\")` to install the PlotlyJS package.\n",
     "output_type": "error",
     "traceback": [
      "ArgumentError: Package PlotlyJS not found in current path:\n- Run `import Pkg; Pkg.add(\"PlotlyJS\")` to install the PlotlyJS package.\n",
      "",
      "Stacktrace:",
      " [1] require(into::Module, mod::Symbol)",
      "   @ Base .\\loading.jl:967",
      " [2] eval",
      "   @ .\\boot.jl:373 [inlined]",
      " [3] include_string(mapexpr::typeof(REPL.softscope), mod::Module, code::String, filename::String)",
      "   @ Base .\\loading.jl:1196"
     ]
    }
   ],
   "source": [
    "#using PlotlyJS"
   ]
  },
  {
   "cell_type": "code",
   "execution_count": 6,
   "id": "3de5f1fc",
   "metadata": {},
   "outputs": [
    {
     "name": "stderr",
     "output_type": "stream",
     "text": [
      "┌ Info: Precompiling DifferentialEquations [0c46a032-eb83-5123-abaf-570d42b7fbaa]\n",
      "└ @ Base loading.jl:1423\n",
      "┌ Info: Precompiling DiffEqFlux [aae7a2af-3d4f-5e19-a356-7da93b79d9d0]\n",
      "└ @ Base loading.jl:1423\n",
      "\u001b[33m\u001b[1m┌ \u001b[22m\u001b[39m\u001b[33m\u001b[1mWarning: \u001b[22m\u001b[39mOrcV2 initialization failed with\n",
      "\u001b[33m\u001b[1m│ \u001b[22m\u001b[39m  err =\n",
      "\u001b[33m\u001b[1m│ \u001b[22m\u001b[39m   could not load library \"C:\\Users\\周天恒\\.julia\\artifacts\\12030a5c187a7e327b57d45e3397edf672ab442d\\bin\\libLLVMExtra-12.dll\"\n",
      "\u001b[33m\u001b[1m│ \u001b[22m\u001b[39m   The specified procedure could not be found. \n",
      "\u001b[33m\u001b[1m└ \u001b[22m\u001b[39m\u001b[90m@ Enzyme.Compiler.JIT C:\\Users\\周天恒\\.julia\\packages\\Enzyme\\di3zM\\src\\compiler\\orcv2.jl:103\u001b[39m\n",
      "\u001b[33m\u001b[1m┌ \u001b[22m\u001b[39m\u001b[33m\u001b[1mWarning: \u001b[22m\u001b[39mOrcV2 initialization failed with\n",
      "\u001b[33m\u001b[1m│ \u001b[22m\u001b[39m  err =\n",
      "\u001b[33m\u001b[1m│ \u001b[22m\u001b[39m   could not load library \"C:\\Users\\周天恒\\.julia\\artifacts\\12030a5c187a7e327b57d45e3397edf672ab442d\\bin\\libLLVMExtra-12.dll\"\n",
      "\u001b[33m\u001b[1m│ \u001b[22m\u001b[39m   The specified procedure could not be found. \n",
      "\u001b[33m\u001b[1m└ \u001b[22m\u001b[39m\u001b[90m@ Enzyme.Compiler.JIT C:\\Users\\周天恒\\.julia\\packages\\Enzyme\\di3zM\\src\\compiler\\orcv2.jl:103\u001b[39m\n",
      "WARNING: Method definition (::Type{DiffEqFlux.DeterministicCNF{M, P, RE, D, T, A, K} where K where A where T where D where RE where P where M})(Any, Any, Any, Any, Any, Any, Any) in module DiffEqFlux at C:\\Users\\周天恒\\.julia\\packages\\DiffEqFlux\\Te0lc\\src\\ffjord.jl:41 overwritten at deprecated.jl:70.\n",
      "  ** incremental compilation may be fatally broken for this module **\n",
      "\n",
      "┌ Warning: OrcV2 initialization failed with\n",
      "│   err = ErrorException(\"could not load library \\\"C:\\\\Users\\\\周天恒\\\\.julia\\\\artifacts\\\\12030a5c187a7e327b57d45e3397edf672ab442d\\\\bin\\\\libLLVMExtra-12.dll\\\"\\nThe specified procedure could not be found. \")\n",
      "└ @ Enzyme.Compiler.JIT C:\\Users\\周天恒\\.julia\\packages\\Enzyme\\di3zM\\src\\compiler\\orcv2.jl:103\n"
     ]
    }
   ],
   "source": [
    "using DifferentialEquations\n",
    "using DiffEqFlux\n",
    "using DiffEqSensitivity, OrdinaryDiffEq, Zygote\n",
    "using Plots\n",
    "#using Flux, Optim\n",
    "\n"
   ]
  },
  {
   "cell_type": "code",
   "execution_count": 7,
   "id": "cc3c4c5d",
   "metadata": {},
   "outputs": [
    {
     "name": "stdout",
     "output_type": "stream",
     "text": [
      "search: \u001b[0m\u001b[1mO\u001b[22m\u001b[0m\u001b[1mD\u001b[22m\u001b[0m\u001b[1mE\u001b[22m\u001b[0m\u001b[1mP\u001b[22m\u001b[0m\u001b[1mr\u001b[22m\u001b[0m\u001b[1mo\u001b[22m\u001b[0m\u001b[1mb\u001b[22m\u001b[0m\u001b[1ml\u001b[22m\u001b[0m\u001b[1me\u001b[22m\u001b[0m\u001b[1mm\u001b[22m R\u001b[0m\u001b[1mO\u001b[22m\u001b[0m\u001b[1mD\u001b[22m\u001b[0m\u001b[1mE\u001b[22m\u001b[0m\u001b[1mP\u001b[22m\u001b[0m\u001b[1mr\u001b[22m\u001b[0m\u001b[1mo\u001b[22m\u001b[0m\u001b[1mb\u001b[22m\u001b[0m\u001b[1ml\u001b[22m\u001b[0m\u001b[1me\u001b[22m\u001b[0m\u001b[1mm\u001b[22m Split\u001b[0m\u001b[1mO\u001b[22m\u001b[0m\u001b[1mD\u001b[22m\u001b[0m\u001b[1mE\u001b[22m\u001b[0m\u001b[1mP\u001b[22m\u001b[0m\u001b[1mr\u001b[22m\u001b[0m\u001b[1mo\u001b[22m\u001b[0m\u001b[1mb\u001b[22m\u001b[0m\u001b[1ml\u001b[22m\u001b[0m\u001b[1me\u001b[22m\u001b[0m\u001b[1mm\u001b[22m Dynamical\u001b[0m\u001b[1mO\u001b[22m\u001b[0m\u001b[1mD\u001b[22m\u001b[0m\u001b[1mE\u001b[22m\u001b[0m\u001b[1mP\u001b[22m\u001b[0m\u001b[1mr\u001b[22m\u001b[0m\u001b[1mo\u001b[22m\u001b[0m\u001b[1mb\u001b[22m\u001b[0m\u001b[1ml\u001b[22m\u001b[0m\u001b[1me\u001b[22m\u001b[0m\u001b[1mm\u001b[22m\n",
      "\n"
     ]
    },
    {
     "data": {
      "text/latex": [
       "Defines an ordinary differential equation (ODE) problem. Documentation Page: https://diffeq.sciml.ai/stable/types/ode\\_types/\n",
       "\n",
       "\\subsection{Mathematical Specification of an ODE Problem}\n",
       "To define an ODE Problem, you simply need to give the function $f$ and the initial condition $u_0$ which define an ODE:\n",
       "\n",
       "$$M \\frac{du}{dt} = f(u,p,t)$$\n",
       "There are two different ways of specifying \\texttt{f}:\n",
       "\n",
       "\\begin{itemize}\n",
       "\\item \\texttt{f(du,u,p,t)}: in-place. Memory-efficient when avoiding allocations. Best option for most cases unless mutation is not allowed. \n",
       "\n",
       "\n",
       "\\item \\texttt{f(u,p,t)}: returning \\texttt{du}. Less memory-efficient way, particularly suitable when mutation is not allowed (e.g. with certain automatic differentiation packages such as Zygote).\n",
       "\n",
       "\\end{itemize}\n",
       "\\texttt{u₀} should be an AbstractArray (or number) whose geometry matches the desired geometry of \\texttt{u}. Note that we are not limited to numbers or vectors for \\texttt{u₀}; one is allowed to provide \\texttt{u₀} as arbitrary matrices / higher dimension tensors as well.\n",
       "\n",
       "For the mass matrix $M$, see the documentation of \\texttt{ODEFunction}.\n",
       "\n",
       "\\subsection{Problem Type}\n",
       "\\subsubsection{Constructors}\n",
       "\\texttt{ODEProblem} can be constructed by first building an \\texttt{ODEFunction} or by simply passing the ODE right-hand side to the constructor. The constructors are:\n",
       "\n",
       "\\begin{itemize}\n",
       "\\item \\texttt{ODEProblem(f::ODEFunction,u0,tspan,p=NullParameters();kwargs...)}\n",
       "\n",
       "\n",
       "\\item \\texttt{ODEProblem\\{isinplace\\}(f,u0,tspan,p=NullParameters();kwargs...)} : Defines the ODE with the specified functions. \\texttt{isinplace} optionally sets whether the function is inplace or not. This is determined automatically, but not inferred.\n",
       "\n",
       "\\end{itemize}\n",
       "Parameters are optional, and if not given then a \\texttt{NullParameters()} singleton will be used which will throw nice errors if you try to index non-existent parameters. Any extra keyword arguments are passed on to the solvers. For example, if you set a \\texttt{callback} in the problem, then that \\texttt{callback} will be added in every solve call.\n",
       "\n",
       "For specifying Jacobians and mass matrices, see the \\texttt{ODEFunction} documentation.\n",
       "\n",
       "\\subsubsection{Fields}\n",
       "\\begin{itemize}\n",
       "\\item \\texttt{f}: The function in the ODE.\n",
       "\n",
       "\n",
       "\\item \\texttt{u0}: The initial condition.\n",
       "\n",
       "\n",
       "\\item \\texttt{tspan}: The timespan for the problem.\n",
       "\n",
       "\n",
       "\\item \\texttt{p}: The parameters.\n",
       "\n",
       "\n",
       "\\item \\texttt{kwargs}: The keyword arguments passed onto the solves.\n",
       "\n",
       "\\end{itemize}\n",
       "\\subsection{Example Problems}\n",
       "Example problems can be found in \\href{https://github.com/JuliaDiffEq/DiffEqProblemLibrary.jl/tree/master/src/ode}{DiffEqProblemLibrary.jl}.\n",
       "\n",
       "To use a sample problem, such as \\texttt{prob\\_ode\\_linear}, you can do something like:\n",
       "\n",
       "\\begin{verbatim}\n",
       "#] add DiffEqProblemLibrary\n",
       "using DiffEqProblemLibrary.ODEProblemLibrary\n",
       "# load problems\n",
       "ODEProblemLibrary.importodeproblems()\n",
       "prob = ODEProblemLibrary.prob_ode_linear\n",
       "sol = solve(prob)\n",
       "\\end{verbatim}\n",
       "\\rule{\\textwidth}{1pt}\n",
       "\\begin{verbatim}\n",
       "ODEProblem(f::ODEFunction,u0,tspan,p=NullParameters(),callback=CallbackSet())\n",
       "\\end{verbatim}\n",
       "Define an ODE problem from an \\href{@ref}{\\texttt{ODEFunction}}.\n",
       "\n"
      ],
      "text/markdown": [
       "Defines an ordinary differential equation (ODE) problem. Documentation Page: https://diffeq.sciml.ai/stable/types/ode_types/\n",
       "\n",
       "## Mathematical Specification of an ODE Problem\n",
       "\n",
       "To define an ODE Problem, you simply need to give the function $f$ and the initial condition $u_0$ which define an ODE:\n",
       "\n",
       "$$\n",
       "M \\frac{du}{dt} = f(u,p,t)\n",
       "$$\n",
       "\n",
       "There are two different ways of specifying `f`:\n",
       "\n",
       "  * `f(du,u,p,t)`: in-place. Memory-efficient when avoiding allocations. Best option for most cases unless mutation is not allowed.\n",
       "  * `f(u,p,t)`: returning `du`. Less memory-efficient way, particularly suitable when mutation is not allowed (e.g. with certain automatic differentiation packages such as Zygote).\n",
       "\n",
       "`u₀` should be an AbstractArray (or number) whose geometry matches the desired geometry of `u`. Note that we are not limited to numbers or vectors for `u₀`; one is allowed to provide `u₀` as arbitrary matrices / higher dimension tensors as well.\n",
       "\n",
       "For the mass matrix $M$, see the documentation of `ODEFunction`.\n",
       "\n",
       "## Problem Type\n",
       "\n",
       "### Constructors\n",
       "\n",
       "`ODEProblem` can be constructed by first building an `ODEFunction` or by simply passing the ODE right-hand side to the constructor. The constructors are:\n",
       "\n",
       "  * `ODEProblem(f::ODEFunction,u0,tspan,p=NullParameters();kwargs...)`\n",
       "  * `ODEProblem{isinplace}(f,u0,tspan,p=NullParameters();kwargs...)` : Defines the ODE with the specified functions. `isinplace` optionally sets whether the function is inplace or not. This is determined automatically, but not inferred.\n",
       "\n",
       "Parameters are optional, and if not given then a `NullParameters()` singleton will be used which will throw nice errors if you try to index non-existent parameters. Any extra keyword arguments are passed on to the solvers. For example, if you set a `callback` in the problem, then that `callback` will be added in every solve call.\n",
       "\n",
       "For specifying Jacobians and mass matrices, see the `ODEFunction` documentation.\n",
       "\n",
       "### Fields\n",
       "\n",
       "  * `f`: The function in the ODE.\n",
       "  * `u0`: The initial condition.\n",
       "  * `tspan`: The timespan for the problem.\n",
       "  * `p`: The parameters.\n",
       "  * `kwargs`: The keyword arguments passed onto the solves.\n",
       "\n",
       "## Example Problems\n",
       "\n",
       "Example problems can be found in [DiffEqProblemLibrary.jl](https://github.com/JuliaDiffEq/DiffEqProblemLibrary.jl/tree/master/src/ode).\n",
       "\n",
       "To use a sample problem, such as `prob_ode_linear`, you can do something like:\n",
       "\n",
       "```julia\n",
       "#] add DiffEqProblemLibrary\n",
       "using DiffEqProblemLibrary.ODEProblemLibrary\n",
       "# load problems\n",
       "ODEProblemLibrary.importodeproblems()\n",
       "prob = ODEProblemLibrary.prob_ode_linear\n",
       "sol = solve(prob)\n",
       "```\n",
       "\n",
       "---\n",
       "\n",
       "```\n",
       "ODEProblem(f::ODEFunction,u0,tspan,p=NullParameters(),callback=CallbackSet())\n",
       "```\n",
       "\n",
       "Define an ODE problem from an [`ODEFunction`](@ref).\n"
      ],
      "text/plain": [
       "  Defines an ordinary differential equation (ODE) problem. Documentation Page:\n",
       "  https://diffeq.sciml.ai/stable/types/ode_types/\n",
       "\n",
       "\u001b[1m  Mathematical Specification of an ODE Problem\u001b[22m\n",
       "\u001b[1m  ==============================================\u001b[22m\n",
       "\n",
       "  To define an ODE Problem, you simply need to give the function \u001b[35mf\u001b[39m and the\n",
       "  initial condition \u001b[35mu_0\u001b[39m which define an ODE:\n",
       "\n",
       "\u001b[35m  M \\frac{du}{dt} = f(u,p,t)\u001b[39m\n",
       "\n",
       "  There are two different ways of specifying \u001b[36mf\u001b[39m:\n",
       "\n",
       "    •  \u001b[36mf(du,u,p,t)\u001b[39m: in-place. Memory-efficient when avoiding allocations.\n",
       "       Best option for most cases unless mutation is not allowed.\n",
       "\n",
       "    •  \u001b[36mf(u,p,t)\u001b[39m: returning \u001b[36mdu\u001b[39m. Less memory-efficient way, particularly\n",
       "       suitable when mutation is not allowed (e.g. with certain automatic\n",
       "       differentiation packages such as Zygote).\n",
       "\n",
       "  \u001b[36mu₀\u001b[39m should be an AbstractArray (or number) whose geometry matches the desired\n",
       "  geometry of \u001b[36mu\u001b[39m. Note that we are not limited to numbers or vectors for \u001b[36mu₀\u001b[39m;\n",
       "  one is allowed to provide \u001b[36mu₀\u001b[39m as arbitrary matrices / higher dimension\n",
       "  tensors as well.\n",
       "\n",
       "  For the mass matrix \u001b[35mM\u001b[39m, see the documentation of \u001b[36mODEFunction\u001b[39m.\n",
       "\n",
       "\u001b[1m  Problem Type\u001b[22m\n",
       "\u001b[1m  ==============\u001b[22m\n",
       "\n",
       "\u001b[1m  Constructors\u001b[22m\n",
       "\u001b[1m  ––––––––––––––\u001b[22m\n",
       "\n",
       "  \u001b[36mODEProblem\u001b[39m can be constructed by first building an \u001b[36mODEFunction\u001b[39m or by simply\n",
       "  passing the ODE right-hand side to the constructor. The constructors are:\n",
       "\n",
       "    •  \u001b[36mODEProblem(f::ODEFunction,u0,tspan,p=NullParameters();kwargs...)\u001b[39m\n",
       "\n",
       "    •  \u001b[36mODEProblem{isinplace}(f,u0,tspan,p=NullParameters();kwargs...)\u001b[39m :\n",
       "       Defines the ODE with the specified functions. \u001b[36misinplace\u001b[39m optionally\n",
       "       sets whether the function is inplace or not. This is determined\n",
       "       automatically, but not inferred.\n",
       "\n",
       "  Parameters are optional, and if not given then a \u001b[36mNullParameters()\u001b[39m singleton\n",
       "  will be used which will throw nice errors if you try to index non-existent\n",
       "  parameters. Any extra keyword arguments are passed on to the solvers. For\n",
       "  example, if you set a \u001b[36mcallback\u001b[39m in the problem, then that \u001b[36mcallback\u001b[39m will be\n",
       "  added in every solve call.\n",
       "\n",
       "  For specifying Jacobians and mass matrices, see the \u001b[36mODEFunction\u001b[39m\n",
       "  documentation.\n",
       "\n",
       "\u001b[1m  Fields\u001b[22m\n",
       "\u001b[1m  ––––––––\u001b[22m\n",
       "\n",
       "    •  \u001b[36mf\u001b[39m: The function in the ODE.\n",
       "\n",
       "    •  \u001b[36mu0\u001b[39m: The initial condition.\n",
       "\n",
       "    •  \u001b[36mtspan\u001b[39m: The timespan for the problem.\n",
       "\n",
       "    •  \u001b[36mp\u001b[39m: The parameters.\n",
       "\n",
       "    •  \u001b[36mkwargs\u001b[39m: The keyword arguments passed onto the solves.\n",
       "\n",
       "\u001b[1m  Example Problems\u001b[22m\n",
       "\u001b[1m  ==================\u001b[22m\n",
       "\n",
       "  Example problems can be found in DiffEqProblemLibrary.jl\n",
       "  (https://github.com/JuliaDiffEq/DiffEqProblemLibrary.jl/tree/master/src/ode).\n",
       "\n",
       "  To use a sample problem, such as \u001b[36mprob_ode_linear\u001b[39m, you can do something like:\n",
       "\n",
       "\u001b[36m  #] add DiffEqProblemLibrary\u001b[39m\n",
       "\u001b[36m  using DiffEqProblemLibrary.ODEProblemLibrary\u001b[39m\n",
       "\u001b[36m  # load problems\u001b[39m\n",
       "\u001b[36m  ODEProblemLibrary.importodeproblems()\u001b[39m\n",
       "\u001b[36m  prob = ODEProblemLibrary.prob_ode_linear\u001b[39m\n",
       "\u001b[36m  sol = solve(prob)\u001b[39m\n",
       "\n",
       "  ────────────────────────────────────────────────────────────────────────────\n",
       "\n",
       "\u001b[36m  ODEProblem(f::ODEFunction,u0,tspan,p=NullParameters(),callback=CallbackSet())\u001b[39m\n",
       "\n",
       "  Define an ODE problem from an \u001b[36mODEFunction\u001b[39m."
      ]
     },
     "execution_count": 7,
     "metadata": {},
     "output_type": "execute_result"
    }
   ],
   "source": [
    "?ODEProblem"
   ]
  },
  {
   "cell_type": "markdown",
   "id": "e857e12e",
   "metadata": {},
   "source": [
    "## 1. Basic ODE"
   ]
  },
  {
   "cell_type": "code",
   "execution_count": 8,
   "id": "d9d66b1c",
   "metadata": {},
   "outputs": [
    {
     "name": "stdout",
     "output_type": "stream",
     "text": [
      "105.732881 seconds (198.37 M allocations: 14.096 GiB, 4.10% gc time, 100.04% compilation time)\n"
     ]
    },
    {
     "data": {
      "text/plain": [
       "([-39.494309131413694, -8.631888203763246], [7.349039360102889, -159.3107987785758, 74.93924800431954, -339.3272380777999])"
      ]
     },
     "execution_count": 8,
     "metadata": {},
     "output_type": "execute_result"
    }
   ],
   "source": [
    "@time begin\n",
    "function fiip(du,u,p,t)\n",
    "  du[1] = dx = p[1]*u[1] - p[2]*u[1]*u[2]\n",
    "  du[2] = dy = -p[3]*u[2] + p[4]*u[1]*u[2]\n",
    "end\n",
    "p = [1.5,1.0,3.0,1.0]; u0 = [1.0;1.0]\n",
    "prob = ODEProblem(fiip,u0,(0.0,10.0),p)\n",
    "sol = solve(prob,Tsit5())\n",
    "loss(u0,p) = sum(solve(prob,Tsit5(),u0=u0,p=p,saveat=0.1))\n",
    "du01,dp1 = Zygote.gradient(loss,u0,p)\n",
    "    \n",
    "end"
   ]
  },
  {
   "cell_type": "code",
   "execution_count": 9,
   "id": "911afcf5",
   "metadata": {},
   "outputs": [
    {
     "name": "stdout",
     "output_type": "stream",
     "text": [
      " 26.609490 seconds (56.85 M allocations: 4.282 GiB, 4.58% gc time, 99.90% compilation time)\n"
     ]
    },
    {
     "data": {
      "image/svg+xml": [
       "<?xml version=\"1.0\" encoding=\"utf-8\"?>\n",
       "<svg xmlns=\"http://www.w3.org/2000/svg\" xmlns:xlink=\"http://www.w3.org/1999/xlink\" width=\"600\" height=\"400\" viewBox=\"0 0 2400 1600\">\n",
       "<defs>\n",
       "  <clipPath id=\"clip190\">\n",
       "    <rect x=\"0\" y=\"0\" width=\"2400\" height=\"1600\"/>\n",
       "  </clipPath>\n",
       "</defs>\n",
       "<path clip-path=\"url(#clip190)\" d=\"\n",
       "M0 1600 L2400 1600 L2400 0 L0 0  Z\n",
       "  \" fill=\"#ffffff\" fill-rule=\"evenodd\" fill-opacity=\"1\"/>\n",
       "<defs>\n",
       "  <clipPath id=\"clip191\">\n",
       "    <rect x=\"480\" y=\"0\" width=\"1681\" height=\"1600\"/>\n",
       "  </clipPath>\n",
       "</defs>\n",
       "<path clip-path=\"url(#clip190)\" d=\"\n",
       "M112.177 1423.18 L2352.76 1423.18 L2352.76 47.2441 L112.177 47.2441  Z\n",
       "  \" fill=\"#ffffff\" fill-rule=\"evenodd\" fill-opacity=\"1\"/>\n",
       "<defs>\n",
       "  <clipPath id=\"clip192\">\n",
       "    <rect x=\"112\" y=\"47\" width=\"2242\" height=\"1377\"/>\n",
       "  </clipPath>\n",
       "</defs>\n",
       "<polyline clip-path=\"url(#clip192)\" style=\"stroke:#000000; stroke-linecap:butt; stroke-linejoin:round; stroke-width:2; stroke-opacity:0.1; fill:none\" points=\"\n",
       "  112.177,1423.18 112.177,47.2441 \n",
       "  \"/>\n",
       "<polyline clip-path=\"url(#clip192)\" style=\"stroke:#000000; stroke-linecap:butt; stroke-linejoin:round; stroke-width:2; stroke-opacity:0.1; fill:none\" points=\"\n",
       "  560.293,1423.18 560.293,47.2441 \n",
       "  \"/>\n",
       "<polyline clip-path=\"url(#clip192)\" style=\"stroke:#000000; stroke-linecap:butt; stroke-linejoin:round; stroke-width:2; stroke-opacity:0.1; fill:none\" points=\"\n",
       "  1008.41,1423.18 1008.41,47.2441 \n",
       "  \"/>\n",
       "<polyline clip-path=\"url(#clip192)\" style=\"stroke:#000000; stroke-linecap:butt; stroke-linejoin:round; stroke-width:2; stroke-opacity:0.1; fill:none\" points=\"\n",
       "  1456.52,1423.18 1456.52,47.2441 \n",
       "  \"/>\n",
       "<polyline clip-path=\"url(#clip192)\" style=\"stroke:#000000; stroke-linecap:butt; stroke-linejoin:round; stroke-width:2; stroke-opacity:0.1; fill:none\" points=\"\n",
       "  1904.64,1423.18 1904.64,47.2441 \n",
       "  \"/>\n",
       "<polyline clip-path=\"url(#clip192)\" style=\"stroke:#000000; stroke-linecap:butt; stroke-linejoin:round; stroke-width:2; stroke-opacity:0.1; fill:none\" points=\"\n",
       "  2352.76,1423.18 2352.76,47.2441 \n",
       "  \"/>\n",
       "<polyline clip-path=\"url(#clip190)\" style=\"stroke:#000000; stroke-linecap:butt; stroke-linejoin:round; stroke-width:4; stroke-opacity:1; fill:none\" points=\"\n",
       "  112.177,1423.18 2352.76,1423.18 \n",
       "  \"/>\n",
       "<polyline clip-path=\"url(#clip190)\" style=\"stroke:#000000; stroke-linecap:butt; stroke-linejoin:round; stroke-width:4; stroke-opacity:1; fill:none\" points=\"\n",
       "  112.177,1423.18 112.177,1404.28 \n",
       "  \"/>\n",
       "<polyline clip-path=\"url(#clip190)\" style=\"stroke:#000000; stroke-linecap:butt; stroke-linejoin:round; stroke-width:4; stroke-opacity:1; fill:none\" points=\"\n",
       "  560.293,1423.18 560.293,1404.28 \n",
       "  \"/>\n",
       "<polyline clip-path=\"url(#clip190)\" style=\"stroke:#000000; stroke-linecap:butt; stroke-linejoin:round; stroke-width:4; stroke-opacity:1; fill:none\" points=\"\n",
       "  1008.41,1423.18 1008.41,1404.28 \n",
       "  \"/>\n",
       "<polyline clip-path=\"url(#clip190)\" style=\"stroke:#000000; stroke-linecap:butt; stroke-linejoin:round; stroke-width:4; stroke-opacity:1; fill:none\" points=\"\n",
       "  1456.52,1423.18 1456.52,1404.28 \n",
       "  \"/>\n",
       "<polyline clip-path=\"url(#clip190)\" style=\"stroke:#000000; stroke-linecap:butt; stroke-linejoin:round; stroke-width:4; stroke-opacity:1; fill:none\" points=\"\n",
       "  1904.64,1423.18 1904.64,1404.28 \n",
       "  \"/>\n",
       "<polyline clip-path=\"url(#clip190)\" style=\"stroke:#000000; stroke-linecap:butt; stroke-linejoin:round; stroke-width:4; stroke-opacity:1; fill:none\" points=\"\n",
       "  2352.76,1423.18 2352.76,1404.28 \n",
       "  \"/>\n",
       "<path clip-path=\"url(#clip190)\" d=\"M112.177 1454.1 Q108.566 1454.1 106.737 1457.66 Q104.932 1461.2 104.932 1468.33 Q104.932 1475.44 106.737 1479.01 Q108.566 1482.55 112.177 1482.55 Q115.811 1482.55 117.617 1479.01 Q119.446 1475.44 119.446 1468.33 Q119.446 1461.2 117.617 1457.66 Q115.811 1454.1 112.177 1454.1 M112.177 1450.39 Q117.987 1450.39 121.043 1455 Q124.122 1459.58 124.122 1468.33 Q124.122 1477.06 121.043 1481.67 Q117.987 1486.25 112.177 1486.25 Q106.367 1486.25 103.288 1481.67 Q100.233 1477.06 100.233 1468.33 Q100.233 1459.58 103.288 1455 Q106.367 1450.39 112.177 1450.39 Z\" fill=\"#000000\" fill-rule=\"evenodd\" fill-opacity=\"1\" /><path clip-path=\"url(#clip190)\" d=\"M554.946 1481.64 L571.265 1481.64 L571.265 1485.58 L549.321 1485.58 L549.321 1481.64 Q551.983 1478.89 556.566 1474.26 Q561.173 1469.61 562.353 1468.27 Q564.598 1465.74 565.478 1464.01 Q566.381 1462.25 566.381 1460.56 Q566.381 1457.8 564.436 1456.07 Q562.515 1454.33 559.413 1454.33 Q557.214 1454.33 554.761 1455.09 Q552.33 1455.86 549.552 1457.41 L549.552 1452.69 Q552.376 1451.55 554.83 1450.97 Q557.284 1450.39 559.321 1450.39 Q564.691 1450.39 567.885 1453.08 Q571.08 1455.77 571.08 1460.26 Q571.08 1462.39 570.27 1464.31 Q569.483 1466.2 567.376 1468.8 Q566.798 1469.47 563.696 1472.69 Q560.594 1475.88 554.946 1481.64 Z\" fill=\"#000000\" fill-rule=\"evenodd\" fill-opacity=\"1\" /><path clip-path=\"url(#clip190)\" d=\"M1011.42 1455.09 L999.612 1473.54 L1011.42 1473.54 L1011.42 1455.09 M1010.19 1451.02 L1016.07 1451.02 L1016.07 1473.54 L1021 1473.54 L1021 1477.43 L1016.07 1477.43 L1016.07 1485.58 L1011.42 1485.58 L1011.42 1477.43 L995.816 1477.43 L995.816 1472.92 L1010.19 1451.02 Z\" fill=\"#000000\" fill-rule=\"evenodd\" fill-opacity=\"1\" /><path clip-path=\"url(#clip190)\" d=\"M1456.93 1466.44 Q1453.78 1466.44 1451.93 1468.59 Q1450.1 1470.74 1450.1 1474.49 Q1450.1 1478.22 1451.93 1480.39 Q1453.78 1482.55 1456.93 1482.55 Q1460.08 1482.55 1461.91 1480.39 Q1463.76 1478.22 1463.76 1474.49 Q1463.76 1470.74 1461.91 1468.59 Q1460.08 1466.44 1456.93 1466.44 M1466.21 1451.78 L1466.21 1456.04 Q1464.45 1455.21 1462.65 1454.77 Q1460.86 1454.33 1459.11 1454.33 Q1454.48 1454.33 1452.02 1457.45 Q1449.59 1460.58 1449.24 1466.9 Q1450.61 1464.89 1452.67 1463.82 Q1454.73 1462.73 1457.21 1462.73 Q1462.42 1462.73 1465.42 1465.9 Q1468.46 1469.05 1468.46 1474.49 Q1468.46 1479.82 1465.31 1483.03 Q1462.16 1486.25 1456.93 1486.25 Q1450.93 1486.25 1447.76 1481.67 Q1444.59 1477.06 1444.59 1468.33 Q1444.59 1460.14 1448.48 1455.28 Q1452.37 1450.39 1458.92 1450.39 Q1460.68 1450.39 1462.46 1450.74 Q1464.27 1451.09 1466.21 1451.78 Z\" fill=\"#000000\" fill-rule=\"evenodd\" fill-opacity=\"1\" /><path clip-path=\"url(#clip190)\" d=\"M1904.64 1469.17 Q1901.31 1469.17 1899.39 1470.95 Q1897.49 1472.73 1897.49 1475.86 Q1897.49 1478.98 1899.39 1480.77 Q1901.31 1482.55 1904.64 1482.55 Q1907.97 1482.55 1909.89 1480.77 Q1911.82 1478.96 1911.82 1475.86 Q1911.82 1472.73 1909.89 1470.95 Q1908 1469.17 1904.64 1469.17 M1899.96 1467.18 Q1896.96 1466.44 1895.27 1464.38 Q1893.6 1462.32 1893.6 1459.35 Q1893.6 1455.21 1896.54 1452.8 Q1899.5 1450.39 1904.64 1450.39 Q1909.8 1450.39 1912.74 1452.8 Q1915.68 1455.21 1915.68 1459.35 Q1915.68 1462.32 1913.99 1464.38 Q1912.33 1466.44 1909.34 1467.18 Q1912.72 1467.96 1914.59 1470.26 Q1916.49 1472.55 1916.49 1475.86 Q1916.49 1480.88 1913.41 1483.57 Q1910.36 1486.25 1904.64 1486.25 Q1898.92 1486.25 1895.84 1483.57 Q1892.79 1480.88 1892.79 1475.86 Q1892.79 1472.55 1894.69 1470.26 Q1896.58 1467.96 1899.96 1467.18 M1898.25 1459.79 Q1898.25 1462.48 1899.92 1463.98 Q1901.61 1465.49 1904.64 1465.49 Q1907.65 1465.49 1909.34 1463.98 Q1911.05 1462.48 1911.05 1459.79 Q1911.05 1457.11 1909.34 1455.6 Q1907.65 1454.1 1904.64 1454.1 Q1901.61 1454.1 1899.92 1455.6 Q1898.25 1457.11 1898.25 1459.79 Z\" fill=\"#000000\" fill-rule=\"evenodd\" fill-opacity=\"1\" /><path clip-path=\"url(#clip190)\" d=\"M2327.44 1481.64 L2335.08 1481.64 L2335.08 1455.28 L2326.77 1456.95 L2326.77 1452.69 L2335.04 1451.02 L2339.71 1451.02 L2339.71 1481.64 L2347.35 1481.64 L2347.35 1485.58 L2327.44 1485.58 L2327.44 1481.64 Z\" fill=\"#000000\" fill-rule=\"evenodd\" fill-opacity=\"1\" /><path clip-path=\"url(#clip190)\" d=\"M2366.8 1454.1 Q2363.18 1454.1 2361.36 1457.66 Q2359.55 1461.2 2359.55 1468.33 Q2359.55 1475.44 2361.36 1479.01 Q2363.18 1482.55 2366.8 1482.55 Q2370.43 1482.55 2372.23 1479.01 Q2374.06 1475.44 2374.06 1468.33 Q2374.06 1461.2 2372.23 1457.66 Q2370.43 1454.1 2366.8 1454.1 M2366.8 1450.39 Q2372.61 1450.39 2375.66 1455 Q2378.74 1459.58 2378.74 1468.33 Q2378.74 1477.06 2375.66 1481.67 Q2372.61 1486.25 2366.8 1486.25 Q2360.99 1486.25 2357.91 1481.67 Q2354.85 1477.06 2354.85 1468.33 Q2354.85 1459.58 2357.91 1455 Q2360.99 1450.39 2366.8 1450.39 Z\" fill=\"#000000\" fill-rule=\"evenodd\" fill-opacity=\"1\" /><path clip-path=\"url(#clip190)\" d=\"M1231.53 1522.27 L1231.53 1532.4 L1243.59 1532.4 L1243.59 1536.95 L1231.53 1536.95 L1231.53 1556.3 Q1231.53 1560.66 1232.71 1561.9 Q1233.91 1563.14 1237.58 1563.14 L1243.59 1563.14 L1243.59 1568.04 L1237.58 1568.04 Q1230.8 1568.04 1228.22 1565.53 Q1225.64 1562.98 1225.64 1556.3 L1225.64 1536.95 L1221.34 1536.95 L1221.34 1532.4 L1225.64 1532.4 L1225.64 1522.27 L1231.53 1522.27 Z\" fill=\"#000000\" fill-rule=\"evenodd\" fill-opacity=\"1\" /><polyline clip-path=\"url(#clip192)\" style=\"stroke:#000000; stroke-linecap:butt; stroke-linejoin:round; stroke-width:2; stroke-opacity:0.1; fill:none\" points=\"\n",
       "  112.177,1239.06 2352.76,1239.06 \n",
       "  \"/>\n",
       "<polyline clip-path=\"url(#clip192)\" style=\"stroke:#000000; stroke-linecap:butt; stroke-linejoin:round; stroke-width:2; stroke-opacity:0.1; fill:none\" points=\"\n",
       "  112.177,1043.71 2352.76,1043.71 \n",
       "  \"/>\n",
       "<polyline clip-path=\"url(#clip192)\" style=\"stroke:#000000; stroke-linecap:butt; stroke-linejoin:round; stroke-width:2; stroke-opacity:0.1; fill:none\" points=\"\n",
       "  112.177,848.363 2352.76,848.363 \n",
       "  \"/>\n",
       "<polyline clip-path=\"url(#clip192)\" style=\"stroke:#000000; stroke-linecap:butt; stroke-linejoin:round; stroke-width:2; stroke-opacity:0.1; fill:none\" points=\"\n",
       "  112.177,653.012 2352.76,653.012 \n",
       "  \"/>\n",
       "<polyline clip-path=\"url(#clip192)\" style=\"stroke:#000000; stroke-linecap:butt; stroke-linejoin:round; stroke-width:2; stroke-opacity:0.1; fill:none\" points=\"\n",
       "  112.177,457.661 2352.76,457.661 \n",
       "  \"/>\n",
       "<polyline clip-path=\"url(#clip192)\" style=\"stroke:#000000; stroke-linecap:butt; stroke-linejoin:round; stroke-width:2; stroke-opacity:0.1; fill:none\" points=\"\n",
       "  112.177,262.311 2352.76,262.311 \n",
       "  \"/>\n",
       "<polyline clip-path=\"url(#clip192)\" style=\"stroke:#000000; stroke-linecap:butt; stroke-linejoin:round; stroke-width:2; stroke-opacity:0.1; fill:none\" points=\"\n",
       "  112.177,66.96 2352.76,66.96 \n",
       "  \"/>\n",
       "<polyline clip-path=\"url(#clip190)\" style=\"stroke:#000000; stroke-linecap:butt; stroke-linejoin:round; stroke-width:4; stroke-opacity:1; fill:none\" points=\"\n",
       "  112.177,1423.18 112.177,47.2441 \n",
       "  \"/>\n",
       "<polyline clip-path=\"url(#clip190)\" style=\"stroke:#000000; stroke-linecap:butt; stroke-linejoin:round; stroke-width:4; stroke-opacity:1; fill:none\" points=\"\n",
       "  112.177,1239.06 131.075,1239.06 \n",
       "  \"/>\n",
       "<polyline clip-path=\"url(#clip190)\" style=\"stroke:#000000; stroke-linecap:butt; stroke-linejoin:round; stroke-width:4; stroke-opacity:1; fill:none\" points=\"\n",
       "  112.177,1043.71 131.075,1043.71 \n",
       "  \"/>\n",
       "<polyline clip-path=\"url(#clip190)\" style=\"stroke:#000000; stroke-linecap:butt; stroke-linejoin:round; stroke-width:4; stroke-opacity:1; fill:none\" points=\"\n",
       "  112.177,848.363 131.075,848.363 \n",
       "  \"/>\n",
       "<polyline clip-path=\"url(#clip190)\" style=\"stroke:#000000; stroke-linecap:butt; stroke-linejoin:round; stroke-width:4; stroke-opacity:1; fill:none\" points=\"\n",
       "  112.177,653.012 131.075,653.012 \n",
       "  \"/>\n",
       "<polyline clip-path=\"url(#clip190)\" style=\"stroke:#000000; stroke-linecap:butt; stroke-linejoin:round; stroke-width:4; stroke-opacity:1; fill:none\" points=\"\n",
       "  112.177,457.661 131.075,457.661 \n",
       "  \"/>\n",
       "<polyline clip-path=\"url(#clip190)\" style=\"stroke:#000000; stroke-linecap:butt; stroke-linejoin:round; stroke-width:4; stroke-opacity:1; fill:none\" points=\"\n",
       "  112.177,262.311 131.075,262.311 \n",
       "  \"/>\n",
       "<polyline clip-path=\"url(#clip190)\" style=\"stroke:#000000; stroke-linecap:butt; stroke-linejoin:round; stroke-width:4; stroke-opacity:1; fill:none\" points=\"\n",
       "  112.177,66.96 131.075,66.96 \n",
       "  \"/>\n",
       "<path clip-path=\"url(#clip190)\" d=\"M56.2699 1252.41 L63.9087 1252.41 L63.9087 1226.04 L55.5986 1227.71 L55.5986 1223.45 L63.8624 1221.78 L68.5383 1221.78 L68.5383 1252.41 L76.1772 1252.41 L76.1772 1256.34 L56.2699 1256.34 L56.2699 1252.41 Z\" fill=\"#000000\" fill-rule=\"evenodd\" fill-opacity=\"1\" /><path clip-path=\"url(#clip190)\" d=\"M59.8578 1057.06 L76.1772 1057.06 L76.1772 1060.99 L54.2328 1060.99 L54.2328 1057.06 Q56.8949 1054.3 61.4782 1049.67 Q66.0846 1045.02 67.2652 1043.68 Q69.5105 1041.16 70.3902 1039.42 Q71.2929 1037.66 71.2929 1035.97 Q71.2929 1033.22 69.3485 1031.48 Q67.4272 1029.74 64.3254 1029.74 Q62.1263 1029.74 59.6726 1030.51 Q57.2421 1031.27 54.4643 1032.82 L54.4643 1028.1 Q57.2884 1026.97 59.7421 1026.39 Q62.1958 1025.81 64.2328 1025.81 Q69.6031 1025.81 72.7976 1028.49 Q75.992 1031.18 75.992 1035.67 Q75.992 1037.8 75.1818 1039.72 Q74.3948 1041.62 72.2883 1044.21 Q71.7096 1044.88 68.6078 1048.1 Q65.5059 1051.29 59.8578 1057.06 Z\" fill=\"#000000\" fill-rule=\"evenodd\" fill-opacity=\"1\" /><path clip-path=\"url(#clip190)\" d=\"M69.0476 847.009 Q72.404 847.726 74.279 849.995 Q76.1772 852.263 76.1772 855.597 Q76.1772 860.712 72.6587 863.513 Q69.1402 866.314 62.6587 866.314 Q60.4828 866.314 58.168 865.874 Q55.8764 865.458 53.4227 864.601 L53.4227 860.087 Q55.3671 861.222 57.6819 861.8 Q59.9967 862.379 62.5198 862.379 Q66.918 862.379 69.2096 860.643 Q71.5244 858.907 71.5244 855.597 Q71.5244 852.541 69.3717 850.828 Q67.242 849.092 63.4226 849.092 L59.3949 849.092 L59.3949 845.249 L63.6078 845.249 Q67.0569 845.249 68.8855 843.884 Q70.7142 842.495 70.7142 839.902 Q70.7142 837.24 68.8161 835.828 Q66.9411 834.393 63.4226 834.393 Q61.5013 834.393 59.3023 834.81 Q57.1032 835.226 54.4643 836.106 L54.4643 831.939 Q57.1264 831.199 59.4412 830.828 Q61.7791 830.458 63.8393 830.458 Q69.1633 830.458 72.2652 832.888 Q75.367 835.296 75.367 839.416 Q75.367 842.287 73.7235 844.277 Q72.08 846.245 69.0476 847.009 Z\" fill=\"#000000\" fill-rule=\"evenodd\" fill-opacity=\"1\" /><path clip-path=\"url(#clip190)\" d=\"M66.5939 639.806 L54.7884 658.255 L66.5939 658.255 L66.5939 639.806 M65.367 635.732 L71.2466 635.732 L71.2466 658.255 L76.1772 658.255 L76.1772 662.144 L71.2466 662.144 L71.2466 670.292 L66.5939 670.292 L66.5939 662.144 L50.9921 662.144 L50.9921 657.63 L65.367 635.732 Z\" fill=\"#000000\" fill-rule=\"evenodd\" fill-opacity=\"1\" /><path clip-path=\"url(#clip190)\" d=\"M55.2745 440.381 L73.6309 440.381 L73.6309 444.317 L59.5569 444.317 L59.5569 452.789 Q60.5754 452.442 61.5939 452.28 Q62.6124 452.094 63.6309 452.094 Q69.418 452.094 72.7976 455.266 Q76.1772 458.437 76.1772 463.854 Q76.1772 469.432 72.705 472.534 Q69.2328 475.613 62.9134 475.613 Q60.7374 475.613 58.4689 475.242 Q56.2236 474.872 53.8162 474.131 L53.8162 469.432 Q55.8995 470.566 58.1217 471.122 Q60.3439 471.678 62.8208 471.678 Q66.8254 471.678 69.1633 469.571 Q71.5013 467.465 71.5013 463.854 Q71.5013 460.242 69.1633 458.136 Q66.8254 456.03 62.8208 456.03 Q60.9458 456.03 59.0708 456.446 Q57.2189 456.863 55.2745 457.742 L55.2745 440.381 Z\" fill=\"#000000\" fill-rule=\"evenodd\" fill-opacity=\"1\" /><path clip-path=\"url(#clip190)\" d=\"M64.6495 260.447 Q61.5013 260.447 59.6495 262.6 Q57.8208 264.753 57.8208 268.503 Q57.8208 272.23 59.6495 274.406 Q61.5013 276.558 64.6495 276.558 Q67.7976 276.558 69.6263 274.406 Q71.4781 272.23 71.4781 268.503 Q71.4781 264.753 69.6263 262.6 Q67.7976 260.447 64.6495 260.447 M73.9318 245.795 L73.9318 250.054 Q72.1726 249.221 70.367 248.781 Q68.5846 248.341 66.8254 248.341 Q62.1958 248.341 59.7421 251.466 Q57.3115 254.591 56.9643 260.91 Q58.33 258.896 60.3902 257.832 Q62.4504 256.744 64.9272 256.744 Q70.1355 256.744 73.1448 259.915 Q76.1772 263.063 76.1772 268.503 Q76.1772 273.827 73.029 277.044 Q69.8809 280.262 64.6495 280.262 Q58.6541 280.262 55.4828 275.679 Q52.3116 271.072 52.3116 262.345 Q52.3116 254.151 56.2004 249.29 Q60.0893 244.406 66.6402 244.406 Q68.3994 244.406 70.1818 244.753 Q71.9874 245.1 73.9318 245.795 Z\" fill=\"#000000\" fill-rule=\"evenodd\" fill-opacity=\"1\" /><path clip-path=\"url(#clip190)\" d=\"M53.9551 49.68 L76.1772 49.68 L76.1772 51.6708 L63.6309 84.24 L58.7467 84.24 L70.5522 53.6152 L53.9551 53.6152 L53.9551 49.68 Z\" fill=\"#000000\" fill-rule=\"evenodd\" fill-opacity=\"1\" /><polyline clip-path=\"url(#clip192)\" style=\"stroke:#009af9; stroke-linecap:butt; stroke-linejoin:round; stroke-width:4; stroke-opacity:1; fill:none\" points=\"\n",
       "  112.177,1239.06 114.42,1238.06 116.663,1237.02 118.906,1235.93 121.148,1234.8 123.391,1233.63 125.634,1232.41 127.877,1231.15 130.12,1229.85 132.363,1228.51 \n",
       "  134.605,1227.12 136.848,1225.69 139.091,1224.22 141.334,1222.7 143.577,1221.14 145.819,1219.54 148.062,1217.9 150.305,1216.21 152.548,1214.48 154.791,1212.71 \n",
       "  157.034,1210.89 159.276,1209.03 161.519,1207.13 163.762,1205.18 166.005,1203.19 168.248,1201.16 170.491,1199.08 172.733,1196.96 174.976,1194.79 177.219,1192.58 \n",
       "  179.462,1190.32 181.705,1188.02 183.947,1185.67 186.19,1183.27 188.433,1180.83 190.676,1178.34 192.919,1175.8 195.162,1173.22 197.404,1170.59 199.647,1167.91 \n",
       "  201.89,1165.18 204.133,1162.4 206.376,1159.58 208.619,1156.7 210.861,1153.77 213.104,1150.79 215.347,1147.76 217.59,1144.68 219.833,1141.55 222.075,1138.36 \n",
       "  224.318,1135.12 226.561,1131.83 228.804,1128.48 231.047,1125.08 233.29,1121.63 235.532,1118.11 237.775,1114.54 240.018,1110.92 242.261,1107.23 244.504,1103.49 \n",
       "  246.746,1099.69 248.989,1095.83 251.232,1091.91 253.475,1087.93 255.718,1083.89 257.961,1079.79 260.203,1075.63 262.446,1071.4 264.689,1067.11 266.932,1062.75 \n",
       "  269.175,1058.33 271.418,1053.85 273.66,1049.29 275.903,1044.67 278.146,1039.99 280.389,1035.23 282.632,1030.41 284.874,1025.51 287.117,1020.55 289.36,1015.51 \n",
       "  291.603,1010.41 293.846,1005.23 296.089,999.974 298.331,994.647 300.574,989.245 302.817,983.768 305.06,978.215 307.303,972.585 309.545,966.877 311.788,961.091 \n",
       "  314.031,955.226 316.274,949.281 318.517,943.255 320.76,937.148 323.002,930.959 325.245,924.688 327.488,918.333 329.731,911.895 331.974,905.372 334.217,898.764 \n",
       "  336.459,892.069 338.702,885.287 340.945,878.418 343.188,871.46 345.431,864.413 347.673,857.276 349.916,850.049 352.159,842.731 354.402,835.321 356.645,827.82 \n",
       "  358.888,820.226 361.13,812.539 363.373,804.76 365.616,796.886 367.859,788.919 370.102,780.857 372.344,772.701 374.587,764.451 376.83,756.105 379.073,747.664 \n",
       "  381.316,739.129 383.559,730.497 385.801,721.771 388.044,712.949 390.287,704.032 392.53,695.019 394.773,685.911 397.016,676.708 399.258,667.415 401.501,658.032 \n",
       "  403.744,648.557 405.987,638.992 408.23,629.335 410.472,619.587 412.715,609.748 414.958,599.818 417.201,589.8 419.444,579.695 421.687,569.503 423.929,559.227 \n",
       "  426.172,548.869 428.415,538.431 430.658,527.917 432.901,517.329 435.143,506.671 437.386,495.947 439.629,485.16 441.872,474.315 444.115,463.416 446.358,452.468 \n",
       "  448.6,441.476 450.843,430.447 453.086,419.384 455.329,408.295 457.572,397.185 459.815,386.062 462.057,374.932 464.3,363.802 466.543,352.68 468.786,341.574 \n",
       "  471.029,330.491 473.271,319.441 475.514,308.43 477.757,297.456 480,286.527 482.243,275.664 484.486,264.883 486.728,254.205 488.971,243.648 491.214,233.233 \n",
       "  493.457,222.981 495.7,212.911 497.942,203.047 500.185,193.409 502.428,184.02 504.671,174.904 506.914,166.084 509.157,157.583 511.399,149.426 513.642,141.638 \n",
       "  515.885,134.244 518.128,127.271 520.371,120.744 522.614,114.69 524.856,109.138 527.099,104.114 529.342,99.6467 531.585,95.7653 533.828,92.4989 536.07,89.8772 \n",
       "  538.313,87.9305 540.556,86.6896 542.799,86.1857 545.042,86.4504 547.285,87.5161 549.527,89.4153 551.77,92.1813 554.013,95.8477 556.256,100.449 558.499,106.022 \n",
       "  560.741,112.606 562.984,120.206 565.227,128.818 567.47,138.436 569.713,149.049 571.956,160.644 574.198,173.205 576.441,186.712 578.684,201.14 580.927,216.464 \n",
       "  583.17,232.654 585.413,249.676 587.655,267.493 589.898,286.066 592.141,305.351 594.384,325.302 596.627,345.868 598.869,366.996 601.112,388.631 603.355,410.71 \n",
       "  605.598,433.173 607.841,455.951 610.084,478.974 612.326,502.17 614.569,525.462 616.812,548.769 619.055,572.01 621.298,595.122 623.54,618.085 625.783,640.842 \n",
       "  628.026,663.341 630.269,685.533 632.512,707.371 634.755,728.815 636.997,749.827 639.24,770.375 641.483,790.427 643.726,809.96 645.969,828.951 648.212,847.384 \n",
       "  650.454,865.243 652.697,882.52 654.94,899.209 657.183,915.309 659.426,930.821 661.668,945.751 663.911,960.11 666.154,973.912 668.397,987.175 670.64,999.921 \n",
       "  672.883,1012.18 675.125,1023.97 677.368,1035.3 679.611,1046.15 681.854,1056.55 684.097,1066.5 686.339,1076.02 688.582,1085.14 690.825,1093.85 693.068,1102.19 \n",
       "  695.311,1110.15 697.554,1117.77 699.796,1125.04 702.039,1131.99 704.282,1138.62 706.525,1144.95 708.768,1150.99 711.011,1156.75 713.253,1162.24 715.496,1167.48 \n",
       "  717.739,1172.46 719.982,1177.21 722.225,1181.73 724.467,1186.04 726.71,1190.13 728.953,1194.01 731.196,1197.71 733.439,1201.23 735.682,1204.57 737.924,1207.74 \n",
       "  740.167,1210.75 742.41,1213.61 744.653,1216.32 746.896,1218.88 749.138,1221.3 751.381,1223.59 753.624,1225.76 755.867,1227.8 758.11,1229.72 760.353,1231.53 \n",
       "  762.595,1233.24 764.838,1234.83 767.081,1236.33 769.324,1237.72 771.567,1239.03 773.81,1240.24 776.052,1241.36 778.295,1242.4 780.538,1243.35 782.781,1244.23 \n",
       "  785.024,1245.02 787.266,1245.74 789.509,1246.39 791.752,1246.96 793.995,1247.46 796.238,1247.89 798.481,1248.25 800.723,1248.56 802.966,1248.79 805.209,1248.97 \n",
       "  807.452,1249.09 809.695,1249.14 811.938,1249.14 814.18,1249.08 816.423,1248.97 818.666,1248.8 820.909,1248.58 823.152,1248.3 825.394,1247.98 827.637,1247.6 \n",
       "  829.88,1247.17 832.123,1246.69 834.366,1246.17 836.609,1245.59 838.851,1244.97 841.094,1244.3 843.337,1243.59 845.58,1242.82 847.823,1242.02 850.065,1241.17 \n",
       "  852.308,1240.27 854.551,1239.33 856.794,1238.35 859.037,1237.32 861.28,1236.25 863.522,1235.14 865.765,1233.98 868.008,1232.78 870.251,1231.54 872.494,1230.25 \n",
       "  874.737,1228.92 876.979,1227.55 879.222,1226.14 881.465,1224.68 883.708,1223.18 885.951,1221.64 888.193,1220.05 890.436,1218.42 892.679,1216.75 894.922,1215.04 \n",
       "  897.165,1213.28 899.408,1211.48 901.65,1209.63 903.893,1207.75 906.136,1205.81 908.379,1203.84 910.622,1201.82 912.864,1199.76 915.107,1197.65 917.35,1195.49 \n",
       "  919.593,1193.3 921.836,1191.05 924.079,1188.76 926.321,1186.43 928.564,1184.05 930.807,1181.62 933.05,1179.15 935.293,1176.63 937.536,1174.06 939.778,1171.45 \n",
       "  942.021,1168.79 944.264,1166.07 946.507,1163.31 948.75,1160.5 950.992,1157.64 953.235,1154.73 955.478,1151.77 957.721,1148.76 959.964,1145.7 962.207,1142.58 \n",
       "  964.449,1139.42 966.692,1136.2 968.935,1132.92 971.178,1129.59 973.421,1126.21 975.663,1122.77 977.906,1119.28 980.149,1115.73 982.392,1112.12 984.635,1108.46 \n",
       "  986.878,1104.74 989.12,1100.96 991.363,1097.12 993.606,1093.22 995.849,1089.26 998.092,1085.24 1000.33,1081.16 1002.58,1077.02 1004.82,1072.82 1007.06,1068.55 \n",
       "  1009.31,1064.22 1011.55,1059.82 1013.79,1055.36 1016.03,1050.83 1018.28,1046.23 1020.52,1041.57 1022.76,1036.84 1025.01,1032.04 1027.25,1027.17 1029.49,1022.23 \n",
       "  1031.73,1017.22 1033.98,1012.14 1036.22,1006.99 1038.46,1001.76 1040.71,996.461 1042.95,991.087 1045.19,985.637 1047.43,980.111 1049.68,974.508 1051.92,968.828 \n",
       "  1054.16,963.07 1056.41,957.232 1058.65,951.315 1060.89,945.317 1063.13,939.239 1065.38,933.078 1067.62,926.834 1069.86,920.508 1072.1,914.097 1074.35,907.602 \n",
       "  1076.59,901.021 1078.83,894.355 1081.08,887.602 1083.32,880.762 1085.56,873.834 1087.8,866.817 1090.05,859.712 1092.29,852.517 1094.53,845.232 1096.78,837.856 \n",
       "  1099.02,830.389 1101.26,822.83 1103.5,815.179 1105.75,807.435 1107.99,799.597 1110.23,791.666 1112.48,783.64 1114.72,775.519 1116.96,767.307 1119.2,759.009 \n",
       "  1121.45,750.623 1123.69,742.147 1125.93,733.579 1128.18,724.917 1130.42,716.16 1132.66,707.307 1134.9,698.357 1137.15,689.309 1139.39,680.162 1141.63,670.917 \n",
       "  1143.88,661.574 1146.12,652.132 1148.36,642.593 1150.6,632.957 1152.85,623.225 1155.09,613.398 1157.33,603.478 1159.57,593.467 1161.82,583.366 1164.06,573.178 \n",
       "  1166.3,562.905 1168.55,552.55 1170.79,542.116 1173.03,531.605 1175.27,521.022 1177.52,510.37 1179.76,499.653 1182,488.876 1184.25,478.041 1186.49,467.155 \n",
       "  1188.73,456.221 1190.97,445.245 1193.22,434.233 1195.46,423.19 1197.7,412.122 1199.95,401.034 1202.19,389.933 1204.43,378.827 1206.67,367.72 1208.92,356.621 \n",
       "  1211.16,345.537 1213.4,334.476 1215.65,323.444 1217.89,312.45 1220.13,301.503 1222.37,290.61 1224.62,279.777 1226.86,269.005 1229.1,258.313 1231.35,247.724 \n",
       "  1233.59,237.259 1235.83,226.941 1238.07,216.793 1240.32,206.838 1242.56,197.099 1244.8,187.601 1247.04,178.366 1249.29,169.42 1251.53,160.787 1253.77,152.493 \n",
       "  1256.02,144.563 1258.26,137.023 1260.5,129.898 1262.74,123.215 1264.99,117.002 1267.23,111.285 1269.47,106.091 1271.72,101.449 1273.96,97.3855 1276.2,93.9304 \n",
       "  1278.44,91.1119 1280.69,88.9592 1282.93,87.5016 1285.17,86.769 1287.42,86.7914 1289.66,87.5993 1291.9,89.2234 1294.14,91.6949 1296.39,95.0452 1298.63,99.306 \n",
       "  1300.87,104.51 1303.12,110.688 1305.36,117.903 1307.6,126.188 1309.84,135.524 1312.09,145.888 1314.33,157.257 1316.57,169.604 1318.82,182.902 1321.06,197.12 \n",
       "  1323.3,212.226 1325.54,228.186 1327.79,244.962 1330.03,262.517 1332.27,280.81 1334.51,299.797 1336.76,319.434 1339,339.674 1341.24,360.468 1343.49,381.764 \n",
       "  1345.73,403.509 1347.97,425.648 1350.21,448.123 1352.46,470.875 1354.7,493.841 1356.94,516.958 1359.19,540.161 1361.43,563.38 1363.67,586.546 1365.91,609.587 \n",
       "  1368.16,632.428 1370.4,654.992 1372.64,677.207 1374.89,699.062 1377.13,720.536 1379.37,741.597 1381.61,762.217 1383.86,782.369 1386.1,802.03 1388.34,821.18 \n",
       "  1390.59,839.801 1392.83,857.878 1395.07,875.398 1397.31,892.352 1399.56,908.734 1401.8,924.538 1404.04,939.765 1406.29,954.416 1408.53,968.494 1410.77,982.007 \n",
       "  1413.01,994.964 1415.26,1007.38 1417.5,1019.27 1419.74,1030.64 1421.98,1041.53 1424.23,1051.95 1426.47,1061.94 1428.71,1071.51 1430.96,1080.71 1433.2,1089.56 \n",
       "  1435.44,1098.04 1437.68,1106.15 1439.93,1113.89 1442.17,1121.29 1444.41,1128.36 1446.66,1135.11 1448.9,1141.55 1451.14,1147.69 1453.38,1153.56 1455.63,1159.15 \n",
       "  1457.87,1164.49 1460.11,1169.57 1462.36,1174.42 1464.6,1179.05 1466.84,1183.45 1469.08,1187.64 1471.33,1191.63 1473.57,1195.43 1475.81,1199.05 1478.06,1202.48 \n",
       "  1480.3,1205.74 1482.54,1208.84 1484.78,1211.78 1487.03,1214.56 1489.27,1217.2 1491.51,1219.68 1493.76,1222.03 1496,1224.25 1498.24,1226.35 1500.48,1228.33 \n",
       "  1502.73,1230.19 1504.97,1231.94 1507.21,1233.59 1509.46,1235.12 1511.7,1236.56 1513.94,1237.91 1516.18,1239.15 1518.43,1240.31 1520.67,1241.38 1522.91,1242.36 \n",
       "  1525.15,1243.26 1527.4,1244.09 1529.64,1244.83 1531.88,1245.5 1534.13,1246.1 1536.37,1246.63 1538.61,1247.09 1540.85,1247.48 1543.1,1247.81 1545.34,1248.07 \n",
       "  1547.58,1248.27 1549.83,1248.41 1552.07,1248.49 1554.31,1248.52 1556.55,1248.48 1558.8,1248.39 1561.04,1248.25 1563.28,1248.05 1565.53,1247.8 1567.77,1247.49 \n",
       "  1570.01,1247.14 1572.25,1246.73 1574.5,1246.28 1576.74,1245.78 1578.98,1245.22 1581.23,1244.62 1583.47,1243.97 1585.71,1243.28 1587.95,1242.54 1590.2,1241.75 \n",
       "  1592.44,1240.91 1594.68,1240.04 1596.93,1239.11 1599.17,1238.14 1601.41,1237.13 1603.65,1236.07 1605.9,1234.97 1608.14,1233.83 1610.38,1232.64 1612.62,1231.41 \n",
       "  1614.87,1230.14 1617.11,1228.82 1619.35,1227.46 1621.6,1226.06 1623.84,1224.62 1626.08,1223.13 1628.32,1221.6 1630.57,1220.03 1632.81,1218.42 1635.05,1216.76 \n",
       "  1637.3,1215.06 1639.54,1213.32 1641.78,1211.54 1644.02,1209.71 1646.27,1207.84 1648.51,1205.92 1650.75,1203.96 1653,1201.96 1655.24,1199.91 1657.48,1197.82 \n",
       "  1659.72,1195.68 1661.97,1193.5 1664.21,1191.27 1666.45,1189 1668.7,1186.68 1670.94,1184.32 1673.18,1181.91 1675.42,1179.45 1677.67,1176.94 1679.91,1174.39 \n",
       "  1682.15,1171.79 1684.4,1169.14 1686.64,1166.45 1688.88,1163.7 1691.12,1160.91 1693.37,1158.06 1695.61,1155.17 1697.85,1152.22 1700.09,1149.22 1702.34,1146.18 \n",
       "  1704.58,1143.08 1706.82,1139.93 1709.07,1136.72 1711.31,1133.46 1713.55,1130.15 1715.79,1126.79 1718.04,1123.37 1720.28,1119.89 1722.52,1116.36 1724.77,1112.77 \n",
       "  1727.01,1109.12 1729.25,1105.42 1731.49,1101.66 1733.74,1097.84 1735.98,1093.96 1738.22,1090.01 1740.47,1086.01 1742.71,1081.95 1744.95,1077.83 1747.19,1073.64 \n",
       "  1749.44,1069.39 1751.68,1065.08 1753.92,1060.7 1756.17,1056.25 1758.41,1051.74 1760.65,1047.17 1762.89,1042.53 1765.14,1037.82 1767.38,1033.04 1769.62,1028.19 \n",
       "  1771.87,1023.27 1774.11,1018.28 1776.35,1013.22 1778.59,1008.09 1780.84,1002.89 1783.08,997.612 1785.32,992.26 1787.56,986.834 1789.81,981.332 1792.05,975.755 \n",
       "  1794.29,970.1 1796.54,964.367 1798.78,958.556 1801.02,952.665 1803.26,946.695 1805.51,940.643 1807.75,934.51 1809.99,928.295 1812.24,921.996 1814.48,915.615 \n",
       "  1816.72,909.151 1818.96,902.602 1821.21,895.969 1823.45,889.249 1825.69,882.442 1827.94,875.547 1830.18,868.564 1832.42,861.491 1834.66,854.329 1836.91,847.075 \n",
       "  1839.15,839.731 1841.39,832.294 1843.64,824.765 1845.88,817.143 1848.12,809.428 1850.36,801.619 1852.61,793.717 1854.85,785.72 1857.09,777.629 1859.34,769.443 \n",
       "  1861.58,761.162 1863.82,752.787 1866.06,744.317 1868.31,735.752 1870.55,727.092 1872.79,718.337 1875.03,709.488 1877.28,700.545 1879.52,691.508 1881.76,682.377 \n",
       "  1884.01,673.153 1886.25,663.836 1888.49,654.426 1890.73,644.924 1892.98,635.331 1895.22,625.646 1897.46,615.872 1899.71,606.008 1901.95,596.066 1904.19,586.057 \n",
       "  1906.43,575.977 1908.68,565.823 1910.92,555.595 1913.16,545.29 1915.41,534.909 1917.65,524.452 1919.89,513.919 1922.13,503.311 1924.38,492.631 1926.62,481.881 \n",
       "  1928.86,471.064 1931.11,460.185 1933.35,449.247 1935.59,438.256 1937.83,427.218 1940.08,416.138 1942.32,405.024 1944.56,393.883 1946.81,382.723 1949.05,371.554 \n",
       "  1951.29,360.385 1953.53,349.225 1955.78,338.085 1958.02,326.977 1960.26,315.912 1962.5,304.904 1964.75,293.964 1966.99,283.108 1969.23,272.349 1971.48,261.702 \n",
       "  1973.72,251.184 1975.96,240.809 1978.2,230.596 1980.45,220.561 1982.69,210.723 1984.93,201.1 1987.18,191.712 1989.42,182.579 1991.66,173.721 1993.9,165.159 \n",
       "  1996.15,156.916 1998.39,149.014 2000.63,141.476 2002.88,134.325 2005.12,127.586 2007.36,121.284 2009.6,115.445 2011.85,110.094 2014.09,105.258 2016.33,100.965 \n",
       "  2018.58,97.2621 2020.82,94.192 2023.06,91.7961 2025.3,90.1132 2027.55,89.179 2029.79,89.0268 2032.03,89.687 2034.28,91.1876 2036.52,93.5538 2038.76,96.808 \n",
       "  2041,100.97 2043.25,106.057 2045.49,112.084 2047.73,119.062 2049.97,127 2052.22,135.906 2054.46,145.782 2056.7,156.63 2058.95,168.448 2061.19,181.232 \n",
       "  2063.43,194.975 2065.67,209.667 2067.92,225.308 2070.16,241.867 2072.4,259.287 2074.65,277.507 2076.89,296.468 2079.13,316.109 2081.37,336.371 2083.62,357.193 \n",
       "  2085.86,378.514 2088.1,400.276 2090.35,422.415 2092.59,444.873 2094.83,467.586 2097.07,490.496 2099.32,513.539 2101.56,536.654 2103.8,559.78 2106.05,582.855 \n",
       "  2108.29,605.816 2110.53,628.602 2112.77,651.15 2115.02,673.397 2117.26,695.282 2119.5,716.762 2121.75,737.824 2123.99,758.442 2126.23,778.592 2128.47,798.254 \n",
       "  2130.72,817.408 2132.96,836.039 2135.2,854.134 2137.45,871.682 2139.69,888.674 2141.93,905.104 2144.17,920.968 2146.42,936.266 2148.66,951 2150.9,965.172 \n",
       "  2153.14,978.789 2155.39,991.861 2157.63,1004.4 2159.87,1016.42 2162.12,1027.93 2164.36,1038.96 2166.6,1049.52 2168.84,1059.64 2171.09,1069.35 2173.33,1078.68 \n",
       "  2175.57,1087.62 2177.82,1096.17 2180.06,1104.35 2182.3,1112.16 2184.54,1119.62 2186.79,1126.75 2189.03,1133.55 2191.27,1140.05 2193.52,1146.25 2195.76,1152.17 \n",
       "  2198,1157.81 2200.24,1163.19 2202.49,1168.33 2204.73,1173.22 2206.97,1177.88 2209.22,1182.32 2211.46,1186.55 2213.7,1190.57 2215.94,1194.4 2218.19,1198.04 \n",
       "  2220.43,1201.5 2222.67,1204.78 2224.92,1207.9 2227.16,1210.85 2229.4,1213.65 2231.64,1216.3 2233.89,1218.82 2236.13,1221.19 2238.37,1223.44 2240.61,1225.56 \n",
       "  2242.86,1227.56 2245.1,1229.45 2247.34,1231.22 2249.59,1232.88 2251.83,1234.44 2254.07,1235.89 2256.31,1237.25 2258.56,1238.52 2260.8,1239.69 2263.04,1240.78 \n",
       "  2265.29,1241.78 2267.53,1242.7 2269.77,1243.54 2272.01,1244.3 2274.26,1244.99 2276.5,1245.6 2278.74,1246.15 2280.99,1246.62 2283.23,1247.03 2285.47,1247.37 \n",
       "  2287.71,1247.65 2289.96,1247.86 2292.2,1248.01 2294.44,1248.11 2296.69,1248.14 2298.93,1248.12 2301.17,1248.04 2303.41,1247.91 2305.66,1247.72 2307.9,1247.47 \n",
       "  2310.14,1247.18 2312.39,1246.83 2314.63,1246.43 2316.87,1245.99 2319.11,1245.49 2321.36,1244.94 2323.6,1244.35 2325.84,1243.71 2328.08,1243.02 2330.33,1242.28 \n",
       "  2332.57,1241.5 2334.81,1240.68 2337.06,1239.8 2339.3,1238.89 2341.54,1237.93 2343.78,1236.92 2346.03,1235.88 2348.27,1234.78 2350.51,1233.65 2352.76,1232.47 \n",
       "  \n",
       "  \"/>\n",
       "<polyline clip-path=\"url(#clip192)\" style=\"stroke:#e26f46; stroke-linecap:butt; stroke-linejoin:round; stroke-width:4; stroke-opacity:1; fill:none\" points=\"\n",
       "  112.177,1239.06 114.42,1242.93 116.663,1246.71 118.906,1250.41 121.148,1254.02 123.391,1257.55 125.634,1261.01 127.877,1264.38 130.12,1267.68 132.363,1270.9 \n",
       "  134.605,1274.05 136.848,1277.12 139.091,1280.13 141.334,1283.07 143.577,1285.94 145.819,1288.74 148.062,1291.48 150.305,1294.15 152.548,1296.77 154.791,1299.32 \n",
       "  157.034,1301.81 159.276,1304.25 161.519,1306.62 163.762,1308.94 166.005,1311.21 168.248,1313.42 170.491,1315.59 172.733,1317.7 174.976,1319.76 177.219,1321.77 \n",
       "  179.462,1323.73 181.705,1325.65 183.947,1327.52 186.19,1329.34 188.433,1331.12 190.676,1332.86 192.919,1334.56 195.162,1336.21 197.404,1337.83 199.647,1339.4 \n",
       "  201.89,1340.94 204.133,1342.44 206.376,1343.9 208.619,1345.33 210.861,1346.72 213.104,1348.07 215.347,1349.39 217.59,1350.68 219.833,1351.93 222.075,1353.16 \n",
       "  224.318,1354.35 226.561,1355.51 228.804,1356.64 231.047,1357.74 233.29,1358.82 235.532,1359.86 237.775,1360.88 240.018,1361.87 242.261,1362.83 244.504,1363.77 \n",
       "  246.746,1364.68 248.989,1365.56 251.232,1366.42 253.475,1367.26 255.718,1368.07 257.961,1368.86 260.203,1369.63 262.446,1370.37 264.689,1371.09 266.932,1371.79 \n",
       "  269.175,1372.47 271.418,1373.12 273.66,1373.76 275.903,1374.37 278.146,1374.97 280.389,1375.54 282.632,1376.09 284.874,1376.63 287.117,1377.14 289.36,1377.64 \n",
       "  291.603,1378.12 293.846,1378.57 296.089,1379.01 298.331,1379.43 300.574,1379.84 302.817,1380.22 305.06,1380.59 307.303,1380.94 309.545,1381.27 311.788,1381.58 \n",
       "  314.031,1381.88 316.274,1382.16 318.517,1382.42 320.76,1382.67 323.002,1382.89 325.245,1383.1 327.488,1383.29 329.731,1383.47 331.974,1383.62 334.217,1383.76 \n",
       "  336.459,1383.88 338.702,1383.99 340.945,1384.07 343.188,1384.14 345.431,1384.19 347.673,1384.22 349.916,1384.24 352.159,1384.23 354.402,1384.21 356.645,1384.17 \n",
       "  358.888,1384.11 361.13,1384.02 363.373,1383.92 365.616,1383.8 367.859,1383.66 370.102,1383.49 372.344,1383.3 374.587,1383.1 376.83,1382.86 379.073,1382.61 \n",
       "  381.316,1382.33 383.559,1382.02 385.801,1381.7 388.044,1381.34 390.287,1380.96 392.53,1380.55 394.773,1380.11 397.016,1379.64 399.258,1379.14 401.501,1378.61 \n",
       "  403.744,1378.04 405.987,1377.44 408.23,1376.81 410.472,1376.14 412.715,1375.43 414.958,1374.68 417.201,1373.9 419.444,1373.08 421.687,1372.21 423.929,1371.3 \n",
       "  426.172,1370.34 428.415,1369.33 430.658,1368.28 432.901,1367.17 435.143,1366.01 437.386,1364.79 439.629,1363.51 441.872,1362.16 444.115,1360.75 446.358,1359.27 \n",
       "  448.6,1357.71 450.843,1356.08 453.086,1354.36 455.329,1352.56 457.572,1350.67 459.815,1348.69 462.057,1346.6 464.3,1344.42 466.543,1342.13 468.786,1339.72 \n",
       "  471.029,1337.2 473.271,1334.56 475.514,1331.78 477.757,1328.89 480,1325.87 482.243,1322.7 484.486,1319.39 486.728,1315.91 488.971,1312.25 491.214,1308.41 \n",
       "  493.457,1304.37 495.7,1300.11 497.942,1295.63 500.185,1290.92 502.428,1285.96 504.671,1280.75 506.914,1275.27 509.157,1269.51 511.399,1263.46 513.642,1257.11 \n",
       "  515.885,1250.46 518.128,1243.48 520.371,1236.18 522.614,1228.53 524.856,1220.54 527.099,1212.19 529.342,1203.47 531.585,1194.37 533.828,1184.89 536.07,1175.01 \n",
       "  538.313,1164.73 540.556,1154.03 542.799,1142.91 545.042,1131.36 547.285,1119.37 549.527,1106.93 551.77,1094.04 554.013,1080.68 556.256,1066.85 558.499,1052.54 \n",
       "  560.741,1037.71 562.984,1022.4 565.227,1006.64 567.47,990.488 569.713,973.98 571.956,957.16 574.198,940.072 576.441,922.763 578.684,905.277 580.927,887.662 \n",
       "  583.17,869.965 585.413,852.235 587.655,834.519 589.898,816.867 592.141,799.331 594.384,781.959 596.627,764.806 598.869,747.921 601.112,731.36 603.355,715.175 \n",
       "  605.598,699.42 607.841,684.152 610.084,669.426 612.326,655.298 614.569,641.827 616.812,629.069 619.055,617.084 621.298,605.911 623.54,595.554 625.783,586.038 \n",
       "  628.026,577.386 630.269,569.614 632.512,562.736 634.755,556.763 636.997,551.7 639.24,547.548 641.483,544.307 643.726,541.968 645.969,540.523 648.212,539.957 \n",
       "  650.454,540.251 652.697,541.384 654.94,543.329 657.183,546.056 659.426,549.531 661.668,553.715 663.911,558.566 666.154,564.038 668.397,570.081 670.64,576.64 \n",
       "  672.883,583.657 675.125,591.07 677.368,598.869 679.611,607.065 681.854,615.626 684.097,624.519 686.339,633.715 688.582,643.184 690.825,652.897 693.068,662.827 \n",
       "  695.311,672.95 697.554,683.239 699.796,693.671 702.039,704.225 704.282,714.877 706.525,725.609 708.768,736.402 711.011,747.237 713.253,758.098 715.496,768.97 \n",
       "  717.739,779.838 719.982,790.689 722.225,801.511 724.467,812.293 726.71,823.025 728.953,833.698 731.196,844.295 733.439,854.808 735.682,865.233 737.924,875.563 \n",
       "  740.167,885.792 742.41,895.917 744.653,905.931 746.896,915.831 749.138,925.612 751.381,935.272 753.624,944.805 755.867,954.21 758.11,963.483 760.353,972.622 \n",
       "  762.595,981.625 764.838,990.49 767.081,999.216 769.324,1007.8 771.567,1016.24 773.81,1024.54 776.052,1032.7 778.295,1040.72 780.538,1048.59 782.781,1056.33 \n",
       "  785.024,1063.92 787.266,1071.38 789.509,1078.69 791.752,1085.88 793.995,1092.93 796.238,1099.84 798.481,1106.63 800.723,1113.28 802.966,1119.8 805.209,1126.19 \n",
       "  807.452,1132.45 809.695,1138.59 811.938,1144.6 814.18,1150.49 816.423,1156.26 818.666,1161.91 820.909,1167.45 823.152,1172.87 825.394,1178.17 827.637,1183.37 \n",
       "  829.88,1188.45 832.123,1193.42 834.366,1198.29 836.609,1203.05 838.851,1207.71 841.094,1212.27 843.337,1216.73 845.58,1221.09 847.823,1225.35 850.065,1229.52 \n",
       "  852.308,1233.6 854.551,1237.58 856.794,1241.48 859.037,1245.3 861.28,1249.02 863.522,1252.67 865.765,1256.23 868.008,1259.71 870.251,1263.11 872.494,1266.43 \n",
       "  874.737,1269.68 876.979,1272.86 879.222,1275.96 881.465,1278.99 883.708,1281.95 885.951,1284.85 888.193,1287.68 890.436,1290.44 892.679,1293.14 894.922,1295.77 \n",
       "  897.165,1298.35 899.408,1300.86 901.65,1303.32 903.893,1305.72 906.136,1308.06 908.379,1310.35 910.622,1312.58 912.864,1314.76 915.107,1316.89 917.35,1318.97 \n",
       "  919.593,1321 921.836,1322.98 924.079,1324.92 926.321,1326.81 928.564,1328.65 930.807,1330.45 933.05,1332.2 935.293,1333.92 937.536,1335.59 939.778,1337.22 \n",
       "  942.021,1338.8 944.264,1340.35 946.507,1341.87 948.75,1343.34 950.992,1344.78 953.235,1346.18 955.478,1347.55 957.721,1348.88 959.964,1350.18 962.207,1351.45 \n",
       "  964.449,1352.68 966.692,1353.88 968.935,1355.05 971.178,1356.19 973.421,1357.31 975.663,1358.39 977.906,1359.44 980.149,1360.47 982.392,1361.47 984.635,1362.44 \n",
       "  986.878,1363.38 989.12,1364.3 991.363,1365.2 993.606,1366.07 995.849,1366.92 998.092,1367.74 1000.33,1368.54 1002.58,1369.31 1004.82,1370.06 1007.06,1370.79 \n",
       "  1009.31,1371.5 1011.55,1372.19 1013.79,1372.85 1016.03,1373.5 1018.28,1374.12 1020.52,1374.72 1022.76,1375.3 1025.01,1375.86 1027.25,1376.41 1029.49,1376.93 \n",
       "  1031.73,1377.43 1033.98,1377.91 1036.22,1378.38 1038.46,1378.82 1040.71,1379.25 1042.95,1379.66 1045.19,1380.05 1047.43,1380.42 1049.68,1380.78 1051.92,1381.12 \n",
       "  1054.16,1381.44 1056.41,1381.74 1058.65,1382.02 1060.89,1382.29 1063.13,1382.54 1065.38,1382.77 1067.62,1382.99 1069.86,1383.19 1072.1,1383.37 1074.35,1383.53 \n",
       "  1076.59,1383.68 1078.83,1383.81 1081.08,1383.92 1083.32,1384.01 1085.56,1384.09 1087.8,1384.14 1090.05,1384.18 1092.29,1384.2 1094.53,1384.21 1096.78,1384.19 \n",
       "  1099.02,1384.15 1101.26,1384.1 1103.5,1384.02 1105.75,1383.92 1107.99,1383.81 1110.23,1383.67 1112.48,1383.51 1114.72,1383.33 1116.96,1383.13 1119.2,1382.9 \n",
       "  1121.45,1382.64 1123.69,1382.35 1125.93,1382.03 1128.18,1381.69 1130.42,1381.33 1132.66,1380.94 1134.9,1380.52 1137.15,1380.07 1139.39,1379.6 1141.63,1379.1 \n",
       "  1143.88,1378.57 1146.12,1378.01 1148.36,1377.42 1150.6,1376.8 1152.85,1376.14 1155.09,1375.46 1157.33,1374.74 1159.57,1373.98 1161.82,1373.18 1164.06,1372.34 \n",
       "  1166.3,1371.46 1168.55,1370.53 1170.79,1369.56 1173.03,1368.54 1175.27,1367.46 1177.52,1366.33 1179.76,1365.14 1182,1363.89 1184.25,1362.58 1186.49,1361.2 \n",
       "  1188.73,1359.75 1190.97,1358.23 1193.22,1356.62 1195.46,1354.94 1197.7,1353.17 1199.95,1351.31 1202.19,1349.36 1204.43,1347.31 1206.67,1345.16 1208.92,1342.9 \n",
       "  1211.16,1340.52 1213.4,1338.04 1215.65,1335.43 1217.89,1332.69 1220.13,1329.82 1222.37,1326.81 1224.62,1323.67 1226.86,1320.39 1229.1,1316.96 1231.35,1313.36 \n",
       "  1233.59,1309.59 1235.83,1305.63 1238.07,1301.47 1240.32,1297.09 1242.56,1292.48 1244.8,1287.64 1247.04,1282.53 1249.29,1277.17 1251.53,1271.52 1253.77,1265.59 \n",
       "  1256.02,1259.36 1258.26,1252.82 1260.5,1245.96 1262.74,1238.77 1264.99,1231.24 1267.23,1223.36 1269.47,1215.12 1271.72,1206.52 1273.96,1197.53 1276.2,1188.16 \n",
       "  1278.44,1178.4 1280.69,1168.23 1282.93,1157.66 1285.17,1146.67 1287.42,1135.25 1289.66,1123.41 1291.9,1111.12 1294.14,1098.4 1296.39,1085.22 1298.63,1071.58 \n",
       "  1300.87,1057.49 1303.12,1042.93 1305.36,1027.86 1307.6,1012.26 1309.84,996.198 1312.09,979.728 1314.33,962.905 1316.57,945.786 1318.82,928.427 1321.06,910.881 \n",
       "  1323.3,893.203 1325.54,875.447 1327.79,857.666 1330.03,839.912 1332.27,822.237 1334.51,804.693 1336.76,787.33 1339,770.199 1341.24,753.349 1343.49,736.83 \n",
       "  1345.73,720.691 1347.97,704.978 1350.21,689.74 1352.46,675.023 1354.7,660.874 1356.94,647.339 1359.19,634.462 1361.43,622.289 1363.67,610.864 1365.91,600.229 \n",
       "  1368.16,590.428 1370.4,581.504 1372.64,573.495 1374.89,566.401 1377.13,560.212 1379.37,554.926 1381.61,550.534 1383.86,547.028 1386.1,544.397 1388.34,542.629 \n",
       "  1390.59,541.708 1392.83,541.618 1395.07,542.339 1397.31,543.85 1399.56,546.129 1401.8,549.149 1404.04,552.884 1406.29,557.304 1408.53,562.378 1410.77,568.072 \n",
       "  1413.01,574.351 1415.26,581.178 1417.5,588.512 1419.74,596.312 1421.98,604.534 1424.23,613.133 1426.47,622.06 1428.71,631.265 1430.96,640.698 1433.2,650.304 \n",
       "  1435.44,660.099 1437.68,670.091 1439.93,680.257 1442.17,690.574 1444.41,701.02 1446.66,711.576 1448.9,722.222 1451.14,732.938 1453.38,743.708 1455.63,754.514 \n",
       "  1457.87,765.34 1460.11,776.171 1462.36,786.993 1464.6,797.792 1466.84,808.557 1469.08,819.274 1471.33,829.934 1473.57,840.527 1475.81,851.043 1478.06,861.475 \n",
       "  1480.3,871.816 1482.54,882.059 1484.78,892.198 1487.03,902.23 1489.27,912.151 1491.51,921.957 1493.76,931.645 1496,941.205 1498.24,950.636 1500.48,959.935 \n",
       "  1502.73,969.101 1504.97,978.132 1507.21,987.029 1509.46,995.788 1511.7,1004.41 1513.94,1012.89 1516.18,1021.24 1518.43,1029.45 1520.67,1037.51 1522.91,1045.44 \n",
       "  1525.15,1053.23 1527.4,1060.88 1529.64,1068.39 1531.88,1075.76 1534.13,1082.99 1536.37,1090.09 1538.61,1097.05 1540.85,1103.87 1543.1,1110.57 1545.34,1117.13 \n",
       "  1547.58,1123.56 1549.83,1129.86 1552.07,1136.04 1554.31,1142.09 1556.55,1148.02 1558.8,1153.83 1561.04,1159.52 1563.28,1165.1 1565.53,1170.56 1567.77,1175.9 \n",
       "  1570.01,1181.13 1572.25,1186.25 1574.5,1191.26 1576.74,1196.17 1578.98,1200.97 1581.23,1205.66 1583.47,1210.26 1585.71,1214.75 1587.95,1219.15 1590.2,1223.45 \n",
       "  1592.44,1227.66 1594.68,1231.77 1596.93,1235.8 1599.17,1239.73 1601.41,1243.58 1603.65,1247.34 1605.9,1251.01 1608.14,1254.6 1610.38,1258.12 1612.62,1261.55 \n",
       "  1614.87,1264.9 1617.11,1268.18 1619.35,1271.39 1621.6,1274.52 1623.84,1277.58 1626.08,1280.57 1628.32,1283.49 1630.57,1286.34 1632.81,1289.13 1635.05,1291.85 \n",
       "  1637.3,1294.51 1639.54,1297.11 1641.78,1299.64 1644.02,1302.12 1646.27,1304.54 1648.51,1306.9 1650.75,1309.21 1653,1311.46 1655.24,1313.67 1657.48,1315.81 \n",
       "  1659.72,1317.91 1661.97,1319.96 1664.21,1321.96 1666.45,1323.91 1668.7,1325.81 1670.94,1327.67 1673.18,1329.49 1675.42,1331.26 1677.67,1332.99 1679.91,1334.68 \n",
       "  1682.15,1336.32 1684.4,1337.93 1686.64,1339.5 1688.88,1341.03 1691.12,1342.52 1693.37,1343.97 1695.61,1345.39 1697.85,1346.77 1700.09,1348.12 1702.34,1349.44 \n",
       "  1704.58,1350.72 1706.82,1351.97 1709.07,1353.19 1711.31,1354.37 1713.55,1355.53 1715.79,1356.65 1718.04,1357.75 1720.28,1358.82 1722.52,1359.85 1724.77,1360.86 \n",
       "  1727.01,1361.85 1729.25,1362.8 1731.49,1363.73 1733.74,1364.64 1735.98,1365.51 1738.22,1366.37 1740.47,1367.2 1742.71,1368 1744.95,1368.79 1747.19,1369.55 \n",
       "  1749.44,1370.28 1751.68,1371 1753.92,1371.69 1756.17,1372.36 1758.41,1373.01 1760.65,1373.64 1762.89,1374.25 1765.14,1374.84 1767.38,1375.4 1769.62,1375.95 \n",
       "  1771.87,1376.48 1774.11,1376.99 1776.35,1377.48 1778.59,1377.95 1780.84,1378.41 1783.08,1378.84 1785.32,1379.26 1787.56,1379.66 1789.81,1380.04 1792.05,1380.4 \n",
       "  1794.29,1380.74 1796.54,1381.07 1798.78,1381.38 1801.02,1381.67 1803.26,1381.94 1805.51,1382.2 1807.75,1382.44 1809.99,1382.66 1812.24,1382.86 1814.48,1383.05 \n",
       "  1816.72,1383.22 1818.96,1383.36 1821.21,1383.5 1823.45,1383.61 1825.69,1383.7 1827.94,1383.78 1830.18,1383.84 1832.42,1383.88 1834.66,1383.91 1836.91,1383.91 \n",
       "  1839.15,1383.9 1841.39,1383.87 1843.64,1383.82 1845.88,1383.74 1848.12,1383.65 1850.36,1383.54 1852.61,1383.41 1854.85,1383.26 1857.09,1383.09 1859.34,1382.89 \n",
       "  1861.58,1382.68 1863.82,1382.44 1866.06,1382.17 1868.31,1381.88 1870.55,1381.57 1872.79,1381.23 1875.03,1380.86 1877.28,1380.47 1879.52,1380.05 1881.76,1379.59 \n",
       "  1884.01,1379.11 1886.25,1378.6 1888.49,1378.06 1890.73,1377.48 1892.98,1376.87 1895.22,1376.22 1897.46,1375.54 1899.71,1374.82 1901.95,1374.05 1904.19,1373.24 \n",
       "  1906.43,1372.37 1908.68,1371.46 1910.92,1370.49 1913.16,1369.48 1915.41,1368.41 1917.65,1367.3 1919.89,1366.13 1922.13,1364.9 1924.38,1363.62 1926.62,1362.28 \n",
       "  1928.86,1360.88 1931.11,1359.41 1933.35,1357.88 1935.59,1356.27 1937.83,1354.59 1940.08,1352.83 1942.32,1350.99 1944.56,1349.06 1946.81,1347.04 1949.05,1344.93 \n",
       "  1951.29,1342.71 1953.53,1340.38 1955.78,1337.94 1958.02,1335.38 1960.26,1332.69 1962.5,1329.87 1964.75,1326.91 1966.99,1323.8 1969.23,1320.54 1971.48,1317.11 \n",
       "  1973.72,1313.51 1975.96,1309.73 1978.2,1305.76 1980.45,1301.59 1982.69,1297.22 1984.93,1292.62 1987.18,1287.8 1989.42,1282.75 1991.66,1277.44 1993.9,1271.88 \n",
       "  1996.15,1266.05 1998.39,1259.94 2000.63,1253.53 2002.88,1246.82 2005.12,1239.79 2007.36,1232.43 2009.6,1224.74 2011.85,1216.68 2014.09,1208.26 2016.33,1199.47 \n",
       "  2018.58,1190.28 2020.82,1180.69 2023.06,1170.68 2025.3,1160.23 2027.55,1149.34 2029.79,1138.01 2032.03,1126.22 2034.28,1113.97 2036.52,1101.27 2038.76,1088.12 \n",
       "  2041,1074.53 2043.25,1060.5 2045.49,1046.04 2047.73,1031.17 2049.97,1015.9 2052.22,1000.26 2054.46,984.252 2056.7,967.912 2058.95,951.262 2061.19,934.331 \n",
       "  2063.43,917.149 2065.67,899.749 2067.92,882.16 2070.16,864.432 2072.4,846.637 2074.65,828.846 2076.89,811.126 2079.13,793.543 2081.37,776.161 2083.62,759.041 \n",
       "  2085.86,742.242 2088.1,725.822 2090.35,709.836 2092.59,694.336 2094.83,679.373 2097.07,664.997 2099.32,651.253 2101.56,638.186 2103.8,625.839 2106.05,614.251 \n",
       "  2108.29,603.46 2110.53,593.503 2112.77,584.413 2115.02,576.222 2117.26,568.958 2119.5,562.632 2121.75,557.225 2123.99,552.725 2126.23,549.12 2128.47,546.394 \n",
       "  2130.72,544.532 2132.96,543.515 2135.2,543.323 2137.45,543.936 2139.69,545.331 2141.93,547.482 2144.17,550.365 2146.42,553.952 2148.66,558.212 2150.9,563.116 \n",
       "  2153.14,568.63 2155.39,574.721 2157.63,581.352 2159.87,588.487 2162.12,596.087 2164.36,604.11 2166.6,612.515 2168.84,621.258 2171.09,630.293 2173.33,639.573 \n",
       "  2175.57,649.078 2177.82,658.814 2180.06,668.755 2182.3,678.877 2184.54,689.157 2186.79,699.572 2189.03,710.1 2191.27,720.723 2193.52,731.419 2195.76,742.171 \n",
       "  2198,752.96 2200.24,763.772 2202.49,774.59 2204.73,785.4 2206.97,796.188 2209.22,806.942 2211.46,817.651 2213.7,828.303 2215.94,838.891 2218.19,849.404 \n",
       "  2220.43,859.836 2222.67,870.179 2224.92,880.43 2227.16,890.582 2229.4,900.627 2231.64,910.557 2233.89,920.37 2236.13,930.062 2238.37,939.63 2240.61,949.072 \n",
       "  2242.86,958.384 2245.1,967.566 2247.34,976.615 2249.59,985.529 2251.83,994.307 2254.07,1002.95 2256.31,1011.45 2258.56,1019.81 2260.8,1028.04 2263.04,1036.12 \n",
       "  2265.29,1044.06 2267.53,1051.86 2269.77,1059.52 2272.01,1067.04 2274.26,1074.43 2276.5,1081.67 2278.74,1088.78 2280.99,1095.76 2283.23,1102.6 2285.47,1109.31 \n",
       "  2287.71,1115.89 2289.96,1122.34 2292.2,1128.66 2294.44,1134.86 2296.69,1140.94 2298.93,1146.89 2301.17,1152.71 2303.41,1158.42 2305.66,1164.02 2307.9,1169.49 \n",
       "  2310.14,1174.85 2312.39,1180.1 2314.63,1185.24 2316.87,1190.27 2319.11,1195.19 2321.36,1200.01 2323.6,1204.72 2325.84,1209.33 2328.08,1213.84 2330.33,1218.26 \n",
       "  2332.57,1222.57 2334.81,1226.79 2337.06,1230.92 2339.3,1234.96 2341.54,1238.9 2343.78,1242.76 2346.03,1246.54 2348.27,1250.22 2350.51,1253.83 2352.76,1257.35 \n",
       "  \n",
       "  \"/>\n",
       "<path clip-path=\"url(#clip190)\" d=\"\n",
       "M1921.43 248.629 L2278.07 248.629 L2278.07 93.1086 L1921.43 93.1086  Z\n",
       "  \" fill=\"#ffffff\" fill-rule=\"evenodd\" fill-opacity=\"1\"/>\n",
       "<polyline clip-path=\"url(#clip190)\" style=\"stroke:#000000; stroke-linecap:butt; stroke-linejoin:round; stroke-width:4; stroke-opacity:1; fill:none\" points=\"\n",
       "  1921.43,248.629 2278.07,248.629 2278.07,93.1086 1921.43,93.1086 1921.43,248.629 \n",
       "  \"/>\n",
       "<polyline clip-path=\"url(#clip190)\" style=\"stroke:#009af9; stroke-linecap:butt; stroke-linejoin:round; stroke-width:4; stroke-opacity:1; fill:none\" points=\"\n",
       "  1946.33,144.949 2095.7,144.949 \n",
       "  \"/>\n",
       "<path clip-path=\"url(#clip190)\" d=\"M2120.59 151.997 L2120.59 136.303 L2124.85 136.303 L2124.85 151.835 Q2124.85 155.516 2126.29 157.368 Q2127.72 159.196 2130.59 159.196 Q2134.04 159.196 2136.03 156.997 Q2138.05 154.798 2138.05 151.002 L2138.05 136.303 L2142.31 136.303 L2142.31 162.229 L2138.05 162.229 L2138.05 158.247 Q2136.5 160.608 2134.44 161.766 Q2132.4 162.9 2129.69 162.9 Q2125.22 162.9 2122.91 160.122 Q2120.59 157.344 2120.59 151.997 M2131.31 135.678 L2131.31 135.678 Z\" fill=\"#000000\" fill-rule=\"evenodd\" fill-opacity=\"1\" /><path clip-path=\"url(#clip190)\" d=\"M2152.49 158.293 L2160.13 158.293 L2160.13 131.928 L2151.82 133.595 L2151.82 129.335 L2160.09 127.669 L2164.76 127.669 L2164.76 158.293 L2172.4 158.293 L2172.4 162.229 L2152.49 162.229 L2152.49 158.293 Z\" fill=\"#000000\" fill-rule=\"evenodd\" fill-opacity=\"1\" /><path clip-path=\"url(#clip190)\" d=\"M2191.47 126.257 Q2188.37 131.581 2186.87 136.789 Q2185.36 141.997 2185.36 147.344 Q2185.36 152.692 2186.87 157.946 Q2188.4 163.178 2191.47 168.479 L2187.77 168.479 Q2184.3 163.039 2182.56 157.784 Q2180.85 152.53 2180.85 147.344 Q2180.85 142.182 2182.56 136.951 Q2184.27 131.72 2187.77 126.257 L2191.47 126.257 Z\" fill=\"#000000\" fill-rule=\"evenodd\" fill-opacity=\"1\" /><path clip-path=\"url(#clip190)\" d=\"M2203.95 128.942 L2203.95 136.303 L2212.72 136.303 L2212.72 139.613 L2203.95 139.613 L2203.95 153.687 Q2203.95 156.858 2204.81 157.761 Q2205.69 158.664 2208.35 158.664 L2212.72 158.664 L2212.72 162.229 L2208.35 162.229 Q2203.42 162.229 2201.54 160.4 Q2199.67 158.548 2199.67 153.687 L2199.67 139.613 L2196.54 139.613 L2196.54 136.303 L2199.67 136.303 L2199.67 128.942 L2203.95 128.942 Z\" fill=\"#000000\" fill-rule=\"evenodd\" fill-opacity=\"1\" /><path clip-path=\"url(#clip190)\" d=\"M2217.65 126.257 L2221.36 126.257 Q2224.83 131.72 2226.54 136.951 Q2228.28 142.182 2228.28 147.344 Q2228.28 152.53 2226.54 157.784 Q2224.83 163.039 2221.36 168.479 L2217.65 168.479 Q2220.73 163.178 2222.24 157.946 Q2223.77 152.692 2223.77 147.344 Q2223.77 141.997 2222.24 136.789 Q2220.73 131.581 2217.65 126.257 Z\" fill=\"#000000\" fill-rule=\"evenodd\" fill-opacity=\"1\" /><polyline clip-path=\"url(#clip190)\" style=\"stroke:#e26f46; stroke-linecap:butt; stroke-linejoin:round; stroke-width:4; stroke-opacity:1; fill:none\" points=\"\n",
       "  1946.33,196.789 2095.7,196.789 \n",
       "  \"/>\n",
       "<path clip-path=\"url(#clip190)\" d=\"M2120.59 203.837 L2120.59 188.143 L2124.85 188.143 L2124.85 203.675 Q2124.85 207.356 2126.29 209.208 Q2127.72 211.036 2130.59 211.036 Q2134.04 211.036 2136.03 208.837 Q2138.05 206.638 2138.05 202.842 L2138.05 188.143 L2142.31 188.143 L2142.31 214.069 L2138.05 214.069 L2138.05 210.087 Q2136.5 212.448 2134.44 213.606 Q2132.4 214.74 2129.69 214.74 Q2125.22 214.74 2122.91 211.962 Q2120.59 209.184 2120.59 203.837 M2131.31 187.518 L2131.31 187.518 Z\" fill=\"#000000\" fill-rule=\"evenodd\" fill-opacity=\"1\" /><path clip-path=\"url(#clip190)\" d=\"M2155.71 210.133 L2172.03 210.133 L2172.03 214.069 L2150.09 214.069 L2150.09 210.133 Q2152.75 207.379 2157.33 202.749 Q2161.94 198.096 2163.12 196.754 Q2165.36 194.231 2166.24 192.495 Q2167.15 190.735 2167.15 189.046 Q2167.15 186.291 2165.2 184.555 Q2163.28 182.819 2160.18 182.819 Q2157.98 182.819 2155.53 183.583 Q2153.09 184.347 2150.32 185.897 L2150.32 181.175 Q2153.14 180.041 2155.59 179.462 Q2158.05 178.884 2160.09 178.884 Q2165.46 178.884 2168.65 181.569 Q2171.84 184.254 2171.84 188.745 Q2171.84 190.874 2171.03 192.796 Q2170.25 194.694 2168.14 197.286 Q2167.56 197.958 2164.46 201.175 Q2161.36 204.37 2155.71 210.133 Z\" fill=\"#000000\" fill-rule=\"evenodd\" fill-opacity=\"1\" /><path clip-path=\"url(#clip190)\" d=\"M2191.47 178.097 Q2188.37 183.421 2186.87 188.629 Q2185.36 193.837 2185.36 199.184 Q2185.36 204.532 2186.87 209.786 Q2188.4 215.018 2191.47 220.319 L2187.77 220.319 Q2184.3 214.879 2182.56 209.624 Q2180.85 204.37 2180.85 199.184 Q2180.85 194.022 2182.56 188.791 Q2184.27 183.56 2187.77 178.097 L2191.47 178.097 Z\" fill=\"#000000\" fill-rule=\"evenodd\" fill-opacity=\"1\" /><path clip-path=\"url(#clip190)\" d=\"M2203.95 180.782 L2203.95 188.143 L2212.72 188.143 L2212.72 191.453 L2203.95 191.453 L2203.95 205.527 Q2203.95 208.698 2204.81 209.601 Q2205.69 210.504 2208.35 210.504 L2212.72 210.504 L2212.72 214.069 L2208.35 214.069 Q2203.42 214.069 2201.54 212.24 Q2199.67 210.388 2199.67 205.527 L2199.67 191.453 L2196.54 191.453 L2196.54 188.143 L2199.67 188.143 L2199.67 180.782 L2203.95 180.782 Z\" fill=\"#000000\" fill-rule=\"evenodd\" fill-opacity=\"1\" /><path clip-path=\"url(#clip190)\" d=\"M2217.65 178.097 L2221.36 178.097 Q2224.83 183.56 2226.54 188.791 Q2228.28 194.022 2228.28 199.184 Q2228.28 204.37 2226.54 209.624 Q2224.83 214.879 2221.36 220.319 L2217.65 220.319 Q2220.73 215.018 2222.24 209.786 Q2223.77 204.532 2223.77 199.184 Q2223.77 193.837 2222.24 188.629 Q2220.73 183.421 2217.65 178.097 Z\" fill=\"#000000\" fill-rule=\"evenodd\" fill-opacity=\"1\" /></svg>\n"
      ]
     },
     "execution_count": 9,
     "metadata": {},
     "output_type": "execute_result"
    },
    {
     "name": "stderr",
     "output_type": "stream",
     "text": [
      "base64 binary data: b3BlbjogTm8gc3VjaCBmaWxlIG9yIGRpcmVjdG9yeQpvcGVuOiBObyBzdWNoIGZpbGUgb3IgZGlyZWN0b3J5CkdLUzogZmlsZSBvcGVuIGVycm9yIChDOlxVc2Vyc1zW3MzsuuNcLmp1bGlhXGFydGlmYWN0c1w4OWMyYmE3Y2M5MTBhNWE2Nzk5ZDI3NzM1NDIyZDQwNDBjYWVmYzhmXGJpblwuLlxGT05UU1xHS1NGT05ULkRBVCkKR0tTOiBmaWxlIG9wZW4gZXJyb3IgKEM6XFVzZXJzXNbczOy641wuanVsaWFcYXJ0aWZhY3RzXDg5YzJiYTdjYzkxMGE1YTY3OTlkMjc3MzU0MjJkNDA0MGNhZWZjOGZcYmluXC4uXEZPTlRTXEdLU0ZPTlQuREFUKQo=\n"
     ]
    }
   ],
   "source": [
    "@time begin\n",
    "    \n",
    "function lotka_volterra!(du, u, p, t)\n",
    "  x, y = u\n",
    "  α, β, δ, γ = p\n",
    "  du[1] = dx = α*x - β*x*y\n",
    "  du[2] = dy = -δ*y + γ*x*y\n",
    "end\n",
    "\n",
    "# Initial condition\n",
    "u0 = [1.0, 1.0]\n",
    "\n",
    "# Simulation interval and intermediary points\n",
    "tspan = (0.0, 10.0)\n",
    "tsteps = 0.0:0.1:10.0\n",
    "\n",
    "# LV equation parameter. p = [α, β, δ, γ]\n",
    "p = [1.5, 1.0, 3.0, 1.0]\n",
    "\n",
    "# Setup the ODE problem, then solve\n",
    "prob_ode = ODEProblem(lotka_volterra!, u0, tspan, p)\n",
    "sol_ode = solve(prob_ode, Tsit5())\n",
    "plot(sol_ode)\n",
    "    \n",
    "end"
   ]
  },
  {
   "cell_type": "code",
   "execution_count": 10,
   "id": "42213ffd",
   "metadata": {},
   "outputs": [],
   "source": [
    "using Interact"
   ]
  },
  {
   "cell_type": "code",
   "execution_count": 11,
   "id": "6f8ca536",
   "metadata": {},
   "outputs": [
    {
     "data": {
      "application/vnd.webio.node+json": {
       "children": [
        {
         "children": [
          {
           "children": [
            {
             "children": [
              {
               "children": [
                {
                 "children": [
                  "k"
                 ],
                 "instanceArgs": {
                  "namespace": "html",
                  "tag": "label"
                 },
                 "nodeType": "DOM",
                 "props": {
                  "className": "interact ",
                  "style": {
                   "padding": "5px 10px 0px 10px"
                  }
                 },
                 "type": "node"
                }
               ],
               "instanceArgs": {
                "namespace": "html",
                "tag": "div"
               },
               "nodeType": "DOM",
               "props": {
                "className": "interact-flex-row-left"
               },
               "type": "node"
              },
              {
               "children": [
                {
                 "children": [],
                 "instanceArgs": {
                  "namespace": "html",
                  "tag": "input"
                 },
                 "nodeType": "DOM",
                 "props": {
                  "attributes": {
                   "data-bind": "numericValue: index, valueUpdate: 'input', event: {change: function (){this.changes(this.changes()+1)}}",
                   "orient": "horizontal",
                   "type": "range"
                  },
                  "className": "slider slider is-fullwidth",
                  "max": 41,
                  "min": 1,
                  "step": 1,
                  "style": {}
                 },
                 "type": "node"
                }
               ],
               "instanceArgs": {
                "namespace": "html",
                "tag": "div"
               },
               "nodeType": "DOM",
               "props": {
                "className": "interact-flex-row-center"
               },
               "type": "node"
              },
              {
               "children": [
                {
                 "children": [],
                 "instanceArgs": {
                  "namespace": "html",
                  "tag": "p"
                 },
                 "nodeType": "DOM",
                 "props": {
                  "attributes": {
                   "data-bind": "text: formatted_val"
                  }
                 },
                 "type": "node"
                }
               ],
               "instanceArgs": {
                "namespace": "html",
                "tag": "div"
               },
               "nodeType": "DOM",
               "props": {
                "className": "interact-flex-row-right"
               },
               "type": "node"
              }
             ],
             "instanceArgs": {
              "namespace": "html",
              "tag": "div"
             },
             "nodeType": "DOM",
             "props": {
              "className": "interact-flex-row interact-widget"
             },
             "type": "node"
            }
           ],
           "instanceArgs": {
            "handlers": {
             "changes": [
              "(function (val){return (val!=this.model[\"changes\"]()) ? (this.valueFromJulia[\"changes\"]=true, this.model[\"changes\"](val)) : undefined})"
             ],
             "index": [
              "(function (val){return (val!=this.model[\"index\"]()) ? (this.valueFromJulia[\"index\"]=true, this.model[\"index\"](val)) : undefined})"
             ]
            },
            "id": "9900175208785853392",
            "imports": {
             "data": [
              {
               "name": "knockout",
               "type": "js",
               "url": "/assetserver/cac7d612f4f46bcf6ac9ae563cba0affdcffff6e-knockout.js"
              },
              {
               "name": "knockout_punches",
               "type": "js",
               "url": "/assetserver/c56cedf4624e6506768a585b0f1cd0fef8b62ebb-knockout_punches.js"
              },
              {
               "name": null,
               "type": "js",
               "url": "/assetserver/2e2885b3b52200afef6f8a6430c9e4352785b2c9-all.js"
              },
              {
               "name": null,
               "type": "css",
               "url": "/assetserver/96e99e89e1a65b61a3cdaaec5b7bf2a05e349157-style.css"
              },
              {
               "name": null,
               "type": "css",
               "url": "/assetserver/6329d8deba54937f9d955dd4bbf48dd22d3c62a6-bulma_confined.min.css"
              }
             ],
             "type": "async_block"
            },
            "mount_callbacks": [
             "function () {\n    var handler = (function (ko, koPunches) {\n    ko.punches.enableAll();\n    ko.bindingHandlers.numericValue = {\n        init: function(element, valueAccessor, allBindings, data, context) {\n            var stringified = ko.observable(ko.unwrap(valueAccessor()));\n            stringified.subscribe(function(value) {\n                var val = parseFloat(value);\n                if (!isNaN(val)) {\n                    valueAccessor()(val);\n                }\n            });\n            valueAccessor().subscribe(function(value) {\n                var str = JSON.stringify(value);\n                if ((str == \"0\") && ([\"-0\", \"-0.\"].indexOf(stringified()) >= 0))\n                     return;\n                 if ([\"null\", \"\"].indexOf(str) >= 0)\n                     return;\n                stringified(str);\n            });\n            ko.applyBindingsToNode(\n                element,\n                {\n                    value: stringified,\n                    valueUpdate: allBindings.get('valueUpdate'),\n                },\n                context,\n            );\n        }\n    };\n    var json_data = {\"formatted_vals\":[\"-3.0\",\"-2.9\",\"-2.8\",\"-2.7\",\"-2.6\",\"-2.5\",\"-2.4\",\"-2.3\",\"-2.2\",\"-2.1\",\"-2.0\",\"-1.9\",\"-1.8\",\"-1.7\",\"-1.6\",\"-1.5\",\"-1.4\",\"-1.3\",\"-1.2\",\"-1.1\",\"-1.0\",\"-0.9\",\"-0.8\",\"-0.7\",\"-0.6\",\"-0.5\",\"-0.4\",\"-0.3\",\"-0.2\",\"-0.1\",\"0.0\",\"0.1\",\"0.2\",\"0.3\",\"0.4\",\"0.5\",\"0.6\",\"0.7\",\"0.8\",\"0.9\",\"1.0\"],\"changes\":WebIO.getval({\"name\":\"changes\",\"scope\":\"9900175208785853392\",\"id\":\"17405343991993248308\",\"type\":\"observable\"}),\"index\":WebIO.getval({\"name\":\"index\",\"scope\":\"9900175208785853392\",\"id\":\"2419543283822774073\",\"type\":\"observable\"})};\n    var self = this;\n    function AppViewModel() {\n        for (var key in json_data) {\n            var el = json_data[key];\n            this[key] = Array.isArray(el) ? ko.observableArray(el) : ko.observable(el);\n        }\n        \n        [this[\"formatted_val\"]=ko.computed(    function(){\n        return this.formatted_vals()[parseInt(this.index())-(1)];\n    }\n,this)]\n        [this[\"changes\"].subscribe((function (val){!(this.valueFromJulia[\"changes\"]) ? (WebIO.setval({\"name\":\"changes\",\"scope\":\"9900175208785853392\",\"id\":\"17405343991993248308\",\"type\":\"observable\"},val)) : undefined; return this.valueFromJulia[\"changes\"]=false}),self),this[\"index\"].subscribe((function (val){!(this.valueFromJulia[\"index\"]) ? (WebIO.setval({\"name\":\"index\",\"scope\":\"9900175208785853392\",\"id\":\"2419543283822774073\",\"type\":\"observable\"},val)) : undefined; return this.valueFromJulia[\"index\"]=false}),self)]\n        \n    }\n    self.model = new AppViewModel();\n    self.valueFromJulia = {};\n    for (var key in json_data) {\n        self.valueFromJulia[key] = false;\n    }\n    ko.applyBindings(self.model, self.dom);\n}\n);\n    (WebIO.importBlock({\"data\":[{\"name\":\"knockout\",\"type\":\"js\",\"url\":\"/assetserver/cac7d612f4f46bcf6ac9ae563cba0affdcffff6e-knockout.js\"},{\"name\":\"knockout_punches\",\"type\":\"js\",\"url\":\"/assetserver/c56cedf4624e6506768a585b0f1cd0fef8b62ebb-knockout_punches.js\"}],\"type\":\"async_block\"})).then((imports) => handler.apply(this, imports));\n}\n"
            ],
            "observables": {
             "changes": {
              "id": "17405343991993248308",
              "sync": false,
              "value": 0
             },
             "index": {
              "id": "2419543283822774073",
              "sync": true,
              "value": 21
             }
            },
            "systemjs_options": null
           },
           "nodeType": "Scope",
           "props": {},
           "type": "node"
          }
         ],
         "instanceArgs": {
          "namespace": "html",
          "tag": "div"
         },
         "nodeType": "DOM",
         "props": {
          "className": "field interact-widget"
         },
         "type": "node"
        },
        {
         "children": [
          {
           "children": [
            {
             "children": [
              {
               "children": [
                {
                 "children": [
                  "x0"
                 ],
                 "instanceArgs": {
                  "namespace": "html",
                  "tag": "label"
                 },
                 "nodeType": "DOM",
                 "props": {
                  "className": "interact ",
                  "style": {
                   "padding": "5px 10px 0px 10px"
                  }
                 },
                 "type": "node"
                }
               ],
               "instanceArgs": {
                "namespace": "html",
                "tag": "div"
               },
               "nodeType": "DOM",
               "props": {
                "className": "interact-flex-row-left"
               },
               "type": "node"
              },
              {
               "children": [
                {
                 "children": [],
                 "instanceArgs": {
                  "namespace": "html",
                  "tag": "input"
                 },
                 "nodeType": "DOM",
                 "props": {
                  "attributes": {
                   "data-bind": "numericValue: index, valueUpdate: 'input', event: {change: function (){this.changes(this.changes()+1)}}",
                   "orient": "horizontal",
                   "type": "range"
                  },
                  "className": "slider slider is-fullwidth",
                  "max": 61,
                  "min": 1,
                  "step": 1,
                  "style": {}
                 },
                 "type": "node"
                }
               ],
               "instanceArgs": {
                "namespace": "html",
                "tag": "div"
               },
               "nodeType": "DOM",
               "props": {
                "className": "interact-flex-row-center"
               },
               "type": "node"
              },
              {
               "children": [
                {
                 "children": [],
                 "instanceArgs": {
                  "namespace": "html",
                  "tag": "p"
                 },
                 "nodeType": "DOM",
                 "props": {
                  "attributes": {
                   "data-bind": "text: formatted_val"
                  }
                 },
                 "type": "node"
                }
               ],
               "instanceArgs": {
                "namespace": "html",
                "tag": "div"
               },
               "nodeType": "DOM",
               "props": {
                "className": "interact-flex-row-right"
               },
               "type": "node"
              }
             ],
             "instanceArgs": {
              "namespace": "html",
              "tag": "div"
             },
             "nodeType": "DOM",
             "props": {
              "className": "interact-flex-row interact-widget"
             },
             "type": "node"
            }
           ],
           "instanceArgs": {
            "handlers": {
             "changes": [
              "(function (val){return (val!=this.model[\"changes\"]()) ? (this.valueFromJulia[\"changes\"]=true, this.model[\"changes\"](val)) : undefined})"
             ],
             "index": [
              "(function (val){return (val!=this.model[\"index\"]()) ? (this.valueFromJulia[\"index\"]=true, this.model[\"index\"](val)) : undefined})"
             ]
            },
            "id": "14510243297997023771",
            "imports": {
             "data": [
              {
               "name": "knockout",
               "type": "js",
               "url": "/assetserver/cac7d612f4f46bcf6ac9ae563cba0affdcffff6e-knockout.js"
              },
              {
               "name": "knockout_punches",
               "type": "js",
               "url": "/assetserver/c56cedf4624e6506768a585b0f1cd0fef8b62ebb-knockout_punches.js"
              },
              {
               "name": null,
               "type": "js",
               "url": "/assetserver/2e2885b3b52200afef6f8a6430c9e4352785b2c9-all.js"
              },
              {
               "name": null,
               "type": "css",
               "url": "/assetserver/96e99e89e1a65b61a3cdaaec5b7bf2a05e349157-style.css"
              },
              {
               "name": null,
               "type": "css",
               "url": "/assetserver/6329d8deba54937f9d955dd4bbf48dd22d3c62a6-bulma_confined.min.css"
              }
             ],
             "type": "async_block"
            },
            "mount_callbacks": [
             "function () {\n    var handler = (function (ko, koPunches) {\n    ko.punches.enableAll();\n    ko.bindingHandlers.numericValue = {\n        init: function(element, valueAccessor, allBindings, data, context) {\n            var stringified = ko.observable(ko.unwrap(valueAccessor()));\n            stringified.subscribe(function(value) {\n                var val = parseFloat(value);\n                if (!isNaN(val)) {\n                    valueAccessor()(val);\n                }\n            });\n            valueAccessor().subscribe(function(value) {\n                var str = JSON.stringify(value);\n                if ((str == \"0\") && ([\"-0\", \"-0.\"].indexOf(stringified()) >= 0))\n                     return;\n                 if ([\"null\", \"\"].indexOf(str) >= 0)\n                     return;\n                stringified(str);\n            });\n            ko.applyBindingsToNode(\n                element,\n                {\n                    value: stringified,\n                    valueUpdate: allBindings.get('valueUpdate'),\n                },\n                context,\n            );\n        }\n    };\n    var json_data = {\"formatted_vals\":[\"-3.0\",\"-2.9\",\"-2.8\",\"-2.7\",\"-2.6\",\"-2.5\",\"-2.4\",\"-2.3\",\"-2.2\",\"-2.1\",\"-2.0\",\"-1.9\",\"-1.8\",\"-1.7\",\"-1.6\",\"-1.5\",\"-1.4\",\"-1.3\",\"-1.2\",\"-1.1\",\"-1.0\",\"-0.9\",\"-0.8\",\"-0.7\",\"-0.6\",\"-0.5\",\"-0.4\",\"-0.3\",\"-0.2\",\"-0.1\",\"0.0\",\"0.1\",\"0.2\",\"0.3\",\"0.4\",\"0.5\",\"0.6\",\"0.7\",\"0.8\",\"0.9\",\"1.0\",\"1.1\",\"1.2\",\"1.3\",\"1.4\",\"1.5\",\"1.6\",\"1.7\",\"1.8\",\"1.9\",\"2.0\",\"2.1\",\"2.2\",\"2.3\",\"2.4\",\"2.5\",\"2.6\",\"2.7\",\"2.8\",\"2.9\",\"3.0\"],\"changes\":WebIO.getval({\"name\":\"changes\",\"scope\":\"14510243297997023771\",\"id\":\"9021767755229684658\",\"type\":\"observable\"}),\"index\":WebIO.getval({\"name\":\"index\",\"scope\":\"14510243297997023771\",\"id\":\"8278339663616774308\",\"type\":\"observable\"})};\n    var self = this;\n    function AppViewModel() {\n        for (var key in json_data) {\n            var el = json_data[key];\n            this[key] = Array.isArray(el) ? ko.observableArray(el) : ko.observable(el);\n        }\n        \n        [this[\"formatted_val\"]=ko.computed(    function(){\n        return this.formatted_vals()[parseInt(this.index())-(1)];\n    }\n,this)]\n        [this[\"changes\"].subscribe((function (val){!(this.valueFromJulia[\"changes\"]) ? (WebIO.setval({\"name\":\"changes\",\"scope\":\"14510243297997023771\",\"id\":\"9021767755229684658\",\"type\":\"observable\"},val)) : undefined; return this.valueFromJulia[\"changes\"]=false}),self),this[\"index\"].subscribe((function (val){!(this.valueFromJulia[\"index\"]) ? (WebIO.setval({\"name\":\"index\",\"scope\":\"14510243297997023771\",\"id\":\"8278339663616774308\",\"type\":\"observable\"},val)) : undefined; return this.valueFromJulia[\"index\"]=false}),self)]\n        \n    }\n    self.model = new AppViewModel();\n    self.valueFromJulia = {};\n    for (var key in json_data) {\n        self.valueFromJulia[key] = false;\n    }\n    ko.applyBindings(self.model, self.dom);\n}\n);\n    (WebIO.importBlock({\"data\":[{\"name\":\"knockout\",\"type\":\"js\",\"url\":\"/assetserver/cac7d612f4f46bcf6ac9ae563cba0affdcffff6e-knockout.js\"},{\"name\":\"knockout_punches\",\"type\":\"js\",\"url\":\"/assetserver/c56cedf4624e6506768a585b0f1cd0fef8b62ebb-knockout_punches.js\"}],\"type\":\"async_block\"})).then((imports) => handler.apply(this, imports));\n}\n"
            ],
            "observables": {
             "changes": {
              "id": "9021767755229684658",
              "sync": false,
              "value": 0
             },
             "index": {
              "id": "8278339663616774308",
              "sync": true,
              "value": 31
             }
            },
            "systemjs_options": null
           },
           "nodeType": "Scope",
           "props": {},
           "type": "node"
          }
         ],
         "instanceArgs": {
          "namespace": "html",
          "tag": "div"
         },
         "nodeType": "DOM",
         "props": {
          "className": "field interact-widget"
         },
         "type": "node"
        },
        {
         "children": [
          {
           "children": [],
           "instanceArgs": {
            "id": "11352286283030881746",
            "name": "obs-node"
           },
           "nodeType": "ObservableNode",
           "props": {},
           "type": "node"
          }
         ],
         "instanceArgs": {
          "handlers": {},
          "id": "15749352533107452934",
          "imports": {
           "data": [],
           "type": "async_block"
          },
          "mount_callbacks": [],
          "observables": {
           "obs-node": {
            "id": "11352286283030881746",
            "sync": false,
            "value": {
             "children": [
              {
               "children": [],
               "instanceArgs": {
                "namespace": "html",
                "tag": "div"
               },
               "nodeType": "DOM",
               "props": {
                "setInnerHtml": "<?xml version=\"1.0\" encoding=\"utf-8\"?>\n<svg xmlns=\"http://www.w3.org/2000/svg\" xmlns:xlink=\"http://www.w3.org/1999/xlink\" width=\"600\" height=\"400\" viewBox=\"0 0 2400 1600\">\n<defs>\n  <clipPath id=\"clip270\">\n    <rect x=\"0\" y=\"0\" width=\"2400\" height=\"1600\"/>\n  </clipPath>\n</defs>\n<path clip-path=\"url(#clip270)\" d=\"\nM0 1600 L2400 1600 L2400 0 L0 0  Z\n  \" fill=\"#ffffff\" fill-rule=\"evenodd\" fill-opacity=\"1\"/>\n<defs>\n  <clipPath id=\"clip271\">\n    <rect x=\"480\" y=\"0\" width=\"1681\" height=\"1600\"/>\n  </clipPath>\n</defs>\n<path clip-path=\"url(#clip270)\" d=\"\nM212.459 1423.18 L2352.76 1423.18 L2352.76 123.472 L212.459 123.472  Z\n  \" fill=\"#ffffff\" fill-rule=\"evenodd\" fill-opacity=\"1\"/>\n<defs>\n  <clipPath id=\"clip272\">\n    <rect x=\"212\" y=\"123\" width=\"2141\" height=\"1301\"/>\n  </clipPath>\n</defs>\n<polyline clip-path=\"url(#clip272)\" style=\"stroke:#000000; stroke-linecap:butt; stroke-linejoin:round; stroke-width:2; stroke-opacity:0.1; fill:none\" points=\"\n  212.459,1423.18 212.459,123.472 \n  \"/>\n<polyline clip-path=\"url(#clip272)\" style=\"stroke:#000000; stroke-linecap:butt; stroke-linejoin:round; stroke-width:2; stroke-opacity:0.1; fill:none\" points=\"\n  925.891,1423.18 925.891,123.472 \n  \"/>\n<polyline clip-path=\"url(#clip272)\" style=\"stroke:#000000; stroke-linecap:butt; stroke-linejoin:round; stroke-width:2; stroke-opacity:0.1; fill:none\" points=\"\n  1639.32,1423.18 1639.32,123.472 \n  \"/>\n<polyline clip-path=\"url(#clip272)\" style=\"stroke:#000000; stroke-linecap:butt; stroke-linejoin:round; stroke-width:2; stroke-opacity:0.1; fill:none\" points=\"\n  2352.76,1423.18 2352.76,123.472 \n  \"/>\n<polyline clip-path=\"url(#clip270)\" style=\"stroke:#000000; stroke-linecap:butt; stroke-linejoin:round; stroke-width:4; stroke-opacity:1; fill:none\" points=\"\n  212.459,1423.18 2352.76,1423.18 \n  \"/>\n<polyline clip-path=\"url(#clip270)\" style=\"stroke:#000000; stroke-linecap:butt; stroke-linejoin:round; stroke-width:4; stroke-opacity:1; fill:none\" points=\"\n  212.459,1423.18 212.459,1404.28 \n  \"/>\n<polyline clip-path=\"url(#clip270)\" style=\"stroke:#000000; stroke-linecap:butt; stroke-linejoin:round; stroke-width:4; stroke-opacity:1; fill:none\" points=\"\n  925.891,1423.18 925.891,1404.28 \n  \"/>\n<polyline clip-path=\"url(#clip270)\" style=\"stroke:#000000; stroke-linecap:butt; stroke-linejoin:round; stroke-width:4; stroke-opacity:1; fill:none\" points=\"\n  1639.32,1423.18 1639.32,1404.28 \n  \"/>\n<polyline clip-path=\"url(#clip270)\" style=\"stroke:#000000; stroke-linecap:butt; stroke-linejoin:round; stroke-width:4; stroke-opacity:1; fill:none\" points=\"\n  2352.76,1423.18 2352.76,1404.28 \n  \"/>\n<path clip-path=\"url(#clip270)\" d=\"M212.459 1454.1 Q208.848 1454.1 207.019 1457.66 Q205.214 1461.2 205.214 1468.33 Q205.214 1475.44 207.019 1479.01 Q208.848 1482.55 212.459 1482.55 Q216.093 1482.55 217.899 1479.01 Q219.727 1475.44 219.727 1468.33 Q219.727 1461.2 217.899 1457.66 Q216.093 1454.1 212.459 1454.1 M212.459 1450.39 Q218.269 1450.39 221.325 1455 Q224.403 1459.58 224.403 1468.33 Q224.403 1477.06 221.325 1481.67 Q218.269 1486.25 212.459 1486.25 Q206.649 1486.25 203.57 1481.67 Q200.515 1477.06 200.515 1468.33 Q200.515 1459.58 203.57 1455 Q206.649 1450.39 212.459 1450.39 Z\" fill=\"#000000\" fill-rule=\"evenodd\" fill-opacity=\"1\" /><path clip-path=\"url(#clip270)\" d=\"M916.273 1481.64 L923.912 1481.64 L923.912 1455.28 L915.602 1456.95 L915.602 1452.69 L923.866 1451.02 L928.542 1451.02 L928.542 1481.64 L936.181 1481.64 L936.181 1485.58 L916.273 1485.58 L916.273 1481.64 Z\" fill=\"#000000\" fill-rule=\"evenodd\" fill-opacity=\"1\" /><path clip-path=\"url(#clip270)\" d=\"M1633.98 1481.64 L1650.3 1481.64 L1650.3 1485.58 L1628.35 1485.58 L1628.35 1481.64 Q1631.01 1478.89 1635.6 1474.26 Q1640.2 1469.61 1641.38 1468.27 Q1643.63 1465.74 1644.51 1464.01 Q1645.41 1462.25 1645.41 1460.56 Q1645.41 1457.8 1643.47 1456.07 Q1641.55 1454.33 1638.44 1454.33 Q1636.24 1454.33 1633.79 1455.09 Q1631.36 1455.86 1628.58 1457.41 L1628.58 1452.69 Q1631.41 1451.55 1633.86 1450.97 Q1636.31 1450.39 1638.35 1450.39 Q1643.72 1450.39 1646.92 1453.08 Q1650.11 1455.77 1650.11 1460.26 Q1650.11 1462.39 1649.3 1464.31 Q1648.51 1466.2 1646.41 1468.8 Q1645.83 1469.47 1642.73 1472.69 Q1639.62 1475.88 1633.98 1481.64 Z\" fill=\"#000000\" fill-rule=\"evenodd\" fill-opacity=\"1\" /><path clip-path=\"url(#clip270)\" d=\"M2357 1466.95 Q2360.36 1467.66 2362.24 1469.93 Q2364.13 1472.2 2364.13 1475.53 Q2364.13 1480.65 2360.61 1483.45 Q2357.1 1486.25 2350.61 1486.25 Q2348.44 1486.25 2346.12 1485.81 Q2343.83 1485.39 2341.38 1484.54 L2341.38 1480.02 Q2343.32 1481.16 2345.64 1481.74 Q2347.95 1482.32 2350.48 1482.32 Q2354.87 1482.32 2357.17 1480.58 Q2359.48 1478.84 2359.48 1475.53 Q2359.48 1472.48 2357.33 1470.77 Q2355.2 1469.03 2351.38 1469.03 L2347.35 1469.03 L2347.35 1465.19 L2351.56 1465.19 Q2355.01 1465.19 2356.84 1463.82 Q2358.67 1462.43 2358.67 1459.84 Q2358.67 1457.18 2356.77 1455.77 Q2354.9 1454.33 2351.38 1454.33 Q2349.46 1454.33 2347.26 1454.75 Q2345.06 1455.16 2342.42 1456.04 L2342.42 1451.88 Q2345.08 1451.14 2347.4 1450.77 Q2349.74 1450.39 2351.8 1450.39 Q2357.12 1450.39 2360.22 1452.83 Q2363.32 1455.23 2363.32 1459.35 Q2363.32 1462.22 2361.68 1464.21 Q2360.04 1466.18 2357 1466.95 Z\" fill=\"#000000\" fill-rule=\"evenodd\" fill-opacity=\"1\" /><path clip-path=\"url(#clip270)\" d=\"M1167.34 1520.52 L1207.54 1520.52 L1207.54 1525.93 L1190.67 1525.93 L1190.67 1568.04 L1184.21 1568.04 L1184.21 1525.93 L1167.34 1525.93 L1167.34 1520.52 Z\" fill=\"#000000\" fill-rule=\"evenodd\" fill-opacity=\"1\" /><path clip-path=\"url(#clip270)\" d=\"M1211.49 1532.4 L1217.34 1532.4 L1217.34 1568.04 L1211.49 1568.04 L1211.49 1532.4 M1211.49 1518.52 L1217.34 1518.52 L1217.34 1525.93 L1211.49 1525.93 L1211.49 1518.52 Z\" fill=\"#000000\" fill-rule=\"evenodd\" fill-opacity=\"1\" /><path clip-path=\"url(#clip270)\" d=\"M1257.35 1539.24 Q1259.55 1535.29 1262.6 1533.41 Q1265.66 1531.54 1269.8 1531.54 Q1275.37 1531.54 1278.39 1535.45 Q1281.41 1539.33 1281.41 1546.53 L1281.41 1568.04 L1275.53 1568.04 L1275.53 1546.72 Q1275.53 1541.59 1273.71 1539.11 Q1271.9 1536.63 1268.17 1536.63 Q1263.62 1536.63 1260.98 1539.65 Q1258.34 1542.68 1258.34 1547.9 L1258.34 1568.04 L1252.45 1568.04 L1252.45 1546.72 Q1252.45 1541.56 1250.64 1539.11 Q1248.82 1536.63 1245.03 1536.63 Q1240.55 1536.63 1237.9 1539.68 Q1235.26 1542.71 1235.26 1547.9 L1235.26 1568.04 L1229.37 1568.04 L1229.37 1532.4 L1235.26 1532.4 L1235.26 1537.93 Q1237.27 1534.66 1240.07 1533.1 Q1242.87 1531.54 1246.72 1531.54 Q1250.6 1531.54 1253.31 1533.51 Q1256.05 1535.48 1257.35 1539.24 Z\" fill=\"#000000\" fill-rule=\"evenodd\" fill-opacity=\"1\" /><path clip-path=\"url(#clip270)\" d=\"M1323.59 1548.76 L1323.59 1551.62 L1296.66 1551.62 Q1297.04 1557.67 1300.29 1560.85 Q1303.57 1564 1309.39 1564 Q1312.76 1564 1315.92 1563.17 Q1319.1 1562.35 1322.22 1560.69 L1322.22 1566.23 Q1319.07 1567.57 1315.76 1568.27 Q1312.45 1568.97 1309.04 1568.97 Q1300.51 1568.97 1295.51 1564 Q1290.55 1559.04 1290.55 1550.57 Q1290.55 1541.82 1295.26 1536.69 Q1300 1531.54 1308.02 1531.54 Q1315.22 1531.54 1319.39 1536.18 Q1323.59 1540.8 1323.59 1548.76 M1317.73 1547.04 Q1317.67 1542.23 1315.02 1539.37 Q1312.41 1536.5 1308.09 1536.5 Q1303.18 1536.5 1300.22 1539.27 Q1297.3 1542.04 1296.85 1547.07 L1317.73 1547.04 Z\" fill=\"#000000\" fill-rule=\"evenodd\" fill-opacity=\"1\" /><path clip-path=\"url(#clip270)\" d=\"M1347.27 1518.58 Q1343 1525.9 1340.93 1533.06 Q1338.86 1540.23 1338.86 1547.58 Q1338.86 1554.93 1340.93 1562.16 Q1343.03 1569.35 1347.27 1576.64 L1342.17 1576.64 Q1337.4 1569.16 1335.01 1561.93 Q1332.66 1554.71 1332.66 1547.58 Q1332.66 1540.48 1335.01 1533.29 Q1337.37 1526.09 1342.17 1518.58 L1347.27 1518.58 Z\" fill=\"#000000\" fill-rule=\"evenodd\" fill-opacity=\"1\" /><path clip-path=\"url(#clip270)\" d=\"M1364.42 1522.27 L1364.42 1532.4 L1376.49 1532.4 L1376.49 1536.95 L1364.42 1536.95 L1364.42 1556.3 Q1364.42 1560.66 1365.6 1561.9 Q1366.81 1563.14 1370.47 1563.14 L1376.49 1563.14 L1376.49 1568.04 L1370.47 1568.04 Q1363.69 1568.04 1361.11 1565.53 Q1358.53 1562.98 1358.53 1556.3 L1358.53 1536.95 L1354.24 1536.95 L1354.24 1532.4 L1358.53 1532.4 L1358.53 1522.27 L1364.42 1522.27 Z\" fill=\"#000000\" fill-rule=\"evenodd\" fill-opacity=\"1\" /><path clip-path=\"url(#clip270)\" d=\"M1383.27 1518.58 L1388.36 1518.58 Q1393.13 1526.09 1395.49 1533.29 Q1397.87 1540.48 1397.87 1547.58 Q1397.87 1554.71 1395.49 1561.93 Q1393.13 1569.16 1388.36 1576.64 L1383.27 1576.64 Q1387.5 1569.35 1389.57 1562.16 Q1391.67 1554.93 1391.67 1547.58 Q1391.67 1540.23 1389.57 1533.06 Q1387.5 1525.9 1383.27 1518.58 Z\" fill=\"#000000\" fill-rule=\"evenodd\" fill-opacity=\"1\" /><polyline clip-path=\"url(#clip272)\" style=\"stroke:#000000; stroke-linecap:butt; stroke-linejoin:round; stroke-width:2; stroke-opacity:0.1; fill:none\" points=\"\n  212.459,1423.18 2352.76,1423.18 \n  \"/>\n<polyline clip-path=\"url(#clip272)\" style=\"stroke:#000000; stroke-linecap:butt; stroke-linejoin:round; stroke-width:2; stroke-opacity:0.1; fill:none\" points=\"\n  212.459,1134.36 2352.76,1134.36 \n  \"/>\n<polyline clip-path=\"url(#clip272)\" style=\"stroke:#000000; stroke-linecap:butt; stroke-linejoin:round; stroke-width:2; stroke-opacity:0.1; fill:none\" points=\"\n  212.459,845.532 2352.76,845.532 \n  \"/>\n<polyline clip-path=\"url(#clip272)\" style=\"stroke:#000000; stroke-linecap:butt; stroke-linejoin:round; stroke-width:2; stroke-opacity:0.1; fill:none\" points=\"\n  212.459,556.708 2352.76,556.708 \n  \"/>\n<polyline clip-path=\"url(#clip272)\" style=\"stroke:#000000; stroke-linecap:butt; stroke-linejoin:round; stroke-width:2; stroke-opacity:0.1; fill:none\" points=\"\n  212.459,267.884 2352.76,267.884 \n  \"/>\n<polyline clip-path=\"url(#clip270)\" style=\"stroke:#000000; stroke-linecap:butt; stroke-linejoin:round; stroke-width:4; stroke-opacity:1; fill:none\" points=\"\n  212.459,1423.18 212.459,123.472 \n  \"/>\n<polyline clip-path=\"url(#clip270)\" style=\"stroke:#000000; stroke-linecap:butt; stroke-linejoin:round; stroke-width:4; stroke-opacity:1; fill:none\" points=\"\n  212.459,1423.18 231.357,1423.18 \n  \"/>\n<polyline clip-path=\"url(#clip270)\" style=\"stroke:#000000; stroke-linecap:butt; stroke-linejoin:round; stroke-width:4; stroke-opacity:1; fill:none\" points=\"\n  212.459,1134.36 231.357,1134.36 \n  \"/>\n<polyline clip-path=\"url(#clip270)\" style=\"stroke:#000000; stroke-linecap:butt; stroke-linejoin:round; stroke-width:4; stroke-opacity:1; fill:none\" points=\"\n  212.459,845.532 231.357,845.532 \n  \"/>\n<polyline clip-path=\"url(#clip270)\" style=\"stroke:#000000; stroke-linecap:butt; stroke-linejoin:round; stroke-width:4; stroke-opacity:1; fill:none\" points=\"\n  212.459,556.708 231.357,556.708 \n  \"/>\n<polyline clip-path=\"url(#clip270)\" style=\"stroke:#000000; stroke-linecap:butt; stroke-linejoin:round; stroke-width:4; stroke-opacity:1; fill:none\" points=\"\n  212.459,267.884 231.357,267.884 \n  \"/>\n<path clip-path=\"url(#clip270)\" d=\"M114.26 1423.63 L143.936 1423.63 L143.936 1427.57 L114.26 1427.57 L114.26 1423.63 Z\" fill=\"#000000\" fill-rule=\"evenodd\" fill-opacity=\"1\" /><path clip-path=\"url(#clip270)\" d=\"M166.876 1409.97 L155.07 1428.42 L166.876 1428.42 L166.876 1409.97 M165.649 1405.9 L171.528 1405.9 L171.528 1428.42 L176.459 1428.42 L176.459 1432.31 L171.528 1432.31 L171.528 1440.46 L166.876 1440.46 L166.876 1432.31 L151.274 1432.31 L151.274 1427.8 L165.649 1405.9 Z\" fill=\"#000000\" fill-rule=\"evenodd\" fill-opacity=\"1\" /><path clip-path=\"url(#clip270)\" d=\"M116.343 1134.81 L146.019 1134.81 L146.019 1138.74 L116.343 1138.74 L116.343 1134.81 Z\" fill=\"#000000\" fill-rule=\"evenodd\" fill-opacity=\"1\" /><path clip-path=\"url(#clip270)\" d=\"M160.14 1147.7 L176.459 1147.7 L176.459 1151.64 L154.515 1151.64 L154.515 1147.7 Q157.177 1144.95 161.76 1140.32 Q166.366 1135.66 167.547 1134.32 Q169.792 1131.8 170.672 1130.06 Q171.575 1128.3 171.575 1126.61 Q171.575 1123.86 169.63 1122.12 Q167.709 1120.39 164.607 1120.39 Q162.408 1120.39 159.954 1121.15 Q157.524 1121.91 154.746 1123.46 L154.746 1118.74 Q157.57 1117.61 160.024 1117.03 Q162.477 1116.45 164.515 1116.45 Q169.885 1116.45 173.079 1119.14 Q176.274 1121.82 176.274 1126.31 Q176.274 1128.44 175.464 1130.36 Q174.677 1132.26 172.57 1134.85 Q171.991 1135.52 168.889 1138.74 Q165.788 1141.94 160.14 1147.7 Z\" fill=\"#000000\" fill-rule=\"evenodd\" fill-opacity=\"1\" /><path clip-path=\"url(#clip270)\" d=\"M164.515 831.331 Q160.903 831.331 159.075 834.895 Q157.269 838.437 157.269 845.567 Q157.269 852.673 159.075 856.238 Q160.903 859.78 164.515 859.78 Q168.149 859.78 169.954 856.238 Q171.783 852.673 171.783 845.567 Q171.783 838.437 169.954 834.895 Q168.149 831.331 164.515 831.331 M164.515 827.627 Q170.325 827.627 173.38 832.233 Q176.459 836.817 176.459 845.567 Q176.459 854.293 173.38 858.9 Q170.325 863.483 164.515 863.483 Q158.704 863.483 155.626 858.9 Q152.57 854.293 152.57 845.567 Q152.57 836.817 155.626 832.233 Q158.704 827.627 164.515 827.627 Z\" fill=\"#000000\" fill-rule=\"evenodd\" fill-opacity=\"1\" /><path clip-path=\"url(#clip270)\" d=\"M160.14 570.053 L176.459 570.053 L176.459 573.988 L154.515 573.988 L154.515 570.053 Q157.177 567.298 161.76 562.669 Q166.366 558.016 167.547 556.673 Q169.792 554.15 170.672 552.414 Q171.575 550.655 171.575 548.965 Q171.575 546.21 169.63 544.474 Q167.709 542.738 164.607 542.738 Q162.408 542.738 159.954 543.502 Q157.524 544.266 154.746 545.817 L154.746 541.095 Q157.57 539.96 160.024 539.382 Q162.477 538.803 164.515 538.803 Q169.885 538.803 173.079 541.488 Q176.274 544.173 176.274 548.664 Q176.274 550.794 175.464 552.715 Q174.677 554.613 172.57 557.206 Q171.991 557.877 168.889 561.095 Q165.788 564.289 160.14 570.053 Z\" fill=\"#000000\" fill-rule=\"evenodd\" fill-opacity=\"1\" /><path clip-path=\"url(#clip270)\" d=\"M166.876 254.678 L155.07 273.127 L166.876 273.127 L166.876 254.678 M165.649 250.604 L171.528 250.604 L171.528 273.127 L176.459 273.127 L176.459 277.016 L171.528 277.016 L171.528 285.164 L166.876 285.164 L166.876 277.016 L151.274 277.016 L151.274 272.502 L165.649 250.604 Z\" fill=\"#000000\" fill-rule=\"evenodd\" fill-opacity=\"1\" /><path clip-path=\"url(#clip270)\" d=\"M49.9359 826.623 L28.3562 826.623 L28.3562 820.766 L49.7131 820.766 Q54.7739 820.766 57.3202 818.793 Q59.8346 816.82 59.8346 812.873 Q59.8346 808.13 56.8109 805.393 Q53.7872 802.624 48.5673 802.624 L28.3562 802.624 L28.3562 796.768 L64.0042 796.768 L64.0042 802.624 L58.5296 802.624 Q61.7762 804.757 63.3676 807.589 Q64.9272 810.39 64.9272 814.114 Q64.9272 820.257 61.1078 823.44 Q57.2883 826.623 49.9359 826.623 M27.4968 811.886 L27.4968 811.886 Z\" fill=\"#000000\" fill-rule=\"evenodd\" fill-opacity=\"1\" /><path clip-path=\"url(#clip270)\" d=\"M14.5426 770.636 Q21.8632 774.901 29.0246 776.97 Q36.186 779.039 43.5384 779.039 Q50.8908 779.039 58.1159 776.97 Q65.3091 774.87 72.5979 770.636 L72.5979 775.729 Q65.1182 780.503 57.8931 782.89 Q50.668 785.246 43.5384 785.246 Q36.4406 785.246 29.2474 782.89 Q22.0542 780.535 14.5426 775.729 L14.5426 770.636 Z\" fill=\"#000000\" fill-rule=\"evenodd\" fill-opacity=\"1\" /><path clip-path=\"url(#clip270)\" d=\"M18.2347 753.481 L28.3562 753.481 L28.3562 741.418 L32.9077 741.418 L32.9077 753.481 L52.2594 753.481 Q56.6199 753.481 57.8613 752.303 Q59.1026 751.094 59.1026 747.433 L59.1026 741.418 L64.0042 741.418 L64.0042 747.433 Q64.0042 754.213 61.4897 756.791 Q58.9434 759.369 52.2594 759.369 L32.9077 759.369 L32.9077 763.666 L28.3562 763.666 L28.3562 759.369 L18.2347 759.369 L18.2347 753.481 Z\" fill=\"#000000\" fill-rule=\"evenodd\" fill-opacity=\"1\" /><path clip-path=\"url(#clip270)\" d=\"M14.5426 734.638 L14.5426 729.546 Q22.0542 724.772 29.2474 722.416 Q36.4406 720.029 43.5384 720.029 Q50.668 720.029 57.8931 722.416 Q65.1182 724.772 72.5979 729.546 L72.5979 734.638 Q65.3091 730.405 58.1159 728.336 Q50.8908 726.236 43.5384 726.236 Q36.186 726.236 29.0246 728.336 Q21.8632 730.405 14.5426 734.638 Z\" fill=\"#000000\" fill-rule=\"evenodd\" fill-opacity=\"1\" /><path clip-path=\"url(#clip270)\" d=\"M775.758 14.0809 L775.758 22.0612 Q771.1 19.8332 766.968 18.7395 Q762.836 17.6457 758.988 17.6457 Q752.304 17.6457 748.658 20.2383 Q745.052 22.8309 745.052 27.611 Q745.052 31.6214 747.442 33.6873 Q749.873 35.7128 756.597 36.9686 L761.54 37.9813 Q770.695 39.7232 775.029 44.1387 Q779.404 48.5136 779.404 55.8863 Q779.404 64.6767 773.49 69.2137 Q767.616 73.7508 756.233 73.7508 Q751.939 73.7508 747.078 72.7785 Q742.257 71.8063 737.072 69.9024 L737.072 61.4765 Q742.055 64.2716 746.835 65.6895 Q751.615 67.1073 756.233 67.1073 Q763.241 67.1073 767.049 64.3527 Q770.857 61.598 770.857 56.4939 Q770.857 52.0379 768.102 49.5264 Q765.388 47.0148 759.15 45.759 L754.167 44.7868 Q745.012 42.9639 740.92 39.075 Q736.829 35.1862 736.829 28.2591 Q736.829 20.2383 742.46 15.6203 Q748.131 11.0023 758.056 11.0023 Q762.309 11.0023 766.725 11.7719 Q771.14 12.5416 775.758 14.0809 Z\" fill=\"#000000\" fill-rule=\"evenodd\" fill-opacity=\"1\" /><path clip-path=\"url(#clip270)\" d=\"M809.421 32.4315 Q803.426 32.4315 799.942 37.1306 Q796.458 41.7891 796.458 49.9314 Q796.458 58.0738 799.902 62.7728 Q803.385 67.4314 809.421 67.4314 Q815.376 67.4314 818.86 62.7323 Q822.344 58.0333 822.344 49.9314 Q822.344 41.8701 818.86 37.1711 Q815.376 32.4315 809.421 32.4315 M809.421 26.1121 Q819.143 26.1121 824.693 32.4315 Q830.243 38.7509 830.243 49.9314 Q830.243 61.0714 824.693 67.4314 Q819.143 73.7508 809.421 73.7508 Q799.659 73.7508 794.109 67.4314 Q788.6 61.0714 788.6 49.9314 Q788.6 38.7509 794.109 32.4315 Q799.659 26.1121 809.421 26.1121 Z\" fill=\"#000000\" fill-rule=\"evenodd\" fill-opacity=\"1\" /><path clip-path=\"url(#clip270)\" d=\"M842.598 9.54393 L850.052 9.54393 L850.052 72.576 L842.598 72.576 L842.598 9.54393 Z\" fill=\"#000000\" fill-rule=\"evenodd\" fill-opacity=\"1\" /><path clip-path=\"url(#clip270)\" d=\"M864.878 54.671 L864.878 27.2059 L872.332 27.2059 L872.332 54.3874 Q872.332 60.8284 874.843 64.0691 Q877.355 67.2693 882.378 67.2693 Q888.414 67.2693 891.898 63.421 Q895.422 59.5726 895.422 52.9291 L895.422 27.2059 L902.876 27.2059 L902.876 72.576 L895.422 72.576 L895.422 65.6084 Q892.708 69.7404 889.103 71.7658 Q885.538 73.7508 880.798 73.7508 Q872.98 73.7508 868.929 68.8897 Q864.878 64.0286 864.878 54.671 M883.634 26.1121 L883.634 26.1121 Z\" fill=\"#000000\" fill-rule=\"evenodd\" fill-opacity=\"1\" /><path clip-path=\"url(#clip270)\" d=\"M925.601 14.324 L925.601 27.2059 L940.954 27.2059 L940.954 32.9987 L925.601 32.9987 L925.601 57.6282 Q925.601 63.1779 927.1 64.7578 Q928.639 66.3376 933.298 66.3376 L940.954 66.3376 L940.954 72.576 L933.298 72.576 Q924.67 72.576 921.388 69.3758 Q918.107 66.1351 918.107 57.6282 L918.107 32.9987 L912.638 32.9987 L912.638 27.2059 L918.107 27.2059 L918.107 14.324 L925.601 14.324 Z\" fill=\"#000000\" fill-rule=\"evenodd\" fill-opacity=\"1\" /><path clip-path=\"url(#clip270)\" d=\"M950.757 27.2059 L958.211 27.2059 L958.211 72.576 L950.757 72.576 L950.757 27.2059 M950.757 9.54393 L958.211 9.54393 L958.211 18.9825 L950.757 18.9825 L950.757 9.54393 Z\" fill=\"#000000\" fill-rule=\"evenodd\" fill-opacity=\"1\" /><path clip-path=\"url(#clip270)\" d=\"M991.388 32.4315 Q985.393 32.4315 981.909 37.1306 Q978.425 41.7891 978.425 49.9314 Q978.425 58.0738 981.868 62.7728 Q985.352 67.4314 991.388 67.4314 Q997.343 67.4314 1000.83 62.7323 Q1004.31 58.0333 1004.31 49.9314 Q1004.31 41.8701 1000.83 37.1711 Q997.343 32.4315 991.388 32.4315 M991.388 26.1121 Q1001.11 26.1121 1006.66 32.4315 Q1012.21 38.7509 1012.21 49.9314 Q1012.21 61.0714 1006.66 67.4314 Q1001.11 73.7508 991.388 73.7508 Q981.625 73.7508 976.075 67.4314 Q970.566 61.0714 970.566 49.9314 Q970.566 38.7509 976.075 32.4315 Q981.625 26.1121 991.388 26.1121 Z\" fill=\"#000000\" fill-rule=\"evenodd\" fill-opacity=\"1\" /><path clip-path=\"url(#clip270)\" d=\"M1062.28 45.1919 L1062.28 72.576 L1054.83 72.576 L1054.83 45.4349 Q1054.83 38.994 1052.31 35.7938 Q1049.8 32.5936 1044.78 32.5936 Q1038.74 32.5936 1035.26 36.4419 Q1031.78 40.2903 1031.78 46.9338 L1031.78 72.576 L1024.28 72.576 L1024.28 27.2059 L1031.78 27.2059 L1031.78 34.2544 Q1034.45 30.163 1038.05 28.1376 Q1041.7 26.1121 1046.44 26.1121 Q1054.26 26.1121 1058.27 30.9732 Q1062.28 35.7938 1062.28 45.1919 Z\" fill=\"#000000\" fill-rule=\"evenodd\" fill-opacity=\"1\" /><path clip-path=\"url(#clip270)\" d=\"M1110.89 14.324 L1110.89 27.2059 L1126.24 27.2059 L1126.24 32.9987 L1110.89 32.9987 L1110.89 57.6282 Q1110.89 63.1779 1112.39 64.7578 Q1113.93 66.3376 1118.59 66.3376 L1126.24 66.3376 L1126.24 72.576 L1118.59 72.576 Q1109.96 72.576 1106.68 69.3758 Q1103.4 66.1351 1103.4 57.6282 L1103.4 32.9987 L1097.93 32.9987 L1097.93 27.2059 L1103.4 27.2059 L1103.4 14.324 L1110.89 14.324 Z\" fill=\"#000000\" fill-rule=\"evenodd\" fill-opacity=\"1\" /><path clip-path=\"url(#clip270)\" d=\"M1153.63 32.4315 Q1147.63 32.4315 1144.15 37.1306 Q1140.66 41.7891 1140.66 49.9314 Q1140.66 58.0738 1144.11 62.7728 Q1147.59 67.4314 1153.63 67.4314 Q1159.58 67.4314 1163.07 62.7323 Q1166.55 58.0333 1166.55 49.9314 Q1166.55 41.8701 1163.07 37.1711 Q1159.58 32.4315 1153.63 32.4315 M1153.63 26.1121 Q1163.35 26.1121 1168.9 32.4315 Q1174.45 38.7509 1174.45 49.9314 Q1174.45 61.0714 1168.9 67.4314 Q1163.35 73.7508 1153.63 73.7508 Q1143.86 73.7508 1138.31 67.4314 Q1132.8 61.0714 1132.8 49.9314 Q1132.8 38.7509 1138.31 32.4315 Q1143.86 26.1121 1153.63 26.1121 Z\" fill=\"#000000\" fill-rule=\"evenodd\" fill-opacity=\"1\" /><path clip-path=\"url(#clip270)\" d=\"M1220.55 14.324 L1220.55 27.2059 L1235.9 27.2059 L1235.9 32.9987 L1220.55 32.9987 L1220.55 57.6282 Q1220.55 63.1779 1222.05 64.7578 Q1223.59 66.3376 1228.24 66.3376 L1235.9 66.3376 L1235.9 72.576 L1228.24 72.576 Q1219.62 72.576 1216.33 69.3758 Q1213.05 66.1351 1213.05 57.6282 L1213.05 32.9987 L1207.58 32.9987 L1207.58 27.2059 L1213.05 27.2059 L1213.05 14.324 L1220.55 14.324 Z\" fill=\"#000000\" fill-rule=\"evenodd\" fill-opacity=\"1\" /><path clip-path=\"url(#clip270)\" d=\"M1283.42 45.1919 L1283.42 72.576 L1275.96 72.576 L1275.96 45.4349 Q1275.96 38.994 1273.45 35.7938 Q1270.94 32.5936 1265.92 32.5936 Q1259.88 32.5936 1256.4 36.4419 Q1252.91 40.2903 1252.91 46.9338 L1252.91 72.576 L1245.42 72.576 L1245.42 9.54393 L1252.91 9.54393 L1252.91 34.2544 Q1255.59 30.163 1259.19 28.1376 Q1262.84 26.1121 1267.58 26.1121 Q1275.4 26.1121 1279.41 30.9732 Q1283.42 35.7938 1283.42 45.1919 Z\" fill=\"#000000\" fill-rule=\"evenodd\" fill-opacity=\"1\" /><path clip-path=\"url(#clip270)\" d=\"M1337.09 48.0275 L1337.09 51.6733 L1302.82 51.6733 Q1303.31 59.3701 1307.44 63.421 Q1311.61 67.4314 1319.03 67.4314 Q1323.32 67.4314 1327.33 66.3781 Q1331.38 65.3249 1335.35 63.2184 L1335.35 70.267 Q1331.34 71.9684 1327.13 72.8596 Q1322.91 73.7508 1318.58 73.7508 Q1307.72 73.7508 1301.36 67.4314 Q1295.04 61.1119 1295.04 50.3365 Q1295.04 39.1965 1301.04 32.6746 Q1307.07 26.1121 1317.28 26.1121 Q1326.44 26.1121 1331.74 32.0264 Q1337.09 37.9003 1337.09 48.0275 M1329.64 45.84 Q1329.56 39.7232 1326.2 36.0774 Q1322.87 32.4315 1317.36 32.4315 Q1311.13 32.4315 1307.36 35.9558 Q1303.63 39.4801 1303.06 45.8805 L1329.64 45.84 Z\" fill=\"#000000\" fill-rule=\"evenodd\" fill-opacity=\"1\" /><path clip-path=\"url(#clip270)\" d=\"M1376.02 12.096 L1384.2 12.096 L1384.2 65.6895 L1413.65 65.6895 L1413.65 72.576 L1376.02 72.576 L1376.02 12.096 Z\" fill=\"#000000\" fill-rule=\"evenodd\" fill-opacity=\"1\" /><path clip-path=\"url(#clip270)\" d=\"M1421.92 27.2059 L1429.37 27.2059 L1429.37 72.576 L1421.92 72.576 L1421.92 27.2059 M1421.92 9.54393 L1429.37 9.54393 L1429.37 18.9825 L1421.92 18.9825 L1421.92 9.54393 Z\" fill=\"#000000\" fill-rule=\"evenodd\" fill-opacity=\"1\" /><path clip-path=\"url(#clip270)\" d=\"M1482.68 45.1919 L1482.68 72.576 L1475.23 72.576 L1475.23 45.4349 Q1475.23 38.994 1472.72 35.7938 Q1470.2 32.5936 1465.18 32.5936 Q1459.15 32.5936 1455.66 36.4419 Q1452.18 40.2903 1452.18 46.9338 L1452.18 72.576 L1444.68 72.576 L1444.68 27.2059 L1452.18 27.2059 L1452.18 34.2544 Q1454.85 30.163 1458.46 28.1376 Q1462.1 26.1121 1466.84 26.1121 Q1474.66 26.1121 1478.67 30.9732 Q1482.68 35.7938 1482.68 45.1919 Z\" fill=\"#000000\" fill-rule=\"evenodd\" fill-opacity=\"1\" /><path clip-path=\"url(#clip270)\" d=\"M1536.36 48.0275 L1536.36 51.6733 L1502.09 51.6733 Q1502.57 59.3701 1506.7 63.421 Q1510.88 67.4314 1518.29 67.4314 Q1522.58 67.4314 1526.59 66.3781 Q1530.64 65.3249 1534.61 63.2184 L1534.61 70.267 Q1530.6 71.9684 1526.39 72.8596 Q1522.18 73.7508 1517.84 73.7508 Q1506.99 73.7508 1500.63 67.4314 Q1494.31 61.1119 1494.31 50.3365 Q1494.31 39.1965 1500.3 32.6746 Q1506.34 26.1121 1516.55 26.1121 Q1525.7 26.1121 1531.01 32.0264 Q1536.36 37.9003 1536.36 48.0275 M1528.9 45.84 Q1528.82 39.7232 1525.46 36.0774 Q1522.14 32.4315 1516.63 32.4315 Q1510.39 32.4315 1506.62 35.9558 Q1502.9 39.4801 1502.33 45.8805 L1528.9 45.84 Z\" fill=\"#000000\" fill-rule=\"evenodd\" fill-opacity=\"1\" /><path clip-path=\"url(#clip270)\" d=\"M1569.21 49.7694 Q1560.18 49.7694 1556.69 51.8354 Q1553.21 53.9013 1553.21 58.8839 Q1553.21 62.8538 1555.8 65.2034 Q1558.43 67.5124 1562.93 67.5124 Q1569.13 67.5124 1572.85 63.1374 Q1576.62 58.7219 1576.62 51.4303 L1576.62 49.7694 L1569.21 49.7694 M1584.08 46.6907 L1584.08 72.576 L1576.62 72.576 L1576.62 65.6895 Q1574.07 69.8214 1570.26 71.8063 Q1566.45 73.7508 1560.95 73.7508 Q1553.98 73.7508 1549.85 69.8619 Q1545.75 65.9325 1545.75 59.3701 Q1545.75 51.7138 1550.86 47.825 Q1556 43.9361 1566.17 43.9361 L1576.62 43.9361 L1576.62 43.2069 Q1576.62 38.0623 1573.22 35.2672 Q1569.86 32.4315 1563.74 32.4315 Q1559.85 32.4315 1556.16 33.3632 Q1552.48 34.295 1549.08 36.1584 L1549.08 29.2718 Q1553.17 27.692 1557.02 26.9223 Q1560.86 26.1121 1564.51 26.1121 Q1574.35 26.1121 1579.21 31.2163 Q1584.08 36.3204 1584.08 46.6907 Z\" fill=\"#000000\" fill-rule=\"evenodd\" fill-opacity=\"1\" /><path clip-path=\"url(#clip270)\" d=\"M1625.72 34.1734 Q1624.46 33.4443 1622.96 33.1202 Q1621.51 32.7556 1619.72 32.7556 Q1613.4 32.7556 1610 36.8875 Q1606.64 40.9789 1606.64 48.6757 L1606.64 72.576 L1599.15 72.576 L1599.15 27.2059 L1606.64 27.2059 L1606.64 34.2544 Q1608.99 30.1225 1612.76 28.1376 Q1616.52 26.1121 1621.91 26.1121 Q1622.68 26.1121 1623.61 26.2337 Q1624.54 26.3147 1625.68 26.5172 L1625.72 34.1734 Z\" fill=\"#000000\" fill-rule=\"evenodd\" fill-opacity=\"1\" /><path clip-path=\"url(#clip270)\" d=\"M1684.78 17.6457 Q1675.87 17.6457 1670.6 24.2892 Q1665.38 30.9327 1665.38 42.3968 Q1665.38 53.8203 1670.6 60.4638 Q1675.87 67.1073 1684.78 67.1073 Q1693.69 67.1073 1698.88 60.4638 Q1704.1 53.8203 1704.1 42.3968 Q1704.1 30.9327 1698.88 24.2892 Q1693.69 17.6457 1684.78 17.6457 M1684.78 11.0023 Q1697.5 11.0023 1705.12 19.5497 Q1712.73 28.0566 1712.73 42.3968 Q1712.73 56.6965 1705.12 65.2439 Q1697.5 73.7508 1684.78 73.7508 Q1672.02 73.7508 1664.36 65.2439 Q1656.75 56.737 1656.75 42.3968 Q1656.75 28.0566 1664.36 19.5497 Q1672.02 11.0023 1684.78 11.0023 Z\" fill=\"#000000\" fill-rule=\"evenodd\" fill-opacity=\"1\" /><path clip-path=\"url(#clip270)\" d=\"M1733.72 18.8205 L1733.72 65.8515 L1743.6 65.8515 Q1756.12 65.8515 1761.91 60.1802 Q1767.74 54.509 1767.74 42.2752 Q1767.74 30.1225 1761.91 24.4918 Q1756.12 18.8205 1743.6 18.8205 L1733.72 18.8205 M1725.53 12.096 L1742.34 12.096 Q1759.93 12.096 1768.15 19.4281 Q1776.37 26.7198 1776.37 42.2752 Q1776.37 57.9117 1768.11 65.2439 Q1759.84 72.576 1742.34 72.576 L1725.53 72.576 L1725.53 12.096 Z\" fill=\"#000000\" fill-rule=\"evenodd\" fill-opacity=\"1\" /><path clip-path=\"url(#clip270)\" d=\"M1789.42 12.096 L1827.66 12.096 L1827.66 18.9825 L1797.6 18.9825 L1797.6 36.8875 L1826.4 36.8875 L1826.4 43.7741 L1797.6 43.7741 L1797.6 65.6895 L1828.39 65.6895 L1828.39 72.576 L1789.42 72.576 L1789.42 12.096 Z\" fill=\"#000000\" fill-rule=\"evenodd\" fill-opacity=\"1\" /><polyline clip-path=\"url(#clip272)\" style=\"stroke:#009af9; stroke-linecap:butt; stroke-linejoin:round; stroke-width:20; stroke-opacity:1; fill:none\" points=\"\n  212.459,845.532 214.601,845.532 216.744,845.532 218.886,845.532 221.029,845.532 223.171,845.532 225.314,845.532 227.456,845.532 229.598,845.532 231.741,845.532 \n  233.883,845.532 236.026,845.532 238.168,845.532 240.311,845.532 242.453,845.532 244.595,845.532 246.738,845.532 248.88,845.532 251.023,845.532 253.165,845.532 \n  255.308,845.532 257.45,845.532 259.593,845.532 261.735,845.532 263.877,845.532 266.02,845.532 268.162,845.532 270.305,845.532 272.447,845.532 274.59,845.532 \n  276.732,845.532 278.875,845.532 281.017,845.532 283.159,845.532 285.302,845.532 287.444,845.532 289.587,845.532 291.729,845.532 293.872,845.532 296.014,845.532 \n  298.156,845.532 300.299,845.532 302.441,845.532 304.584,845.532 306.726,845.532 308.869,845.532 311.011,845.532 313.154,845.532 315.296,845.532 317.438,845.532 \n  319.581,845.532 321.723,845.532 323.866,845.532 326.008,845.532 328.151,845.532 330.293,845.532 332.436,845.532 334.578,845.532 336.72,845.532 338.863,845.532 \n  341.005,845.532 343.148,845.532 345.29,845.532 347.433,845.532 349.575,845.532 351.717,845.532 353.86,845.532 356.002,845.532 358.145,845.532 360.287,845.532 \n  362.43,845.532 364.572,845.532 366.715,845.532 368.857,845.532 370.999,845.532 373.142,845.532 375.284,845.532 377.427,845.532 379.569,845.532 381.712,845.532 \n  383.854,845.532 385.996,845.532 388.139,845.532 390.281,845.532 392.424,845.532 394.566,845.532 396.709,845.532 398.851,845.532 400.994,845.532 403.136,845.532 \n  405.278,845.532 407.421,845.532 409.563,845.532 411.706,845.532 413.848,845.532 415.991,845.532 418.133,845.532 420.276,845.532 422.418,845.532 424.56,845.532 \n  426.703,845.532 428.845,845.532 430.988,845.532 433.13,845.532 435.273,845.532 437.415,845.532 439.557,845.532 441.7,845.532 443.842,845.532 445.985,845.532 \n  448.127,845.532 450.27,845.532 452.412,845.532 454.555,845.532 456.697,845.532 458.839,845.532 460.982,845.532 463.124,845.532 465.267,845.532 467.409,845.532 \n  469.552,845.532 471.694,845.532 473.837,845.532 475.979,845.532 478.121,845.532 480.264,845.532 482.406,845.532 484.549,845.532 486.691,845.532 488.834,845.532 \n  490.976,845.532 493.118,845.532 495.261,845.532 497.403,845.532 499.546,845.532 501.688,845.532 503.831,845.532 505.973,845.532 508.116,845.532 510.258,845.532 \n  512.4,845.532 514.543,845.532 516.685,845.532 518.828,845.532 520.97,845.532 523.113,845.532 525.255,845.532 527.397,845.532 529.54,845.532 531.682,845.532 \n  533.825,845.532 535.967,845.532 538.11,845.532 540.252,845.532 542.395,845.532 544.537,845.532 546.679,845.532 548.822,845.532 550.964,845.532 553.107,845.532 \n  555.249,845.532 557.392,845.532 559.534,845.532 561.677,845.532 563.819,845.532 565.961,845.532 568.104,845.532 570.246,845.532 572.389,845.532 574.531,845.532 \n  576.674,845.532 578.816,845.532 580.958,845.532 583.101,845.532 585.243,845.532 587.386,845.532 589.528,845.532 591.671,845.532 593.813,845.532 595.956,845.532 \n  598.098,845.532 600.24,845.532 602.383,845.532 604.525,845.532 606.668,845.532 608.81,845.532 610.953,845.532 613.095,845.532 615.238,845.532 617.38,845.532 \n  619.522,845.532 621.665,845.532 623.807,845.532 625.95,845.532 628.092,845.532 630.235,845.532 632.377,845.532 634.519,845.532 636.662,845.532 638.804,845.532 \n  640.947,845.532 643.089,845.532 645.232,845.532 647.374,845.532 649.517,845.532 651.659,845.532 653.801,845.532 655.944,845.532 658.086,845.532 660.229,845.532 \n  662.371,845.532 664.514,845.532 666.656,845.532 668.799,845.532 670.941,845.532 673.083,845.532 675.226,845.532 677.368,845.532 679.511,845.532 681.653,845.532 \n  683.796,845.532 685.938,845.532 688.08,845.532 690.223,845.532 692.365,845.532 694.508,845.532 696.65,845.532 698.793,845.532 700.935,845.532 703.078,845.532 \n  705.22,845.532 707.362,845.532 709.505,845.532 711.647,845.532 713.79,845.532 715.932,845.532 718.075,845.532 720.217,845.532 722.359,845.532 724.502,845.532 \n  726.644,845.532 728.787,845.532 730.929,845.532 733.072,845.532 735.214,845.532 737.357,845.532 739.499,845.532 741.641,845.532 743.784,845.532 745.926,845.532 \n  748.069,845.532 750.211,845.532 752.354,845.532 754.496,845.532 756.639,845.532 758.781,845.532 760.923,845.532 763.066,845.532 765.208,845.532 767.351,845.532 \n  769.493,845.532 771.636,845.532 773.778,845.532 775.92,845.532 778.063,845.532 780.205,845.532 782.348,845.532 784.49,845.532 786.633,845.532 788.775,845.532 \n  790.918,845.532 793.06,845.532 795.202,845.532 797.345,845.532 799.487,845.532 801.63,845.532 803.772,845.532 805.915,845.532 808.057,845.532 810.2,845.532 \n  812.342,845.532 814.484,845.532 816.627,845.532 818.769,845.532 820.912,845.532 823.054,845.532 825.197,845.532 827.339,845.532 829.481,845.532 831.624,845.532 \n  833.766,845.532 835.909,845.532 838.051,845.532 840.194,845.532 842.336,845.532 844.479,845.532 846.621,845.532 848.763,845.532 850.906,845.532 853.048,845.532 \n  855.191,845.532 857.333,845.532 859.476,845.532 861.618,845.532 863.76,845.532 865.903,845.532 868.045,845.532 870.188,845.532 872.33,845.532 874.473,845.532 \n  876.615,845.532 878.758,845.532 880.9,845.532 883.042,845.532 885.185,845.532 887.327,845.532 889.47,845.532 891.612,845.532 893.755,845.532 895.897,845.532 \n  898.04,845.532 900.182,845.532 902.324,845.532 904.467,845.532 906.609,845.532 908.752,845.532 910.894,845.532 913.037,845.532 915.179,845.532 917.321,845.532 \n  919.464,845.532 921.606,845.532 923.749,845.532 925.891,845.532 928.034,845.532 930.176,845.532 932.319,845.532 934.461,845.532 936.603,845.532 938.746,845.532 \n  940.888,845.532 943.031,845.532 945.173,845.532 947.316,845.532 949.458,845.532 951.601,845.532 953.743,845.532 955.885,845.532 958.028,845.532 960.17,845.532 \n  962.313,845.532 964.455,845.532 966.598,845.532 968.74,845.532 970.882,845.532 973.025,845.532 975.167,845.532 977.31,845.532 979.452,845.532 981.595,845.532 \n  983.737,845.532 985.88,845.532 988.022,845.532 990.164,845.532 992.307,845.532 994.449,845.532 996.592,845.532 998.734,845.532 1000.88,845.532 1003.02,845.532 \n  1005.16,845.532 1007.3,845.532 1009.45,845.532 1011.59,845.532 1013.73,845.532 1015.87,845.532 1018.02,845.532 1020.16,845.532 1022.3,845.532 1024.44,845.532 \n  1026.59,845.532 1028.73,845.532 1030.87,845.532 1033.01,845.532 1035.16,845.532 1037.3,845.532 1039.44,845.532 1041.58,845.532 1043.73,845.532 1045.87,845.532 \n  1048.01,845.532 1050.15,845.532 1052.3,845.532 1054.44,845.532 1056.58,845.532 1058.72,845.532 1060.86,845.532 1063.01,845.532 1065.15,845.532 1067.29,845.532 \n  1069.43,845.532 1071.58,845.532 1073.72,845.532 1075.86,845.532 1078,845.532 1080.15,845.532 1082.29,845.532 1084.43,845.532 1086.57,845.532 1088.72,845.532 \n  1090.86,845.532 1093,845.532 1095.14,845.532 1097.29,845.532 1099.43,845.532 1101.57,845.532 1103.71,845.532 1105.86,845.532 1108,845.532 1110.14,845.532 \n  1112.28,845.532 1114.43,845.532 1116.57,845.532 1118.71,845.532 1120.85,845.532 1123,845.532 1125.14,845.532 1127.28,845.532 1129.42,845.532 1131.57,845.532 \n  1133.71,845.532 1135.85,845.532 1137.99,845.532 1140.14,845.532 1142.28,845.532 1144.42,845.532 1146.56,845.532 1148.7,845.532 1150.85,845.532 1152.99,845.532 \n  1155.13,845.532 1157.27,845.532 1159.42,845.532 1161.56,845.532 1163.7,845.532 1165.84,845.532 1167.99,845.532 1170.13,845.532 1172.27,845.532 1174.41,845.532 \n  1176.56,845.532 1178.7,845.532 1180.84,845.532 1182.98,845.532 1185.13,845.532 1187.27,845.532 1189.41,845.532 1191.55,845.532 1193.7,845.532 1195.84,845.532 \n  1197.98,845.532 1200.12,845.532 1202.27,845.532 1204.41,845.532 1206.55,845.532 1208.69,845.532 1210.84,845.532 1212.98,845.532 1215.12,845.532 1217.26,845.532 \n  1219.41,845.532 1221.55,845.532 1223.69,845.532 1225.83,845.532 1227.98,845.532 1230.12,845.532 1232.26,845.532 1234.4,845.532 1236.54,845.532 1238.69,845.532 \n  1240.83,845.532 1242.97,845.532 1245.11,845.532 1247.26,845.532 1249.4,845.532 1251.54,845.532 1253.68,845.532 1255.83,845.532 1257.97,845.532 1260.11,845.532 \n  1262.25,845.532 1264.4,845.532 1266.54,845.532 1268.68,845.532 1270.82,845.532 1272.97,845.532 1275.11,845.532 1277.25,845.532 1279.39,845.532 1281.54,845.532 \n  1283.68,845.532 1285.82,845.532 1287.96,845.532 1290.11,845.532 1292.25,845.532 1294.39,845.532 1296.53,845.532 1298.68,845.532 1300.82,845.532 1302.96,845.532 \n  1305.1,845.532 1307.25,845.532 1309.39,845.532 1311.53,845.532 1313.67,845.532 1315.82,845.532 1317.96,845.532 1320.1,845.532 1322.24,845.532 1324.38,845.532 \n  1326.53,845.532 1328.67,845.532 1330.81,845.532 1332.95,845.532 1335.1,845.532 1337.24,845.532 1339.38,845.532 1341.52,845.532 1343.67,845.532 1345.81,845.532 \n  1347.95,845.532 1350.09,845.532 1352.24,845.532 1354.38,845.532 1356.52,845.532 1358.66,845.532 1360.81,845.532 1362.95,845.532 1365.09,845.532 1367.23,845.532 \n  1369.38,845.532 1371.52,845.532 1373.66,845.532 1375.8,845.532 1377.95,845.532 1380.09,845.532 1382.23,845.532 1384.37,845.532 1386.52,845.532 1388.66,845.532 \n  1390.8,845.532 1392.94,845.532 1395.09,845.532 1397.23,845.532 1399.37,845.532 1401.51,845.532 1403.66,845.532 1405.8,845.532 1407.94,845.532 1410.08,845.532 \n  1412.22,845.532 1414.37,845.532 1416.51,845.532 1418.65,845.532 1420.79,845.532 1422.94,845.532 1425.08,845.532 1427.22,845.532 1429.36,845.532 1431.51,845.532 \n  1433.65,845.532 1435.79,845.532 1437.93,845.532 1440.08,845.532 1442.22,845.532 1444.36,845.532 1446.5,845.532 1448.65,845.532 1450.79,845.532 1452.93,845.532 \n  1455.07,845.532 1457.22,845.532 1459.36,845.532 1461.5,845.532 1463.64,845.532 1465.79,845.532 1467.93,845.532 1470.07,845.532 1472.21,845.532 1474.36,845.532 \n  1476.5,845.532 1478.64,845.532 1480.78,845.532 1482.93,845.532 1485.07,845.532 1487.21,845.532 1489.35,845.532 1491.5,845.532 1493.64,845.532 1495.78,845.532 \n  1497.92,845.532 1500.07,845.532 1502.21,845.532 1504.35,845.532 1506.49,845.532 1508.63,845.532 1510.78,845.532 1512.92,845.532 1515.06,845.532 1517.2,845.532 \n  1519.35,845.532 1521.49,845.532 1523.63,845.532 1525.77,845.532 1527.92,845.532 1530.06,845.532 1532.2,845.532 1534.34,845.532 1536.49,845.532 1538.63,845.532 \n  1540.77,845.532 1542.91,845.532 1545.06,845.532 1547.2,845.532 1549.34,845.532 1551.48,845.532 1553.63,845.532 1555.77,845.532 1557.91,845.532 1560.05,845.532 \n  1562.2,845.532 1564.34,845.532 1566.48,845.532 1568.62,845.532 1570.77,845.532 1572.91,845.532 1575.05,845.532 1577.19,845.532 1579.34,845.532 1581.48,845.532 \n  1583.62,845.532 1585.76,845.532 1587.91,845.532 1590.05,845.532 1592.19,845.532 1594.33,845.532 1596.47,845.532 1598.62,845.532 1600.76,845.532 1602.9,845.532 \n  1605.04,845.532 1607.19,845.532 1609.33,845.532 1611.47,845.532 1613.61,845.532 1615.76,845.532 1617.9,845.532 1620.04,845.532 1622.18,845.532 1624.33,845.532 \n  1626.47,845.532 1628.61,845.532 1630.75,845.532 1632.9,845.532 1635.04,845.532 1637.18,845.532 1639.32,845.532 1641.47,845.532 1643.61,845.532 1645.75,845.532 \n  1647.89,845.532 1650.04,845.532 1652.18,845.532 1654.32,845.532 1656.46,845.532 1658.61,845.532 1660.75,845.532 1662.89,845.532 1665.03,845.532 1667.18,845.532 \n  1669.32,845.532 1671.46,845.532 1673.6,845.532 1675.75,845.532 1677.89,845.532 1680.03,845.532 1682.17,845.532 1684.31,845.532 1686.46,845.532 1688.6,845.532 \n  1690.74,845.532 1692.88,845.532 1695.03,845.532 1697.17,845.532 1699.31,845.532 1701.45,845.532 1703.6,845.532 1705.74,845.532 1707.88,845.532 1710.02,845.532 \n  1712.17,845.532 1714.31,845.532 1716.45,845.532 1718.59,845.532 1720.74,845.532 1722.88,845.532 1725.02,845.532 1727.16,845.532 1729.31,845.532 1731.45,845.532 \n  1733.59,845.532 1735.73,845.532 1737.88,845.532 1740.02,845.532 1742.16,845.532 1744.3,845.532 1746.45,845.532 1748.59,845.532 1750.73,845.532 1752.87,845.532 \n  1755.02,845.532 1757.16,845.532 1759.3,845.532 1761.44,845.532 1763.59,845.532 1765.73,845.532 1767.87,845.532 1770.01,845.532 1772.15,845.532 1774.3,845.532 \n  1776.44,845.532 1778.58,845.532 1780.72,845.532 1782.87,845.532 1785.01,845.532 1787.15,845.532 1789.29,845.532 1791.44,845.532 1793.58,845.532 1795.72,845.532 \n  1797.86,845.532 1800.01,845.532 1802.15,845.532 1804.29,845.532 1806.43,845.532 1808.58,845.532 1810.72,845.532 1812.86,845.532 1815,845.532 1817.15,845.532 \n  1819.29,845.532 1821.43,845.532 1823.57,845.532 1825.72,845.532 1827.86,845.532 1830,845.532 1832.14,845.532 1834.29,845.532 1836.43,845.532 1838.57,845.532 \n  1840.71,845.532 1842.86,845.532 1845,845.532 1847.14,845.532 1849.28,845.532 1851.43,845.532 1853.57,845.532 1855.71,845.532 1857.85,845.532 1859.99,845.532 \n  1862.14,845.532 1864.28,845.532 1866.42,845.532 1868.56,845.532 1870.71,845.532 1872.85,845.532 1874.99,845.532 1877.13,845.532 1879.28,845.532 1881.42,845.532 \n  1883.56,845.532 1885.7,845.532 1887.85,845.532 1889.99,845.532 1892.13,845.532 1894.27,845.532 1896.42,845.532 1898.56,845.532 1900.7,845.532 1902.84,845.532 \n  1904.99,845.532 1907.13,845.532 1909.27,845.532 1911.41,845.532 1913.56,845.532 1915.7,845.532 1917.84,845.532 1919.98,845.532 1922.13,845.532 1924.27,845.532 \n  1926.41,845.532 1928.55,845.532 1930.7,845.532 1932.84,845.532 1934.98,845.532 1937.12,845.532 1939.27,845.532 1941.41,845.532 1943.55,845.532 1945.69,845.532 \n  1947.83,845.532 1949.98,845.532 1952.12,845.532 1954.26,845.532 1956.4,845.532 1958.55,845.532 1960.69,845.532 1962.83,845.532 1964.97,845.532 1967.12,845.532 \n  1969.26,845.532 1971.4,845.532 1973.54,845.532 1975.69,845.532 1977.83,845.532 1979.97,845.532 1982.11,845.532 1984.26,845.532 1986.4,845.532 1988.54,845.532 \n  1990.68,845.532 1992.83,845.532 1994.97,845.532 1997.11,845.532 1999.25,845.532 2001.4,845.532 2003.54,845.532 2005.68,845.532 2007.82,845.532 2009.97,845.532 \n  2012.11,845.532 2014.25,845.532 2016.39,845.532 2018.54,845.532 2020.68,845.532 2022.82,845.532 2024.96,845.532 2027.11,845.532 2029.25,845.532 2031.39,845.532 \n  2033.53,845.532 2035.67,845.532 2037.82,845.532 2039.96,845.532 2042.1,845.532 2044.24,845.532 2046.39,845.532 2048.53,845.532 2050.67,845.532 2052.81,845.532 \n  2054.96,845.532 2057.1,845.532 2059.24,845.532 2061.38,845.532 2063.53,845.532 2065.67,845.532 2067.81,845.532 2069.95,845.532 2072.1,845.532 2074.24,845.532 \n  2076.38,845.532 2078.52,845.532 2080.67,845.532 2082.81,845.532 2084.95,845.532 2087.09,845.532 2089.24,845.532 2091.38,845.532 2093.52,845.532 2095.66,845.532 \n  2097.81,845.532 2099.95,845.532 2102.09,845.532 2104.23,845.532 2106.38,845.532 2108.52,845.532 2110.66,845.532 2112.8,845.532 2114.95,845.532 2117.09,845.532 \n  2119.23,845.532 2121.37,845.532 2123.51,845.532 2125.66,845.532 2127.8,845.532 2129.94,845.532 2132.08,845.532 2134.23,845.532 2136.37,845.532 2138.51,845.532 \n  2140.65,845.532 2142.8,845.532 2144.94,845.532 2147.08,845.532 2149.22,845.532 2151.37,845.532 2153.51,845.532 2155.65,845.532 2157.79,845.532 2159.94,845.532 \n  2162.08,845.532 2164.22,845.532 2166.36,845.532 2168.51,845.532 2170.65,845.532 2172.79,845.532 2174.93,845.532 2177.08,845.532 2179.22,845.532 2181.36,845.532 \n  2183.5,845.532 2185.65,845.532 2187.79,845.532 2189.93,845.532 2192.07,845.532 2194.22,845.532 2196.36,845.532 2198.5,845.532 2200.64,845.532 2202.79,845.532 \n  2204.93,845.532 2207.07,845.532 2209.21,845.532 2211.35,845.532 2213.5,845.532 2215.64,845.532 2217.78,845.532 2219.92,845.532 2222.07,845.532 2224.21,845.532 \n  2226.35,845.532 2228.49,845.532 2230.64,845.532 2232.78,845.532 2234.92,845.532 2237.06,845.532 2239.21,845.532 2241.35,845.532 2243.49,845.532 2245.63,845.532 \n  2247.78,845.532 2249.92,845.532 2252.06,845.532 2254.2,845.532 2256.35,845.532 2258.49,845.532 2260.63,845.532 2262.77,845.532 2264.92,845.532 2267.06,845.532 \n  2269.2,845.532 2271.34,845.532 2273.49,845.532 2275.63,845.532 2277.77,845.532 2279.91,845.532 2282.06,845.532 2284.2,845.532 2286.34,845.532 2288.48,845.532 \n  2290.63,845.532 2292.77,845.532 2294.91,845.532 2297.05,845.532 2299.19,845.532 2301.34,845.532 2303.48,845.532 2305.62,845.532 2307.76,845.532 2309.91,845.532 \n  2312.05,845.532 2314.19,845.532 2316.33,845.532 2318.48,845.532 2320.62,845.532 2322.76,845.532 2324.9,845.532 2327.05,845.532 2329.19,845.532 2331.33,845.532 \n  2333.47,845.532 2335.62,845.532 2337.76,845.532 2339.9,845.532 2342.04,845.532 2344.19,845.532 2346.33,845.532 2348.47,845.532 2350.61,845.532 2352.76,845.532 \n  \n  \"/>\n<polyline clip-path=\"url(#clip272)\" style=\"stroke:#e26f46; stroke-linecap:butt; stroke-linejoin:round; stroke-width:12; stroke-opacity:1; fill:none\" stroke-dasharray=\"48, 30\" points=\"\n  212.459,845.532 212.53,845.532 213.244,845.532 220.378,845.532 291.721,845.532 1005.15,845.532 2352.76,845.532 \n  \"/>\n<path clip-path=\"url(#clip270)\" d=\"\nM1722.72 322.316 L2281.41 322.316 L2281.41 166.796 L1722.72 166.796  Z\n  \" fill=\"#ffffff\" fill-rule=\"evenodd\" fill-opacity=\"1\"/>\n<polyline clip-path=\"url(#clip270)\" style=\"stroke:#000000; stroke-linecap:butt; stroke-linejoin:round; stroke-width:4; stroke-opacity:1; fill:none\" points=\"\n  1722.72,322.316 2281.41,322.316 2281.41,166.796 1722.72,166.796 1722.72,322.316 \n  \"/>\n<polyline clip-path=\"url(#clip270)\" style=\"stroke:#009af9; stroke-linecap:butt; stroke-linejoin:round; stroke-width:4; stroke-opacity:1; fill:none\" points=\"\n  1746.51,218.636 1889.19,218.636 \n  \"/>\n<path clip-path=\"url(#clip270)\" d=\"M1912.97 201.356 L1919.94 201.356 L1928.76 224.874 L1937.63 201.356 L1944.59 201.356 L1944.59 235.916 L1940.03 235.916 L1940.03 205.569 L1931.12 229.272 L1926.42 229.272 L1917.51 205.569 L1917.51 235.916 L1912.97 235.916 L1912.97 201.356 Z\" fill=\"#000000\" fill-rule=\"evenodd\" fill-opacity=\"1\" /><path clip-path=\"url(#clip270)\" d=\"M1964.48 238.323 Q1962.67 242.953 1960.96 244.365 Q1959.25 245.777 1956.38 245.777 L1952.97 245.777 L1952.97 242.212 L1955.47 242.212 Q1957.23 242.212 1958.2 241.379 Q1959.18 240.545 1960.36 237.443 L1961.12 235.499 L1950.63 209.99 L1955.15 209.99 L1963.25 230.268 L1971.35 209.99 L1975.87 209.99 L1964.48 238.323 Z\" fill=\"#000000\" fill-rule=\"evenodd\" fill-opacity=\"1\" /><path clip-path=\"url(#clip270)\" d=\"M1992.21 201.356 L2021.44 201.356 L2021.44 205.291 L2009.18 205.291 L2009.18 235.916 L2004.48 235.916 L2004.48 205.291 L1992.21 205.291 L1992.21 201.356 Z\" fill=\"#000000\" fill-rule=\"evenodd\" fill-opacity=\"1\" /><path clip-path=\"url(#clip270)\" d=\"M2047.32 220.268 L2047.32 235.916 L2043.06 235.916 L2043.06 220.407 Q2043.06 216.726 2041.63 214.897 Q2040.19 213.069 2037.32 213.069 Q2033.87 213.069 2031.88 215.268 Q2029.89 217.467 2029.89 221.263 L2029.89 235.916 L2025.61 235.916 L2025.61 199.897 L2029.89 199.897 L2029.89 214.018 Q2031.42 211.68 2033.48 210.522 Q2035.56 209.365 2038.27 209.365 Q2042.74 209.365 2045.03 212.143 Q2047.32 214.897 2047.32 220.268 Z\" fill=\"#000000\" fill-rule=\"evenodd\" fill-opacity=\"1\" /><path clip-path=\"url(#clip270)\" d=\"M2055.82 209.99 L2060.08 209.99 L2060.08 235.916 L2055.82 235.916 L2055.82 209.99 M2055.82 199.897 L2060.08 199.897 L2060.08 205.291 L2055.82 205.291 L2055.82 199.897 Z\" fill=\"#000000\" fill-rule=\"evenodd\" fill-opacity=\"1\" /><path clip-path=\"url(#clip270)\" d=\"M2087.65 210.985 L2087.65 214.967 Q2085.84 213.971 2084.01 213.485 Q2082.21 212.976 2080.36 212.976 Q2076.21 212.976 2073.92 215.615 Q2071.63 218.231 2071.63 222.976 Q2071.63 227.721 2073.92 230.36 Q2076.21 232.976 2080.36 232.976 Q2082.21 232.976 2084.01 232.49 Q2085.84 231.981 2087.65 230.985 L2087.65 234.92 Q2085.87 235.754 2083.94 236.17 Q2082.05 236.587 2079.89 236.587 Q2074.04 236.587 2070.59 232.906 Q2067.14 229.226 2067.14 222.976 Q2067.14 216.633 2070.61 212.999 Q2074.11 209.365 2080.17 209.365 Q2082.14 209.365 2084.01 209.782 Q2085.89 210.175 2087.65 210.985 Z\" fill=\"#000000\" fill-rule=\"evenodd\" fill-opacity=\"1\" /><path clip-path=\"url(#clip270)\" d=\"M2094.89 199.897 L2099.18 199.897 L2099.18 221.17 L2111.88 209.99 L2117.32 209.99 L2103.57 222.119 L2117.9 235.916 L2112.35 235.916 L2099.18 223.254 L2099.18 235.916 L2094.89 235.916 L2094.89 199.897 Z\" fill=\"#000000\" fill-rule=\"evenodd\" fill-opacity=\"1\" /><path clip-path=\"url(#clip270)\" d=\"M2137.76 201.356 L2142.44 201.356 L2142.44 231.981 L2159.27 231.981 L2159.27 235.916 L2137.76 235.916 L2137.76 201.356 Z\" fill=\"#000000\" fill-rule=\"evenodd\" fill-opacity=\"1\" /><path clip-path=\"url(#clip270)\" d=\"M2163.99 209.99 L2168.25 209.99 L2168.25 235.916 L2163.99 235.916 L2163.99 209.99 M2163.99 199.897 L2168.25 199.897 L2168.25 205.291 L2163.99 205.291 L2163.99 199.897 Z\" fill=\"#000000\" fill-rule=\"evenodd\" fill-opacity=\"1\" /><path clip-path=\"url(#clip270)\" d=\"M2198.71 220.268 L2198.71 235.916 L2194.45 235.916 L2194.45 220.407 Q2194.45 216.726 2193.02 214.897 Q2191.58 213.069 2188.71 213.069 Q2185.26 213.069 2183.27 215.268 Q2181.28 217.467 2181.28 221.263 L2181.28 235.916 L2177 235.916 L2177 209.99 L2181.28 209.99 L2181.28 214.018 Q2182.81 211.68 2184.87 210.522 Q2186.95 209.365 2189.66 209.365 Q2194.13 209.365 2196.42 212.143 Q2198.71 214.897 2198.71 220.268 Z\" fill=\"#000000\" fill-rule=\"evenodd\" fill-opacity=\"1\" /><path clip-path=\"url(#clip270)\" d=\"M2229.38 221.888 L2229.38 223.971 L2209.8 223.971 Q2210.08 228.369 2212.44 230.684 Q2214.82 232.976 2219.06 232.976 Q2221.51 232.976 2223.8 232.374 Q2226.12 231.772 2228.39 230.569 L2228.39 234.596 Q2226.1 235.568 2223.69 236.078 Q2221.28 236.587 2218.8 236.587 Q2212.6 236.587 2208.97 232.976 Q2205.36 229.365 2205.36 223.207 Q2205.36 216.842 2208.78 213.115 Q2212.23 209.365 2218.06 209.365 Q2223.3 209.365 2226.33 212.745 Q2229.38 216.101 2229.38 221.888 M2225.12 220.638 Q2225.08 217.143 2223.16 215.059 Q2221.26 212.976 2218.11 212.976 Q2214.55 212.976 2212.39 214.99 Q2210.26 217.004 2209.94 220.661 L2225.12 220.638 Z\" fill=\"#000000\" fill-rule=\"evenodd\" fill-opacity=\"1\" /><polyline clip-path=\"url(#clip270)\" style=\"stroke:#e26f46; stroke-linecap:butt; stroke-linejoin:round; stroke-width:4; stroke-opacity:1; fill:none\" stroke-dasharray=\"16, 10\" points=\"\n  1746.51,270.476 1889.19,270.476 \n  \"/>\n<path clip-path=\"url(#clip270)\" d=\"M1912.97 253.196 L1942.21 253.196 L1942.21 257.131 L1929.94 257.131 L1929.94 287.756 L1925.24 287.756 L1925.24 257.131 L1912.97 257.131 L1912.97 253.196 Z\" fill=\"#000000\" fill-rule=\"evenodd\" fill-opacity=\"1\" /><path clip-path=\"url(#clip270)\" d=\"M1954.59 265.811 Q1953.88 265.395 1953.02 265.21 Q1952.19 265.001 1951.17 265.001 Q1947.56 265.001 1945.61 267.362 Q1943.69 269.7 1943.69 274.098 L1943.69 287.756 L1939.41 287.756 L1939.41 261.83 L1943.69 261.83 L1943.69 265.858 Q1945.03 263.497 1947.19 262.362 Q1949.34 261.205 1952.42 261.205 Q1952.86 261.205 1953.39 261.274 Q1953.92 261.321 1954.57 261.436 L1954.59 265.811 Z\" fill=\"#000000\" fill-rule=\"evenodd\" fill-opacity=\"1\" /><path clip-path=\"url(#clip270)\" d=\"M1958.62 277.524 L1958.62 261.83 L1962.88 261.83 L1962.88 277.362 Q1962.88 281.043 1964.31 282.895 Q1965.75 284.723 1968.62 284.723 Q1972.07 284.723 1974.06 282.524 Q1976.07 280.325 1976.07 276.529 L1976.07 261.83 L1980.33 261.83 L1980.33 287.756 L1976.07 287.756 L1976.07 283.774 Q1974.52 286.135 1972.46 287.293 Q1970.43 288.427 1967.72 288.427 Q1963.25 288.427 1960.94 285.649 Q1958.62 282.871 1958.62 277.524 M1969.34 261.205 L1969.34 261.205 Z\" fill=\"#000000\" fill-rule=\"evenodd\" fill-opacity=\"1\" /><path clip-path=\"url(#clip270)\" d=\"M2011.28 273.728 L2011.28 275.811 L1991.7 275.811 Q1991.98 280.209 1994.34 282.524 Q1996.72 284.816 2000.96 284.816 Q2003.41 284.816 2005.7 284.214 Q2008.02 283.612 2010.29 282.409 L2010.29 286.436 Q2008 287.408 2005.59 287.918 Q2003.18 288.427 2000.7 288.427 Q1994.5 288.427 1990.87 284.816 Q1987.25 281.205 1987.25 275.047 Q1987.25 268.682 1990.68 264.955 Q1994.13 261.205 1999.96 261.205 Q2005.19 261.205 2008.23 264.585 Q2011.28 267.941 2011.28 273.728 M2007.02 272.478 Q2006.98 268.983 2005.06 266.899 Q2003.16 264.816 2000.01 264.816 Q1996.44 264.816 1994.29 266.83 Q1992.16 268.844 1991.84 272.501 L2007.02 272.478 Z\" fill=\"#000000\" fill-rule=\"evenodd\" fill-opacity=\"1\" /><path clip-path=\"url(#clip270)\" d=\"M2054.24 254.33 L2054.24 258.89 Q2051.58 257.617 2049.22 256.992 Q2046.86 256.367 2044.66 256.367 Q2040.84 256.367 2038.76 257.848 Q2036.7 259.33 2036.7 262.061 Q2036.7 264.353 2038.06 265.534 Q2039.45 266.691 2043.3 267.409 L2046.12 267.987 Q2051.35 268.983 2053.83 271.506 Q2056.33 274.006 2056.33 278.219 Q2056.33 283.242 2052.95 285.834 Q2049.59 288.427 2043.09 288.427 Q2040.63 288.427 2037.86 287.871 Q2035.1 287.316 2032.14 286.228 L2032.14 281.413 Q2034.99 283.01 2037.72 283.821 Q2040.45 284.631 2043.09 284.631 Q2047.09 284.631 2049.27 283.057 Q2051.44 281.483 2051.44 278.566 Q2051.44 276.02 2049.87 274.584 Q2048.32 273.149 2044.75 272.432 L2041.91 271.876 Q2036.68 270.835 2034.34 268.612 Q2032 266.39 2032 262.432 Q2032 257.848 2035.22 255.21 Q2038.46 252.571 2044.13 252.571 Q2046.56 252.571 2049.08 253.011 Q2051.61 253.45 2054.24 254.33 Z\" fill=\"#000000\" fill-rule=\"evenodd\" fill-opacity=\"1\" /><path clip-path=\"url(#clip270)\" d=\"M2073.48 264.816 Q2070.06 264.816 2068.06 267.501 Q2066.07 270.163 2066.07 274.816 Q2066.07 279.469 2068.04 282.154 Q2070.03 284.816 2073.48 284.816 Q2076.88 284.816 2078.87 282.131 Q2080.87 279.446 2080.87 274.816 Q2080.87 270.21 2078.87 267.524 Q2076.88 264.816 2073.48 264.816 M2073.48 261.205 Q2079.04 261.205 2082.21 264.816 Q2085.38 268.427 2085.38 274.816 Q2085.38 281.182 2082.21 284.816 Q2079.04 288.427 2073.48 288.427 Q2067.9 288.427 2064.73 284.816 Q2061.58 281.182 2061.58 274.816 Q2061.58 268.427 2064.73 264.816 Q2067.9 261.205 2073.48 261.205 Z\" fill=\"#000000\" fill-rule=\"evenodd\" fill-opacity=\"1\" /><path clip-path=\"url(#clip270)\" d=\"M2092.44 251.737 L2096.7 251.737 L2096.7 287.756 L2092.44 287.756 L2092.44 251.737 Z\" fill=\"#000000\" fill-rule=\"evenodd\" fill-opacity=\"1\" /><path clip-path=\"url(#clip270)\" d=\"M2105.17 277.524 L2105.17 261.83 L2109.43 261.83 L2109.43 277.362 Q2109.43 281.043 2110.87 282.895 Q2112.3 284.723 2115.17 284.723 Q2118.62 284.723 2120.61 282.524 Q2122.62 280.325 2122.62 276.529 L2122.62 261.83 L2126.88 261.83 L2126.88 287.756 L2122.62 287.756 L2122.62 283.774 Q2121.07 286.135 2119.01 287.293 Q2116.98 288.427 2114.27 288.427 Q2109.8 288.427 2107.49 285.649 Q2105.17 282.871 2105.17 277.524 M2115.89 261.205 L2115.89 261.205 Z\" fill=\"#000000\" fill-rule=\"evenodd\" fill-opacity=\"1\" /><path clip-path=\"url(#clip270)\" d=\"M2139.87 254.469 L2139.87 261.83 L2148.64 261.83 L2148.64 265.14 L2139.87 265.14 L2139.87 279.214 Q2139.87 282.385 2140.73 283.288 Q2141.61 284.191 2144.27 284.191 L2148.64 284.191 L2148.64 287.756 L2144.27 287.756 Q2139.34 287.756 2137.46 285.927 Q2135.59 284.075 2135.59 279.214 L2135.59 265.14 L2132.46 265.14 L2132.46 261.83 L2135.59 261.83 L2135.59 254.469 L2139.87 254.469 Z\" fill=\"#000000\" fill-rule=\"evenodd\" fill-opacity=\"1\" /><path clip-path=\"url(#clip270)\" d=\"M2154.24 261.83 L2158.5 261.83 L2158.5 287.756 L2154.24 287.756 L2154.24 261.83 M2154.24 251.737 L2158.5 251.737 L2158.5 257.131 L2154.24 257.131 L2154.24 251.737 Z\" fill=\"#000000\" fill-rule=\"evenodd\" fill-opacity=\"1\" /><path clip-path=\"url(#clip270)\" d=\"M2177.46 264.816 Q2174.04 264.816 2172.05 267.501 Q2170.05 270.163 2170.05 274.816 Q2170.05 279.469 2172.02 282.154 Q2174.01 284.816 2177.46 284.816 Q2180.86 284.816 2182.86 282.131 Q2184.85 279.446 2184.85 274.816 Q2184.85 270.21 2182.86 267.524 Q2180.86 264.816 2177.46 264.816 M2177.46 261.205 Q2183.02 261.205 2186.19 264.816 Q2189.36 268.427 2189.36 274.816 Q2189.36 281.182 2186.19 284.816 Q2183.02 288.427 2177.46 288.427 Q2171.88 288.427 2168.71 284.816 Q2165.56 281.182 2165.56 274.816 Q2165.56 268.427 2168.71 264.816 Q2171.88 261.205 2177.46 261.205 Z\" fill=\"#000000\" fill-rule=\"evenodd\" fill-opacity=\"1\" /><path clip-path=\"url(#clip270)\" d=\"M2217.97 272.108 L2217.97 287.756 L2213.71 287.756 L2213.71 272.247 Q2213.71 268.566 2212.28 266.737 Q2210.84 264.909 2207.97 264.909 Q2204.52 264.909 2202.53 267.108 Q2200.54 269.307 2200.54 273.103 L2200.54 287.756 L2196.26 287.756 L2196.26 261.83 L2200.54 261.83 L2200.54 265.858 Q2202.07 263.52 2204.13 262.362 Q2206.21 261.205 2208.92 261.205 Q2213.39 261.205 2215.68 263.983 Q2217.97 266.737 2217.97 272.108 Z\" fill=\"#000000\" fill-rule=\"evenodd\" fill-opacity=\"1\" /><path clip-path=\"url(#clip270)\" d=\"M2229.15 281.876 L2233.85 281.876 L2233.85 287.756 L2229.15 287.756 L2229.15 281.876 M2229.15 253.196 L2233.85 253.196 L2233.85 268.358 L2233.39 276.622 L2229.64 276.622 L2229.15 268.358 L2229.15 253.196 Z\" fill=\"#000000\" fill-rule=\"evenodd\" fill-opacity=\"1\" /></svg>\n"
               },
               "type": "node"
              }
             ],
             "instanceArgs": {
              "namespace": "html",
              "tag": "div"
             },
             "nodeType": "DOM",
             "props": {
              "className": "interact-flex-row interact-widget"
             },
             "type": "node"
            }
           }
          },
          "systemjs_options": null
         },
         "nodeType": "Scope",
         "props": {},
         "type": "node"
        }
       ],
       "instanceArgs": {
        "namespace": "html",
        "tag": "div"
       },
       "nodeType": "DOM",
       "props": {},
       "type": "node"
      },
      "text/html": [
       "<div\n",
       "    class=\"webio-mountpoint\"\n",
       "    data-webio-mountpoint=\"14784266044566797949\"\n",
       ">\n",
       "    <script>\n",
       "    (function(){\n",
       "    // Some integrations (namely, IJulia/Jupyter) use an alternate render pathway than\n",
       "    // just putting the html on the page. If WebIO isn't defined, then it's pretty likely\n",
       "    // that we're in one of those situations and the integration just isn't installed\n",
       "    // correctly.\n",
       "    if (typeof window.WebIO === \"undefined\") {\n",
       "        document\n",
       "            .querySelector('[data-webio-mountpoint=\"14784266044566797949\"]')\n",
       "            .innerHTML = (\n",
       "                '<div style=\"padding: 1em; background-color: #f8d6da; border: 1px solid #f5c6cb; font-weight: bold;\">' +\n",
       "                '<p><strong>WebIO not detected.</strong></p>' +\n",
       "                '<p>Please read ' +\n",
       "                '<a href=\"https://juliagizmos.github.io/WebIO.jl/latest/troubleshooting/not-detected/\" target=\"_blank\">the troubleshooting guide</a> ' +\n",
       "                'for more information on how to resolve this issue.</p>' +\n",
       "                '<p><a href=\"https://juliagizmos.github.io/WebIO.jl/latest/troubleshooting/not-detected/\" target=\"_blank\">https://juliagizmos.github.io/WebIO.jl/latest/troubleshooting/not-detected/</a></p>' +\n",
       "                '</div>'\n",
       "            );\n",
       "        return;\n",
       "    }\n",
       "    WebIO.mount(\n",
       "        document.querySelector('[data-webio-mountpoint=\"14784266044566797949\"]'),\n",
       "        {\"props\":{},\"nodeType\":\"DOM\",\"type\":\"node\",\"instanceArgs\":{\"namespace\":\"html\",\"tag\":\"div\"},\"children\":[{\"props\":{\"className\":\"field interact-widget\"},\"nodeType\":\"DOM\",\"type\":\"node\",\"instanceArgs\":{\"namespace\":\"html\",\"tag\":\"div\"},\"children\":[{\"props\":{},\"nodeType\":\"Scope\",\"type\":\"node\",\"instanceArgs\":{\"imports\":{\"data\":[{\"name\":\"knockout\",\"type\":\"js\",\"url\":\"\\/assetserver\\/cac7d612f4f46bcf6ac9ae563cba0affdcffff6e-knockout.js\"},{\"name\":\"knockout_punches\",\"type\":\"js\",\"url\":\"\\/assetserver\\/c56cedf4624e6506768a585b0f1cd0fef8b62ebb-knockout_punches.js\"},{\"name\":null,\"type\":\"js\",\"url\":\"\\/assetserver\\/2e2885b3b52200afef6f8a6430c9e4352785b2c9-all.js\"},{\"name\":null,\"type\":\"css\",\"url\":\"\\/assetserver\\/96e99e89e1a65b61a3cdaaec5b7bf2a05e349157-style.css\"},{\"name\":null,\"type\":\"css\",\"url\":\"\\/assetserver\\/6329d8deba54937f9d955dd4bbf48dd22d3c62a6-bulma_confined.min.css\"}],\"type\":\"async_block\"},\"id\":\"9900175208785853392\",\"handlers\":{\"changes\":[\"(function (val){return (val!=this.model[\\\"changes\\\"]()) ? (this.valueFromJulia[\\\"changes\\\"]=true, this.model[\\\"changes\\\"](val)) : undefined})\"],\"index\":[\"(function (val){return (val!=this.model[\\\"index\\\"]()) ? (this.valueFromJulia[\\\"index\\\"]=true, this.model[\\\"index\\\"](val)) : undefined})\"]},\"systemjs_options\":null,\"mount_callbacks\":[\"function () {\\n    var handler = (function (ko, koPunches) {\\n    ko.punches.enableAll();\\n    ko.bindingHandlers.numericValue = {\\n        init: function(element, valueAccessor, allBindings, data, context) {\\n            var stringified = ko.observable(ko.unwrap(valueAccessor()));\\n            stringified.subscribe(function(value) {\\n                var val = parseFloat(value);\\n                if (!isNaN(val)) {\\n                    valueAccessor()(val);\\n                }\\n            });\\n            valueAccessor().subscribe(function(value) {\\n                var str = JSON.stringify(value);\\n                if ((str == \\\"0\\\") && ([\\\"-0\\\", \\\"-0.\\\"].indexOf(stringified()) >= 0))\\n                     return;\\n                 if ([\\\"null\\\", \\\"\\\"].indexOf(str) >= 0)\\n                     return;\\n                stringified(str);\\n            });\\n            ko.applyBindingsToNode(\\n                element,\\n                {\\n                    value: stringified,\\n                    valueUpdate: allBindings.get('valueUpdate'),\\n                },\\n                context,\\n            );\\n        }\\n    };\\n    var json_data = {\\\"formatted_vals\\\":[\\\"-3.0\\\",\\\"-2.9\\\",\\\"-2.8\\\",\\\"-2.7\\\",\\\"-2.6\\\",\\\"-2.5\\\",\\\"-2.4\\\",\\\"-2.3\\\",\\\"-2.2\\\",\\\"-2.1\\\",\\\"-2.0\\\",\\\"-1.9\\\",\\\"-1.8\\\",\\\"-1.7\\\",\\\"-1.6\\\",\\\"-1.5\\\",\\\"-1.4\\\",\\\"-1.3\\\",\\\"-1.2\\\",\\\"-1.1\\\",\\\"-1.0\\\",\\\"-0.9\\\",\\\"-0.8\\\",\\\"-0.7\\\",\\\"-0.6\\\",\\\"-0.5\\\",\\\"-0.4\\\",\\\"-0.3\\\",\\\"-0.2\\\",\\\"-0.1\\\",\\\"0.0\\\",\\\"0.1\\\",\\\"0.2\\\",\\\"0.3\\\",\\\"0.4\\\",\\\"0.5\\\",\\\"0.6\\\",\\\"0.7\\\",\\\"0.8\\\",\\\"0.9\\\",\\\"1.0\\\"],\\\"changes\\\":WebIO.getval({\\\"name\\\":\\\"changes\\\",\\\"scope\\\":\\\"9900175208785853392\\\",\\\"id\\\":\\\"17405343991993248308\\\",\\\"type\\\":\\\"observable\\\"}),\\\"index\\\":WebIO.getval({\\\"name\\\":\\\"index\\\",\\\"scope\\\":\\\"9900175208785853392\\\",\\\"id\\\":\\\"2419543283822774073\\\",\\\"type\\\":\\\"observable\\\"})};\\n    var self = this;\\n    function AppViewModel() {\\n        for (var key in json_data) {\\n            var el = json_data[key];\\n            this[key] = Array.isArray(el) ? ko.observableArray(el) : ko.observable(el);\\n        }\\n        \\n        [this[\\\"formatted_val\\\"]=ko.computed(    function(){\\n        return this.formatted_vals()[parseInt(this.index())-(1)];\\n    }\\n,this)]\\n        [this[\\\"changes\\\"].subscribe((function (val){!(this.valueFromJulia[\\\"changes\\\"]) ? (WebIO.setval({\\\"name\\\":\\\"changes\\\",\\\"scope\\\":\\\"9900175208785853392\\\",\\\"id\\\":\\\"17405343991993248308\\\",\\\"type\\\":\\\"observable\\\"},val)) : undefined; return this.valueFromJulia[\\\"changes\\\"]=false}),self),this[\\\"index\\\"].subscribe((function (val){!(this.valueFromJulia[\\\"index\\\"]) ? (WebIO.setval({\\\"name\\\":\\\"index\\\",\\\"scope\\\":\\\"9900175208785853392\\\",\\\"id\\\":\\\"2419543283822774073\\\",\\\"type\\\":\\\"observable\\\"},val)) : undefined; return this.valueFromJulia[\\\"index\\\"]=false}),self)]\\n        \\n    }\\n    self.model = new AppViewModel();\\n    self.valueFromJulia = {};\\n    for (var key in json_data) {\\n        self.valueFromJulia[key] = false;\\n    }\\n    ko.applyBindings(self.model, self.dom);\\n}\\n);\\n    (WebIO.importBlock({\\\"data\\\":[{\\\"name\\\":\\\"knockout\\\",\\\"type\\\":\\\"js\\\",\\\"url\\\":\\\"\\/assetserver\\/cac7d612f4f46bcf6ac9ae563cba0affdcffff6e-knockout.js\\\"},{\\\"name\\\":\\\"knockout_punches\\\",\\\"type\\\":\\\"js\\\",\\\"url\\\":\\\"\\/assetserver\\/c56cedf4624e6506768a585b0f1cd0fef8b62ebb-knockout_punches.js\\\"}],\\\"type\\\":\\\"async_block\\\"})).then((imports) => handler.apply(this, imports));\\n}\\n\"],\"observables\":{\"changes\":{\"sync\":false,\"id\":\"17405343991993248308\",\"value\":0},\"index\":{\"sync\":true,\"id\":\"2419543283822774073\",\"value\":21}}},\"children\":[{\"props\":{\"className\":\"interact-flex-row interact-widget\"},\"nodeType\":\"DOM\",\"type\":\"node\",\"instanceArgs\":{\"namespace\":\"html\",\"tag\":\"div\"},\"children\":[{\"props\":{\"className\":\"interact-flex-row-left\"},\"nodeType\":\"DOM\",\"type\":\"node\",\"instanceArgs\":{\"namespace\":\"html\",\"tag\":\"div\"},\"children\":[{\"props\":{\"className\":\"interact \",\"style\":{\"padding\":\"5px 10px 0px 10px\"}},\"nodeType\":\"DOM\",\"type\":\"node\",\"instanceArgs\":{\"namespace\":\"html\",\"tag\":\"label\"},\"children\":[\"k\"]}]},{\"props\":{\"className\":\"interact-flex-row-center\"},\"nodeType\":\"DOM\",\"type\":\"node\",\"instanceArgs\":{\"namespace\":\"html\",\"tag\":\"div\"},\"children\":[{\"props\":{\"max\":41,\"min\":1,\"attributes\":{\"type\":\"range\",\"data-bind\":\"numericValue: index, valueUpdate: 'input', event: {change: function (){this.changes(this.changes()+1)}}\",\"orient\":\"horizontal\"},\"step\":1,\"className\":\"slider slider is-fullwidth\",\"style\":{}},\"nodeType\":\"DOM\",\"type\":\"node\",\"instanceArgs\":{\"namespace\":\"html\",\"tag\":\"input\"},\"children\":[]}]},{\"props\":{\"className\":\"interact-flex-row-right\"},\"nodeType\":\"DOM\",\"type\":\"node\",\"instanceArgs\":{\"namespace\":\"html\",\"tag\":\"div\"},\"children\":[{\"props\":{\"attributes\":{\"data-bind\":\"text: formatted_val\"}},\"nodeType\":\"DOM\",\"type\":\"node\",\"instanceArgs\":{\"namespace\":\"html\",\"tag\":\"p\"},\"children\":[]}]}]}]}]},{\"props\":{\"className\":\"field interact-widget\"},\"nodeType\":\"DOM\",\"type\":\"node\",\"instanceArgs\":{\"namespace\":\"html\",\"tag\":\"div\"},\"children\":[{\"props\":{},\"nodeType\":\"Scope\",\"type\":\"node\",\"instanceArgs\":{\"imports\":{\"data\":[{\"name\":\"knockout\",\"type\":\"js\",\"url\":\"\\/assetserver\\/cac7d612f4f46bcf6ac9ae563cba0affdcffff6e-knockout.js\"},{\"name\":\"knockout_punches\",\"type\":\"js\",\"url\":\"\\/assetserver\\/c56cedf4624e6506768a585b0f1cd0fef8b62ebb-knockout_punches.js\"},{\"name\":null,\"type\":\"js\",\"url\":\"\\/assetserver\\/2e2885b3b52200afef6f8a6430c9e4352785b2c9-all.js\"},{\"name\":null,\"type\":\"css\",\"url\":\"\\/assetserver\\/96e99e89e1a65b61a3cdaaec5b7bf2a05e349157-style.css\"},{\"name\":null,\"type\":\"css\",\"url\":\"\\/assetserver\\/6329d8deba54937f9d955dd4bbf48dd22d3c62a6-bulma_confined.min.css\"}],\"type\":\"async_block\"},\"id\":\"14510243297997023771\",\"handlers\":{\"changes\":[\"(function (val){return (val!=this.model[\\\"changes\\\"]()) ? (this.valueFromJulia[\\\"changes\\\"]=true, this.model[\\\"changes\\\"](val)) : undefined})\"],\"index\":[\"(function (val){return (val!=this.model[\\\"index\\\"]()) ? (this.valueFromJulia[\\\"index\\\"]=true, this.model[\\\"index\\\"](val)) : undefined})\"]},\"systemjs_options\":null,\"mount_callbacks\":[\"function () {\\n    var handler = (function (ko, koPunches) {\\n    ko.punches.enableAll();\\n    ko.bindingHandlers.numericValue = {\\n        init: function(element, valueAccessor, allBindings, data, context) {\\n            var stringified = ko.observable(ko.unwrap(valueAccessor()));\\n            stringified.subscribe(function(value) {\\n                var val = parseFloat(value);\\n                if (!isNaN(val)) {\\n                    valueAccessor()(val);\\n                }\\n            });\\n            valueAccessor().subscribe(function(value) {\\n                var str = JSON.stringify(value);\\n                if ((str == \\\"0\\\") && ([\\\"-0\\\", \\\"-0.\\\"].indexOf(stringified()) >= 0))\\n                     return;\\n                 if ([\\\"null\\\", \\\"\\\"].indexOf(str) >= 0)\\n                     return;\\n                stringified(str);\\n            });\\n            ko.applyBindingsToNode(\\n                element,\\n                {\\n                    value: stringified,\\n                    valueUpdate: allBindings.get('valueUpdate'),\\n                },\\n                context,\\n            );\\n        }\\n    };\\n    var json_data = {\\\"formatted_vals\\\":[\\\"-3.0\\\",\\\"-2.9\\\",\\\"-2.8\\\",\\\"-2.7\\\",\\\"-2.6\\\",\\\"-2.5\\\",\\\"-2.4\\\",\\\"-2.3\\\",\\\"-2.2\\\",\\\"-2.1\\\",\\\"-2.0\\\",\\\"-1.9\\\",\\\"-1.8\\\",\\\"-1.7\\\",\\\"-1.6\\\",\\\"-1.5\\\",\\\"-1.4\\\",\\\"-1.3\\\",\\\"-1.2\\\",\\\"-1.1\\\",\\\"-1.0\\\",\\\"-0.9\\\",\\\"-0.8\\\",\\\"-0.7\\\",\\\"-0.6\\\",\\\"-0.5\\\",\\\"-0.4\\\",\\\"-0.3\\\",\\\"-0.2\\\",\\\"-0.1\\\",\\\"0.0\\\",\\\"0.1\\\",\\\"0.2\\\",\\\"0.3\\\",\\\"0.4\\\",\\\"0.5\\\",\\\"0.6\\\",\\\"0.7\\\",\\\"0.8\\\",\\\"0.9\\\",\\\"1.0\\\",\\\"1.1\\\",\\\"1.2\\\",\\\"1.3\\\",\\\"1.4\\\",\\\"1.5\\\",\\\"1.6\\\",\\\"1.7\\\",\\\"1.8\\\",\\\"1.9\\\",\\\"2.0\\\",\\\"2.1\\\",\\\"2.2\\\",\\\"2.3\\\",\\\"2.4\\\",\\\"2.5\\\",\\\"2.6\\\",\\\"2.7\\\",\\\"2.8\\\",\\\"2.9\\\",\\\"3.0\\\"],\\\"changes\\\":WebIO.getval({\\\"name\\\":\\\"changes\\\",\\\"scope\\\":\\\"14510243297997023771\\\",\\\"id\\\":\\\"9021767755229684658\\\",\\\"type\\\":\\\"observable\\\"}),\\\"index\\\":WebIO.getval({\\\"name\\\":\\\"index\\\",\\\"scope\\\":\\\"14510243297997023771\\\",\\\"id\\\":\\\"8278339663616774308\\\",\\\"type\\\":\\\"observable\\\"})};\\n    var self = this;\\n    function AppViewModel() {\\n        for (var key in json_data) {\\n            var el = json_data[key];\\n            this[key] = Array.isArray(el) ? ko.observableArray(el) : ko.observable(el);\\n        }\\n        \\n        [this[\\\"formatted_val\\\"]=ko.computed(    function(){\\n        return this.formatted_vals()[parseInt(this.index())-(1)];\\n    }\\n,this)]\\n        [this[\\\"changes\\\"].subscribe((function (val){!(this.valueFromJulia[\\\"changes\\\"]) ? (WebIO.setval({\\\"name\\\":\\\"changes\\\",\\\"scope\\\":\\\"14510243297997023771\\\",\\\"id\\\":\\\"9021767755229684658\\\",\\\"type\\\":\\\"observable\\\"},val)) : undefined; return this.valueFromJulia[\\\"changes\\\"]=false}),self),this[\\\"index\\\"].subscribe((function (val){!(this.valueFromJulia[\\\"index\\\"]) ? (WebIO.setval({\\\"name\\\":\\\"index\\\",\\\"scope\\\":\\\"14510243297997023771\\\",\\\"id\\\":\\\"8278339663616774308\\\",\\\"type\\\":\\\"observable\\\"},val)) : undefined; return this.valueFromJulia[\\\"index\\\"]=false}),self)]\\n        \\n    }\\n    self.model = new AppViewModel();\\n    self.valueFromJulia = {};\\n    for (var key in json_data) {\\n        self.valueFromJulia[key] = false;\\n    }\\n    ko.applyBindings(self.model, self.dom);\\n}\\n);\\n    (WebIO.importBlock({\\\"data\\\":[{\\\"name\\\":\\\"knockout\\\",\\\"type\\\":\\\"js\\\",\\\"url\\\":\\\"\\/assetserver\\/cac7d612f4f46bcf6ac9ae563cba0affdcffff6e-knockout.js\\\"},{\\\"name\\\":\\\"knockout_punches\\\",\\\"type\\\":\\\"js\\\",\\\"url\\\":\\\"\\/assetserver\\/c56cedf4624e6506768a585b0f1cd0fef8b62ebb-knockout_punches.js\\\"}],\\\"type\\\":\\\"async_block\\\"})).then((imports) => handler.apply(this, imports));\\n}\\n\"],\"observables\":{\"changes\":{\"sync\":false,\"id\":\"9021767755229684658\",\"value\":0},\"index\":{\"sync\":true,\"id\":\"8278339663616774308\",\"value\":31}}},\"children\":[{\"props\":{\"className\":\"interact-flex-row interact-widget\"},\"nodeType\":\"DOM\",\"type\":\"node\",\"instanceArgs\":{\"namespace\":\"html\",\"tag\":\"div\"},\"children\":[{\"props\":{\"className\":\"interact-flex-row-left\"},\"nodeType\":\"DOM\",\"type\":\"node\",\"instanceArgs\":{\"namespace\":\"html\",\"tag\":\"div\"},\"children\":[{\"props\":{\"className\":\"interact \",\"style\":{\"padding\":\"5px 10px 0px 10px\"}},\"nodeType\":\"DOM\",\"type\":\"node\",\"instanceArgs\":{\"namespace\":\"html\",\"tag\":\"label\"},\"children\":[\"x0\"]}]},{\"props\":{\"className\":\"interact-flex-row-center\"},\"nodeType\":\"DOM\",\"type\":\"node\",\"instanceArgs\":{\"namespace\":\"html\",\"tag\":\"div\"},\"children\":[{\"props\":{\"max\":61,\"min\":1,\"attributes\":{\"type\":\"range\",\"data-bind\":\"numericValue: index, valueUpdate: 'input', event: {change: function (){this.changes(this.changes()+1)}}\",\"orient\":\"horizontal\"},\"step\":1,\"className\":\"slider slider is-fullwidth\",\"style\":{}},\"nodeType\":\"DOM\",\"type\":\"node\",\"instanceArgs\":{\"namespace\":\"html\",\"tag\":\"input\"},\"children\":[]}]},{\"props\":{\"className\":\"interact-flex-row-right\"},\"nodeType\":\"DOM\",\"type\":\"node\",\"instanceArgs\":{\"namespace\":\"html\",\"tag\":\"div\"},\"children\":[{\"props\":{\"attributes\":{\"data-bind\":\"text: formatted_val\"}},\"nodeType\":\"DOM\",\"type\":\"node\",\"instanceArgs\":{\"namespace\":\"html\",\"tag\":\"p\"},\"children\":[]}]}]}]}]},{\"props\":{},\"nodeType\":\"Scope\",\"type\":\"node\",\"instanceArgs\":{\"imports\":{\"data\":[],\"type\":\"async_block\"},\"id\":\"10623669486109942541\",\"handlers\":{},\"systemjs_options\":null,\"mount_callbacks\":[],\"observables\":{\"obs-node\":{\"sync\":false,\"id\":\"3730674448030045884\",\"value\":{\"props\":{\"className\":\"interact-flex-row interact-widget\"},\"nodeType\":\"DOM\",\"type\":\"node\",\"instanceArgs\":{\"namespace\":\"html\",\"tag\":\"div\"},\"children\":[{\"props\":{\"setInnerHtml\":\"<?xml version=\\\"1.0\\\" encoding=\\\"utf-8\\\"?>\\n<svg xmlns=\\\"http:\\/\\/www.w3.org\\/2000\\/svg\\\" xmlns:xlink=\\\"http:\\/\\/www.w3.org\\/1999\\/xlink\\\" width=\\\"600\\\" height=\\\"400\\\" viewBox=\\\"0 0 2400 1600\\\">\\n<defs>\\n  <clipPath id=\\\"clip230\\\">\\n    <rect x=\\\"0\\\" y=\\\"0\\\" width=\\\"2400\\\" height=\\\"1600\\\"\\/>\\n  <\\/clipPath>\\n<\\/defs>\\n<path clip-path=\\\"url(#clip230)\\\" d=\\\"\\nM0 1600 L2400 1600 L2400 0 L0 0  Z\\n  \\\" fill=\\\"#ffffff\\\" fill-rule=\\\"evenodd\\\" fill-opacity=\\\"1\\\"\\/>\\n<defs>\\n  <clipPath id=\\\"clip231\\\">\\n    <rect x=\\\"480\\\" y=\\\"0\\\" width=\\\"1681\\\" height=\\\"1600\\\"\\/>\\n  <\\/clipPath>\\n<\\/defs>\\n<path clip-path=\\\"url(#clip230)\\\" d=\\\"\\nM212.459 1423.18 L2352.76 1423.18 L2352.76 123.472 L212.459 123.472  Z\\n  \\\" fill=\\\"#ffffff\\\" fill-rule=\\\"evenodd\\\" fill-opacity=\\\"1\\\"\\/>\\n<defs>\\n  <clipPath id=\\\"clip232\\\">\\n    <rect x=\\\"212\\\" y=\\\"123\\\" width=\\\"2141\\\" height=\\\"1301\\\"\\/>\\n  <\\/clipPath>\\n<\\/defs>\\n<polyline clip-path=\\\"url(#clip232)\\\" style=\\\"stroke:#000000; stroke-linecap:butt; stroke-linejoin:round; stroke-width:2; stroke-opacity:0.1; fill:none\\\" points=\\\"\\n  212.459,1423.18 212.459,123.472 \\n  \\\"\\/>\\n<polyline clip-path=\\\"url(#clip232)\\\" style=\\\"stroke:#000000; stroke-linecap:butt; stroke-linejoin:round; stroke-width:2; stroke-opacity:0.1; fill:none\\\" points=\\\"\\n  925.891,1423.18 925.891,123.472 \\n  \\\"\\/>\\n<polyline clip-path=\\\"url(#clip232)\\\" style=\\\"stroke:#000000; stroke-linecap:butt; stroke-linejoin:round; stroke-width:2; stroke-opacity:0.1; fill:none\\\" points=\\\"\\n  1639.32,1423.18 1639.32,123.472 \\n  \\\"\\/>\\n<polyline clip-path=\\\"url(#clip232)\\\" style=\\\"stroke:#000000; stroke-linecap:butt; stroke-linejoin:round; stroke-width:2; stroke-opacity:0.1; fill:none\\\" points=\\\"\\n  2352.76,1423.18 2352.76,123.472 \\n  \\\"\\/>\\n<polyline clip-path=\\\"url(#clip230)\\\" style=\\\"stroke:#000000; stroke-linecap:butt; stroke-linejoin:round; stroke-width:4; stroke-opacity:1; fill:none\\\" points=\\\"\\n  212.459,1423.18 2352.76,1423.18 \\n  \\\"\\/>\\n<polyline clip-path=\\\"url(#clip230)\\\" style=\\\"stroke:#000000; stroke-linecap:butt; stroke-linejoin:round; stroke-width:4; stroke-opacity:1; fill:none\\\" points=\\\"\\n  212.459,1423.18 212.459,1404.28 \\n  \\\"\\/>\\n<polyline clip-path=\\\"url(#clip230)\\\" style=\\\"stroke:#000000; stroke-linecap:butt; stroke-linejoin:round; stroke-width:4; stroke-opacity:1; fill:none\\\" points=\\\"\\n  925.891,1423.18 925.891,1404.28 \\n  \\\"\\/>\\n<polyline clip-path=\\\"url(#clip230)\\\" style=\\\"stroke:#000000; stroke-linecap:butt; stroke-linejoin:round; stroke-width:4; stroke-opacity:1; fill:none\\\" points=\\\"\\n  1639.32,1423.18 1639.32,1404.28 \\n  \\\"\\/>\\n<polyline clip-path=\\\"url(#clip230)\\\" style=\\\"stroke:#000000; stroke-linecap:butt; stroke-linejoin:round; stroke-width:4; stroke-opacity:1; fill:none\\\" points=\\\"\\n  2352.76,1423.18 2352.76,1404.28 \\n  \\\"\\/>\\n<path clip-path=\\\"url(#clip230)\\\" d=\\\"M212.459 1454.1 Q208.848 1454.1 207.019 1457.66 Q205.214 1461.2 205.214 1468.33 Q205.214 1475.44 207.019 1479.01 Q208.848 1482.55 212.459 1482.55 Q216.093 1482.55 217.899 1479.01 Q219.727 1475.44 219.727 1468.33 Q219.727 1461.2 217.899 1457.66 Q216.093 1454.1 212.459 1454.1 M212.459 1450.39 Q218.269 1450.39 221.325 1455 Q224.403 1459.58 224.403 1468.33 Q224.403 1477.06 221.325 1481.67 Q218.269 1486.25 212.459 1486.25 Q206.649 1486.25 203.57 1481.67 Q200.515 1477.06 200.515 1468.33 Q200.515 1459.58 203.57 1455 Q206.649 1450.39 212.459 1450.39 Z\\\" fill=\\\"#000000\\\" fill-rule=\\\"evenodd\\\" fill-opacity=\\\"1\\\" \\/><path clip-path=\\\"url(#clip230)\\\" d=\\\"M916.273 1481.64 L923.912 1481.64 L923.912 1455.28 L915.602 1456.95 L915.602 1452.69 L923.866 1451.02 L928.542 1451.02 L928.542 1481.64 L936.181 1481.64 L936.181 1485.58 L916.273 1485.58 L916.273 1481.64 Z\\\" fill=\\\"#000000\\\" fill-rule=\\\"evenodd\\\" fill-opacity=\\\"1\\\" \\/><path clip-path=\\\"url(#clip230)\\\" d=\\\"M1633.98 1481.64 L1650.3 1481.64 L1650.3 1485.58 L1628.35 1485.58 L1628.35 1481.64 Q1631.01 1478.89 1635.6 1474.26 Q1640.2 1469.61 1641.38 1468.27 Q1643.63 1465.74 1644.51 1464.01 Q1645.41 1462.25 1645.41 1460.56 Q1645.41 1457.8 1643.47 1456.07 Q1641.55 1454.33 1638.44 1454.33 Q1636.24 1454.33 1633.79 1455.09 Q1631.36 1455.86 1628.58 1457.41 L1628.58 1452.69 Q1631.41 1451.55 1633.86 1450.97 Q1636.31 1450.39 1638.35 1450.39 Q1643.72 1450.39 1646.92 1453.08 Q1650.11 1455.77 1650.11 1460.26 Q1650.11 1462.39 1649.3 1464.31 Q1648.51 1466.2 1646.41 1468.8 Q1645.83 1469.47 1642.73 1472.69 Q1639.62 1475.88 1633.98 1481.64 Z\\\" fill=\\\"#000000\\\" fill-rule=\\\"evenodd\\\" fill-opacity=\\\"1\\\" \\/><path clip-path=\\\"url(#clip230)\\\" d=\\\"M2357 1466.95 Q2360.36 1467.66 2362.24 1469.93 Q2364.13 1472.2 2364.13 1475.53 Q2364.13 1480.65 2360.61 1483.45 Q2357.1 1486.25 2350.61 1486.25 Q2348.44 1486.25 2346.12 1485.81 Q2343.83 1485.39 2341.38 1484.54 L2341.38 1480.02 Q2343.32 1481.16 2345.64 1481.74 Q2347.95 1482.32 2350.48 1482.32 Q2354.87 1482.32 2357.17 1480.58 Q2359.48 1478.84 2359.48 1475.53 Q2359.48 1472.48 2357.33 1470.77 Q2355.2 1469.03 2351.38 1469.03 L2347.35 1469.03 L2347.35 1465.19 L2351.56 1465.19 Q2355.01 1465.19 2356.84 1463.82 Q2358.67 1462.43 2358.67 1459.84 Q2358.67 1457.18 2356.77 1455.77 Q2354.9 1454.33 2351.38 1454.33 Q2349.46 1454.33 2347.26 1454.75 Q2345.06 1455.16 2342.42 1456.04 L2342.42 1451.88 Q2345.08 1451.14 2347.4 1450.77 Q2349.74 1450.39 2351.8 1450.39 Q2357.12 1450.39 2360.22 1452.83 Q2363.32 1455.23 2363.32 1459.35 Q2363.32 1462.22 2361.68 1464.21 Q2360.04 1466.18 2357 1466.95 Z\\\" fill=\\\"#000000\\\" fill-rule=\\\"evenodd\\\" fill-opacity=\\\"1\\\" \\/><path clip-path=\\\"url(#clip230)\\\" d=\\\"M1167.34 1520.52 L1207.54 1520.52 L1207.54 1525.93 L1190.67 1525.93 L1190.67 1568.04 L1184.21 1568.04 L1184.21 1525.93 L1167.34 1525.93 L1167.34 1520.52 Z\\\" fill=\\\"#000000\\\" fill-rule=\\\"evenodd\\\" fill-opacity=\\\"1\\\" \\/><path clip-path=\\\"url(#clip230)\\\" d=\\\"M1211.49 1532.4 L1217.34 1532.4 L1217.34 1568.04 L1211.49 1568.04 L1211.49 1532.4 M1211.49 1518.52 L1217.34 1518.52 L1217.34 1525.93 L1211.49 1525.93 L1211.49 1518.52 Z\\\" fill=\\\"#000000\\\" fill-rule=\\\"evenodd\\\" fill-opacity=\\\"1\\\" \\/><path clip-path=\\\"url(#clip230)\\\" d=\\\"M1257.35 1539.24 Q1259.55 1535.29 1262.6 1533.41 Q1265.66 1531.54 1269.8 1531.54 Q1275.37 1531.54 1278.39 1535.45 Q1281.41 1539.33 1281.41 1546.53 L1281.41 1568.04 L1275.53 1568.04 L1275.53 1546.72 Q1275.53 1541.59 1273.71 1539.11 Q1271.9 1536.63 1268.17 1536.63 Q1263.62 1536.63 1260.98 1539.65 Q1258.34 1542.68 1258.34 1547.9 L1258.34 1568.04 L1252.45 1568.04 L1252.45 1546.72 Q1252.45 1541.56 1250.64 1539.11 Q1248.82 1536.63 1245.03 1536.63 Q1240.55 1536.63 1237.9 1539.68 Q1235.26 1542.71 1235.26 1547.9 L1235.26 1568.04 L1229.37 1568.04 L1229.37 1532.4 L1235.26 1532.4 L1235.26 1537.93 Q1237.27 1534.66 1240.07 1533.1 Q1242.87 1531.54 1246.72 1531.54 Q1250.6 1531.54 1253.31 1533.51 Q1256.05 1535.48 1257.35 1539.24 Z\\\" fill=\\\"#000000\\\" fill-rule=\\\"evenodd\\\" fill-opacity=\\\"1\\\" \\/><path clip-path=\\\"url(#clip230)\\\" d=\\\"M1323.59 1548.76 L1323.59 1551.62 L1296.66 1551.62 Q1297.04 1557.67 1300.29 1560.85 Q1303.57 1564 1309.39 1564 Q1312.76 1564 1315.92 1563.17 Q1319.1 1562.35 1322.22 1560.69 L1322.22 1566.23 Q1319.07 1567.57 1315.76 1568.27 Q1312.45 1568.97 1309.04 1568.97 Q1300.51 1568.97 1295.51 1564 Q1290.55 1559.04 1290.55 1550.57 Q1290.55 1541.82 1295.26 1536.69 Q1300 1531.54 1308.02 1531.54 Q1315.22 1531.54 1319.39 1536.18 Q1323.59 1540.8 1323.59 1548.76 M1317.73 1547.04 Q1317.67 1542.23 1315.02 1539.37 Q1312.41 1536.5 1308.09 1536.5 Q1303.18 1536.5 1300.22 1539.27 Q1297.3 1542.04 1296.85 1547.07 L1317.73 1547.04 Z\\\" fill=\\\"#000000\\\" fill-rule=\\\"evenodd\\\" fill-opacity=\\\"1\\\" \\/><path clip-path=\\\"url(#clip230)\\\" d=\\\"M1347.27 1518.58 Q1343 1525.9 1340.93 1533.06 Q1338.86 1540.23 1338.86 1547.58 Q1338.86 1554.93 1340.93 1562.16 Q1343.03 1569.35 1347.27 1576.64 L1342.17 1576.64 Q1337.4 1569.16 1335.01 1561.93 Q1332.66 1554.71 1332.66 1547.58 Q1332.66 1540.48 1335.01 1533.29 Q1337.37 1526.09 1342.17 1518.58 L1347.27 1518.58 Z\\\" fill=\\\"#000000\\\" fill-rule=\\\"evenodd\\\" fill-opacity=\\\"1\\\" \\/><path clip-path=\\\"url(#clip230)\\\" d=\\\"M1364.42 1522.27 L1364.42 1532.4 L1376.49 1532.4 L1376.49 1536.95 L1364.42 1536.95 L1364.42 1556.3 Q1364.42 1560.66 1365.6 1561.9 Q1366.81 1563.14 1370.47 1563.14 L1376.49 1563.14 L1376.49 1568.04 L1370.47 1568.04 Q1363.69 1568.04 1361.11 1565.53 Q1358.53 1562.98 1358.53 1556.3 L1358.53 1536.95 L1354.24 1536.95 L1354.24 1532.4 L1358.53 1532.4 L1358.53 1522.27 L1364.42 1522.27 Z\\\" fill=\\\"#000000\\\" fill-rule=\\\"evenodd\\\" fill-opacity=\\\"1\\\" \\/><path clip-path=\\\"url(#clip230)\\\" d=\\\"M1383.27 1518.58 L1388.36 1518.58 Q1393.13 1526.09 1395.49 1533.29 Q1397.87 1540.48 1397.87 1547.58 Q1397.87 1554.71 1395.49 1561.93 Q1393.13 1569.16 1388.36 1576.64 L1383.27 1576.64 Q1387.5 1569.35 1389.57 1562.16 Q1391.67 1554.93 1391.67 1547.58 Q1391.67 1540.23 1389.57 1533.06 Q1387.5 1525.9 1383.27 1518.58 Z\\\" fill=\\\"#000000\\\" fill-rule=\\\"evenodd\\\" fill-opacity=\\\"1\\\" \\/><polyline clip-path=\\\"url(#clip232)\\\" style=\\\"stroke:#000000; stroke-linecap:butt; stroke-linejoin:round; stroke-width:2; stroke-opacity:0.1; fill:none\\\" points=\\\"\\n  212.459,1423.18 2352.76,1423.18 \\n  \\\"\\/>\\n<polyline clip-path=\\\"url(#clip232)\\\" style=\\\"stroke:#000000; stroke-linecap:butt; stroke-linejoin:round; stroke-width:2; stroke-opacity:0.1; fill:none\\\" points=\\\"\\n  212.459,1134.36 2352.76,1134.36 \\n  \\\"\\/>\\n<polyline clip-path=\\\"url(#clip232)\\\" style=\\\"stroke:#000000; stroke-linecap:butt; stroke-linejoin:round; stroke-width:2; stroke-opacity:0.1; fill:none\\\" points=\\\"\\n  212.459,845.532 2352.76,845.532 \\n  \\\"\\/>\\n<polyline clip-path=\\\"url(#clip232)\\\" style=\\\"stroke:#000000; stroke-linecap:butt; stroke-linejoin:round; stroke-width:2; stroke-opacity:0.1; fill:none\\\" points=\\\"\\n  212.459,556.708 2352.76,556.708 \\n  \\\"\\/>\\n<polyline clip-path=\\\"url(#clip232)\\\" style=\\\"stroke:#000000; stroke-linecap:butt; stroke-linejoin:round; stroke-width:2; stroke-opacity:0.1; fill:none\\\" points=\\\"\\n  212.459,267.884 2352.76,267.884 \\n  \\\"\\/>\\n<polyline clip-path=\\\"url(#clip230)\\\" style=\\\"stroke:#000000; stroke-linecap:butt; stroke-linejoin:round; stroke-width:4; stroke-opacity:1; fill:none\\\" points=\\\"\\n  212.459,1423.18 212.459,123.472 \\n  \\\"\\/>\\n<polyline clip-path=\\\"url(#clip230)\\\" style=\\\"stroke:#000000; stroke-linecap:butt; stroke-linejoin:round; stroke-width:4; stroke-opacity:1; fill:none\\\" points=\\\"\\n  212.459,1423.18 231.357,1423.18 \\n  \\\"\\/>\\n<polyline clip-path=\\\"url(#clip230)\\\" style=\\\"stroke:#000000; stroke-linecap:butt; stroke-linejoin:round; stroke-width:4; stroke-opacity:1; fill:none\\\" points=\\\"\\n  212.459,1134.36 231.357,1134.36 \\n  \\\"\\/>\\n<polyline clip-path=\\\"url(#clip230)\\\" style=\\\"stroke:#000000; stroke-linecap:butt; stroke-linejoin:round; stroke-width:4; stroke-opacity:1; fill:none\\\" points=\\\"\\n  212.459,845.532 231.357,845.532 \\n  \\\"\\/>\\n<polyline clip-path=\\\"url(#clip230)\\\" style=\\\"stroke:#000000; stroke-linecap:butt; stroke-linejoin:round; stroke-width:4; stroke-opacity:1; fill:none\\\" points=\\\"\\n  212.459,556.708 231.357,556.708 \\n  \\\"\\/>\\n<polyline clip-path=\\\"url(#clip230)\\\" style=\\\"stroke:#000000; stroke-linecap:butt; stroke-linejoin:round; stroke-width:4; stroke-opacity:1; fill:none\\\" points=\\\"\\n  212.459,267.884 231.357,267.884 \\n  \\\"\\/>\\n<path clip-path=\\\"url(#clip230)\\\" d=\\\"M114.26 1423.63 L143.936 1423.63 L143.936 1427.57 L114.26 1427.57 L114.26 1423.63 Z\\\" fill=\\\"#000000\\\" fill-rule=\\\"evenodd\\\" fill-opacity=\\\"1\\\" \\/><path clip-path=\\\"url(#clip230)\\\" d=\\\"M166.876 1409.97 L155.07 1428.42 L166.876 1428.42 L166.876 1409.97 M165.649 1405.9 L171.528 1405.9 L171.528 1428.42 L176.459 1428.42 L176.459 1432.31 L171.528 1432.31 L171.528 1440.46 L166.876 1440.46 L166.876 1432.31 L151.274 1432.31 L151.274 1427.8 L165.649 1405.9 Z\\\" fill=\\\"#000000\\\" fill-rule=\\\"evenodd\\\" fill-opacity=\\\"1\\\" \\/><path clip-path=\\\"url(#clip230)\\\" d=\\\"M116.343 1134.81 L146.019 1134.81 L146.019 1138.74 L116.343 1138.74 L116.343 1134.81 Z\\\" fill=\\\"#000000\\\" fill-rule=\\\"evenodd\\\" fill-opacity=\\\"1\\\" \\/><path clip-path=\\\"url(#clip230)\\\" d=\\\"M160.14 1147.7 L176.459 1147.7 L176.459 1151.64 L154.515 1151.64 L154.515 1147.7 Q157.177 1144.95 161.76 1140.32 Q166.366 1135.66 167.547 1134.32 Q169.792 1131.8 170.672 1130.06 Q171.575 1128.3 171.575 1126.61 Q171.575 1123.86 169.63 1122.12 Q167.709 1120.39 164.607 1120.39 Q162.408 1120.39 159.954 1121.15 Q157.524 1121.91 154.746 1123.46 L154.746 1118.74 Q157.57 1117.61 160.024 1117.03 Q162.477 1116.45 164.515 1116.45 Q169.885 1116.45 173.079 1119.14 Q176.274 1121.82 176.274 1126.31 Q176.274 1128.44 175.464 1130.36 Q174.677 1132.26 172.57 1134.85 Q171.991 1135.52 168.889 1138.74 Q165.788 1141.94 160.14 1147.7 Z\\\" fill=\\\"#000000\\\" fill-rule=\\\"evenodd\\\" fill-opacity=\\\"1\\\" \\/><path clip-path=\\\"url(#clip230)\\\" d=\\\"M164.515 831.331 Q160.903 831.331 159.075 834.895 Q157.269 838.437 157.269 845.567 Q157.269 852.673 159.075 856.238 Q160.903 859.78 164.515 859.78 Q168.149 859.78 169.954 856.238 Q171.783 852.673 171.783 845.567 Q171.783 838.437 169.954 834.895 Q168.149 831.331 164.515 831.331 M164.515 827.627 Q170.325 827.627 173.38 832.233 Q176.459 836.817 176.459 845.567 Q176.459 854.293 173.38 858.9 Q170.325 863.483 164.515 863.483 Q158.704 863.483 155.626 858.9 Q152.57 854.293 152.57 845.567 Q152.57 836.817 155.626 832.233 Q158.704 827.627 164.515 827.627 Z\\\" fill=\\\"#000000\\\" fill-rule=\\\"evenodd\\\" fill-opacity=\\\"1\\\" \\/><path clip-path=\\\"url(#clip230)\\\" d=\\\"M160.14 570.053 L176.459 570.053 L176.459 573.988 L154.515 573.988 L154.515 570.053 Q157.177 567.298 161.76 562.669 Q166.366 558.016 167.547 556.673 Q169.792 554.15 170.672 552.414 Q171.575 550.655 171.575 548.965 Q171.575 546.21 169.63 544.474 Q167.709 542.738 164.607 542.738 Q162.408 542.738 159.954 543.502 Q157.524 544.266 154.746 545.817 L154.746 541.095 Q157.57 539.96 160.024 539.382 Q162.477 538.803 164.515 538.803 Q169.885 538.803 173.079 541.488 Q176.274 544.173 176.274 548.664 Q176.274 550.794 175.464 552.715 Q174.677 554.613 172.57 557.206 Q171.991 557.877 168.889 561.095 Q165.788 564.289 160.14 570.053 Z\\\" fill=\\\"#000000\\\" fill-rule=\\\"evenodd\\\" fill-opacity=\\\"1\\\" \\/><path clip-path=\\\"url(#clip230)\\\" d=\\\"M166.876 254.678 L155.07 273.127 L166.876 273.127 L166.876 254.678 M165.649 250.604 L171.528 250.604 L171.528 273.127 L176.459 273.127 L176.459 277.016 L171.528 277.016 L171.528 285.164 L166.876 285.164 L166.876 277.016 L151.274 277.016 L151.274 272.502 L165.649 250.604 Z\\\" fill=\\\"#000000\\\" fill-rule=\\\"evenodd\\\" fill-opacity=\\\"1\\\" \\/><path clip-path=\\\"url(#clip230)\\\" d=\\\"M49.9359 826.623 L28.3562 826.623 L28.3562 820.766 L49.7131 820.766 Q54.7739 820.766 57.3202 818.793 Q59.8346 816.82 59.8346 812.873 Q59.8346 808.13 56.8109 805.393 Q53.7872 802.624 48.5673 802.624 L28.3562 802.624 L28.3562 796.768 L64.0042 796.768 L64.0042 802.624 L58.5296 802.624 Q61.7762 804.757 63.3676 807.589 Q64.9272 810.39 64.9272 814.114 Q64.9272 820.257 61.1078 823.44 Q57.2883 826.623 49.9359 826.623 M27.4968 811.886 L27.4968 811.886 Z\\\" fill=\\\"#000000\\\" fill-rule=\\\"evenodd\\\" fill-opacity=\\\"1\\\" \\/><path clip-path=\\\"url(#clip230)\\\" d=\\\"M14.5426 770.636 Q21.8632 774.901 29.0246 776.97 Q36.186 779.039 43.5384 779.039 Q50.8908 779.039 58.1159 776.97 Q65.3091 774.87 72.5979 770.636 L72.5979 775.729 Q65.1182 780.503 57.8931 782.89 Q50.668 785.246 43.5384 785.246 Q36.4406 785.246 29.2474 782.89 Q22.0542 780.535 14.5426 775.729 L14.5426 770.636 Z\\\" fill=\\\"#000000\\\" fill-rule=\\\"evenodd\\\" fill-opacity=\\\"1\\\" \\/><path clip-path=\\\"url(#clip230)\\\" d=\\\"M18.2347 753.481 L28.3562 753.481 L28.3562 741.418 L32.9077 741.418 L32.9077 753.481 L52.2594 753.481 Q56.6199 753.481 57.8613 752.303 Q59.1026 751.094 59.1026 747.433 L59.1026 741.418 L64.0042 741.418 L64.0042 747.433 Q64.0042 754.213 61.4897 756.791 Q58.9434 759.369 52.2594 759.369 L32.9077 759.369 L32.9077 763.666 L28.3562 763.666 L28.3562 759.369 L18.2347 759.369 L18.2347 753.481 Z\\\" fill=\\\"#000000\\\" fill-rule=\\\"evenodd\\\" fill-opacity=\\\"1\\\" \\/><path clip-path=\\\"url(#clip230)\\\" d=\\\"M14.5426 734.638 L14.5426 729.546 Q22.0542 724.772 29.2474 722.416 Q36.4406 720.029 43.5384 720.029 Q50.668 720.029 57.8931 722.416 Q65.1182 724.772 72.5979 729.546 L72.5979 734.638 Q65.3091 730.405 58.1159 728.336 Q50.8908 726.236 43.5384 726.236 Q36.186 726.236 29.0246 728.336 Q21.8632 730.405 14.5426 734.638 Z\\\" fill=\\\"#000000\\\" fill-rule=\\\"evenodd\\\" fill-opacity=\\\"1\\\" \\/><path clip-path=\\\"url(#clip230)\\\" d=\\\"M775.758 14.0809 L775.758 22.0612 Q771.1 19.8332 766.968 18.7395 Q762.836 17.6457 758.988 17.6457 Q752.304 17.6457 748.658 20.2383 Q745.052 22.8309 745.052 27.611 Q745.052 31.6214 747.442 33.6873 Q749.873 35.7128 756.597 36.9686 L761.54 37.9813 Q770.695 39.7232 775.029 44.1387 Q779.404 48.5136 779.404 55.8863 Q779.404 64.6767 773.49 69.2137 Q767.616 73.7508 756.233 73.7508 Q751.939 73.7508 747.078 72.7785 Q742.257 71.8063 737.072 69.9024 L737.072 61.4765 Q742.055 64.2716 746.835 65.6895 Q751.615 67.1073 756.233 67.1073 Q763.241 67.1073 767.049 64.3527 Q770.857 61.598 770.857 56.4939 Q770.857 52.0379 768.102 49.5264 Q765.388 47.0148 759.15 45.759 L754.167 44.7868 Q745.012 42.9639 740.92 39.075 Q736.829 35.1862 736.829 28.2591 Q736.829 20.2383 742.46 15.6203 Q748.131 11.0023 758.056 11.0023 Q762.309 11.0023 766.725 11.7719 Q771.14 12.5416 775.758 14.0809 Z\\\" fill=\\\"#000000\\\" fill-rule=\\\"evenodd\\\" fill-opacity=\\\"1\\\" \\/><path clip-path=\\\"url(#clip230)\\\" d=\\\"M809.421 32.4315 Q803.426 32.4315 799.942 37.1306 Q796.458 41.7891 796.458 49.9314 Q796.458 58.0738 799.902 62.7728 Q803.385 67.4314 809.421 67.4314 Q815.376 67.4314 818.86 62.7323 Q822.344 58.0333 822.344 49.9314 Q822.344 41.8701 818.86 37.1711 Q815.376 32.4315 809.421 32.4315 M809.421 26.1121 Q819.143 26.1121 824.693 32.4315 Q830.243 38.7509 830.243 49.9314 Q830.243 61.0714 824.693 67.4314 Q819.143 73.7508 809.421 73.7508 Q799.659 73.7508 794.109 67.4314 Q788.6 61.0714 788.6 49.9314 Q788.6 38.7509 794.109 32.4315 Q799.659 26.1121 809.421 26.1121 Z\\\" fill=\\\"#000000\\\" fill-rule=\\\"evenodd\\\" fill-opacity=\\\"1\\\" \\/><path clip-path=\\\"url(#clip230)\\\" d=\\\"M842.598 9.54393 L850.052 9.54393 L850.052 72.576 L842.598 72.576 L842.598 9.54393 Z\\\" fill=\\\"#000000\\\" fill-rule=\\\"evenodd\\\" fill-opacity=\\\"1\\\" \\/><path clip-path=\\\"url(#clip230)\\\" d=\\\"M864.878 54.671 L864.878 27.2059 L872.332 27.2059 L872.332 54.3874 Q872.332 60.8284 874.843 64.0691 Q877.355 67.2693 882.378 67.2693 Q888.414 67.2693 891.898 63.421 Q895.422 59.5726 895.422 52.9291 L895.422 27.2059 L902.876 27.2059 L902.876 72.576 L895.422 72.576 L895.422 65.6084 Q892.708 69.7404 889.103 71.7658 Q885.538 73.7508 880.798 73.7508 Q872.98 73.7508 868.929 68.8897 Q864.878 64.0286 864.878 54.671 M883.634 26.1121 L883.634 26.1121 Z\\\" fill=\\\"#000000\\\" fill-rule=\\\"evenodd\\\" fill-opacity=\\\"1\\\" \\/><path clip-path=\\\"url(#clip230)\\\" d=\\\"M925.601 14.324 L925.601 27.2059 L940.954 27.2059 L940.954 32.9987 L925.601 32.9987 L925.601 57.6282 Q925.601 63.1779 927.1 64.7578 Q928.639 66.3376 933.298 66.3376 L940.954 66.3376 L940.954 72.576 L933.298 72.576 Q924.67 72.576 921.388 69.3758 Q918.107 66.1351 918.107 57.6282 L918.107 32.9987 L912.638 32.9987 L912.638 27.2059 L918.107 27.2059 L918.107 14.324 L925.601 14.324 Z\\\" fill=\\\"#000000\\\" fill-rule=\\\"evenodd\\\" fill-opacity=\\\"1\\\" \\/><path clip-path=\\\"url(#clip230)\\\" d=\\\"M950.757 27.2059 L958.211 27.2059 L958.211 72.576 L950.757 72.576 L950.757 27.2059 M950.757 9.54393 L958.211 9.54393 L958.211 18.9825 L950.757 18.9825 L950.757 9.54393 Z\\\" fill=\\\"#000000\\\" fill-rule=\\\"evenodd\\\" fill-opacity=\\\"1\\\" \\/><path clip-path=\\\"url(#clip230)\\\" d=\\\"M991.388 32.4315 Q985.393 32.4315 981.909 37.1306 Q978.425 41.7891 978.425 49.9314 Q978.425 58.0738 981.868 62.7728 Q985.352 67.4314 991.388 67.4314 Q997.343 67.4314 1000.83 62.7323 Q1004.31 58.0333 1004.31 49.9314 Q1004.31 41.8701 1000.83 37.1711 Q997.343 32.4315 991.388 32.4315 M991.388 26.1121 Q1001.11 26.1121 1006.66 32.4315 Q1012.21 38.7509 1012.21 49.9314 Q1012.21 61.0714 1006.66 67.4314 Q1001.11 73.7508 991.388 73.7508 Q981.625 73.7508 976.075 67.4314 Q970.566 61.0714 970.566 49.9314 Q970.566 38.7509 976.075 32.4315 Q981.625 26.1121 991.388 26.1121 Z\\\" fill=\\\"#000000\\\" fill-rule=\\\"evenodd\\\" fill-opacity=\\\"1\\\" \\/><path clip-path=\\\"url(#clip230)\\\" d=\\\"M1062.28 45.1919 L1062.28 72.576 L1054.83 72.576 L1054.83 45.4349 Q1054.83 38.994 1052.31 35.7938 Q1049.8 32.5936 1044.78 32.5936 Q1038.74 32.5936 1035.26 36.4419 Q1031.78 40.2903 1031.78 46.9338 L1031.78 72.576 L1024.28 72.576 L1024.28 27.2059 L1031.78 27.2059 L1031.78 34.2544 Q1034.45 30.163 1038.05 28.1376 Q1041.7 26.1121 1046.44 26.1121 Q1054.26 26.1121 1058.27 30.9732 Q1062.28 35.7938 1062.28 45.1919 Z\\\" fill=\\\"#000000\\\" fill-rule=\\\"evenodd\\\" fill-opacity=\\\"1\\\" \\/><path clip-path=\\\"url(#clip230)\\\" d=\\\"M1110.89 14.324 L1110.89 27.2059 L1126.24 27.2059 L1126.24 32.9987 L1110.89 32.9987 L1110.89 57.6282 Q1110.89 63.1779 1112.39 64.7578 Q1113.93 66.3376 1118.59 66.3376 L1126.24 66.3376 L1126.24 72.576 L1118.59 72.576 Q1109.96 72.576 1106.68 69.3758 Q1103.4 66.1351 1103.4 57.6282 L1103.4 32.9987 L1097.93 32.9987 L1097.93 27.2059 L1103.4 27.2059 L1103.4 14.324 L1110.89 14.324 Z\\\" fill=\\\"#000000\\\" fill-rule=\\\"evenodd\\\" fill-opacity=\\\"1\\\" \\/><path clip-path=\\\"url(#clip230)\\\" d=\\\"M1153.63 32.4315 Q1147.63 32.4315 1144.15 37.1306 Q1140.66 41.7891 1140.66 49.9314 Q1140.66 58.0738 1144.11 62.7728 Q1147.59 67.4314 1153.63 67.4314 Q1159.58 67.4314 1163.07 62.7323 Q1166.55 58.0333 1166.55 49.9314 Q1166.55 41.8701 1163.07 37.1711 Q1159.58 32.4315 1153.63 32.4315 M1153.63 26.1121 Q1163.35 26.1121 1168.9 32.4315 Q1174.45 38.7509 1174.45 49.9314 Q1174.45 61.0714 1168.9 67.4314 Q1163.35 73.7508 1153.63 73.7508 Q1143.86 73.7508 1138.31 67.4314 Q1132.8 61.0714 1132.8 49.9314 Q1132.8 38.7509 1138.31 32.4315 Q1143.86 26.1121 1153.63 26.1121 Z\\\" fill=\\\"#000000\\\" fill-rule=\\\"evenodd\\\" fill-opacity=\\\"1\\\" \\/><path clip-path=\\\"url(#clip230)\\\" d=\\\"M1220.55 14.324 L1220.55 27.2059 L1235.9 27.2059 L1235.9 32.9987 L1220.55 32.9987 L1220.55 57.6282 Q1220.55 63.1779 1222.05 64.7578 Q1223.59 66.3376 1228.24 66.3376 L1235.9 66.3376 L1235.9 72.576 L1228.24 72.576 Q1219.62 72.576 1216.33 69.3758 Q1213.05 66.1351 1213.05 57.6282 L1213.05 32.9987 L1207.58 32.9987 L1207.58 27.2059 L1213.05 27.2059 L1213.05 14.324 L1220.55 14.324 Z\\\" fill=\\\"#000000\\\" fill-rule=\\\"evenodd\\\" fill-opacity=\\\"1\\\" \\/><path clip-path=\\\"url(#clip230)\\\" d=\\\"M1283.42 45.1919 L1283.42 72.576 L1275.96 72.576 L1275.96 45.4349 Q1275.96 38.994 1273.45 35.7938 Q1270.94 32.5936 1265.92 32.5936 Q1259.88 32.5936 1256.4 36.4419 Q1252.91 40.2903 1252.91 46.9338 L1252.91 72.576 L1245.42 72.576 L1245.42 9.54393 L1252.91 9.54393 L1252.91 34.2544 Q1255.59 30.163 1259.19 28.1376 Q1262.84 26.1121 1267.58 26.1121 Q1275.4 26.1121 1279.41 30.9732 Q1283.42 35.7938 1283.42 45.1919 Z\\\" fill=\\\"#000000\\\" fill-rule=\\\"evenodd\\\" fill-opacity=\\\"1\\\" \\/><path clip-path=\\\"url(#clip230)\\\" d=\\\"M1337.09 48.0275 L1337.09 51.6733 L1302.82 51.6733 Q1303.31 59.3701 1307.44 63.421 Q1311.61 67.4314 1319.03 67.4314 Q1323.32 67.4314 1327.33 66.3781 Q1331.38 65.3249 1335.35 63.2184 L1335.35 70.267 Q1331.34 71.9684 1327.13 72.8596 Q1322.91 73.7508 1318.58 73.7508 Q1307.72 73.7508 1301.36 67.4314 Q1295.04 61.1119 1295.04 50.3365 Q1295.04 39.1965 1301.04 32.6746 Q1307.07 26.1121 1317.28 26.1121 Q1326.44 26.1121 1331.74 32.0264 Q1337.09 37.9003 1337.09 48.0275 M1329.64 45.84 Q1329.56 39.7232 1326.2 36.0774 Q1322.87 32.4315 1317.36 32.4315 Q1311.13 32.4315 1307.36 35.9558 Q1303.63 39.4801 1303.06 45.8805 L1329.64 45.84 Z\\\" fill=\\\"#000000\\\" fill-rule=\\\"evenodd\\\" fill-opacity=\\\"1\\\" \\/><path clip-path=\\\"url(#clip230)\\\" d=\\\"M1376.02 12.096 L1384.2 12.096 L1384.2 65.6895 L1413.65 65.6895 L1413.65 72.576 L1376.02 72.576 L1376.02 12.096 Z\\\" fill=\\\"#000000\\\" fill-rule=\\\"evenodd\\\" fill-opacity=\\\"1\\\" \\/><path clip-path=\\\"url(#clip230)\\\" d=\\\"M1421.92 27.2059 L1429.37 27.2059 L1429.37 72.576 L1421.92 72.576 L1421.92 27.2059 M1421.92 9.54393 L1429.37 9.54393 L1429.37 18.9825 L1421.92 18.9825 L1421.92 9.54393 Z\\\" fill=\\\"#000000\\\" fill-rule=\\\"evenodd\\\" fill-opacity=\\\"1\\\" \\/><path clip-path=\\\"url(#clip230)\\\" d=\\\"M1482.68 45.1919 L1482.68 72.576 L1475.23 72.576 L1475.23 45.4349 Q1475.23 38.994 1472.72 35.7938 Q1470.2 32.5936 1465.18 32.5936 Q1459.15 32.5936 1455.66 36.4419 Q1452.18 40.2903 1452.18 46.9338 L1452.18 72.576 L1444.68 72.576 L1444.68 27.2059 L1452.18 27.2059 L1452.18 34.2544 Q1454.85 30.163 1458.46 28.1376 Q1462.1 26.1121 1466.84 26.1121 Q1474.66 26.1121 1478.67 30.9732 Q1482.68 35.7938 1482.68 45.1919 Z\\\" fill=\\\"#000000\\\" fill-rule=\\\"evenodd\\\" fill-opacity=\\\"1\\\" \\/><path clip-path=\\\"url(#clip230)\\\" d=\\\"M1536.36 48.0275 L1536.36 51.6733 L1502.09 51.6733 Q1502.57 59.3701 1506.7 63.421 Q1510.88 67.4314 1518.29 67.4314 Q1522.58 67.4314 1526.59 66.3781 Q1530.64 65.3249 1534.61 63.2184 L1534.61 70.267 Q1530.6 71.9684 1526.39 72.8596 Q1522.18 73.7508 1517.84 73.7508 Q1506.99 73.7508 1500.63 67.4314 Q1494.31 61.1119 1494.31 50.3365 Q1494.31 39.1965 1500.3 32.6746 Q1506.34 26.1121 1516.55 26.1121 Q1525.7 26.1121 1531.01 32.0264 Q1536.36 37.9003 1536.36 48.0275 M1528.9 45.84 Q1528.82 39.7232 1525.46 36.0774 Q1522.14 32.4315 1516.63 32.4315 Q1510.39 32.4315 1506.62 35.9558 Q1502.9 39.4801 1502.33 45.8805 L1528.9 45.84 Z\\\" fill=\\\"#000000\\\" fill-rule=\\\"evenodd\\\" fill-opacity=\\\"1\\\" \\/><path clip-path=\\\"url(#clip230)\\\" d=\\\"M1569.21 49.7694 Q1560.18 49.7694 1556.69 51.8354 Q1553.21 53.9013 1553.21 58.8839 Q1553.21 62.8538 1555.8 65.2034 Q1558.43 67.5124 1562.93 67.5124 Q1569.13 67.5124 1572.85 63.1374 Q1576.62 58.7219 1576.62 51.4303 L1576.62 49.7694 L1569.21 49.7694 M1584.08 46.6907 L1584.08 72.576 L1576.62 72.576 L1576.62 65.6895 Q1574.07 69.8214 1570.26 71.8063 Q1566.45 73.7508 1560.95 73.7508 Q1553.98 73.7508 1549.85 69.8619 Q1545.75 65.9325 1545.75 59.3701 Q1545.75 51.7138 1550.86 47.825 Q1556 43.9361 1566.17 43.9361 L1576.62 43.9361 L1576.62 43.2069 Q1576.62 38.0623 1573.22 35.2672 Q1569.86 32.4315 1563.74 32.4315 Q1559.85 32.4315 1556.16 33.3632 Q1552.48 34.295 1549.08 36.1584 L1549.08 29.2718 Q1553.17 27.692 1557.02 26.9223 Q1560.86 26.1121 1564.51 26.1121 Q1574.35 26.1121 1579.21 31.2163 Q1584.08 36.3204 1584.08 46.6907 Z\\\" fill=\\\"#000000\\\" fill-rule=\\\"evenodd\\\" fill-opacity=\\\"1\\\" \\/><path clip-path=\\\"url(#clip230)\\\" d=\\\"M1625.72 34.1734 Q1624.46 33.4443 1622.96 33.1202 Q1621.51 32.7556 1619.72 32.7556 Q1613.4 32.7556 1610 36.8875 Q1606.64 40.9789 1606.64 48.6757 L1606.64 72.576 L1599.15 72.576 L1599.15 27.2059 L1606.64 27.2059 L1606.64 34.2544 Q1608.99 30.1225 1612.76 28.1376 Q1616.52 26.1121 1621.91 26.1121 Q1622.68 26.1121 1623.61 26.2337 Q1624.54 26.3147 1625.68 26.5172 L1625.72 34.1734 Z\\\" fill=\\\"#000000\\\" fill-rule=\\\"evenodd\\\" fill-opacity=\\\"1\\\" \\/><path clip-path=\\\"url(#clip230)\\\" d=\\\"M1684.78 17.6457 Q1675.87 17.6457 1670.6 24.2892 Q1665.38 30.9327 1665.38 42.3968 Q1665.38 53.8203 1670.6 60.4638 Q1675.87 67.1073 1684.78 67.1073 Q1693.69 67.1073 1698.88 60.4638 Q1704.1 53.8203 1704.1 42.3968 Q1704.1 30.9327 1698.88 24.2892 Q1693.69 17.6457 1684.78 17.6457 M1684.78 11.0023 Q1697.5 11.0023 1705.12 19.5497 Q1712.73 28.0566 1712.73 42.3968 Q1712.73 56.6965 1705.12 65.2439 Q1697.5 73.7508 1684.78 73.7508 Q1672.02 73.7508 1664.36 65.2439 Q1656.75 56.737 1656.75 42.3968 Q1656.75 28.0566 1664.36 19.5497 Q1672.02 11.0023 1684.78 11.0023 Z\\\" fill=\\\"#000000\\\" fill-rule=\\\"evenodd\\\" fill-opacity=\\\"1\\\" \\/><path clip-path=\\\"url(#clip230)\\\" d=\\\"M1733.72 18.8205 L1733.72 65.8515 L1743.6 65.8515 Q1756.12 65.8515 1761.91 60.1802 Q1767.74 54.509 1767.74 42.2752 Q1767.74 30.1225 1761.91 24.4918 Q1756.12 18.8205 1743.6 18.8205 L1733.72 18.8205 M1725.53 12.096 L1742.34 12.096 Q1759.93 12.096 1768.15 19.4281 Q1776.37 26.7198 1776.37 42.2752 Q1776.37 57.9117 1768.11 65.2439 Q1759.84 72.576 1742.34 72.576 L1725.53 72.576 L1725.53 12.096 Z\\\" fill=\\\"#000000\\\" fill-rule=\\\"evenodd\\\" fill-opacity=\\\"1\\\" \\/><path clip-path=\\\"url(#clip230)\\\" d=\\\"M1789.42 12.096 L1827.66 12.096 L1827.66 18.9825 L1797.6 18.9825 L1797.6 36.8875 L1826.4 36.8875 L1826.4 43.7741 L1797.6 43.7741 L1797.6 65.6895 L1828.39 65.6895 L1828.39 72.576 L1789.42 72.576 L1789.42 12.096 Z\\\" fill=\\\"#000000\\\" fill-rule=\\\"evenodd\\\" fill-opacity=\\\"1\\\" \\/><polyline clip-path=\\\"url(#clip232)\\\" style=\\\"stroke:#009af9; stroke-linecap:butt; stroke-linejoin:round; stroke-width:20; stroke-opacity:1; fill:none\\\" points=\\\"\\n  212.459,845.532 214.601,845.532 216.744,845.532 218.886,845.532 221.029,845.532 223.171,845.532 225.314,845.532 227.456,845.532 229.598,845.532 231.741,845.532 \\n  233.883,845.532 236.026,845.532 238.168,845.532 240.311,845.532 242.453,845.532 244.595,845.532 246.738,845.532 248.88,845.532 251.023,845.532 253.165,845.532 \\n  255.308,845.532 257.45,845.532 259.593,845.532 261.735,845.532 263.877,845.532 266.02,845.532 268.162,845.532 270.305,845.532 272.447,845.532 274.59,845.532 \\n  276.732,845.532 278.875,845.532 281.017,845.532 283.159,845.532 285.302,845.532 287.444,845.532 289.587,845.532 291.729,845.532 293.872,845.532 296.014,845.532 \\n  298.156,845.532 300.299,845.532 302.441,845.532 304.584,845.532 306.726,845.532 308.869,845.532 311.011,845.532 313.154,845.532 315.296,845.532 317.438,845.532 \\n  319.581,845.532 321.723,845.532 323.866,845.532 326.008,845.532 328.151,845.532 330.293,845.532 332.436,845.532 334.578,845.532 336.72,845.532 338.863,845.532 \\n  341.005,845.532 343.148,845.532 345.29,845.532 347.433,845.532 349.575,845.532 351.717,845.532 353.86,845.532 356.002,845.532 358.145,845.532 360.287,845.532 \\n  362.43,845.532 364.572,845.532 366.715,845.532 368.857,845.532 370.999,845.532 373.142,845.532 375.284,845.532 377.427,845.532 379.569,845.532 381.712,845.532 \\n  383.854,845.532 385.996,845.532 388.139,845.532 390.281,845.532 392.424,845.532 394.566,845.532 396.709,845.532 398.851,845.532 400.994,845.532 403.136,845.532 \\n  405.278,845.532 407.421,845.532 409.563,845.532 411.706,845.532 413.848,845.532 415.991,845.532 418.133,845.532 420.276,845.532 422.418,845.532 424.56,845.532 \\n  426.703,845.532 428.845,845.532 430.988,845.532 433.13,845.532 435.273,845.532 437.415,845.532 439.557,845.532 441.7,845.532 443.842,845.532 445.985,845.532 \\n  448.127,845.532 450.27,845.532 452.412,845.532 454.555,845.532 456.697,845.532 458.839,845.532 460.982,845.532 463.124,845.532 465.267,845.532 467.409,845.532 \\n  469.552,845.532 471.694,845.532 473.837,845.532 475.979,845.532 478.121,845.532 480.264,845.532 482.406,845.532 484.549,845.532 486.691,845.532 488.834,845.532 \\n  490.976,845.532 493.118,845.532 495.261,845.532 497.403,845.532 499.546,845.532 501.688,845.532 503.831,845.532 505.973,845.532 508.116,845.532 510.258,845.532 \\n  512.4,845.532 514.543,845.532 516.685,845.532 518.828,845.532 520.97,845.532 523.113,845.532 525.255,845.532 527.397,845.532 529.54,845.532 531.682,845.532 \\n  533.825,845.532 535.967,845.532 538.11,845.532 540.252,845.532 542.395,845.532 544.537,845.532 546.679,845.532 548.822,845.532 550.964,845.532 553.107,845.532 \\n  555.249,845.532 557.392,845.532 559.534,845.532 561.677,845.532 563.819,845.532 565.961,845.532 568.104,845.532 570.246,845.532 572.389,845.532 574.531,845.532 \\n  576.674,845.532 578.816,845.532 580.958,845.532 583.101,845.532 585.243,845.532 587.386,845.532 589.528,845.532 591.671,845.532 593.813,845.532 595.956,845.532 \\n  598.098,845.532 600.24,845.532 602.383,845.532 604.525,845.532 606.668,845.532 608.81,845.532 610.953,845.532 613.095,845.532 615.238,845.532 617.38,845.532 \\n  619.522,845.532 621.665,845.532 623.807,845.532 625.95,845.532 628.092,845.532 630.235,845.532 632.377,845.532 634.519,845.532 636.662,845.532 638.804,845.532 \\n  640.947,845.532 643.089,845.532 645.232,845.532 647.374,845.532 649.517,845.532 651.659,845.532 653.801,845.532 655.944,845.532 658.086,845.532 660.229,845.532 \\n  662.371,845.532 664.514,845.532 666.656,845.532 668.799,845.532 670.941,845.532 673.083,845.532 675.226,845.532 677.368,845.532 679.511,845.532 681.653,845.532 \\n  683.796,845.532 685.938,845.532 688.08,845.532 690.223,845.532 692.365,845.532 694.508,845.532 696.65,845.532 698.793,845.532 700.935,845.532 703.078,845.532 \\n  705.22,845.532 707.362,845.532 709.505,845.532 711.647,845.532 713.79,845.532 715.932,845.532 718.075,845.532 720.217,845.532 722.359,845.532 724.502,845.532 \\n  726.644,845.532 728.787,845.532 730.929,845.532 733.072,845.532 735.214,845.532 737.357,845.532 739.499,845.532 741.641,845.532 743.784,845.532 745.926,845.532 \\n  748.069,845.532 750.211,845.532 752.354,845.532 754.496,845.532 756.639,845.532 758.781,845.532 760.923,845.532 763.066,845.532 765.208,845.532 767.351,845.532 \\n  769.493,845.532 771.636,845.532 773.778,845.532 775.92,845.532 778.063,845.532 780.205,845.532 782.348,845.532 784.49,845.532 786.633,845.532 788.775,845.532 \\n  790.918,845.532 793.06,845.532 795.202,845.532 797.345,845.532 799.487,845.532 801.63,845.532 803.772,845.532 805.915,845.532 808.057,845.532 810.2,845.532 \\n  812.342,845.532 814.484,845.532 816.627,845.532 818.769,845.532 820.912,845.532 823.054,845.532 825.197,845.532 827.339,845.532 829.481,845.532 831.624,845.532 \\n  833.766,845.532 835.909,845.532 838.051,845.532 840.194,845.532 842.336,845.532 844.479,845.532 846.621,845.532 848.763,845.532 850.906,845.532 853.048,845.532 \\n  855.191,845.532 857.333,845.532 859.476,845.532 861.618,845.532 863.76,845.532 865.903,845.532 868.045,845.532 870.188,845.532 872.33,845.532 874.473,845.532 \\n  876.615,845.532 878.758,845.532 880.9,845.532 883.042,845.532 885.185,845.532 887.327,845.532 889.47,845.532 891.612,845.532 893.755,845.532 895.897,845.532 \\n  898.04,845.532 900.182,845.532 902.324,845.532 904.467,845.532 906.609,845.532 908.752,845.532 910.894,845.532 913.037,845.532 915.179,845.532 917.321,845.532 \\n  919.464,845.532 921.606,845.532 923.749,845.532 925.891,845.532 928.034,845.532 930.176,845.532 932.319,845.532 934.461,845.532 936.603,845.532 938.746,845.532 \\n  940.888,845.532 943.031,845.532 945.173,845.532 947.316,845.532 949.458,845.532 951.601,845.532 953.743,845.532 955.885,845.532 958.028,845.532 960.17,845.532 \\n  962.313,845.532 964.455,845.532 966.598,845.532 968.74,845.532 970.882,845.532 973.025,845.532 975.167,845.532 977.31,845.532 979.452,845.532 981.595,845.532 \\n  983.737,845.532 985.88,845.532 988.022,845.532 990.164,845.532 992.307,845.532 994.449,845.532 996.592,845.532 998.734,845.532 1000.88,845.532 1003.02,845.532 \\n  1005.16,845.532 1007.3,845.532 1009.45,845.532 1011.59,845.532 1013.73,845.532 1015.87,845.532 1018.02,845.532 1020.16,845.532 1022.3,845.532 1024.44,845.532 \\n  1026.59,845.532 1028.73,845.532 1030.87,845.532 1033.01,845.532 1035.16,845.532 1037.3,845.532 1039.44,845.532 1041.58,845.532 1043.73,845.532 1045.87,845.532 \\n  1048.01,845.532 1050.15,845.532 1052.3,845.532 1054.44,845.532 1056.58,845.532 1058.72,845.532 1060.86,845.532 1063.01,845.532 1065.15,845.532 1067.29,845.532 \\n  1069.43,845.532 1071.58,845.532 1073.72,845.532 1075.86,845.532 1078,845.532 1080.15,845.532 1082.29,845.532 1084.43,845.532 1086.57,845.532 1088.72,845.532 \\n  1090.86,845.532 1093,845.532 1095.14,845.532 1097.29,845.532 1099.43,845.532 1101.57,845.532 1103.71,845.532 1105.86,845.532 1108,845.532 1110.14,845.532 \\n  1112.28,845.532 1114.43,845.532 1116.57,845.532 1118.71,845.532 1120.85,845.532 1123,845.532 1125.14,845.532 1127.28,845.532 1129.42,845.532 1131.57,845.532 \\n  1133.71,845.532 1135.85,845.532 1137.99,845.532 1140.14,845.532 1142.28,845.532 1144.42,845.532 1146.56,845.532 1148.7,845.532 1150.85,845.532 1152.99,845.532 \\n  1155.13,845.532 1157.27,845.532 1159.42,845.532 1161.56,845.532 1163.7,845.532 1165.84,845.532 1167.99,845.532 1170.13,845.532 1172.27,845.532 1174.41,845.532 \\n  1176.56,845.532 1178.7,845.532 1180.84,845.532 1182.98,845.532 1185.13,845.532 1187.27,845.532 1189.41,845.532 1191.55,845.532 1193.7,845.532 1195.84,845.532 \\n  1197.98,845.532 1200.12,845.532 1202.27,845.532 1204.41,845.532 1206.55,845.532 1208.69,845.532 1210.84,845.532 1212.98,845.532 1215.12,845.532 1217.26,845.532 \\n  1219.41,845.532 1221.55,845.532 1223.69,845.532 1225.83,845.532 1227.98,845.532 1230.12,845.532 1232.26,845.532 1234.4,845.532 1236.54,845.532 1238.69,845.532 \\n  1240.83,845.532 1242.97,845.532 1245.11,845.532 1247.26,845.532 1249.4,845.532 1251.54,845.532 1253.68,845.532 1255.83,845.532 1257.97,845.532 1260.11,845.532 \\n  1262.25,845.532 1264.4,845.532 1266.54,845.532 1268.68,845.532 1270.82,845.532 1272.97,845.532 1275.11,845.532 1277.25,845.532 1279.39,845.532 1281.54,845.532 \\n  1283.68,845.532 1285.82,845.532 1287.96,845.532 1290.11,845.532 1292.25,845.532 1294.39,845.532 1296.53,845.532 1298.68,845.532 1300.82,845.532 1302.96,845.532 \\n  1305.1,845.532 1307.25,845.532 1309.39,845.532 1311.53,845.532 1313.67,845.532 1315.82,845.532 1317.96,845.532 1320.1,845.532 1322.24,845.532 1324.38,845.532 \\n  1326.53,845.532 1328.67,845.532 1330.81,845.532 1332.95,845.532 1335.1,845.532 1337.24,845.532 1339.38,845.532 1341.52,845.532 1343.67,845.532 1345.81,845.532 \\n  1347.95,845.532 1350.09,845.532 1352.24,845.532 1354.38,845.532 1356.52,845.532 1358.66,845.532 1360.81,845.532 1362.95,845.532 1365.09,845.532 1367.23,845.532 \\n  1369.38,845.532 1371.52,845.532 1373.66,845.532 1375.8,845.532 1377.95,845.532 1380.09,845.532 1382.23,845.532 1384.37,845.532 1386.52,845.532 1388.66,845.532 \\n  1390.8,845.532 1392.94,845.532 1395.09,845.532 1397.23,845.532 1399.37,845.532 1401.51,845.532 1403.66,845.532 1405.8,845.532 1407.94,845.532 1410.08,845.532 \\n  1412.22,845.532 1414.37,845.532 1416.51,845.532 1418.65,845.532 1420.79,845.532 1422.94,845.532 1425.08,845.532 1427.22,845.532 1429.36,845.532 1431.51,845.532 \\n  1433.65,845.532 1435.79,845.532 1437.93,845.532 1440.08,845.532 1442.22,845.532 1444.36,845.532 1446.5,845.532 1448.65,845.532 1450.79,845.532 1452.93,845.532 \\n  1455.07,845.532 1457.22,845.532 1459.36,845.532 1461.5,845.532 1463.64,845.532 1465.79,845.532 1467.93,845.532 1470.07,845.532 1472.21,845.532 1474.36,845.532 \\n  1476.5,845.532 1478.64,845.532 1480.78,845.532 1482.93,845.532 1485.07,845.532 1487.21,845.532 1489.35,845.532 1491.5,845.532 1493.64,845.532 1495.78,845.532 \\n  1497.92,845.532 1500.07,845.532 1502.21,845.532 1504.35,845.532 1506.49,845.532 1508.63,845.532 1510.78,845.532 1512.92,845.532 1515.06,845.532 1517.2,845.532 \\n  1519.35,845.532 1521.49,845.532 1523.63,845.532 1525.77,845.532 1527.92,845.532 1530.06,845.532 1532.2,845.532 1534.34,845.532 1536.49,845.532 1538.63,845.532 \\n  1540.77,845.532 1542.91,845.532 1545.06,845.532 1547.2,845.532 1549.34,845.532 1551.48,845.532 1553.63,845.532 1555.77,845.532 1557.91,845.532 1560.05,845.532 \\n  1562.2,845.532 1564.34,845.532 1566.48,845.532 1568.62,845.532 1570.77,845.532 1572.91,845.532 1575.05,845.532 1577.19,845.532 1579.34,845.532 1581.48,845.532 \\n  1583.62,845.532 1585.76,845.532 1587.91,845.532 1590.05,845.532 1592.19,845.532 1594.33,845.532 1596.47,845.532 1598.62,845.532 1600.76,845.532 1602.9,845.532 \\n  1605.04,845.532 1607.19,845.532 1609.33,845.532 1611.47,845.532 1613.61,845.532 1615.76,845.532 1617.9,845.532 1620.04,845.532 1622.18,845.532 1624.33,845.532 \\n  1626.47,845.532 1628.61,845.532 1630.75,845.532 1632.9,845.532 1635.04,845.532 1637.18,845.532 1639.32,845.532 1641.47,845.532 1643.61,845.532 1645.75,845.532 \\n  1647.89,845.532 1650.04,845.532 1652.18,845.532 1654.32,845.532 1656.46,845.532 1658.61,845.532 1660.75,845.532 1662.89,845.532 1665.03,845.532 1667.18,845.532 \\n  1669.32,845.532 1671.46,845.532 1673.6,845.532 1675.75,845.532 1677.89,845.532 1680.03,845.532 1682.17,845.532 1684.31,845.532 1686.46,845.532 1688.6,845.532 \\n  1690.74,845.532 1692.88,845.532 1695.03,845.532 1697.17,845.532 1699.31,845.532 1701.45,845.532 1703.6,845.532 1705.74,845.532 1707.88,845.532 1710.02,845.532 \\n  1712.17,845.532 1714.31,845.532 1716.45,845.532 1718.59,845.532 1720.74,845.532 1722.88,845.532 1725.02,845.532 1727.16,845.532 1729.31,845.532 1731.45,845.532 \\n  1733.59,845.532 1735.73,845.532 1737.88,845.532 1740.02,845.532 1742.16,845.532 1744.3,845.532 1746.45,845.532 1748.59,845.532 1750.73,845.532 1752.87,845.532 \\n  1755.02,845.532 1757.16,845.532 1759.3,845.532 1761.44,845.532 1763.59,845.532 1765.73,845.532 1767.87,845.532 1770.01,845.532 1772.15,845.532 1774.3,845.532 \\n  1776.44,845.532 1778.58,845.532 1780.72,845.532 1782.87,845.532 1785.01,845.532 1787.15,845.532 1789.29,845.532 1791.44,845.532 1793.58,845.532 1795.72,845.532 \\n  1797.86,845.532 1800.01,845.532 1802.15,845.532 1804.29,845.532 1806.43,845.532 1808.58,845.532 1810.72,845.532 1812.86,845.532 1815,845.532 1817.15,845.532 \\n  1819.29,845.532 1821.43,845.532 1823.57,845.532 1825.72,845.532 1827.86,845.532 1830,845.532 1832.14,845.532 1834.29,845.532 1836.43,845.532 1838.57,845.532 \\n  1840.71,845.532 1842.86,845.532 1845,845.532 1847.14,845.532 1849.28,845.532 1851.43,845.532 1853.57,845.532 1855.71,845.532 1857.85,845.532 1859.99,845.532 \\n  1862.14,845.532 1864.28,845.532 1866.42,845.532 1868.56,845.532 1870.71,845.532 1872.85,845.532 1874.99,845.532 1877.13,845.532 1879.28,845.532 1881.42,845.532 \\n  1883.56,845.532 1885.7,845.532 1887.85,845.532 1889.99,845.532 1892.13,845.532 1894.27,845.532 1896.42,845.532 1898.56,845.532 1900.7,845.532 1902.84,845.532 \\n  1904.99,845.532 1907.13,845.532 1909.27,845.532 1911.41,845.532 1913.56,845.532 1915.7,845.532 1917.84,845.532 1919.98,845.532 1922.13,845.532 1924.27,845.532 \\n  1926.41,845.532 1928.55,845.532 1930.7,845.532 1932.84,845.532 1934.98,845.532 1937.12,845.532 1939.27,845.532 1941.41,845.532 1943.55,845.532 1945.69,845.532 \\n  1947.83,845.532 1949.98,845.532 1952.12,845.532 1954.26,845.532 1956.4,845.532 1958.55,845.532 1960.69,845.532 1962.83,845.532 1964.97,845.532 1967.12,845.532 \\n  1969.26,845.532 1971.4,845.532 1973.54,845.532 1975.69,845.532 1977.83,845.532 1979.97,845.532 1982.11,845.532 1984.26,845.532 1986.4,845.532 1988.54,845.532 \\n  1990.68,845.532 1992.83,845.532 1994.97,845.532 1997.11,845.532 1999.25,845.532 2001.4,845.532 2003.54,845.532 2005.68,845.532 2007.82,845.532 2009.97,845.532 \\n  2012.11,845.532 2014.25,845.532 2016.39,845.532 2018.54,845.532 2020.68,845.532 2022.82,845.532 2024.96,845.532 2027.11,845.532 2029.25,845.532 2031.39,845.532 \\n  2033.53,845.532 2035.67,845.532 2037.82,845.532 2039.96,845.532 2042.1,845.532 2044.24,845.532 2046.39,845.532 2048.53,845.532 2050.67,845.532 2052.81,845.532 \\n  2054.96,845.532 2057.1,845.532 2059.24,845.532 2061.38,845.532 2063.53,845.532 2065.67,845.532 2067.81,845.532 2069.95,845.532 2072.1,845.532 2074.24,845.532 \\n  2076.38,845.532 2078.52,845.532 2080.67,845.532 2082.81,845.532 2084.95,845.532 2087.09,845.532 2089.24,845.532 2091.38,845.532 2093.52,845.532 2095.66,845.532 \\n  2097.81,845.532 2099.95,845.532 2102.09,845.532 2104.23,845.532 2106.38,845.532 2108.52,845.532 2110.66,845.532 2112.8,845.532 2114.95,845.532 2117.09,845.532 \\n  2119.23,845.532 2121.37,845.532 2123.51,845.532 2125.66,845.532 2127.8,845.532 2129.94,845.532 2132.08,845.532 2134.23,845.532 2136.37,845.532 2138.51,845.532 \\n  2140.65,845.532 2142.8,845.532 2144.94,845.532 2147.08,845.532 2149.22,845.532 2151.37,845.532 2153.51,845.532 2155.65,845.532 2157.79,845.532 2159.94,845.532 \\n  2162.08,845.532 2164.22,845.532 2166.36,845.532 2168.51,845.532 2170.65,845.532 2172.79,845.532 2174.93,845.532 2177.08,845.532 2179.22,845.532 2181.36,845.532 \\n  2183.5,845.532 2185.65,845.532 2187.79,845.532 2189.93,845.532 2192.07,845.532 2194.22,845.532 2196.36,845.532 2198.5,845.532 2200.64,845.532 2202.79,845.532 \\n  2204.93,845.532 2207.07,845.532 2209.21,845.532 2211.35,845.532 2213.5,845.532 2215.64,845.532 2217.78,845.532 2219.92,845.532 2222.07,845.532 2224.21,845.532 \\n  2226.35,845.532 2228.49,845.532 2230.64,845.532 2232.78,845.532 2234.92,845.532 2237.06,845.532 2239.21,845.532 2241.35,845.532 2243.49,845.532 2245.63,845.532 \\n  2247.78,845.532 2249.92,845.532 2252.06,845.532 2254.2,845.532 2256.35,845.532 2258.49,845.532 2260.63,845.532 2262.77,845.532 2264.92,845.532 2267.06,845.532 \\n  2269.2,845.532 2271.34,845.532 2273.49,845.532 2275.63,845.532 2277.77,845.532 2279.91,845.532 2282.06,845.532 2284.2,845.532 2286.34,845.532 2288.48,845.532 \\n  2290.63,845.532 2292.77,845.532 2294.91,845.532 2297.05,845.532 2299.19,845.532 2301.34,845.532 2303.48,845.532 2305.62,845.532 2307.76,845.532 2309.91,845.532 \\n  2312.05,845.532 2314.19,845.532 2316.33,845.532 2318.48,845.532 2320.62,845.532 2322.76,845.532 2324.9,845.532 2327.05,845.532 2329.19,845.532 2331.33,845.532 \\n  2333.47,845.532 2335.62,845.532 2337.76,845.532 2339.9,845.532 2342.04,845.532 2344.19,845.532 2346.33,845.532 2348.47,845.532 2350.61,845.532 2352.76,845.532 \\n  \\n  \\\"\\/>\\n<polyline clip-path=\\\"url(#clip232)\\\" style=\\\"stroke:#e26f46; stroke-linecap:butt; stroke-linejoin:round; stroke-width:12; stroke-opacity:1; fill:none\\\" stroke-dasharray=\\\"48, 30\\\" points=\\\"\\n  212.459,845.532 212.53,845.532 213.244,845.532 220.378,845.532 291.721,845.532 1005.15,845.532 2352.76,845.532 \\n  \\\"\\/>\\n<path clip-path=\\\"url(#clip230)\\\" d=\\\"\\nM1722.72 322.316 L2281.41 322.316 L2281.41 166.796 L1722.72 166.796  Z\\n  \\\" fill=\\\"#ffffff\\\" fill-rule=\\\"evenodd\\\" fill-opacity=\\\"1\\\"\\/>\\n<polyline clip-path=\\\"url(#clip230)\\\" style=\\\"stroke:#000000; stroke-linecap:butt; stroke-linejoin:round; stroke-width:4; stroke-opacity:1; fill:none\\\" points=\\\"\\n  1722.72,322.316 2281.41,322.316 2281.41,166.796 1722.72,166.796 1722.72,322.316 \\n  \\\"\\/>\\n<polyline clip-path=\\\"url(#clip230)\\\" style=\\\"stroke:#009af9; stroke-linecap:butt; stroke-linejoin:round; stroke-width:4; stroke-opacity:1; fill:none\\\" points=\\\"\\n  1746.51,218.636 1889.19,218.636 \\n  \\\"\\/>\\n<path clip-path=\\\"url(#clip230)\\\" d=\\\"M1912.97 201.356 L1919.94 201.356 L1928.76 224.874 L1937.63 201.356 L1944.59 201.356 L1944.59 235.916 L1940.03 235.916 L1940.03 205.569 L1931.12 229.272 L1926.42 229.272 L1917.51 205.569 L1917.51 235.916 L1912.97 235.916 L1912.97 201.356 Z\\\" fill=\\\"#000000\\\" fill-rule=\\\"evenodd\\\" fill-opacity=\\\"1\\\" \\/><path clip-path=\\\"url(#clip230)\\\" d=\\\"M1964.48 238.323 Q1962.67 242.953 1960.96 244.365 Q1959.25 245.777 1956.38 245.777 L1952.97 245.777 L1952.97 242.212 L1955.47 242.212 Q1957.23 242.212 1958.2 241.379 Q1959.18 240.545 1960.36 237.443 L1961.12 235.499 L1950.63 209.99 L1955.15 209.99 L1963.25 230.268 L1971.35 209.99 L1975.87 209.99 L1964.48 238.323 Z\\\" fill=\\\"#000000\\\" fill-rule=\\\"evenodd\\\" fill-opacity=\\\"1\\\" \\/><path clip-path=\\\"url(#clip230)\\\" d=\\\"M1992.21 201.356 L2021.44 201.356 L2021.44 205.291 L2009.18 205.291 L2009.18 235.916 L2004.48 235.916 L2004.48 205.291 L1992.21 205.291 L1992.21 201.356 Z\\\" fill=\\\"#000000\\\" fill-rule=\\\"evenodd\\\" fill-opacity=\\\"1\\\" \\/><path clip-path=\\\"url(#clip230)\\\" d=\\\"M2047.32 220.268 L2047.32 235.916 L2043.06 235.916 L2043.06 220.407 Q2043.06 216.726 2041.63 214.897 Q2040.19 213.069 2037.32 213.069 Q2033.87 213.069 2031.88 215.268 Q2029.89 217.467 2029.89 221.263 L2029.89 235.916 L2025.61 235.916 L2025.61 199.897 L2029.89 199.897 L2029.89 214.018 Q2031.42 211.68 2033.48 210.522 Q2035.56 209.365 2038.27 209.365 Q2042.74 209.365 2045.03 212.143 Q2047.32 214.897 2047.32 220.268 Z\\\" fill=\\\"#000000\\\" fill-rule=\\\"evenodd\\\" fill-opacity=\\\"1\\\" \\/><path clip-path=\\\"url(#clip230)\\\" d=\\\"M2055.82 209.99 L2060.08 209.99 L2060.08 235.916 L2055.82 235.916 L2055.82 209.99 M2055.82 199.897 L2060.08 199.897 L2060.08 205.291 L2055.82 205.291 L2055.82 199.897 Z\\\" fill=\\\"#000000\\\" fill-rule=\\\"evenodd\\\" fill-opacity=\\\"1\\\" \\/><path clip-path=\\\"url(#clip230)\\\" d=\\\"M2087.65 210.985 L2087.65 214.967 Q2085.84 213.971 2084.01 213.485 Q2082.21 212.976 2080.36 212.976 Q2076.21 212.976 2073.92 215.615 Q2071.63 218.231 2071.63 222.976 Q2071.63 227.721 2073.92 230.36 Q2076.21 232.976 2080.36 232.976 Q2082.21 232.976 2084.01 232.49 Q2085.84 231.981 2087.65 230.985 L2087.65 234.92 Q2085.87 235.754 2083.94 236.17 Q2082.05 236.587 2079.89 236.587 Q2074.04 236.587 2070.59 232.906 Q2067.14 229.226 2067.14 222.976 Q2067.14 216.633 2070.61 212.999 Q2074.11 209.365 2080.17 209.365 Q2082.14 209.365 2084.01 209.782 Q2085.89 210.175 2087.65 210.985 Z\\\" fill=\\\"#000000\\\" fill-rule=\\\"evenodd\\\" fill-opacity=\\\"1\\\" \\/><path clip-path=\\\"url(#clip230)\\\" d=\\\"M2094.89 199.897 L2099.18 199.897 L2099.18 221.17 L2111.88 209.99 L2117.32 209.99 L2103.57 222.119 L2117.9 235.916 L2112.35 235.916 L2099.18 223.254 L2099.18 235.916 L2094.89 235.916 L2094.89 199.897 Z\\\" fill=\\\"#000000\\\" fill-rule=\\\"evenodd\\\" fill-opacity=\\\"1\\\" \\/><path clip-path=\\\"url(#clip230)\\\" d=\\\"M2137.76 201.356 L2142.44 201.356 L2142.44 231.981 L2159.27 231.981 L2159.27 235.916 L2137.76 235.916 L2137.76 201.356 Z\\\" fill=\\\"#000000\\\" fill-rule=\\\"evenodd\\\" fill-opacity=\\\"1\\\" \\/><path clip-path=\\\"url(#clip230)\\\" d=\\\"M2163.99 209.99 L2168.25 209.99 L2168.25 235.916 L2163.99 235.916 L2163.99 209.99 M2163.99 199.897 L2168.25 199.897 L2168.25 205.291 L2163.99 205.291 L2163.99 199.897 Z\\\" fill=\\\"#000000\\\" fill-rule=\\\"evenodd\\\" fill-opacity=\\\"1\\\" \\/><path clip-path=\\\"url(#clip230)\\\" d=\\\"M2198.71 220.268 L2198.71 235.916 L2194.45 235.916 L2194.45 220.407 Q2194.45 216.726 2193.02 214.897 Q2191.58 213.069 2188.71 213.069 Q2185.26 213.069 2183.27 215.268 Q2181.28 217.467 2181.28 221.263 L2181.28 235.916 L2177 235.916 L2177 209.99 L2181.28 209.99 L2181.28 214.018 Q2182.81 211.68 2184.87 210.522 Q2186.95 209.365 2189.66 209.365 Q2194.13 209.365 2196.42 212.143 Q2198.71 214.897 2198.71 220.268 Z\\\" fill=\\\"#000000\\\" fill-rule=\\\"evenodd\\\" fill-opacity=\\\"1\\\" \\/><path clip-path=\\\"url(#clip230)\\\" d=\\\"M2229.38 221.888 L2229.38 223.971 L2209.8 223.971 Q2210.08 228.369 2212.44 230.684 Q2214.82 232.976 2219.06 232.976 Q2221.51 232.976 2223.8 232.374 Q2226.12 231.772 2228.39 230.569 L2228.39 234.596 Q2226.1 235.568 2223.69 236.078 Q2221.28 236.587 2218.8 236.587 Q2212.6 236.587 2208.97 232.976 Q2205.36 229.365 2205.36 223.207 Q2205.36 216.842 2208.78 213.115 Q2212.23 209.365 2218.06 209.365 Q2223.3 209.365 2226.33 212.745 Q2229.38 216.101 2229.38 221.888 M2225.12 220.638 Q2225.08 217.143 2223.16 215.059 Q2221.26 212.976 2218.11 212.976 Q2214.55 212.976 2212.39 214.99 Q2210.26 217.004 2209.94 220.661 L2225.12 220.638 Z\\\" fill=\\\"#000000\\\" fill-rule=\\\"evenodd\\\" fill-opacity=\\\"1\\\" \\/><polyline clip-path=\\\"url(#clip230)\\\" style=\\\"stroke:#e26f46; stroke-linecap:butt; stroke-linejoin:round; stroke-width:4; stroke-opacity:1; fill:none\\\" stroke-dasharray=\\\"16, 10\\\" points=\\\"\\n  1746.51,270.476 1889.19,270.476 \\n  \\\"\\/>\\n<path clip-path=\\\"url(#clip230)\\\" d=\\\"M1912.97 253.196 L1942.21 253.196 L1942.21 257.131 L1929.94 257.131 L1929.94 287.756 L1925.24 287.756 L1925.24 257.131 L1912.97 257.131 L1912.97 253.196 Z\\\" fill=\\\"#000000\\\" fill-rule=\\\"evenodd\\\" fill-opacity=\\\"1\\\" \\/><path clip-path=\\\"url(#clip230)\\\" d=\\\"M1954.59 265.811 Q1953.88 265.395 1953.02 265.21 Q1952.19 265.001 1951.17 265.001 Q1947.56 265.001 1945.61 267.362 Q1943.69 269.7 1943.69 274.098 L1943.69 287.756 L1939.41 287.756 L1939.41 261.83 L1943.69 261.83 L1943.69 265.858 Q1945.03 263.497 1947.19 262.362 Q1949.34 261.205 1952.42 261.205 Q1952.86 261.205 1953.39 261.274 Q1953.92 261.321 1954.57 261.436 L1954.59 265.811 Z\\\" fill=\\\"#000000\\\" fill-rule=\\\"evenodd\\\" fill-opacity=\\\"1\\\" \\/><path clip-path=\\\"url(#clip230)\\\" d=\\\"M1958.62 277.524 L1958.62 261.83 L1962.88 261.83 L1962.88 277.362 Q1962.88 281.043 1964.31 282.895 Q1965.75 284.723 1968.62 284.723 Q1972.07 284.723 1974.06 282.524 Q1976.07 280.325 1976.07 276.529 L1976.07 261.83 L1980.33 261.83 L1980.33 287.756 L1976.07 287.756 L1976.07 283.774 Q1974.52 286.135 1972.46 287.293 Q1970.43 288.427 1967.72 288.427 Q1963.25 288.427 1960.94 285.649 Q1958.62 282.871 1958.62 277.524 M1969.34 261.205 L1969.34 261.205 Z\\\" fill=\\\"#000000\\\" fill-rule=\\\"evenodd\\\" fill-opacity=\\\"1\\\" \\/><path clip-path=\\\"url(#clip230)\\\" d=\\\"M2011.28 273.728 L2011.28 275.811 L1991.7 275.811 Q1991.98 280.209 1994.34 282.524 Q1996.72 284.816 2000.96 284.816 Q2003.41 284.816 2005.7 284.214 Q2008.02 283.612 2010.29 282.409 L2010.29 286.436 Q2008 287.408 2005.59 287.918 Q2003.18 288.427 2000.7 288.427 Q1994.5 288.427 1990.87 284.816 Q1987.25 281.205 1987.25 275.047 Q1987.25 268.682 1990.68 264.955 Q1994.13 261.205 1999.96 261.205 Q2005.19 261.205 2008.23 264.585 Q2011.28 267.941 2011.28 273.728 M2007.02 272.478 Q2006.98 268.983 2005.06 266.899 Q2003.16 264.816 2000.01 264.816 Q1996.44 264.816 1994.29 266.83 Q1992.16 268.844 1991.84 272.501 L2007.02 272.478 Z\\\" fill=\\\"#000000\\\" fill-rule=\\\"evenodd\\\" fill-opacity=\\\"1\\\" \\/><path clip-path=\\\"url(#clip230)\\\" d=\\\"M2054.24 254.33 L2054.24 258.89 Q2051.58 257.617 2049.22 256.992 Q2046.86 256.367 2044.66 256.367 Q2040.84 256.367 2038.76 257.848 Q2036.7 259.33 2036.7 262.061 Q2036.7 264.353 2038.06 265.534 Q2039.45 266.691 2043.3 267.409 L2046.12 267.987 Q2051.35 268.983 2053.83 271.506 Q2056.33 274.006 2056.33 278.219 Q2056.33 283.242 2052.95 285.834 Q2049.59 288.427 2043.09 288.427 Q2040.63 288.427 2037.86 287.871 Q2035.1 287.316 2032.14 286.228 L2032.14 281.413 Q2034.99 283.01 2037.72 283.821 Q2040.45 284.631 2043.09 284.631 Q2047.09 284.631 2049.27 283.057 Q2051.44 281.483 2051.44 278.566 Q2051.44 276.02 2049.87 274.584 Q2048.32 273.149 2044.75 272.432 L2041.91 271.876 Q2036.68 270.835 2034.34 268.612 Q2032 266.39 2032 262.432 Q2032 257.848 2035.22 255.21 Q2038.46 252.571 2044.13 252.571 Q2046.56 252.571 2049.08 253.011 Q2051.61 253.45 2054.24 254.33 Z\\\" fill=\\\"#000000\\\" fill-rule=\\\"evenodd\\\" fill-opacity=\\\"1\\\" \\/><path clip-path=\\\"url(#clip230)\\\" d=\\\"M2073.48 264.816 Q2070.06 264.816 2068.06 267.501 Q2066.07 270.163 2066.07 274.816 Q2066.07 279.469 2068.04 282.154 Q2070.03 284.816 2073.48 284.816 Q2076.88 284.816 2078.87 282.131 Q2080.87 279.446 2080.87 274.816 Q2080.87 270.21 2078.87 267.524 Q2076.88 264.816 2073.48 264.816 M2073.48 261.205 Q2079.04 261.205 2082.21 264.816 Q2085.38 268.427 2085.38 274.816 Q2085.38 281.182 2082.21 284.816 Q2079.04 288.427 2073.48 288.427 Q2067.9 288.427 2064.73 284.816 Q2061.58 281.182 2061.58 274.816 Q2061.58 268.427 2064.73 264.816 Q2067.9 261.205 2073.48 261.205 Z\\\" fill=\\\"#000000\\\" fill-rule=\\\"evenodd\\\" fill-opacity=\\\"1\\\" \\/><path clip-path=\\\"url(#clip230)\\\" d=\\\"M2092.44 251.737 L2096.7 251.737 L2096.7 287.756 L2092.44 287.756 L2092.44 251.737 Z\\\" fill=\\\"#000000\\\" fill-rule=\\\"evenodd\\\" fill-opacity=\\\"1\\\" \\/><path clip-path=\\\"url(#clip230)\\\" d=\\\"M2105.17 277.524 L2105.17 261.83 L2109.43 261.83 L2109.43 277.362 Q2109.43 281.043 2110.87 282.895 Q2112.3 284.723 2115.17 284.723 Q2118.62 284.723 2120.61 282.524 Q2122.62 280.325 2122.62 276.529 L2122.62 261.83 L2126.88 261.83 L2126.88 287.756 L2122.62 287.756 L2122.62 283.774 Q2121.07 286.135 2119.01 287.293 Q2116.98 288.427 2114.27 288.427 Q2109.8 288.427 2107.49 285.649 Q2105.17 282.871 2105.17 277.524 M2115.89 261.205 L2115.89 261.205 Z\\\" fill=\\\"#000000\\\" fill-rule=\\\"evenodd\\\" fill-opacity=\\\"1\\\" \\/><path clip-path=\\\"url(#clip230)\\\" d=\\\"M2139.87 254.469 L2139.87 261.83 L2148.64 261.83 L2148.64 265.14 L2139.87 265.14 L2139.87 279.214 Q2139.87 282.385 2140.73 283.288 Q2141.61 284.191 2144.27 284.191 L2148.64 284.191 L2148.64 287.756 L2144.27 287.756 Q2139.34 287.756 2137.46 285.927 Q2135.59 284.075 2135.59 279.214 L2135.59 265.14 L2132.46 265.14 L2132.46 261.83 L2135.59 261.83 L2135.59 254.469 L2139.87 254.469 Z\\\" fill=\\\"#000000\\\" fill-rule=\\\"evenodd\\\" fill-opacity=\\\"1\\\" \\/><path clip-path=\\\"url(#clip230)\\\" d=\\\"M2154.24 261.83 L2158.5 261.83 L2158.5 287.756 L2154.24 287.756 L2154.24 261.83 M2154.24 251.737 L2158.5 251.737 L2158.5 257.131 L2154.24 257.131 L2154.24 251.737 Z\\\" fill=\\\"#000000\\\" fill-rule=\\\"evenodd\\\" fill-opacity=\\\"1\\\" \\/><path clip-path=\\\"url(#clip230)\\\" d=\\\"M2177.46 264.816 Q2174.04 264.816 2172.05 267.501 Q2170.05 270.163 2170.05 274.816 Q2170.05 279.469 2172.02 282.154 Q2174.01 284.816 2177.46 284.816 Q2180.86 284.816 2182.86 282.131 Q2184.85 279.446 2184.85 274.816 Q2184.85 270.21 2182.86 267.524 Q2180.86 264.816 2177.46 264.816 M2177.46 261.205 Q2183.02 261.205 2186.19 264.816 Q2189.36 268.427 2189.36 274.816 Q2189.36 281.182 2186.19 284.816 Q2183.02 288.427 2177.46 288.427 Q2171.88 288.427 2168.71 284.816 Q2165.56 281.182 2165.56 274.816 Q2165.56 268.427 2168.71 264.816 Q2171.88 261.205 2177.46 261.205 Z\\\" fill=\\\"#000000\\\" fill-rule=\\\"evenodd\\\" fill-opacity=\\\"1\\\" \\/><path clip-path=\\\"url(#clip230)\\\" d=\\\"M2217.97 272.108 L2217.97 287.756 L2213.71 287.756 L2213.71 272.247 Q2213.71 268.566 2212.28 266.737 Q2210.84 264.909 2207.97 264.909 Q2204.52 264.909 2202.53 267.108 Q2200.54 269.307 2200.54 273.103 L2200.54 287.756 L2196.26 287.756 L2196.26 261.83 L2200.54 261.83 L2200.54 265.858 Q2202.07 263.52 2204.13 262.362 Q2206.21 261.205 2208.92 261.205 Q2213.39 261.205 2215.68 263.983 Q2217.97 266.737 2217.97 272.108 Z\\\" fill=\\\"#000000\\\" fill-rule=\\\"evenodd\\\" fill-opacity=\\\"1\\\" \\/><path clip-path=\\\"url(#clip230)\\\" d=\\\"M2229.15 281.876 L2233.85 281.876 L2233.85 287.756 L2229.15 287.756 L2229.15 281.876 M2229.15 253.196 L2233.85 253.196 L2233.85 268.358 L2233.39 276.622 L2229.64 276.622 L2229.15 268.358 L2229.15 253.196 Z\\\" fill=\\\"#000000\\\" fill-rule=\\\"evenodd\\\" fill-opacity=\\\"1\\\" \\/><\\/svg>\\n\"},\"nodeType\":\"DOM\",\"type\":\"node\",\"instanceArgs\":{\"namespace\":\"html\",\"tag\":\"div\"},\"children\":[]}]}}}},\"children\":[{\"props\":{},\"nodeType\":\"ObservableNode\",\"type\":\"node\",\"instanceArgs\":{\"id\":\"3730674448030045884\",\"name\":\"obs-node\"},\"children\":[]}]}]},\n",
       "        window,\n",
       "    );\n",
       "    })()\n",
       "    </script>\n",
       "</div>\n"
      ],
      "text/plain": [
       "Node{WebIO.DOM}(WebIO.DOM(:html, :div), Any[Node{WebIO.DOM}(WebIO.DOM(:html, :div), Any[Scope(Node{WebIO.DOM}(WebIO.DOM(:html, :div), Any[Node{WebIO.DOM}(WebIO.DOM(:html, :div), Any[Node{WebIO.DOM}(WebIO.DOM(:html, :label), Any[\"k\"], Dict{Symbol, Any}(:className => \"interact \", :style => Dict{Any, Any}(:padding => \"5px 10px 0px 10px\")))], Dict{Symbol, Any}(:className => \"interact-flex-row-left\")), Node{WebIO.DOM}(WebIO.DOM(:html, :div), Any[Node{WebIO.DOM}(WebIO.DOM(:html, :input), Any[], Dict{Symbol, Any}(:max => 41, :min => 1, :attributes => Dict{Any, Any}(:type => \"range\", Symbol(\"data-bind\") => \"numericValue: index, valueUpdate: 'input', event: {change: function (){this.changes(this.changes()+1)}}\", \"orient\" => \"horizontal\"), :step => 1, :className => \"slider slider is-fullwidth\", :style => Dict{Any, Any}()))], Dict{Symbol, Any}(:className => \"interact-flex-row-center\")), Node{WebIO.DOM}(WebIO.DOM(:html, :div), Any[Node{WebIO.DOM}(WebIO.DOM(:html, :p), Any[], Dict{Symbol, Any}(:attributes => Dict(\"data-bind\" => \"text: formatted_val\")))], Dict{Symbol, Any}(:className => \"interact-flex-row-right\"))], Dict{Symbol, Any}(:className => \"interact-flex-row interact-widget\")), Dict{String, Tuple{Observables.AbstractObservable, Union{Nothing, Bool}}}(\"changes\" => (Observable{Int64} with 1 listeners. Value:\n",
       "0, nothing), \"index\" => (Observable{Any} with 2 listeners. Value:\n",
       "21, nothing)), Set{String}(), nothing, Asset[Asset(\"js\", \"knockout\", \"C:\\\\Users\\\\周天恒\\\\.julia\\\\packages\\\\Knockout\\\\3gjS1\\\\src\\\\..\\\\assets\\\\knockout.js\"), Asset(\"js\", \"knockout_punches\", \"C:\\\\Users\\\\周天恒\\\\.julia\\\\packages\\\\Knockout\\\\3gjS1\\\\src\\\\..\\\\assets\\\\knockout_punches.js\"), Asset(\"js\", nothing, \"C:\\\\Users\\\\周天恒\\\\.julia\\\\packages\\\\InteractBase\\\\h8Fwe\\\\src\\\\..\\\\assets\\\\all.js\"), Asset(\"css\", nothing, \"C:\\\\Users\\\\周天恒\\\\.julia\\\\packages\\\\InteractBase\\\\h8Fwe\\\\src\\\\..\\\\assets\\\\style.css\"), Asset(\"css\", nothing, \"C:\\\\Users\\\\周天恒\\\\.julia\\\\packages\\\\Interact\\\\pVyN2\\\\src\\\\..\\\\assets\\\\bulma_confined.min.css\")], Dict{Any, Any}(\"changes\" => Any[WebIO.JSString(\"(function (val){return (val!=this.model[\\\"changes\\\"]()) ? (this.valueFromJulia[\\\"changes\\\"]=true, this.model[\\\"changes\\\"](val)) : undefined})\")], \"index\" => Any[WebIO.JSString(\"(function (val){return (val!=this.model[\\\"index\\\"]()) ? (this.valueFromJulia[\\\"index\\\"]=true, this.model[\\\"index\\\"](val)) : undefined})\")]), WebIO.ConnectionPool(Channel{Any}(32), Set{AbstractConnection}(), Condition(Base.InvasiveLinkedList{Task}(Task (runnable) @0x000000009f0d7a30, Task (runnable) @0x000000009f0d7a30), Base.AlwaysLockedST(1))), WebIO.JSString[WebIO.JSString(\"function () {\\n    var handler = (function (ko, koPunches) {\\n    ko.punches.enableAll();\\n    ko.bindingHandlers.numericValue = {\\n        init: function(element, valueAccessor, allBindings, data, context) {\\n            var stringified = ko.observable(ko.unwrap(valueAccessor()));\\n            stringified.subscribe(function(value) {\\n                var val = parseFloat(value);\\n                if (!isNaN(val)) {\\n                    valueAccessor()(val);\\n                }\\n            });\\n            valueAccessor().subscribe(function(value) {\\n                var str = JSON.stringify(value);\\n                if ((str == \\\"0\\\") && ([\\\"-0\\\", \\\"-0.\\\"].indexOf(stringified()) >= 0))\\n                     return;\\n                 if ([\\\"null\\\", \\\"\\\"].indexOf(str) >= 0)\\n                     return;\\n                stringified(str);\\n            });\\n            ko.applyBindingsToNode(\\n                element,\\n                {\\n                    value: stringified,\\n                    valueUpdate: allBindings.get('valueUpdate'),\\n                },\\n                context,\\n            );\\n        }\\n    };\\n    var json_data = {\\\"formatted_vals\\\":[\\\"-3.0\\\",\\\"-2.9\\\",\\\"-2.8\\\",\\\"-2.7\\\",\\\"-2.6\\\",\\\"-2.5\\\",\\\"-2.4\\\",\\\"-2.3\\\",\\\"-2.2\\\",\\\"-2.1\\\",\\\"-2.0\\\",\\\"-1.9\\\",\\\"-1.8\\\",\\\"-1.7\\\",\\\"-1.6\\\",\\\"-1.5\\\",\\\"-1.4\\\",\\\"-1.3\\\",\\\"-1.2\\\",\\\"-1.1\\\",\\\"-1.0\\\",\\\"-0.9\\\",\\\"-0.8\\\",\\\"-0.7\\\",\\\"-0.6\\\",\\\"-0.5\\\",\\\"-0.4\\\",\\\"-0.3\\\",\\\"-0.2\\\",\\\"-0.1\\\",\\\"0.0\\\",\\\"0.1\\\",\\\"0.2\\\",\\\"0.3\\\",\\\"0.4\\\",\\\"0.5\\\",\\\"0.6\\\",\\\"0.7\\\",\\\"0.8\\\",\\\"0.9\\\",\\\"1.0\\\"],\\\"changes\\\":WebIO.getval({\\\"name\\\":\\\"changes\\\",\\\"scope\\\":\\\"9900175208785853392\\\",\\\"id\\\":\\\"17405343991993248308\\\",\\\"type\\\":\\\"observable\\\"}),\\\"index\\\":WebIO.getval({\\\"name\\\":\\\"index\\\",\\\"scope\\\":\\\"9900175208785853392\\\",\\\"id\\\":\\\"2419543283822774073\\\",\\\"type\\\":\\\"observable\\\"})};\\n    var self = this;\\n    function AppViewModel() {\\n        for (var key in json_data) {\\n            var el = json_data[key];\\n            this[key] = Array.isArray(el) ? ko.observableArray(el) : ko.observable(el);\\n        }\\n        \\n        [this[\\\"formatted_val\\\"]=ko.computed(    function(){\\n        return this.formatted_vals()[parseInt(this.index())-(1)];\\n    }\\n,this)]\\n        [this[\\\"changes\\\"].subscribe((function (val){!(this.valueFromJulia[\\\"changes\\\"]) ? (WebIO.setval({\\\"name\\\":\\\"changes\\\",\\\"scope\\\":\\\"9900175208785853392\\\",\\\"id\\\":\\\"17405343991993248308\\\",\\\"type\\\":\\\"observable\\\"},val)) : undefined; return this.valueFromJulia[\\\"changes\\\"]=false}),self),this[\\\"index\\\"].subscribe((function (val){!(this.valueFromJulia[\\\"index\\\"]) ? (WebIO.setval({\\\"name\\\":\\\"index\\\",\\\"scope\\\":\\\"9900175208785853392\\\",\\\"id\\\":\\\"2419543283822774073\\\",\\\"type\\\":\\\"observable\\\"},val)) : undefined; return this.valueFromJulia[\\\"index\\\"]=false}),self)]\\n        \\n    }\\n    self.model = new AppViewModel();\\n    self.valueFromJulia = {};\\n    for (var key in json_data) {\\n        self.valueFromJulia[key] = false;\\n    }\\n    ko.applyBindings(self.model, self.dom);\\n}\\n);\\n    (WebIO.importBlock({\\\"data\\\":[{\\\"name\\\":\\\"knockout\\\",\\\"type\\\":\\\"js\\\",\\\"url\\\":\\\"/assetserver/cac7d612f4f46bcf6ac9ae563cba0affdcffff6e-knockout.js\\\"},{\\\"name\\\":\\\"knockout_punches\\\",\\\"type\\\":\\\"js\\\",\\\"url\\\":\\\"/assetserver/c56cedf4624e6506768a585b0f1cd0fef8b62ebb-knockout_punches.js\\\"}],\\\"type\\\":\\\"async_block\\\"})).then((imports) => handler.apply(this, imports));\\n}\\n\")])], Dict{Symbol, Any}(:className => \"field interact-widget\")), Node{WebIO.DOM}(WebIO.DOM(:html, :div), Any[Scope(Node{WebIO.DOM}(WebIO.DOM(:html, :div), Any[Node{WebIO.DOM}(WebIO.DOM(:html, :div), Any[Node{WebIO.DOM}(WebIO.DOM(:html, :label), Any[\"x0\"], Dict{Symbol, Any}(:className => \"interact \", :style => Dict{Any, Any}(:padding => \"5px 10px 0px 10px\")))], Dict{Symbol, Any}(:className => \"interact-flex-row-left\")), Node{WebIO.DOM}(WebIO.DOM(:html, :div), Any[Node{WebIO.DOM}(WebIO.DOM(:html, :input), Any[], Dict{Symbol, Any}(:max => 61, :min => 1, :attributes => Dict{Any, Any}(:type => \"range\", Symbol(\"data-bind\") => \"numericValue: index, valueUpdate: 'input', event: {change: function (){this.changes(this.changes()+1)}}\", \"orient\" => \"horizontal\"), :step => 1, :className => \"slider slider is-fullwidth\", :style => Dict{Any, Any}()))], Dict{Symbol, Any}(:className => \"interact-flex-row-center\")), Node{WebIO.DOM}(WebIO.DOM(:html, :div), Any[Node{WebIO.DOM}(WebIO.DOM(:html, :p), Any[], Dict{Symbol, Any}(:attributes => Dict(\"data-bind\" => \"text: formatted_val\")))], Dict{Symbol, Any}(:className => \"interact-flex-row-right\"))], Dict{Symbol, Any}(:className => \"interact-flex-row interact-widget\")), Dict{String, Tuple{Observables.AbstractObservable, Union{Nothing, Bool}}}(\"changes\" => (Observable{Int64} with 1 listeners. Value:\n",
       "0, nothing), \"index\" => (Observable{Any} with 2 listeners. Value:\n",
       "31, nothing)), Set{String}(), nothing, Asset[Asset(\"js\", \"knockout\", \"C:\\\\Users\\\\周天恒\\\\.julia\\\\packages\\\\Knockout\\\\3gjS1\\\\src\\\\..\\\\assets\\\\knockout.js\"), Asset(\"js\", \"knockout_punches\", \"C:\\\\Users\\\\周天恒\\\\.julia\\\\packages\\\\Knockout\\\\3gjS1\\\\src\\\\..\\\\assets\\\\knockout_punches.js\"), Asset(\"js\", nothing, \"C:\\\\Users\\\\周天恒\\\\.julia\\\\packages\\\\InteractBase\\\\h8Fwe\\\\src\\\\..\\\\assets\\\\all.js\"), Asset(\"css\", nothing, \"C:\\\\Users\\\\周天恒\\\\.julia\\\\packages\\\\InteractBase\\\\h8Fwe\\\\src\\\\..\\\\assets\\\\style.css\"), Asset(\"css\", nothing, \"C:\\\\Users\\\\周天恒\\\\.julia\\\\packages\\\\Interact\\\\pVyN2\\\\src\\\\..\\\\assets\\\\bulma_confined.min.css\")], Dict{Any, Any}(\"changes\" => Any[WebIO.JSString(\"(function (val){return (val!=this.model[\\\"changes\\\"]()) ? (this.valueFromJulia[\\\"changes\\\"]=true, this.model[\\\"changes\\\"](val)) : undefined})\")], \"index\" => Any[WebIO.JSString(\"(function (val){return (val!=this.model[\\\"index\\\"]()) ? (this.valueFromJulia[\\\"index\\\"]=true, this.model[\\\"index\\\"](val)) : undefined})\")]), WebIO.ConnectionPool(Channel{Any}(32), Set{AbstractConnection}(), Condition(Base.InvasiveLinkedList{Task}(Task (runnable) @0x0000000098ef26d0, Task (runnable) @0x0000000098ef26d0), Base.AlwaysLockedST(1))), WebIO.JSString[WebIO.JSString(\"function () {\\n    var handler = (function (ko, koPunches) {\\n    ko.punches.enableAll();\\n    ko.bindingHandlers.numericValue = {\\n        init: function(element, valueAccessor, allBindings, data, context) {\\n            var stringified = ko.observable(ko.unwrap(valueAccessor()));\\n            stringified.subscribe(function(value) {\\n                var val = parseFloat(value);\\n                if (!isNaN(val)) {\\n                    valueAccessor()(val);\\n                }\\n            });\\n            valueAccessor().subscribe(function(value) {\\n                var str = JSON.stringify(value);\\n                if ((str == \\\"0\\\") && ([\\\"-0\\\", \\\"-0.\\\"].indexOf(stringified()) >= 0))\\n                     return;\\n                 if ([\\\"null\\\", \\\"\\\"].indexOf(str) >= 0)\\n                     return;\\n                stringified(str);\\n            });\\n            ko.applyBindingsToNode(\\n                element,\\n                {\\n                    value: stringified,\\n                    valueUpdate: allBindings.get('valueUpdate'),\\n                },\\n                context,\\n            );\\n        }\\n    };\\n    var json_data = {\\\"formatted_vals\\\":[\\\"-3.0\\\",\\\"-2.9\\\",\\\"-2.8\\\",\\\"-2.7\\\",\\\"-2.6\\\",\\\"-2.5\\\",\\\"-2.4\\\",\\\"-2.3\\\",\\\"-2.2\\\",\\\"-2.1\\\",\\\"-2.0\\\",\\\"-1.9\\\",\\\"-1.8\\\",\\\"-1.7\\\",\\\"-1.6\\\",\\\"-1.5\\\",\\\"-1.4\\\",\\\"-1.3\\\",\\\"-1.2\\\",\\\"-1.1\\\",\\\"-1.0\\\",\\\"-0.9\\\",\\\"-0.8\\\",\\\"-0.7\\\",\\\"-0.6\\\",\\\"-0.5\\\",\\\"-0.4\\\",\\\"-0.3\\\",\\\"-0.2\\\",\\\"-0.1\\\",\\\"0.0\\\",\\\"0.1\\\",\\\"0.2\\\",\\\"0.3\\\",\\\"0.4\\\",\\\"0.5\\\",\\\"0.6\\\",\\\"0.7\\\",\\\"0.8\\\",\\\"0.9\\\",\\\"1.0\\\",\\\"1.1\\\",\\\"1.2\\\",\\\"1.3\\\",\\\"1.4\\\",\\\"1.5\\\",\\\"1.6\\\",\\\"1.7\\\",\\\"1.8\\\",\\\"1.9\\\",\\\"2.0\\\",\\\"2.1\\\",\\\"2.2\\\",\\\"2.3\\\",\\\"2.4\\\",\\\"2.5\\\",\\\"2.6\\\",\\\"2.7\\\",\\\"2.8\\\",\\\"2.9\\\",\\\"3.0\\\"],\\\"changes\\\":WebIO.getval({\\\"name\\\":\\\"changes\\\",\\\"scope\\\":\\\"14510243297997023771\\\",\\\"id\\\":\\\"9021767755229684658\\\",\\\"type\\\":\\\"observable\\\"}),\\\"index\\\":WebIO.getval({\\\"name\\\":\\\"index\\\",\\\"scope\\\":\\\"14510243297997023771\\\",\\\"id\\\":\\\"8278339663616774308\\\",\\\"type\\\":\\\"observable\\\"})};\\n    var self = this;\\n    function AppViewModel() {\\n        for (var key in json_data) {\\n            var el = json_data[key];\\n            this[key] = Array.isArray(el) ? ko.observableArray(el) : ko.observable(el);\\n        }\\n        \\n        [this[\\\"formatted_val\\\"]=ko.computed(    function(){\\n        return this.formatted_vals()[parseInt(this.index())-(1)];\\n    }\\n,this)]\\n        [this[\\\"changes\\\"].subscribe((function (val){!(this.valueFromJulia[\\\"changes\\\"]) ? (WebIO.setval({\\\"name\\\":\\\"changes\\\",\\\"scope\\\":\\\"14510243297997023771\\\",\\\"id\\\":\\\"9021767755229684658\\\",\\\"type\\\":\\\"observable\\\"},val)) : undefined; return this.valueFromJulia[\\\"changes\\\"]=false}),self),this[\\\"index\\\"].subscribe((function (val){!(this.valueFromJulia[\\\"index\\\"]) ? (WebIO.setval({\\\"name\\\":\\\"index\\\",\\\"scope\\\":\\\"14510243297997023771\\\",\\\"id\\\":\\\"8278339663616774308\\\",\\\"type\\\":\\\"observable\\\"},val)) : undefined; return this.valueFromJulia[\\\"index\\\"]=false}),self)]\\n        \\n    }\\n    self.model = new AppViewModel();\\n    self.valueFromJulia = {};\\n    for (var key in json_data) {\\n        self.valueFromJulia[key] = false;\\n    }\\n    ko.applyBindings(self.model, self.dom);\\n}\\n);\\n    (WebIO.importBlock({\\\"data\\\":[{\\\"name\\\":\\\"knockout\\\",\\\"type\\\":\\\"js\\\",\\\"url\\\":\\\"/assetserver/cac7d612f4f46bcf6ac9ae563cba0affdcffff6e-knockout.js\\\"},{\\\"name\\\":\\\"knockout_punches\\\",\\\"type\\\":\\\"js\\\",\\\"url\\\":\\\"/assetserver/c56cedf4624e6506768a585b0f1cd0fef8b62ebb-knockout_punches.js\\\"}],\\\"type\\\":\\\"async_block\\\"})).then((imports) => handler.apply(this, imports));\\n}\\n\")])], Dict{Symbol, Any}(:className => \"field interact-widget\")), Observable{Node{WebIO.DOM}} with 0 listeners. Value:\n",
       "Node{WebIO.DOM}(WebIO.DOM(:html, :div), Any[Plot{Plots.GRBackend() n=2}], Dict{Symbol, Any}(:className => \"interact-flex-row interact-widget\"))], Dict{Symbol, Any}())"
      ]
     },
     "execution_count": 11,
     "metadata": {
      "application/vnd.webio.node+json": {
       "kernelId": "7c00032c-9004-4555-885c-1c18a45ecb5f"
      }
     },
     "output_type": "execute_result"
    },
    {
     "name": "stderr",
     "output_type": "stream",
     "text": [
      "base64 binary data: b3BlbjogTm8gc3VjaCBmaWxlIG9yIGRpcmVjdG9yeQpvcGVuOiBObyBzdWNoIGZpbGUgb3IgZGlyZWN0b3J5Cm9wZW46IE5vIHN1Y2ggZmlsZSBvciBkaXJlY3RvcnkKb3BlbjogTm8gc3VjaCBmaWxlIG9yIGRpcmVjdG9yeQpHS1M6IGZpbGUgb3BlbiBlcnJvciAoQzpcVXNlcnNc1tzM7LrjXC5qdWxpYVxhcnRpZmFjdHNcODljMmJhN2NjOTEwYTVhNjc5OWQyNzczNTQyMmQ0MDQwY2FlZmM4ZlxiaW5cLi5cRk9OVFNcR0tTRk9OVC5EQVQpCkdLUzogZmlsZSBvcGVuIGVycm9yIChDOlxVc2Vyc1zW3MzsuuNcLmp1bGlhXGFydGlmYWN0c1w4OWMyYmE3Y2M5MTBhNWE2Nzk5ZDI3NzM1NDIyZDQwNDBjYWVmYzhmXGJpblwuLlxGT05UU1xHS1NGT05ULkRBVCkKR0tTOiBmaWxlIG9wZW4gZXJyb3IgKEM6XFVzZXJzXNbczOy641wuanVsaWFcYXJ0aWZhY3RzXDg5YzJiYTdjYzkxMGE1YTY3OTlkMjc3MzU0MjJkNDA0MGNhZWZjOGZcYmluXC4uXEZPTlRTXEdLU0ZPTlQuREFUKQpHS1M6IGZpbGUgb3BlbiBlcnJvciAoQzpcVXNlcnNc1tzM7LrjXC5qdWxpYVxhcnRpZmFjdHNcODljMmJhN2NjOTEwYTVhNjc5OWQyNzczNTQyMmQ0MDQwY2FlZmM4ZlxiaW5cLi5cRk9OVFNcR0tTRk9OVC5EQVQpCg==\n"
     ]
    }
   ],
   "source": [
    "@manipulate for k = -3:.1:1, x0 = -3:.1:3\n",
    "    f(x,p,t) = k*x\n",
    "    tspan = (0.0,3.0)\n",
    "    prob = ODEProblem(f,x0,tspan)\n",
    "    sol = solve(prob,Tsit5(),reltol=1e-8,abstol = 1e-8)\n",
    "    #println(sol)\n",
    "    \n",
    "    plot(sol,linewidth = 5, title = \"Solution to the Linear ODE\",\n",
    "        xaxis = \"Time(t)\",yaxis = \"u(t)\",label = \"My Thick Line\")\n",
    "    plot!(sol.t,t->x0*exp(k*t),lw = 3, ls = :dash, label = \"True Solution!\", ylims = (-4,5))\n",
    "end"
   ]
  },
  {
   "cell_type": "code",
   "execution_count": 12,
   "id": "190bedf0",
   "metadata": {},
   "outputs": [
    {
     "data": {
      "application/vnd.webio.node+json": {
       "children": [
        {
         "children": [
          {
           "children": [
            "Slider X:"
           ],
           "instanceArgs": {
            "namespace": "html",
            "tag": "label"
           },
           "nodeType": "DOM",
           "props": {
            "className": "interact ",
            "style": {
             "padding": "5px 10px 0px 10px"
            }
           },
           "type": "node"
          }
         ],
         "instanceArgs": {
          "namespace": "html",
          "tag": "div"
         },
         "nodeType": "DOM",
         "props": {
          "className": "interact-flex-row-left"
         },
         "type": "node"
        },
        {
         "children": [
          {
           "children": [],
           "instanceArgs": {
            "namespace": "html",
            "tag": "input"
           },
           "nodeType": "DOM",
           "props": {
            "attributes": {
             "data-bind": "numericValue: index, valueUpdate: 'input', event: {change: function (){this.changes(this.changes()+1)}}",
             "orient": "horizontal",
             "type": "range"
            },
            "className": "slider slider is-fullwidth",
            "max": 11,
            "min": 1,
            "step": 1,
            "style": {}
           },
           "type": "node"
          }
         ],
         "instanceArgs": {
          "namespace": "html",
          "tag": "div"
         },
         "nodeType": "DOM",
         "props": {
          "className": "interact-flex-row-center"
         },
         "type": "node"
        },
        {
         "children": [
          {
           "children": [],
           "instanceArgs": {
            "namespace": "html",
            "tag": "p"
           },
           "nodeType": "DOM",
           "props": {
            "attributes": {
             "data-bind": "text: formatted_val"
            }
           },
           "type": "node"
          }
         ],
         "instanceArgs": {
          "namespace": "html",
          "tag": "div"
         },
         "nodeType": "DOM",
         "props": {
          "className": "interact-flex-row-right"
         },
         "type": "node"
        }
       ],
       "instanceArgs": {
        "namespace": "html",
        "tag": "div"
       },
       "nodeType": "DOM",
       "props": {
        "className": "interact-flex-row interact-widget"
       },
       "type": "node"
      },
      "text/html": [
       "<div\n",
       "    class=\"webio-mountpoint\"\n",
       "    data-webio-mountpoint=\"649016734064489303\"\n",
       ">\n",
       "    <script>\n",
       "    (function(){\n",
       "    // Some integrations (namely, IJulia/Jupyter) use an alternate render pathway than\n",
       "    // just putting the html on the page. If WebIO isn't defined, then it's pretty likely\n",
       "    // that we're in one of those situations and the integration just isn't installed\n",
       "    // correctly.\n",
       "    if (typeof window.WebIO === \"undefined\") {\n",
       "        document\n",
       "            .querySelector('[data-webio-mountpoint=\"649016734064489303\"]')\n",
       "            .innerHTML = (\n",
       "                '<div style=\"padding: 1em; background-color: #f8d6da; border: 1px solid #f5c6cb; font-weight: bold;\">' +\n",
       "                '<p><strong>WebIO not detected.</strong></p>' +\n",
       "                '<p>Please read ' +\n",
       "                '<a href=\"https://juliagizmos.github.io/WebIO.jl/latest/troubleshooting/not-detected/\" target=\"_blank\">the troubleshooting guide</a> ' +\n",
       "                'for more information on how to resolve this issue.</p>' +\n",
       "                '<p><a href=\"https://juliagizmos.github.io/WebIO.jl/latest/troubleshooting/not-detected/\" target=\"_blank\">https://juliagizmos.github.io/WebIO.jl/latest/troubleshooting/not-detected/</a></p>' +\n",
       "                '</div>'\n",
       "            );\n",
       "        return;\n",
       "    }\n",
       "    WebIO.mount(\n",
       "        document.querySelector('[data-webio-mountpoint=\"649016734064489303\"]'),\n",
       "        {\"props\":{\"className\":\"interact-flex-row interact-widget\"},\"nodeType\":\"DOM\",\"type\":\"node\",\"instanceArgs\":{\"namespace\":\"html\",\"tag\":\"div\"},\"children\":[{\"props\":{\"className\":\"interact-flex-row-left\"},\"nodeType\":\"DOM\",\"type\":\"node\",\"instanceArgs\":{\"namespace\":\"html\",\"tag\":\"div\"},\"children\":[{\"props\":{\"className\":\"interact \",\"style\":{\"padding\":\"5px 10px 0px 10px\"}},\"nodeType\":\"DOM\",\"type\":\"node\",\"instanceArgs\":{\"namespace\":\"html\",\"tag\":\"label\"},\"children\":[\"Slider X:\"]}]},{\"props\":{\"className\":\"interact-flex-row-center\"},\"nodeType\":\"DOM\",\"type\":\"node\",\"instanceArgs\":{\"namespace\":\"html\",\"tag\":\"div\"},\"children\":[{\"props\":{\"max\":11,\"min\":1,\"attributes\":{\"type\":\"range\",\"data-bind\":\"numericValue: index, valueUpdate: 'input', event: {change: function (){this.changes(this.changes()+1)}}\",\"orient\":\"horizontal\"},\"step\":1,\"className\":\"slider slider is-fullwidth\",\"style\":{}},\"nodeType\":\"DOM\",\"type\":\"node\",\"instanceArgs\":{\"namespace\":\"html\",\"tag\":\"input\"},\"children\":[]}]},{\"props\":{\"className\":\"interact-flex-row-right\"},\"nodeType\":\"DOM\",\"type\":\"node\",\"instanceArgs\":{\"namespace\":\"html\",\"tag\":\"div\"},\"children\":[{\"props\":{\"attributes\":{\"data-bind\":\"text: formatted_val\"}},\"nodeType\":\"DOM\",\"type\":\"node\",\"instanceArgs\":{\"namespace\":\"html\",\"tag\":\"p\"},\"children\":[]}]}]},\n",
       "        window,\n",
       "    );\n",
       "    })()\n",
       "    </script>\n",
       "</div>\n"
      ],
      "text/plain": [
       "(div { className=\"interact-flex-row interact-widget\" }\n",
       "  (div { className=\"interact-flex-row-left\" }\n",
       "    (label { className=\"interact \" style=Dict{Any, Any}(:padding => \"5px 10px 0px 10px\") }\n",
       "      \"Slider X:\"))\n",
       "  (div { className=\"interact-flex-row-center\" }\n",
       "    (input { max=11 min=1 attributes=Dict{Any, Any}(:type => \"range\", Symbol(\"data-bind\") => \"numericValue: index, valueUpdate: 'input', event: {change: function (){this.changes(this.changes()+1)}}\", \"orient\" => \"horizontal\") step=1 className=\"slider slider is-fullwidth\" style=Dict{Any, Any}() }))\n",
       "  (div { className=\"interact-flex-row-right\" }\n",
       "    (p { attributes=Dict(\"data-bind\" => \"text: formatted_val\") })))"
      ]
     },
     "execution_count": 12,
     "metadata": {
      "application/vnd.webio.node+json": {
       "kernelId": "7c00032c-9004-4555-885c-1c18a45ecb5f"
      }
     },
     "output_type": "execute_result"
    }
   ],
   "source": [
    "using Interact,WebIO\n",
    "s = slider(0:.1:1,label=\"Slider X:\")\n",
    "node(s)"
   ]
  },
  {
   "cell_type": "code",
   "execution_count": 13,
   "id": "deb5bdc6",
   "metadata": {},
   "outputs": [],
   "source": [
    "using Interact\n"
   ]
  },
  {
   "cell_type": "markdown",
   "id": "4a810ffc",
   "metadata": {},
   "source": [
    "## 2. UDE Apox"
   ]
  },
  {
   "cell_type": "code",
   "execution_count": null,
   "id": "60294860",
   "metadata": {},
   "outputs": [],
   "source": [
    "u0 = Float32[2.; 0.]\n",
    "datasize = 30\n",
    "tspan = (0.0f0,1.5f0)\n",
    "\n",
    "function trueODEfunc(du,u,p,t)\n",
    "    true_A = [-0.1 2.0; -2.0 -0.1]\n",
    "    du .= ((u.^3)'true_A)'\n",
    "end\n",
    "t = range(tspan[1],tspan[2],length=datasize)\n",
    "prob = ODEProblem(trueODEfunc,u0,tspan)\n",
    "ode_data = Array(solve(prob,Tsit5(),saveat=t))\n",
    "\n",
    "dudt2 = Chain(x -> x.^3,\n",
    "             Dense(2,50,tanh),\n",
    "             Dense(50,2))\n",
    "p,re = Flux.destructure(dudt2) # use this p as the initial condition!\n",
    "dudt(u,p,t) = re(p)(u) # need to restrcture for backprop!\n",
    "prob = ODEProblem(dudt,u0,tspan)\n",
    "\n",
    "function predict_n_ode()\n",
    "  Array(solve(prob,Tsit5(),u0=u0,p=p,saveat=t))\n",
    "end\n",
    "\n",
    "function loss_n_ode()\n",
    "    pred = predict_n_ode()\n",
    "    loss = sum(abs2,ode_data .- pred)\n",
    "    loss\n",
    "end\n",
    "\n",
    "loss_n_ode() # n_ode.p stores the initial parameters of the neural ODE\n",
    "\n",
    "cb = function (;doplot=false) #callback function to observe training\n",
    "  pred = predict_n_ode()\n",
    "  display(sum(abs2,ode_data .- pred))\n",
    "  # plot current prediction against data\n",
    "  pl = scatter(t,ode_data[1,:],label=\"data\")\n",
    "  scatter!(pl,t,pred[1,:],label=\"prediction\")\n",
    "  display(plot(pl))\n",
    "  return false\n",
    "end\n",
    "\n",
    "# Display the ODE with the initial parameter values.\n",
    "cb()\n",
    "\n",
    "data = Iterators.repeated((), 1000)\n",
    "Flux.train!(loss_n_ode, Flux.params(u0,p), data, ADAM(0.05), cb = cb)"
   ]
  },
  {
   "cell_type": "code",
   "execution_count": 24,
   "id": "08a75a91",
   "metadata": {},
   "outputs": [
    {
     "data": {
      "text/plain": [
       "2×30 Matrix{Float32}:\n",
       " 2.04277   1.94203   1.76757  1.22168  …  1.40494   1.37527   1.27908\n",
       " 0.061231  0.772078  1.43339  1.79377     0.419191  0.702846  0.975587"
      ]
     },
     "execution_count": 24,
     "metadata": {},
     "output_type": "execute_result"
    }
   ],
   "source": [
    "predict_n_ode()"
   ]
  },
  {
   "cell_type": "code",
   "execution_count": 15,
   "id": "3a62ce1c",
   "metadata": {},
   "outputs": [
    {
     "data": {
      "text/plain": [
       "2×30 Matrix{Float32}:\n",
       " 2.0  1.9465    1.74178  1.23837  0.577127  …  1.40688   1.37023   1.29214\n",
       " 0.0  0.798832  1.46473  1.80877  1.86465      0.451377  0.728699  0.972102"
      ]
     },
     "execution_count": 15,
     "metadata": {},
     "output_type": "execute_result"
    }
   ],
   "source": [
    "ode_data"
   ]
  },
  {
   "cell_type": "code",
   "execution_count": 25,
   "id": "cd6d9af8",
   "metadata": {},
   "outputs": [
    {
     "data": {
      "text/plain": [
       "0.018211693f0"
      ]
     },
     "execution_count": 25,
     "metadata": {},
     "output_type": "execute_result"
    }
   ],
   "source": [
    "loss_n_ode()"
   ]
  },
  {
   "cell_type": "markdown",
   "id": "b9eeec78",
   "metadata": {},
   "source": [
    "### ODE System with Constraint"
   ]
  },
  {
   "cell_type": "code",
   "execution_count": null,
   "id": "67ab5563",
   "metadata": {},
   "outputs": [],
   "source": [
    "using Flux, DiffEqFlux, OrdinaryDiffEq, Optim, Test, Plots\n",
    "\n",
    "# A desired MWE for now, not a test yet.\n",
    "function f!(du, u, p, t)\n",
    "    y₁, y₂, y₃ = u\n",
    "    k₁, k₂, k₃ = p\n",
    "    du[1] = -k₁*y₁ + k₃*y₂*y₃\n",
    "    du[2] =  k₁*y₁ - k₃*y₂*y₃ - k₂*y₂^2\n",
    "    du[3] =  y₁ + y₂ + y₃ - 1\n",
    "    return nothing\n",
    "end\n",
    "\n",
    "u₀ = [1.0, 0, 0]\n",
    "M = [1. 0  0\n",
    "     0  1. 0\n",
    "     0  0  0]\n",
    "\n",
    "tspan = (0.0,1.0)\n",
    "p = [0.04, 3e7, 1e4]\n",
    "\n",
    "stiff_func = ODEFunction(f!, mass_matrix = M)\n",
    "prob_stiff = ODEProblem(stiff_func, u₀, tspan, p)\n",
    "sol_stiff = solve(prob_stiff, Rodas5(), saveat = 0.1)\n",
    "\n",
    "nn_dudt2 = FastChain(FastDense(3, 64, tanh),\n",
    "                     FastDense(64, 2))\n",
    "\n",
    "model_stiff_ndae = NeuralODEMM(nn_dudt2, (u, p, t) -> [u[1] + u[2] + u[3] - 1],\n",
    "                               tspan, M, Rodas5(), saveat = 0.1)\n",
    "model_stiff_ndae(u₀)\n",
    "\n",
    "function predict_stiff_ndae(p)\n",
    "    return model_stiff_ndae(u₀, p)\n",
    "end\n",
    "\n",
    "function loss_stiff_ndae(p)\n",
    "    pred = predict_stiff_ndae(p)\n",
    "    loss = sum(abs2, Array(sol_stiff) .- pred)\n",
    "    return loss, pred\n",
    "end\n",
    "\n",
    "callback = function (p, l, pred) #callback function to observe training\n",
    "  display(l)\n",
    "  return false\n",
    "end\n",
    "\n",
    "l1 = first(loss_stiff_ndae(model_stiff_ndae.p))\n",
    "result_stiff = DiffEqFlux.sciml_train(loss_stiff_ndae, model_stiff_ndae.p,\n",
    "                                      BFGS(initial_stepnorm = 0.001),\n",
    "                                      cb = callback, maxiters = 100)"
   ]
  },
  {
   "cell_type": "markdown",
   "id": "35edef62",
   "metadata": {},
   "source": [
    "## Neural Second Order Ordinary Differential Equation"
   ]
  },
  {
   "cell_type": "code",
   "execution_count": 27,
   "id": "2e989984",
   "metadata": {},
   "outputs": [
    {
     "name": "stderr",
     "output_type": "stream",
     "text": [
      "┌ Warning: FastChain is being deprecated in favor of Lux.jl. Lux.jl uses functions with explicit parameters f(u,p) like FastChain, but is fully featured and documented machine learning library. See the Lux.jl documentation for more details.\n",
      "└ @ DiffEqFlux C:\\Users\\周天恒\\.julia\\packages\\DiffEqFlux\\Te0lc\\src\\fast_layers.jl:9\n"
     ]
    },
    {
     "name": "stdout",
     "output_type": "stream",
     "text": [
      "36.95794\n"
     ]
    },
    {
     "name": "stderr",
     "output_type": "stream",
     "text": [
      "┌ Warning: sciml_train is being deprecated in favor of direct usage of Optimization.jl. Please consult the Optimization.jl documentation for more details. Optimization.jl's PolyOpt solver is the polyalgorithm of sciml_train\n",
      "└ @ DiffEqFlux C:\\Users\\周天恒\\.julia\\packages\\DiffEqFlux\\Te0lc\\src\\train.jl:6\n"
     ]
    },
    {
     "name": "stdout",
     "output_type": "stream",
     "text": [
      "29.777477\n",
      "24.717237\n",
      "22.097664\n",
      "21.50829\n",
      "22.387997\n",
      "23.740728\n",
      "24.562958\n",
      "24.57377\n",
      "23.988905\n",
      "23.112823\n",
      "22.235458\n",
      "21.591486\n",
      "21.28607\n",
      "21.283289\n",
      "21.47267\n",
      "21.734848\n",
      "21.963163\n",
      "22.075733\n",
      "22.036865\n",
      "21.867105\n",
      "21.623375\n",
      "21.367464\n",
      "21.148792\n",
      "21.002573\n",
      "20.945414\n",
      "20.965918\n",
      "21.027197\n",
      "21.086666\n",
      "21.11386\n",
      "21.093586\n",
      "21.024523\n",
      "20.921007\n",
      "20.80922\n",
      "20.713768\n",
      "20.647484\n",
      "20.611855\n",
      "20.60069\n",
      "20.601212\n",
      "20.597431\n",
      "20.577389\n",
      "20.537735\n",
      "20.481836\n",
      "20.416462\n",
      "20.350443\n",
      "20.292385\n",
      "20.246473\n",
      "20.210855\n",
      "20.180138\n",
      "20.1482\n",
      "20.10956\n",
      "20.061144\n",
      "20.004097\n",
      "19.942675\n",
      "19.881308\n",
      "19.823\n",
      "19.76874\n",
      "19.717108\n",
      "19.66462\n",
      "19.607815\n",
      "19.544844\n",
      "19.475742\n",
      "19.401955\n",
      "19.325739\n",
      "19.248997\n",
      "19.172104\n",
      "19.093918\n",
      "19.012688\n",
      "18.926912\n",
      "18.835941\n",
      "18.740276\n",
      "18.64123\n",
      "18.539928\n",
      "18.43658\n",
      "18.330486\n",
      "18.22048\n",
      "18.105562\n",
      "17.985485\n",
      "17.8609\n",
      "17.73284\n",
      "17.602077\n",
      "17.468822\n",
      "17.332865\n",
      "17.193937\n",
      "17.05212\n",
      "16.907969\n",
      "16.762238\n",
      "16.615437\n",
      "16.467628\n",
      "16.318571\n",
      "16.1681\n",
      "16.0164\n",
      "15.863988\n",
      "15.711393\n",
      "15.558935\n",
      "15.406666\n",
      "15.254573\n",
      "15.102849\n",
      "14.951951\n",
      "14.802522\n",
      "14.655207\n",
      "14.51048\n",
      "14.3687315\n",
      "14.230354\n",
      "14.095821\n",
      "13.965542\n",
      "13.839847\n",
      "13.718798\n",
      "13.602434\n",
      "13.49074\n",
      "13.383793\n",
      "13.281684\n",
      "13.184432\n",
      "13.091977\n",
      "13.004263\n",
      "12.92122\n",
      "12.84286\n",
      "12.769136\n",
      "12.699938\n",
      "12.635113\n",
      "12.574494\n",
      "12.517877\n",
      "12.465109\n",
      "12.415982\n",
      "12.370255\n",
      "12.327713\n",
      "12.28813\n",
      "12.251347\n",
      "12.217179\n",
      "12.185479\n",
      "12.156051\n",
      "12.128764\n",
      "12.10346\n",
      "12.080008\n",
      "12.058245\n",
      "12.03803\n",
      "12.019209\n",
      "12.001646\n",
      "11.985232\n",
      "11.969837\n",
      "11.955369\n",
      "11.941725\n",
      "11.928821\n",
      "11.916587\n",
      "11.904961\n",
      "11.893871\n",
      "11.883244\n",
      "11.873021\n",
      "11.863165\n",
      "11.85361\n",
      "11.844309\n",
      "11.835243\n",
      "11.8263645\n",
      "11.817724\n",
      "11.809483\n",
      "11.802529\n",
      "11.800267\n",
      "11.815777\n",
      "11.855462\n",
      "11.849649\n",
      "11.768029\n",
      "11.779935\n",
      "11.802867\n",
      "11.741994\n",
      "11.755805\n",
      "11.758664\n",
      "11.715167\n",
      "11.736081\n",
      "11.716708\n",
      "11.696232\n",
      "11.710317\n",
      "11.681742\n",
      "11.68024\n",
      "11.679346\n",
      "11.655524\n",
      "11.660872\n",
      "11.648452\n",
      "11.634144\n",
      "11.637102\n",
      "11.620596\n",
      "11.613254\n",
      "11.6112\n",
      "11.595465\n",
      "11.591024\n",
      "11.585165\n",
      "11.571597\n",
      "11.567471\n",
      "11.559715\n",
      "11.547911\n",
      "11.543045\n",
      "11.534742\n",
      "11.523915\n",
      "11.518122\n",
      "11.509952\n",
      "11.499555\n",
      "11.492778\n",
      "11.4850235\n",
      "11.474908\n",
      "11.467068\n",
      "11.459641\n",
      "11.450036\n",
      "11.441124\n",
      "11.433563\n",
      "11.424786\n",
      "11.415254\n",
      "11.406827\n",
      "11.398646\n",
      "11.389465\n",
      "11.380076\n",
      "11.371431\n",
      "11.362868\n",
      "11.353646\n",
      "11.344191\n",
      "11.335105\n",
      "11.32626\n",
      "11.317139\n",
      "11.307643\n",
      "11.298122\n",
      "11.288775\n",
      "11.279557\n",
      "11.270241\n",
      "11.260706\n",
      "11.251026\n",
      "11.2412815\n",
      "11.231573\n",
      "11.221894\n",
      "11.212234\n",
      "11.2025385\n",
      "11.192822\n",
      "11.183082\n",
      "11.173356\n",
      "11.163723\n",
      "11.15434\n",
      "11.145476\n",
      "11.13784\n",
      "11.132486\n",
      "11.131738\n",
      "11.136033\n",
      "11.142905\n",
      "11.135009\n",
      "11.104385\n",
      "11.067591\n",
      "11.054838\n",
      "11.062796\n",
      "11.062774\n",
      "11.040824\n",
      "11.014291\n",
      "11.005885\n",
      "11.008443\n",
      "11.000458\n",
      "10.979465\n",
      "10.961997\n",
      "10.956921\n",
      "10.953902\n",
      "10.941561\n",
      "10.923737\n",
      "10.910935\n",
      "10.904967\n",
      "10.898404\n",
      "10.885964\n",
      "10.870828\n",
      "10.858744\n",
      "10.850686\n",
      "10.84286\n",
      "10.831999\n",
      "10.818756\n",
      "10.805964\n",
      "10.795415\n",
      "10.786396\n",
      "10.777029\n",
      "10.766199\n",
      "10.7540865\n",
      "10.741791\n",
      "10.730181\n",
      "10.719482\n",
      "10.70934\n",
      "10.699221\n",
      "10.688781\n",
      "10.677865\n",
      "10.666588\n",
      "10.655039\n",
      "10.643421\n",
      "10.631796\n",
      "10.620244\n",
      "10.608753\n",
      "10.597335\n",
      "10.585952\n",
      "10.574623\n",
      "10.563342\n",
      "10.552175\n",
      "10.541231\n",
      "10.530829\n",
      "10.521547\n",
      "10.514867\n",
      "10.513635\n",
      "10.523367\n",
      "10.547838\n",
      "10.577592\n",
      "10.564695\n",
      "10.490989\n",
      "10.42768\n",
      "10.440882\n",
      "10.471604\n",
      "10.43958\n",
      "10.385727\n",
      "10.385528\n",
      "10.403363\n",
      "10.376375\n",
      "10.33903\n",
      "10.341555\n",
      "10.346243\n",
      "10.317802\n",
      "10.294608\n",
      "10.297571\n",
      "10.291214\n",
      "10.265749\n",
      "10.251687\n",
      "10.251278\n",
      "10.239338\n",
      "10.218228\n",
      "10.208179\n",
      "10.204005\n",
      "10.190166\n",
      "10.172765\n",
      "10.163537\n",
      "10.156663\n",
      "10.143181\n",
      "10.127968\n",
      "10.118178\n",
      "10.109911\n",
      "10.097376\n",
      "10.08335\n",
      "10.0726185\n",
      "10.063531\n",
      "10.052096\n",
      "10.038911\n",
      "10.027218\n",
      "10.017338\n",
      "10.00679\n",
      "9.9945965\n",
      "9.982373\n",
      "9.971443\n",
      "9.961102\n",
      "9.950025\n",
      "9.93811\n",
      "9.926366\n",
      "9.915352\n",
      "9.904686\n",
      "9.893649\n",
      "9.882127\n",
      "9.870519\n",
      "9.859276\n",
      "9.848341\n",
      "9.83743\n",
      "9.826286\n",
      "9.814923\n",
      "9.803553\n",
      "9.79233\n",
      "9.781294\n",
      "9.77032\n",
      "9.759291\n",
      "9.748174\n",
      "9.736975\n",
      "9.725777\n",
      "9.714605\n",
      "9.703524\n",
      "9.692493\n",
      "9.681501\n",
      "9.670524\n",
      "9.659534\n",
      "9.648536\n",
      "9.637544\n",
      "9.626543\n",
      "9.615552\n",
      "9.604581\n",
      "9.593615\n",
      "9.5826845\n",
      "9.571791\n",
      "9.560943\n",
      "9.550163\n",
      "9.539485\n",
      "9.52899\n",
      "9.518835\n",
      "9.509285\n",
      "9.500916\n",
      "9.494738\n",
      "9.492758\n",
      "9.497552\n",
      "9.512024\n",
      "9.5305605\n",
      "9.536924\n",
      "9.501976\n",
      "9.440255\n",
      "9.400364\n",
      "9.407721\n",
      "9.428067\n",
      "9.414934\n",
      "9.374002\n",
      "9.349279\n",
      "9.355844\n",
      "9.360584\n",
      "9.338413\n",
      "9.310417\n",
      "9.302999\n",
      "9.30628\n",
      "9.296039\n",
      "9.273318\n",
      "9.259008\n",
      "9.257002\n",
      "9.251527\n",
      "9.235422\n",
      "9.219112\n",
      "9.2115965\n",
      "9.20698\n",
      "9.196217\n",
      "9.181254\n",
      "9.169781\n",
      "9.163069\n",
      "9.155499\n",
      "9.143767\n",
      "9.131071\n",
      "9.121261\n",
      "9.113659\n",
      "9.10494\n",
      "9.093861\n",
      "9.082471\n",
      "9.072804\n",
      "9.06443\n",
      "9.055588\n",
      "9.045395\n",
      "9.034722\n",
      "9.024788\n",
      "9.015804\n",
      "9.006996\n",
      "8.997596\n",
      "8.987601\n",
      "8.977602\n",
      "8.968064\n",
      "8.95899\n",
      "8.9499855\n",
      "8.940707\n",
      "8.931127\n",
      "8.9214735\n",
      "8.911999\n",
      "8.902779\n",
      "8.893705\n",
      "8.884632\n",
      "8.8754425\n",
      "8.866136\n",
      "8.856793\n",
      "8.847503\n",
      "8.838317\n",
      "8.829241\n",
      "8.820219\n",
      "8.811216\n",
      "8.802193\n",
      "8.793134\n",
      "8.784067\n",
      "8.775004\n",
      "8.765959\n",
      "8.756949\n",
      "8.747974\n",
      "8.739038\n",
      "8.730139\n",
      "8.721269\n",
      "8.7124195\n",
      "8.703599\n",
      "8.694794\n",
      "8.686011\n",
      "8.677259\n",
      "8.668539\n",
      "8.659857\n",
      "8.651218\n",
      "8.6426525\n",
      "8.634189\n",
      "8.62589\n",
      "8.617837\n",
      "8.61021\n",
      "8.603278\n",
      "8.597594\n",
      "8.593908\n",
      "8.593669\n",
      "8.598066\n",
      "8.608766\n",
      "8.621221\n",
      "8.627962\n",
      "8.60956\n",
      "8.568085\n",
      "8.524185\n",
      "8.507537\n",
      "8.51794\n",
      "8.528544\n",
      "8.517176\n",
      "8.487436\n",
      "8.466142\n",
      "8.465432\n",
      "8.470559\n",
      "8.46269\n",
      "8.442086\n",
      "8.426088\n",
      "8.422893\n",
      "8.42283\n",
      "8.414298\n",
      "8.398614\n",
      "8.386495\n",
      "8.381993\n",
      "8.378727\n",
      "8.370146\n",
      "8.357608\n",
      "8.347381\n",
      "8.341632\n",
      "8.336665\n",
      "8.328685\n",
      "8.318214\n",
      "8.308747\n",
      "8.301915\n",
      "8.296039\n",
      "8.288764\n",
      "8.279763\n",
      "8.270736\n",
      "8.263067\n",
      "8.256466\n",
      "8.249627\n",
      "8.241769\n",
      "8.233332\n",
      "8.225235\n",
      "8.217912\n",
      "8.211004\n",
      "8.203856\n",
      "8.196188\n",
      "8.188266\n",
      "8.180521\n",
      "8.173175\n",
      "8.166082\n",
      "8.158937\n",
      "8.151557\n",
      "8.14399\n",
      "8.136434\n",
      "8.129053\n",
      "8.121855\n",
      "8.114732\n",
      "8.107557\n",
      "8.10028\n",
      "8.09294\n",
      "8.085612\n",
      "8.078366\n",
      "8.071209\n",
      "8.064114\n",
      "8.057016\n",
      "8.049893\n",
      "8.042736\n",
      "8.035581\n",
      "8.028439\n",
      "8.021336\n",
      "8.014277\n",
      "8.00726\n",
      "8.000253\n",
      "7.9932446\n",
      "7.9862475\n",
      "7.9792385\n",
      "7.9722385\n",
      "7.965258\n",
      "7.958298\n",
      "7.9513574\n",
      "7.9444423\n",
      "7.9375463\n",
      "7.9306602\n",
      "7.923795\n",
      "7.9169374\n",
      "7.9100823\n",
      "7.90324\n",
      "7.8964186\n",
      "7.8896036\n",
      "7.8828\n",
      "7.876013\n",
      "7.86924\n",
      "7.86248\n",
      "7.8557396\n",
      "7.84901\n",
      "7.8422904\n",
      "7.835592\n",
      "7.8288984\n",
      "7.8222265\n",
      "7.815565\n",
      "7.8089104\n",
      "7.80228\n",
      "7.7956567\n",
      "7.7890425\n",
      "7.7824497\n",
      "7.775867\n",
      "7.7692966\n",
      "7.76275\n",
      "7.756217\n",
      "7.7497067\n",
      "7.7432227\n",
      "7.736768\n",
      "7.73036\n",
      "7.724029\n",
      "7.7178116\n",
      "7.7117686\n",
      "7.706024\n",
      "7.7007794\n",
      "7.696356\n",
      "7.6933584\n",
      "7.6925726\n",
      "7.695355\n",
      "7.702473\n",
      "7.7144055\n",
      "7.725403\n",
      "7.727294\n",
      "7.7060213\n",
      "7.6678777\n",
      "7.6335816\n",
      "7.624106\n",
      "7.6351047\n",
      "7.643425\n",
      "7.632505\n",
      "7.607912\n",
      "7.591536\n",
      "7.592092\n",
      "7.5967755\n",
      "7.5903225\n",
      "7.573702\n",
      "7.5612025\n",
      "7.5592666\n",
      "7.559626\n",
      "7.5527635\n",
      "7.5402684\n",
      "7.5310993\n",
      "7.528162\n",
      "7.5257316\n",
      "7.518612\n",
      "7.5087004\n",
      "7.5013204\n",
      "7.497488\n",
      "7.4935117\n",
      "7.48668\n",
      "7.478416\n",
      "7.47177\n",
      "7.4671783\n",
      "7.462473\n",
      "7.4561152\n",
      "7.44887\n",
      "7.4424744\n",
      "7.437324\n",
      "7.4322867\n",
      "7.426345\n",
      "7.419744\n",
      "7.413476\n",
      "7.4079623\n",
      "7.4027123\n",
      "7.3970623\n",
      "7.3909273\n",
      "7.384798\n",
      "7.379057\n",
      "7.37363\n",
      "7.368127\n",
      "7.3623295\n",
      "7.356383\n",
      "7.350572\n",
      "7.344997\n",
      "7.3395076\n",
      "7.3339148\n",
      "7.328183\n",
      "7.3224196\n",
      "7.3167653\n",
      "7.3112316\n",
      "7.305726\n",
      "7.300153\n",
      "7.29452\n",
      "7.2888865\n",
      "7.2833176\n",
      "7.277816\n",
      "7.272325\n",
      "7.266821\n",
      "7.26128\n",
      "7.2557364\n",
      "7.250229\n",
      "7.244764\n",
      "7.239312\n",
      "7.233869\n",
      "7.2284126\n",
      "7.2229548\n",
      "7.2175064\n",
      "7.2120814\n",
      "7.206687\n",
      "7.201297\n",
      "7.1959143\n",
      "7.1905327\n",
      "7.185162\n",
      "7.179793\n",
      "7.174441\n",
      "7.1691194\n",
      "7.163792\n",
      "7.1584845\n",
      "7.1531777\n",
      "7.1478877\n",
      "7.1426015\n",
      "7.1373205\n",
      "7.132069\n",
      "7.126818\n",
      "7.121587\n",
      "7.116361\n",
      "7.111138\n",
      "7.1059413\n",
      "7.1007385\n",
      "7.0955606\n",
      "7.090388\n",
      "7.0852284\n",
      "7.080084\n",
      "7.0749416\n",
      "7.0698214\n",
      "7.0647054\n",
      "7.0596104\n",
      "7.054525\n",
      "7.049443\n",
      "7.0443788\n",
      "7.0393243\n",
      "7.0342736\n",
      "7.0292516\n",
      "7.024225\n",
      "7.0192237\n",
      "7.0142317\n",
      "7.0092473\n",
      "7.0042806\n",
      "6.9993205\n",
      "6.9943757\n",
      "6.9894466\n",
      "6.984524\n",
      "6.9796195\n",
      "6.9747195\n",
      "6.969842\n",
      "6.9649673\n",
      "6.96011\n",
      "6.955269\n",
      "6.95044\n",
      "6.94562\n",
      "6.9408164\n",
      "6.9360175\n",
      "6.93124\n",
      "6.926471\n",
      "6.921723\n",
      "6.9169855\n",
      "6.9122624\n",
      "6.9075503\n",
      "6.9028654\n",
      "6.8981977\n",
      "6.8935695\n",
      "6.8890166\n",
      "6.8845983\n",
      "6.8804717\n",
      "6.8770103\n",
      "6.8750496\n",
      "6.876561\n",
      "6.885825\n",
      "6.911528\n",
      "6.9644175\n",
      "7.042346\n",
      "7.076514\n",
      "6.992626\n",
      "6.856746\n",
      "6.8520813\n",
      "6.9362583\n",
      "6.9205184\n",
      "6.831254\n",
      "6.8371525\n",
      "6.887172\n",
      "6.8482504\n",
      "6.8046527\n",
      "6.83886\n",
      "6.8413234\n",
      "6.7965903\n",
      "6.8045526\n",
      "6.8215427\n",
      "6.7903943\n",
      "6.7824335\n",
      "6.7992043\n",
      "6.7817287\n",
      "6.7669535\n",
      "6.7784104\n",
      "6.7708473\n",
      "6.754853\n",
      "6.7599883\n",
      "6.758515\n",
      "6.7444515\n",
      "6.7438765\n",
      "6.745291\n",
      "6.734703\n",
      "6.729943\n",
      "6.73157\n",
      "6.7249107\n",
      "6.717877\n",
      "6.717957\n",
      "6.7144885\n",
      "6.7072563\n",
      "6.7049613\n",
      "6.7032804\n",
      "6.697338\n",
      "6.693054\n",
      "6.691481\n",
      "6.687402\n",
      "6.682283\n",
      "6.6797\n",
      "6.676938\n",
      "6.672259\n",
      "6.6684933\n",
      "6.6659966\n",
      "6.6623282\n",
      "6.658082\n",
      "6.655019\n",
      "6.6520605\n",
      "6.648157\n",
      "6.6444764\n",
      "6.641536\n",
      "6.6382313\n",
      "6.634469\n",
      "6.6311274\n",
      "6.628096\n",
      "6.624671\n",
      "6.6211057\n",
      "6.6179156\n",
      "6.614788\n",
      "6.611375\n",
      "6.607977\n",
      "6.604834\n",
      "6.6016574\n",
      "6.5983105\n",
      "6.595021\n",
      "6.591901\n",
      "6.588728\n",
      "6.5854497\n",
      "6.5822296\n",
      "6.579118\n",
      "6.575967\n",
      "6.572765\n",
      "6.5695996\n",
      "6.5665035\n",
      "6.563385\n",
      "6.5602374\n",
      "6.557115\n",
      "6.554042\n",
      "6.5509686\n",
      "6.547867\n",
      "6.544786\n",
      "6.541741\n",
      "6.538707\n",
      "6.535654\n",
      "6.5326114\n",
      "6.529594\n",
      "6.526586\n",
      "6.523576\n",
      "6.5205717\n",
      "6.5175853\n",
      "6.514616\n",
      "6.5116515\n",
      "6.508689\n",
      "6.505733\n",
      "6.50279\n",
      "6.499864\n",
      "6.4969363\n",
      "6.494021\n",
      "6.49111\n",
      "6.488211\n",
      "6.485326\n",
      "6.4824395\n",
      "6.4795685\n",
      "6.4766994\n",
      "6.473855\n",
      "6.4709945\n",
      "6.468157\n",
      "6.4653263\n",
      "6.4624996\n",
      "6.459688\n",
      "6.456888\n",
      "6.4540744\n",
      "6.4512925\n",
      "6.448499\n",
      "6.4457235\n",
      "6.442957\n",
      "6.4401927\n",
      "6.437449\n",
      "6.4347076\n",
      "6.4319563\n",
      "6.4292397\n",
      "6.426508\n",
      "6.423795\n",
      "6.4210906\n",
      "6.418401\n",
      "6.415699\n",
      "6.413019\n",
      "6.410334\n",
      "6.407681\n",
      "6.4050026\n",
      "6.40235\n",
      "6.399701\n",
      "6.397054\n",
      "6.394426\n",
      "6.3918095\n",
      "6.3891773\n",
      "6.3865695\n",
      "6.3839602\n",
      "6.3813586\n",
      "6.37877\n",
      "6.3761983\n",
      "6.3736076\n",
      "6.3710427\n",
      "6.36847\n",
      "6.3659143\n",
      "6.363366\n",
      "6.3608155\n",
      "6.358279\n",
      "6.3557496\n",
      "6.3532376\n",
      "6.3507123\n",
      "6.348192\n",
      "6.345692\n",
      "6.343192\n",
      "6.340699\n",
      "6.3382106\n",
      "6.335741\n",
      "6.333259\n",
      "6.3308043\n",
      "6.3283353\n",
      "6.3258734\n",
      "6.3234253\n",
      "6.3209968\n",
      "6.3185534\n",
      "6.3161154\n",
      "6.313702\n",
      "6.311273\n",
      "6.3088555\n",
      "6.306456\n",
      "6.304052\n",
      "6.301664\n",
      "6.299268\n",
      "6.296885\n",
      "6.2945147\n",
      "6.292132\n",
      "6.289771\n",
      "6.287407\n",
      "6.2850566\n",
      "6.282708\n",
      "6.280365\n",
      "6.278031\n",
      "6.2757025\n",
      "6.2733665\n",
      "6.2710414\n",
      "6.2687306\n",
      "6.2664204\n",
      "6.2641134\n",
      "6.261808\n",
      "6.2595277\n",
      "6.257219\n",
      "6.2549434\n",
      "6.252674\n",
      "6.250384\n",
      "6.2481217\n",
      "6.2458515\n",
      "6.243594\n",
      "6.2413406\n",
      "6.239111\n",
      "6.236853\n",
      "6.2346253\n",
      "6.2323937\n",
      "6.230168\n",
      "6.2279444\n",
      "6.2257104\n",
      "6.223495\n",
      "6.221293\n",
      "6.2190933\n",
      "6.2168994\n",
      "6.214703\n",
      "6.212514\n",
      "6.210323\n",
      "6.2081394\n",
      "6.2059646\n",
      "6.2038116\n",
      "6.201639\n",
      "6.199485\n",
      "6.1973286\n",
      "6.1951737\n",
      "6.1930118\n",
      "6.1908875\n",
      "6.1887426\n",
      "6.186611\n",
      "6.184486\n",
      "6.182352\n",
      "6.1802444\n",
      "6.1781096\n",
      "6.175999\n",
      "6.1738906\n",
      "6.171807\n",
      "6.169692\n",
      "6.1676025\n",
      "6.1655116\n",
      "6.163443\n",
      "6.1613593\n",
      "6.1592884\n",
      "6.1572037\n",
      "6.155135\n",
      "6.155135\n"
     ]
    },
    {
     "data": {
      "text/plain": [
       "u: 252-element Vector{Float32}:\n",
       "  2.6800873\n",
       "  0.17048575\n",
       "  5.5441403\n",
       "  7.2634845\n",
       " -0.0022678538\n",
       "  7.712565\n",
       " -0.4801405\n",
       " -0.53757614\n",
       " -0.81815\n",
       " -2.5843399\n",
       " -5.6558824\n",
       "  1.4807096\n",
       " -0.69569296\n",
       "  ⋮\n",
       "  0.15864691\n",
       " -0.36755964\n",
       "  0.47767046\n",
       "  0.5866015\n",
       "  0.07546453\n",
       " -0.6326446\n",
       " -0.40963164\n",
       " -2.1679618\n",
       "  0.5198052\n",
       "  0.2732356\n",
       "  0.2236324\n",
       "  0.36467534"
      ]
     },
     "execution_count": 27,
     "metadata": {},
     "output_type": "execute_result"
    }
   ],
   "source": [
    "using OrdinaryDiffEq, Flux, DiffEqFlux, DiffEqSensitivity, Zygote\n",
    "\n",
    "u0 = Float32[0.; 2.]\n",
    "du0 = Float32[0.; 0.]\n",
    "tspan = (0.0f0, 1.0f0)\n",
    "t = range(tspan[1], tspan[2], length=20)\n",
    "\n",
    "model = FastChain(FastDense(2, 50, tanh), FastDense(50, 2))\n",
    "p = initial_params(model)\n",
    "ff(du,u,p,t) = model(u,p)\n",
    "prob = SecondOrderODEProblem{false}(ff, du0, u0, tspan, p)\n",
    "\n",
    "function predict(p)\n",
    "    Array(solve(prob, Tsit5(), p=p, saveat=t))\n",
    "end\n",
    "\n",
    "correct_pos = Float32.(transpose(hcat(collect(0:0.05:1)[2:end], collect(2:-0.05:1)[2:end])))\n",
    "\n",
    "function loss_n_ode(p)\n",
    "    pred = predict(p)\n",
    "    sum(abs2, correct_pos .- pred[1:2, :]), pred\n",
    "end\n",
    "\n",
    "data = Iterators.repeated((), 1000)\n",
    "opt = ADAM(0.01)\n",
    "\n",
    "l1 = loss_n_ode(p)\n",
    "\n",
    "cb = function (p,l,pred)\n",
    "    println(l)\n",
    "    l < 0.01\n",
    "end\n",
    "\n",
    "res = DiffEqFlux.sciml_train(loss_n_ode, p, opt, cb=cb, maxiters = 1000)"
   ]
  },
  {
   "cell_type": "code",
   "execution_count": 28,
   "id": "70723315",
   "metadata": {},
   "outputs": [
    {
     "data": {
      "text/plain": [
       "\u001b[36mODEProblem\u001b[0m with uType \u001b[36mArrayPartition{Float32, Tuple{Vector{Float32}, Vector{Float32}}}\u001b[0m and tType \u001b[36mFloat32\u001b[0m. In-place: \u001b[36mfalse\u001b[0m\n",
       "timespan: (0.0f0, 1.0f0)\n",
       "u0: (Float32[0.0, 0.0], Float32[0.0, 2.0])"
      ]
     },
     "execution_count": 28,
     "metadata": {},
     "output_type": "execute_result"
    }
   ],
   "source": [
    "prob"
   ]
  },
  {
   "cell_type": "code",
   "execution_count": 31,
   "id": "445cc5fb",
   "metadata": {},
   "outputs": [
    {
     "data": {
      "text/plain": [
       "(36.95794f0, Float32[0.0 0.05525072 … 0.94413394 0.9907229; 0.0 0.01721694 … 0.35119307 0.37561253; 0.0 0.001454083 … 0.45905867 0.5099799; 2.0 2.000453 … 2.1565912 2.1757143])"
      ]
     },
     "execution_count": 31,
     "metadata": {},
     "output_type": "execute_result"
    }
   ],
   "source": [
    "loss_n_ode(p)"
   ]
  },
  {
   "cell_type": "code",
   "execution_count": 33,
   "id": "571b86de",
   "metadata": {},
   "outputs": [
    {
     "data": {
      "text/plain": [
       "4×20 Matrix{Float32}:\n",
       " 0.0  0.0552507   0.110448    0.165538   …  0.896684  0.944134  0.990723\n",
       " 0.0  0.0172169   0.0344771   0.0518235     0.327512  0.351193  0.375613\n",
       " 0.0  0.00145408  0.00581492  0.0130783     0.410612  0.459059  0.50998\n",
       " 2.0  2.00045     2.00181     2.00408       2.13873   2.15659   2.17571"
      ]
     },
     "execution_count": 33,
     "metadata": {},
     "output_type": "execute_result"
    }
   ],
   "source": [
    "predict(p)"
   ]
  },
  {
   "cell_type": "code",
   "execution_count": 34,
   "id": "65c3c17c",
   "metadata": {},
   "outputs": [
    {
     "data": {
      "text/plain": [
       "2×20 Matrix{Float32}:\n",
       " 0.05  0.1  0.15  0.2  0.25  0.3  0.35  …  0.75  0.8  0.85  0.9  0.95  1.0\n",
       " 1.95  1.9  1.85  1.8  1.75  1.7  1.65     1.25  1.2  1.15  1.1  1.05  1.0"
      ]
     },
     "execution_count": 34,
     "metadata": {},
     "output_type": "execute_result"
    }
   ],
   "source": [
    "correct_pos"
   ]
  },
  {
   "cell_type": "code",
   "execution_count": null,
   "id": "ce02909a",
   "metadata": {},
   "outputs": [],
   "source": []
  }
 ],
 "metadata": {
  "@webio": {
   "lastCommId": "8620f5afa1624becaeb4656888afc04b",
   "lastKernelId": "7c00032c-9004-4555-885c-1c18a45ecb5f"
  },
  "kernelspec": {
   "display_name": "Julia 1.7.3",
   "language": "julia",
   "name": "julia-1.7"
  },
  "language_info": {
   "file_extension": ".jl",
   "mimetype": "application/julia",
   "name": "julia",
   "version": "1.7.3"
  }
 },
 "nbformat": 4,
 "nbformat_minor": 5
}
